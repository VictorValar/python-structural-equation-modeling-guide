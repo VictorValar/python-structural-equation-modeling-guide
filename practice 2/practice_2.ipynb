{
 "cells": [
  {
   "cell_type": "markdown",
   "id": "2686fb3a4fefcb90",
   "metadata": {},
   "source": [
    "# Practice 2: Structural Model\n",
    "\n",
    "## Objetives:\n",
    "1. Test the hypothesized model\n",
    "    1. H1 - Customer service quality(QS) positively influences Satisfaction (S)\n",
    "    2. H2 - Financial quality (QF) positively influences Satisfaction (S)\n",
    "    3. H3 - Technical quality (QT) positively influences Satisfaction (S)\n",
    "    4. H4 - Satisfaction (S) positively influences Loyalty (L)\n",
    "2. Report direct and indirect effects"
   ]
  },
  {
   "metadata": {},
   "cell_type": "markdown",
   "source": "## Data Preparation",
   "id": "ff629a8b552f2630"
  },
  {
   "metadata": {
    "ExecuteTime": {
     "end_time": "2025-07-10T11:19:47.093907Z",
     "start_time": "2025-07-10T11:19:46.702016Z"
    }
   },
   "cell_type": "code",
   "source": [
    "import pandas as pd\n",
    "import pyreadstat\n",
    "from pandas.core.interchange.dataframe_protocol import DataFrame\n",
    "\n",
    "raw_data_df, meta = pyreadstat.read_sav(\"../data/EXERCICIO_2025.sav\")\n",
    "raw_data_df.head()"
   ],
   "id": "f76fd2c9f0a24fd4",
   "outputs": [
    {
     "data": {
      "text/plain": [
       "   CASO   f1   f2   f3   f4   f5    f6    f7  P1.1_QA  P1.2_QA  ...   P7  P14  \\\n",
       "0   NaN  1.0  3.0  6.0  1.0  1.0  50.0  18.0      8.0      6.0  ...  3.0  2.0   \n",
       "1   NaN  1.0  1.0  5.0  1.0  1.0  36.0  35.0      8.0      7.0  ...  1.0  1.0   \n",
       "2   NaN  1.0  3.0  5.0  1.0  1.0  72.0  73.0     10.0     10.0  ...  2.0  2.0   \n",
       "3   NaN  1.0  3.0  9.0  1.0  1.0  24.0  27.0      6.0      6.0  ...  1.0  2.0   \n",
       "4   NaN  1.0  4.0  9.0  1.0  1.0  72.0  24.0      2.0      5.0  ...  2.0  1.0   \n",
       "\n",
       "     ltv2  tempo  clsocial  SATIS  LEAL  ATEND        FIN   TEC  \n",
       "0  1373.0   61.0       5.0   6.50   6.2    7.2   9.333333  8.50  \n",
       "1  1002.0   47.0       5.0   5.50   4.4    6.8   6.666667  8.00  \n",
       "2  2097.0   83.0       5.0   7.50   8.0    9.6  10.000000  8.00  \n",
       "3   802.0   35.0       4.0   6.25   6.2    6.4   7.666667  6.50  \n",
       "4  4835.0   78.0       4.0   5.25   4.4    4.4   5.666667  5.75  \n",
       "\n",
       "[5 rows x 45 columns]"
      ],
      "text/html": [
       "<div>\n",
       "<style scoped>\n",
       "    .dataframe tbody tr th:only-of-type {\n",
       "        vertical-align: middle;\n",
       "    }\n",
       "\n",
       "    .dataframe tbody tr th {\n",
       "        vertical-align: top;\n",
       "    }\n",
       "\n",
       "    .dataframe thead th {\n",
       "        text-align: right;\n",
       "    }\n",
       "</style>\n",
       "<table border=\"1\" class=\"dataframe\">\n",
       "  <thead>\n",
       "    <tr style=\"text-align: right;\">\n",
       "      <th></th>\n",
       "      <th>CASO</th>\n",
       "      <th>f1</th>\n",
       "      <th>f2</th>\n",
       "      <th>f3</th>\n",
       "      <th>f4</th>\n",
       "      <th>f5</th>\n",
       "      <th>f6</th>\n",
       "      <th>f7</th>\n",
       "      <th>P1.1_QA</th>\n",
       "      <th>P1.2_QA</th>\n",
       "      <th>...</th>\n",
       "      <th>P7</th>\n",
       "      <th>P14</th>\n",
       "      <th>ltv2</th>\n",
       "      <th>tempo</th>\n",
       "      <th>clsocial</th>\n",
       "      <th>SATIS</th>\n",
       "      <th>LEAL</th>\n",
       "      <th>ATEND</th>\n",
       "      <th>FIN</th>\n",
       "      <th>TEC</th>\n",
       "    </tr>\n",
       "  </thead>\n",
       "  <tbody>\n",
       "    <tr>\n",
       "      <th>0</th>\n",
       "      <td>NaN</td>\n",
       "      <td>1.0</td>\n",
       "      <td>3.0</td>\n",
       "      <td>6.0</td>\n",
       "      <td>1.0</td>\n",
       "      <td>1.0</td>\n",
       "      <td>50.0</td>\n",
       "      <td>18.0</td>\n",
       "      <td>8.0</td>\n",
       "      <td>6.0</td>\n",
       "      <td>...</td>\n",
       "      <td>3.0</td>\n",
       "      <td>2.0</td>\n",
       "      <td>1373.0</td>\n",
       "      <td>61.0</td>\n",
       "      <td>5.0</td>\n",
       "      <td>6.50</td>\n",
       "      <td>6.2</td>\n",
       "      <td>7.2</td>\n",
       "      <td>9.333333</td>\n",
       "      <td>8.50</td>\n",
       "    </tr>\n",
       "    <tr>\n",
       "      <th>1</th>\n",
       "      <td>NaN</td>\n",
       "      <td>1.0</td>\n",
       "      <td>1.0</td>\n",
       "      <td>5.0</td>\n",
       "      <td>1.0</td>\n",
       "      <td>1.0</td>\n",
       "      <td>36.0</td>\n",
       "      <td>35.0</td>\n",
       "      <td>8.0</td>\n",
       "      <td>7.0</td>\n",
       "      <td>...</td>\n",
       "      <td>1.0</td>\n",
       "      <td>1.0</td>\n",
       "      <td>1002.0</td>\n",
       "      <td>47.0</td>\n",
       "      <td>5.0</td>\n",
       "      <td>5.50</td>\n",
       "      <td>4.4</td>\n",
       "      <td>6.8</td>\n",
       "      <td>6.666667</td>\n",
       "      <td>8.00</td>\n",
       "    </tr>\n",
       "    <tr>\n",
       "      <th>2</th>\n",
       "      <td>NaN</td>\n",
       "      <td>1.0</td>\n",
       "      <td>3.0</td>\n",
       "      <td>5.0</td>\n",
       "      <td>1.0</td>\n",
       "      <td>1.0</td>\n",
       "      <td>72.0</td>\n",
       "      <td>73.0</td>\n",
       "      <td>10.0</td>\n",
       "      <td>10.0</td>\n",
       "      <td>...</td>\n",
       "      <td>2.0</td>\n",
       "      <td>2.0</td>\n",
       "      <td>2097.0</td>\n",
       "      <td>83.0</td>\n",
       "      <td>5.0</td>\n",
       "      <td>7.50</td>\n",
       "      <td>8.0</td>\n",
       "      <td>9.6</td>\n",
       "      <td>10.000000</td>\n",
       "      <td>8.00</td>\n",
       "    </tr>\n",
       "    <tr>\n",
       "      <th>3</th>\n",
       "      <td>NaN</td>\n",
       "      <td>1.0</td>\n",
       "      <td>3.0</td>\n",
       "      <td>9.0</td>\n",
       "      <td>1.0</td>\n",
       "      <td>1.0</td>\n",
       "      <td>24.0</td>\n",
       "      <td>27.0</td>\n",
       "      <td>6.0</td>\n",
       "      <td>6.0</td>\n",
       "      <td>...</td>\n",
       "      <td>1.0</td>\n",
       "      <td>2.0</td>\n",
       "      <td>802.0</td>\n",
       "      <td>35.0</td>\n",
       "      <td>4.0</td>\n",
       "      <td>6.25</td>\n",
       "      <td>6.2</td>\n",
       "      <td>6.4</td>\n",
       "      <td>7.666667</td>\n",
       "      <td>6.50</td>\n",
       "    </tr>\n",
       "    <tr>\n",
       "      <th>4</th>\n",
       "      <td>NaN</td>\n",
       "      <td>1.0</td>\n",
       "      <td>4.0</td>\n",
       "      <td>9.0</td>\n",
       "      <td>1.0</td>\n",
       "      <td>1.0</td>\n",
       "      <td>72.0</td>\n",
       "      <td>24.0</td>\n",
       "      <td>2.0</td>\n",
       "      <td>5.0</td>\n",
       "      <td>...</td>\n",
       "      <td>2.0</td>\n",
       "      <td>1.0</td>\n",
       "      <td>4835.0</td>\n",
       "      <td>78.0</td>\n",
       "      <td>4.0</td>\n",
       "      <td>5.25</td>\n",
       "      <td>4.4</td>\n",
       "      <td>4.4</td>\n",
       "      <td>5.666667</td>\n",
       "      <td>5.75</td>\n",
       "    </tr>\n",
       "  </tbody>\n",
       "</table>\n",
       "<p>5 rows × 45 columns</p>\n",
       "</div>"
      ]
     },
     "execution_count": 1,
     "metadata": {},
     "output_type": "execute_result"
    }
   ],
   "execution_count": 1
  },
  {
   "cell_type": "code",
   "id": "17ed44e012385cbc",
   "metadata": {
    "ExecuteTime": {
     "end_time": "2025-07-10T11:19:47.319033Z",
     "start_time": "2025-07-10T11:19:47.311256Z"
    }
   },
   "source": [
    "columns_to_filter = [\n",
    "    'P1.1_QA', 'P1.2_QA', 'P1.3_QA', 'P1.4_QA', 'P1.5_QA', 'P1.15_QA', 'P1.16_QA', 'P1.17_QA',\n",
    "    'P1.6_QC', 'P1.7_QC', 'P1.8_QC', 'P1.9_QC',\n",
    "    'P1.10_QT', 'P1.11_QT', 'P1.12_QT', 'P1.13_QT', 'P1.14_QT',\n",
    "    'P3.1_S', 'P3.2_S', 'P3.3_S', 'P3.4_S',\n",
    "    'P6.1_L', 'P6.2_L', 'P6.3_L', 'P6.4_L', 'P6.5_L', 'P6.6_L'\n",
    "]\n",
    "\n",
    "clean_df = raw_data_df[columns_to_filter].copy()\n",
    "\n",
    "clean_df.rename(columns=lambda c: c.replace('.', '_'), inplace=True)\n",
    "clean_df.rename(columns=lambda c: c.replace('C', 'F'), inplace=True)\n",
    "clean_df.rename(columns=lambda c: c.replace('A', 'S'), inplace=True)\n",
    "print(raw_data_df.shape)\n",
    "print(clean_df.shape)\n",
    "print(clean_df.isnull().sum())"
   ],
   "outputs": [
    {
     "name": "stdout",
     "output_type": "stream",
     "text": [
      "(493, 45)\n",
      "(493, 27)\n",
      "P1_1_QS     0\n",
      "P1_2_QS     0\n",
      "P1_3_QS     0\n",
      "P1_4_QS     0\n",
      "P1_5_QS     0\n",
      "P1_15_QS    0\n",
      "P1_16_QS    0\n",
      "P1_17_QS    0\n",
      "P1_6_QF     0\n",
      "P1_7_QF     0\n",
      "P1_8_QF     0\n",
      "P1_9_QF     0\n",
      "P1_10_QT    0\n",
      "P1_11_QT    0\n",
      "P1_12_QT    0\n",
      "P1_13_QT    0\n",
      "P1_14_QT    0\n",
      "P3_1_S      0\n",
      "P3_2_S      0\n",
      "P3_3_S      0\n",
      "P3_4_S      0\n",
      "P6_1_L      0\n",
      "P6_2_L      0\n",
      "P6_3_L      0\n",
      "P6_4_L      0\n",
      "P6_5_L      0\n",
      "P6_6_L      0\n",
      "dtype: int64\n"
     ]
    }
   ],
   "execution_count": 2
  },
  {
   "metadata": {},
   "cell_type": "markdown",
   "source": "## Refined Model",
   "id": "8fe1806356a370cb"
  },
  {
   "metadata": {},
   "cell_type": "markdown",
   "source": "### Modeling",
   "id": "6200a811b77c579"
  },
  {
   "metadata": {
    "ExecuteTime": {
     "end_time": "2025-07-10T11:19:48.606481Z",
     "start_time": "2025-07-10T11:19:47.360700Z"
    }
   },
   "cell_type": "code",
   "source": [
    "from semopy import Model\n",
    "model_description = \"\"\"\n",
    "QS =~ P1_1_QS + P1_2_QS + P1_4_QS + P1_5_QS + P1_16_QS\n",
    "QF =~ P1_6_QF + P1_7_QF + P1_8_QF\n",
    "QT =~ P1_10_QT + P1_11_QT + P1_12_QT + P1_13_QT\n",
    "S =~ P3_1_S + P3_2_S + P3_3_S + P3_4_S\n",
    "L =~ P6_1_L + P6_2_L + P6_3_L + P6_4_L\n",
    "\n",
    "S ~ QS + QF + QT\n",
    "L ~ S\n",
    "\"\"\"\n",
    "\n",
    "model = Model(model_description)\n",
    "solver_results = model.fit(clean_df)\n",
    "factor_scores = model.predict_factors(clean_df)\n",
    "print(solver_results)"
   ],
   "id": "d5c61aafd873685a",
   "outputs": [
    {
     "name": "stdout",
     "output_type": "stream",
     "text": [
      "Name of objective: MLW\n",
      "Optimization method: SLSQP\n",
      "Optimization successful.\n",
      "Optimization terminated successfully\n",
      "Objective value: 1.244\n",
      "Number of iterations: 46\n",
      "Params: 0.831 1.133 1.116 0.721 1.433 1.266 1.223 1.026 0.988 0.862 1.040 1.049 1.109 0.679 0.961 0.478 0.264 0.192 0.623 1.210 2.412 0.742 1.042 1.589 2.382 1.378 1.787 2.317 1.750 1.686 1.163 3.135 0.686 0.679 0.528 0.852 0.741 1.246 2.662 0.593 1.312 0.921 0.836 2.754 2.074 1.148 1.090\n"
     ]
    }
   ],
   "execution_count": 3
  },
  {
   "metadata": {},
   "cell_type": "markdown",
   "source": [
    "### Model Fit\n",
    "$\\chi^{2} / df < 5$\n",
    "\n",
    "CFI, GFI, TLI > 0.9\n",
    "\n",
    "RMSEA < 0,08"
   ],
   "id": "11d3ed3a7efd0c5a"
  },
  {
   "metadata": {
    "ExecuteTime": {
     "end_time": "2025-07-10T11:19:48.647578Z",
     "start_time": "2025-07-10T11:19:48.632038Z"
    }
   },
   "cell_type": "code",
   "source": [
    "from semopy import calc_stats\n",
    "\n",
    "refined_model_stats = calc_stats(model)\n",
    "refined_model_stats.T.loc[refined_model_stats.T.index.isin(['CFI', 'GFI', 'TLI', 'RMSEA'])]"
   ],
   "id": "4515c1b247104a77",
   "outputs": [
    {
     "data": {
      "text/plain": [
       "          Value\n",
       "CFI    0.927604\n",
       "GFI    0.904315\n",
       "TLI    0.915612\n",
       "RMSEA  0.074924"
      ],
      "text/html": [
       "<div>\n",
       "<style scoped>\n",
       "    .dataframe tbody tr th:only-of-type {\n",
       "        vertical-align: middle;\n",
       "    }\n",
       "\n",
       "    .dataframe tbody tr th {\n",
       "        vertical-align: top;\n",
       "    }\n",
       "\n",
       "    .dataframe thead th {\n",
       "        text-align: right;\n",
       "    }\n",
       "</style>\n",
       "<table border=\"1\" class=\"dataframe\">\n",
       "  <thead>\n",
       "    <tr style=\"text-align: right;\">\n",
       "      <th></th>\n",
       "      <th>Value</th>\n",
       "    </tr>\n",
       "  </thead>\n",
       "  <tbody>\n",
       "    <tr>\n",
       "      <th>CFI</th>\n",
       "      <td>0.927604</td>\n",
       "    </tr>\n",
       "    <tr>\n",
       "      <th>GFI</th>\n",
       "      <td>0.904315</td>\n",
       "    </tr>\n",
       "    <tr>\n",
       "      <th>TLI</th>\n",
       "      <td>0.915612</td>\n",
       "    </tr>\n",
       "    <tr>\n",
       "      <th>RMSEA</th>\n",
       "      <td>0.074924</td>\n",
       "    </tr>\n",
       "  </tbody>\n",
       "</table>\n",
       "</div>"
      ]
     },
     "execution_count": 4,
     "metadata": {},
     "output_type": "execute_result"
    }
   ],
   "execution_count": 4
  },
  {
   "metadata": {
    "ExecuteTime": {
     "end_time": "2025-07-10T11:19:48.740291Z",
     "start_time": "2025-07-10T11:19:48.735690Z"
    }
   },
   "cell_type": "code",
   "source": "print(f\"chi squared/degrees of freedom: {(refined_model_stats['chi2'] / refined_model_stats['DoF']).item():.6f}\")",
   "id": "ce0b01b4e6088e6f",
   "outputs": [
    {
     "name": "stdout",
     "output_type": "stream",
     "text": [
      "chi squared/degrees of freedom: 3.761902\n"
     ]
    }
   ],
   "execution_count": 5
  },
  {
   "metadata": {},
   "cell_type": "markdown",
   "source": "All cutoff criteria are satisfied, indicating a good fit of the model to the data.",
   "id": "a017eae91d120f65"
  },
  {
   "metadata": {},
   "cell_type": "markdown",
   "source": "### Model Graph",
   "id": "cb658f405caa8005"
  },
  {
   "metadata": {
    "ExecuteTime": {
     "end_time": "2025-07-10T11:19:49.092024Z",
     "start_time": "2025-07-10T11:19:48.784704Z"
    }
   },
   "cell_type": "code",
   "source": [
    "from semopy import semplot\n",
    "semplot(model, \"../practice 2/model.png\", std_ests=True, plot_covs=True)"
   ],
   "id": "177324ef4ec92e6f",
   "outputs": [
    {
     "data": {
      "image/svg+xml": "<?xml version=\"1.0\" encoding=\"UTF-8\" standalone=\"no\"?>\n<!DOCTYPE svg PUBLIC \"-//W3C//DTD SVG 1.1//EN\"\n \"http://www.w3.org/Graphics/SVG/1.1/DTD/svg11.dtd\">\n<!-- Generated by graphviz version 12.2.1 (20241206.2353)\n -->\n<!-- Title: G Pages: 1 -->\n<svg width=\"1085pt\" height=\"576pt\"\n viewBox=\"0.00 0.00 1084.75 575.66\" xmlns=\"http://www.w3.org/2000/svg\" xmlns:xlink=\"http://www.w3.org/1999/xlink\">\n<g id=\"graph0\" class=\"graph\" transform=\"scale(1 1) rotate(0) translate(4 571.66)\">\n<title>G</title>\n<polygon fill=\"white\" stroke=\"none\" points=\"-4,4 -4,-571.66 1080.75,-571.66 1080.75,4 -4,4\"/>\n<!-- QT -->\n<g id=\"node1\" class=\"node\">\n<title>QT</title>\n<ellipse fill=\"#cae6df\" stroke=\"black\" cx=\"383.88\" cy=\"-434.58\" rx=\"23.2\" ry=\"23.2\"/>\n<text text-anchor=\"middle\" x=\"383.88\" y=\"-429.53\" font-family=\"Times,serif\" font-size=\"14.00\">QT</text>\n</g>\n<!-- S -->\n<g id=\"node2\" class=\"node\">\n<title>S</title>\n<ellipse fill=\"#cae6df\" stroke=\"black\" cx=\"457.88\" cy=\"-219\" rx=\"18\" ry=\"18\"/>\n<text text-anchor=\"middle\" x=\"457.88\" y=\"-213.95\" font-family=\"Times,serif\" font-size=\"14.00\">S</text>\n</g>\n<!-- QT&#45;&gt;S -->\n<g id=\"edge3\" class=\"edge\">\n<title>QT&#45;&gt;S</title>\n<path fill=\"none\" stroke=\"black\" d=\"M399.09,-416.43C404.6,-409.6 410.53,-401.45 414.88,-393.38 440.25,-346.28 450.95,-283.93 455.23,-248.27\"/>\n<polygon fill=\"black\" stroke=\"black\" points=\"458.66,-249.09 456.28,-238.77 451.71,-248.32 458.66,-249.09\"/>\n<text text-anchor=\"middle\" x=\"471.78\" y=\"-327.04\" font-family=\"Times,serif\" font-size=\"12.00\">0.178</text>\n<text text-anchor=\"middle\" x=\"471.78\" y=\"-312.79\" font-family=\"Times,serif\" font-size=\"12.00\">p&#45;val: 0.00</text>\n</g>\n<!-- QF -->\n<g id=\"node4\" class=\"node\">\n<title>QF</title>\n<ellipse fill=\"#cae6df\" stroke=\"black\" cx=\"119.88\" cy=\"-324.19\" rx=\"22.69\" ry=\"22.69\"/>\n<text text-anchor=\"middle\" x=\"119.88\" y=\"-319.14\" font-family=\"Times,serif\" font-size=\"14.00\">QF</text>\n</g>\n<!-- QT&#45;&gt;QF -->\n<g id=\"edge26\" class=\"edge\">\n<title>QT&#45;&gt;QF</title>\n<path fill=\"none\" stroke=\"black\" stroke-dasharray=\"5,2\" d=\"M349.27,-430.19C296.57,-424.52 199.24,-411.87 169.88,-393.38 155.08,-384.07 143.23,-368.66 134.79,-354.85\"/>\n<polygon fill=\"black\" stroke=\"black\" points=\"348.59,-433.64 358.9,-431.2 349.32,-426.68 348.59,-433.64\"/>\n<polygon fill=\"black\" stroke=\"black\" points=\"138.01,-353.43 130,-346.49 131.93,-356.91 138.01,-353.43\"/>\n<text text-anchor=\"middle\" x=\"195.38\" y=\"-381.98\" font-family=\"Times,serif\" font-size=\"12.00\">0.507</text>\n<text text-anchor=\"middle\" x=\"195.38\" y=\"-367.73\" font-family=\"Times,serif\" font-size=\"12.00\">p&#45;val: 0.00</text>\n</g>\n<!-- P1_10_QT -->\n<g id=\"node6\" class=\"node\">\n<title>P1_10_QT</title>\n<polygon fill=\"none\" stroke=\"black\" points=\"421.5,-342.19 346.25,-342.19 346.25,-306.19 421.5,-306.19 421.5,-342.19\"/>\n<text text-anchor=\"middle\" x=\"383.88\" y=\"-319.14\" font-family=\"Times,serif\" font-size=\"14.00\">P1_10_QT</text>\n</g>\n<!-- QT&#45;&gt;P1_10_QT -->\n<g id=\"edge13\" class=\"edge\">\n<title>QT&#45;&gt;P1_10_QT</title>\n<path fill=\"none\" stroke=\"black\" d=\"M383.88,-411.12C383.88,-394.6 383.88,-371.99 383.88,-354.12\"/>\n<polygon fill=\"black\" stroke=\"black\" points=\"387.38,-354.14 383.88,-344.14 380.38,-354.14 387.38,-354.14\"/>\n<text text-anchor=\"middle\" x=\"397.38\" y=\"-374.86\" font-family=\"Times,serif\" font-size=\"12.00\">0.680</text>\n</g>\n<!-- P1_11_QT -->\n<g id=\"node7\" class=\"node\">\n<title>P1_11_QT</title>\n<polygon fill=\"none\" stroke=\"black\" points=\"602.5,-342.19 527.25,-342.19 527.25,-306.19 602.5,-306.19 602.5,-342.19\"/>\n<text text-anchor=\"middle\" x=\"564.88\" y=\"-319.14\" font-family=\"Times,serif\" font-size=\"14.00\">P1_11_QT</text>\n</g>\n<!-- QT&#45;&gt;P1_11_QT -->\n<g id=\"edge14\" class=\"edge\">\n<title>QT&#45;&gt;P1_11_QT</title>\n<path fill=\"none\" stroke=\"black\" d=\"M405.47,-425.17C423.67,-417.74 450.14,-406.13 471.88,-393.38 494.08,-380.35 517.44,-363.21 535.2,-349.37\"/>\n<polygon fill=\"black\" stroke=\"black\" points=\"537.06,-352.35 542.74,-343.41 532.73,-346.86 537.06,-352.35\"/>\n<text text-anchor=\"middle\" x=\"539.47\" y=\"-381.98\" font-family=\"Times,serif\" font-size=\"12.00\">0.898</text>\n<text text-anchor=\"middle\" x=\"539.47\" y=\"-367.73\" font-family=\"Times,serif\" font-size=\"12.00\">p&#45;val: 0.00</text>\n</g>\n<!-- P1_12_QT -->\n<g id=\"node8\" class=\"node\">\n<title>P1_12_QT</title>\n<polygon fill=\"none\" stroke=\"black\" points=\"235.5,-342.19 160.25,-342.19 160.25,-306.19 235.5,-306.19 235.5,-342.19\"/>\n<text text-anchor=\"middle\" x=\"197.88\" y=\"-319.14\" font-family=\"Times,serif\" font-size=\"14.00\">P1_12_QT</text>\n</g>\n<!-- QT&#45;&gt;P1_12_QT -->\n<g id=\"edge15\" class=\"edge\">\n<title>QT&#45;&gt;P1_12_QT</title>\n<path fill=\"none\" stroke=\"black\" d=\"M360.73,-430.43C333.51,-425.85 287.85,-415.38 254.88,-393.38 238.71,-382.6 224.66,-365.92 214.55,-351.76\"/>\n<polygon fill=\"black\" stroke=\"black\" points=\"217.58,-350 209.05,-343.71 211.8,-353.94 217.58,-350\"/>\n<text text-anchor=\"middle\" x=\"280.38\" y=\"-381.98\" font-family=\"Times,serif\" font-size=\"12.00\">0.823</text>\n<text text-anchor=\"middle\" x=\"280.38\" y=\"-367.73\" font-family=\"Times,serif\" font-size=\"12.00\">p&#45;val: 0.00</text>\n</g>\n<!-- P1_13_QT -->\n<g id=\"node9\" class=\"node\">\n<title>P1_13_QT</title>\n<polygon fill=\"none\" stroke=\"black\" points=\"328.5,-342.19 253.25,-342.19 253.25,-306.19 328.5,-306.19 328.5,-342.19\"/>\n<text text-anchor=\"middle\" x=\"290.88\" y=\"-319.14\" font-family=\"Times,serif\" font-size=\"14.00\">P1_13_QT</text>\n</g>\n<!-- QT&#45;&gt;P1_13_QT -->\n<g id=\"edge16\" class=\"edge\">\n<title>QT&#45;&gt;P1_13_QT</title>\n<path fill=\"none\" stroke=\"black\" d=\"M363.9,-421.99C352.65,-414.77 338.9,-404.72 328.88,-393.38 318.28,-381.4 309.39,-365.98 302.87,-352.84\"/>\n<polygon fill=\"black\" stroke=\"black\" points=\"306.05,-351.38 298.61,-343.83 299.72,-354.36 306.05,-351.38\"/>\n<text text-anchor=\"middle\" x=\"354.38\" y=\"-381.98\" font-family=\"Times,serif\" font-size=\"12.00\">0.748</text>\n<text text-anchor=\"middle\" x=\"354.38\" y=\"-367.73\" font-family=\"Times,serif\" font-size=\"12.00\">p&#45;val: 0.00</text>\n</g>\n<!-- L -->\n<g id=\"node5\" class=\"node\">\n<title>L</title>\n<ellipse fill=\"#cae6df\" stroke=\"black\" cx=\"312.88\" cy=\"-118.5\" rx=\"18\" ry=\"18\"/>\n<text text-anchor=\"middle\" x=\"312.88\" y=\"-113.45\" font-family=\"Times,serif\" font-size=\"14.00\">L</text>\n</g>\n<!-- S&#45;&gt;L -->\n<g id=\"edge4\" class=\"edge\">\n<title>S&#45;&gt;L</title>\n<path fill=\"none\" stroke=\"black\" d=\"M439.96,-215.91C417.33,-212.48 378.17,-203.81 351.88,-183 339.67,-173.34 330.32,-158.74 323.84,-145.97\"/>\n<polygon fill=\"black\" stroke=\"black\" points=\"327.14,-144.75 319.72,-137.19 320.8,-147.73 327.14,-144.75\"/>\n<text text-anchor=\"middle\" x=\"377.38\" y=\"-171.6\" font-family=\"Times,serif\" font-size=\"12.00\">0.660</text>\n<text text-anchor=\"middle\" x=\"377.38\" y=\"-157.35\" font-family=\"Times,serif\" font-size=\"12.00\">p&#45;val: 0.00</text>\n</g>\n<!-- P3_1_S -->\n<g id=\"node18\" class=\"node\">\n<title>P3_1_S</title>\n<polygon fill=\"none\" stroke=\"black\" points=\"410.88,-136.5 352.88,-136.5 352.88,-100.5 410.88,-100.5 410.88,-136.5\"/>\n<text text-anchor=\"middle\" x=\"381.88\" y=\"-113.45\" font-family=\"Times,serif\" font-size=\"14.00\">P3_1_S</text>\n</g>\n<!-- S&#45;&gt;P3_1_S -->\n<g id=\"edge17\" class=\"edge\">\n<title>S&#45;&gt;P3_1_S</title>\n<path fill=\"none\" stroke=\"black\" d=\"M446.05,-205.32C440.12,-198.8 432.93,-190.63 426.88,-183 417.49,-171.17 407.73,-157.58 399.7,-146.01\"/>\n<polygon fill=\"black\" stroke=\"black\" points=\"402.82,-144.36 394.27,-138.09 397.05,-148.32 402.82,-144.36\"/>\n<text text-anchor=\"middle\" x=\"440.38\" y=\"-164.47\" font-family=\"Times,serif\" font-size=\"12.00\">0.882</text>\n</g>\n<!-- P3_2_S -->\n<g id=\"node19\" class=\"node\">\n<title>P3_2_S</title>\n<polygon fill=\"none\" stroke=\"black\" points=\"486.88,-136.5 428.88,-136.5 428.88,-100.5 486.88,-100.5 486.88,-136.5\"/>\n<text text-anchor=\"middle\" x=\"457.88\" y=\"-113.45\" font-family=\"Times,serif\" font-size=\"14.00\">P3_2_S</text>\n</g>\n<!-- S&#45;&gt;P3_2_S -->\n<g id=\"edge18\" class=\"edge\">\n<title>S&#45;&gt;P3_2_S</title>\n<path fill=\"none\" stroke=\"black\" d=\"M457.88,-200.84C457.88,-186.24 457.88,-164.98 457.88,-147.85\"/>\n<polygon fill=\"black\" stroke=\"black\" points=\"461.38,-148.3 457.88,-138.3 454.38,-148.3 461.38,-148.3\"/>\n<text text-anchor=\"middle\" x=\"483.38\" y=\"-171.6\" font-family=\"Times,serif\" font-size=\"12.00\">0.852</text>\n<text text-anchor=\"middle\" x=\"483.38\" y=\"-157.35\" font-family=\"Times,serif\" font-size=\"12.00\">p&#45;val: 0.00</text>\n</g>\n<!-- P3_3_S -->\n<g id=\"node20\" class=\"node\">\n<title>P3_3_S</title>\n<polygon fill=\"none\" stroke=\"black\" points=\"562.88,-136.5 504.88,-136.5 504.88,-100.5 562.88,-100.5 562.88,-136.5\"/>\n<text text-anchor=\"middle\" x=\"533.88\" y=\"-113.45\" font-family=\"Times,serif\" font-size=\"14.00\">P3_3_S</text>\n</g>\n<!-- S&#45;&gt;P3_3_S -->\n<g id=\"edge19\" class=\"edge\">\n<title>S&#45;&gt;P3_3_S</title>\n<path fill=\"none\" stroke=\"black\" d=\"M474.39,-210.91C486.33,-205.02 502.02,-195.58 511.88,-183 519.81,-172.87 524.99,-159.69 528.32,-147.97\"/>\n<polygon fill=\"black\" stroke=\"black\" points=\"531.69,-148.91 530.7,-138.36 524.89,-147.22 531.69,-148.91\"/>\n<text text-anchor=\"middle\" x=\"551.46\" y=\"-171.6\" font-family=\"Times,serif\" font-size=\"12.00\">0.912</text>\n<text text-anchor=\"middle\" x=\"551.46\" y=\"-157.35\" font-family=\"Times,serif\" font-size=\"12.00\">p&#45;val: 0.00</text>\n</g>\n<!-- P3_4_S -->\n<g id=\"node21\" class=\"node\">\n<title>P3_4_S</title>\n<polygon fill=\"none\" stroke=\"black\" points=\"638.88,-136.5 580.88,-136.5 580.88,-100.5 638.88,-100.5 638.88,-136.5\"/>\n<text text-anchor=\"middle\" x=\"609.88\" y=\"-113.45\" font-family=\"Times,serif\" font-size=\"14.00\">P3_4_S</text>\n</g>\n<!-- S&#45;&gt;P3_4_S -->\n<g id=\"edge20\" class=\"edge\">\n<title>S&#45;&gt;P3_4_S</title>\n<path fill=\"none\" stroke=\"black\" d=\"M475.95,-217.46C502.07,-215.77 550.56,-209.04 580.88,-183 591.5,-173.87 598.45,-160.03 602.86,-147.61\"/>\n<polygon fill=\"black\" stroke=\"black\" points=\"606.16,-148.8 605.8,-138.21 599.48,-146.71 606.16,-148.8\"/>\n<text text-anchor=\"middle\" x=\"625.35\" y=\"-171.6\" font-family=\"Times,serif\" font-size=\"12.00\">0.870</text>\n<text text-anchor=\"middle\" x=\"625.35\" y=\"-157.35\" font-family=\"Times,serif\" font-size=\"12.00\">p&#45;val: 0.00</text>\n</g>\n<!-- QS -->\n<g id=\"node3\" class=\"node\">\n<title>QS</title>\n<ellipse fill=\"#cae6df\" stroke=\"black\" cx=\"739.88\" cy=\"-544.97\" rx=\"22.69\" ry=\"22.69\"/>\n<text text-anchor=\"middle\" x=\"739.88\" y=\"-539.92\" font-family=\"Times,serif\" font-size=\"14.00\">QS</text>\n</g>\n<!-- QS&#45;&gt;QT -->\n<g id=\"edge27\" class=\"edge\">\n<title>QS&#45;&gt;QT</title>\n<path fill=\"none\" stroke=\"black\" stroke-dasharray=\"5,2\" d=\"M706.27,-537.73C670.97,-530.84 613.99,-518.78 565.88,-504.28 512.1,-488.08 451.39,-463.94 415.45,-449.01\"/>\n<polygon fill=\"black\" stroke=\"black\" points=\"705.4,-541.13 715.89,-539.58 706.73,-534.25 705.4,-541.13\"/>\n<polygon fill=\"black\" stroke=\"black\" points=\"417.09,-445.9 406.52,-445.27 414.39,-452.36 417.09,-445.9\"/>\n<text text-anchor=\"middle\" x=\"591.38\" y=\"-492.88\" font-family=\"Times,serif\" font-size=\"12.00\">0.480</text>\n<text text-anchor=\"middle\" x=\"591.38\" y=\"-478.63\" font-family=\"Times,serif\" font-size=\"12.00\">p&#45;val: 0.00</text>\n</g>\n<!-- QS&#45;&gt;S -->\n<g id=\"edge1\" class=\"edge\">\n<title>QS&#45;&gt;S</title>\n<path fill=\"none\" stroke=\"black\" d=\"M721.35,-531.32C700.72,-516.23 667.91,-489.09 649.88,-457.78 614.18,-395.85 655.78,-357.92 611.88,-301.5 579.91,-260.43 521.35,-237.75 486.38,-227.29\"/>\n<polygon fill=\"black\" stroke=\"black\" points=\"487.53,-223.98 476.96,-224.62 485.62,-230.72 487.53,-223.98\"/>\n<text text-anchor=\"middle\" x=\"659.54\" y=\"-381.98\" font-family=\"Times,serif\" font-size=\"12.00\">0.510</text>\n<text text-anchor=\"middle\" x=\"659.54\" y=\"-367.73\" font-family=\"Times,serif\" font-size=\"12.00\">p&#45;val: 0.00</text>\n</g>\n<!-- QS&#45;&gt;QF -->\n<g id=\"edge25\" class=\"edge\">\n<title>QS&#45;&gt;QF</title>\n<path fill=\"none\" stroke=\"black\" stroke-dasharray=\"5,2\" d=\"M705.89,-539.88C656.21,-533.64 560.94,-520.72 480.88,-504.28 399.94,-487.67 379.45,-483.35 300.88,-457.78 226.8,-433.68 189.6,-451.62 137.88,-393.38 129.37,-383.81 124.81,-370.68 122.39,-358.49\"/>\n<polygon fill=\"black\" stroke=\"black\" points=\"705.36,-543.34 715.72,-541.1 706.23,-536.39 705.36,-543.34\"/>\n<polygon fill=\"black\" stroke=\"black\" points=\"125.87,-358.1 120.9,-348.74 118.95,-359.16 125.87,-358.1\"/>\n<text text-anchor=\"middle\" x=\"326.38\" y=\"-437.43\" font-family=\"Times,serif\" font-size=\"12.00\">0.485</text>\n<text text-anchor=\"middle\" x=\"326.38\" y=\"-423.18\" font-family=\"Times,serif\" font-size=\"12.00\">p&#45;val: 0.00</text>\n</g>\n<!-- P1_16_QS -->\n<g id=\"node10\" class=\"node\">\n<title>P1_16_QS</title>\n<polygon fill=\"none\" stroke=\"black\" points=\"733.12,-452.58 658.62,-452.58 658.62,-416.58 733.12,-416.58 733.12,-452.58\"/>\n<text text-anchor=\"middle\" x=\"695.88\" y=\"-429.53\" font-family=\"Times,serif\" font-size=\"14.00\">P1_16_QS</text>\n</g>\n<!-- QS&#45;&gt;P1_16_QS -->\n<g id=\"edge9\" class=\"edge\">\n<title>QS&#45;&gt;P1_16_QS</title>\n<path fill=\"none\" stroke=\"black\" d=\"M725.78,-527.08C720.76,-520.34 715.46,-512.29 711.88,-504.28 706.22,-491.67 702.44,-476.81 699.98,-464.15\"/>\n<polygon fill=\"black\" stroke=\"black\" points=\"703.43,-463.57 698.27,-454.32 696.53,-464.77 703.43,-463.57\"/>\n<text text-anchor=\"middle\" x=\"737.38\" y=\"-492.88\" font-family=\"Times,serif\" font-size=\"12.00\">0.613</text>\n<text text-anchor=\"middle\" x=\"737.38\" y=\"-478.63\" font-family=\"Times,serif\" font-size=\"12.00\">p&#45;val: 0.00</text>\n</g>\n<!-- P1_1_QS -->\n<g id=\"node11\" class=\"node\">\n<title>P1_1_QS</title>\n<polygon fill=\"none\" stroke=\"black\" points=\"818.75,-452.58 751,-452.58 751,-416.58 818.75,-416.58 818.75,-452.58\"/>\n<text text-anchor=\"middle\" x=\"784.88\" y=\"-429.53\" font-family=\"Times,serif\" font-size=\"14.00\">P1_1_QS</text>\n</g>\n<!-- QS&#45;&gt;P1_1_QS -->\n<g id=\"edge5\" class=\"edge\">\n<title>QS&#45;&gt;P1_1_QS</title>\n<path fill=\"none\" stroke=\"black\" d=\"M751.73,-525.43C755.6,-518.91 759.71,-511.42 762.88,-504.28 768.63,-491.31 773.6,-476.36 777.35,-463.73\"/>\n<polygon fill=\"black\" stroke=\"black\" points=\"780.65,-464.93 780.03,-454.36 773.92,-463.01 780.65,-464.93\"/>\n<text text-anchor=\"middle\" x=\"786.86\" y=\"-485.76\" font-family=\"Times,serif\" font-size=\"12.00\">0.816</text>\n</g>\n<!-- P1_2_QS -->\n<g id=\"node12\" class=\"node\">\n<title>P1_2_QS</title>\n<polygon fill=\"none\" stroke=\"black\" points=\"904.75,-452.58 837,-452.58 837,-416.58 904.75,-416.58 904.75,-452.58\"/>\n<text text-anchor=\"middle\" x=\"870.88\" y=\"-429.53\" font-family=\"Times,serif\" font-size=\"14.00\">P1_2_QS</text>\n</g>\n<!-- QS&#45;&gt;P1_2_QS -->\n<g id=\"edge6\" class=\"edge\">\n<title>QS&#45;&gt;P1_2_QS</title>\n<path fill=\"none\" stroke=\"black\" d=\"M759.74,-533.33C772.81,-525.92 790.01,-515.42 803.88,-504.28 819.97,-491.36 836.17,-474.86 848.61,-461.27\"/>\n<polygon fill=\"black\" stroke=\"black\" points=\"851.11,-463.73 855.2,-453.95 845.91,-459.05 851.11,-463.73\"/>\n<text text-anchor=\"middle\" x=\"860.33\" y=\"-492.88\" font-family=\"Times,serif\" font-size=\"12.00\">0.718</text>\n<text text-anchor=\"middle\" x=\"860.33\" y=\"-478.63\" font-family=\"Times,serif\" font-size=\"12.00\">p&#45;val: 0.00</text>\n</g>\n<!-- P1_4_QS -->\n<g id=\"node13\" class=\"node\">\n<title>P1_4_QS</title>\n<polygon fill=\"none\" stroke=\"black\" points=\"990.75,-452.58 923,-452.58 923,-416.58 990.75,-416.58 990.75,-452.58\"/>\n<text text-anchor=\"middle\" x=\"956.88\" y=\"-429.53\" font-family=\"Times,serif\" font-size=\"14.00\">P1_4_QS</text>\n</g>\n<!-- QS&#45;&gt;P1_4_QS -->\n<g id=\"edge7\" class=\"edge\">\n<title>QS&#45;&gt;P1_4_QS</title>\n<path fill=\"none\" stroke=\"black\" d=\"M762.67,-541.77C793.38,-537.98 848.93,-528.18 889.88,-504.28 908.46,-493.44 925.35,-476.04 937.53,-461.47\"/>\n<polygon fill=\"black\" stroke=\"black\" points=\"939.97,-464.01 943.52,-454.02 934.52,-459.62 939.97,-464.01\"/>\n<text text-anchor=\"middle\" x=\"949.71\" y=\"-492.88\" font-family=\"Times,serif\" font-size=\"12.00\">0.777</text>\n<text text-anchor=\"middle\" x=\"949.71\" y=\"-478.63\" font-family=\"Times,serif\" font-size=\"12.00\">p&#45;val: 0.00</text>\n</g>\n<!-- P1_5_QS -->\n<g id=\"node14\" class=\"node\">\n<title>P1_5_QS</title>\n<polygon fill=\"none\" stroke=\"black\" points=\"1076.75,-452.58 1009,-452.58 1009,-416.58 1076.75,-416.58 1076.75,-452.58\"/>\n<text text-anchor=\"middle\" x=\"1042.88\" y=\"-429.53\" font-family=\"Times,serif\" font-size=\"14.00\">P1_5_QS</text>\n</g>\n<!-- QS&#45;&gt;P1_5_QS -->\n<g id=\"edge8\" class=\"edge\">\n<title>QS&#45;&gt;P1_5_QS</title>\n<path fill=\"none\" stroke=\"black\" d=\"M762.68,-542.07C814.91,-537.41 941.54,-524.33 978.88,-504.28 997.37,-494.35 1013.46,-477.03 1024.87,-462.26\"/>\n<polygon fill=\"black\" stroke=\"black\" points=\"1027.66,-464.37 1030.78,-454.25 1022.03,-460.22 1027.66,-464.37\"/>\n<text text-anchor=\"middle\" x=\"1037.88\" y=\"-492.88\" font-family=\"Times,serif\" font-size=\"12.00\">0.814</text>\n<text text-anchor=\"middle\" x=\"1037.88\" y=\"-478.63\" font-family=\"Times,serif\" font-size=\"12.00\">p&#45;val: 0.00</text>\n</g>\n<!-- QF&#45;&gt;S -->\n<g id=\"edge2\" class=\"edge\">\n<title>QF&#45;&gt;S</title>\n<path fill=\"none\" stroke=\"black\" d=\"M137.14,-309.19C141.43,-306.27 146.15,-303.49 150.88,-301.5 190.89,-284.68 204.7,-293.77 246.88,-283.5 313.35,-267.31 389.93,-242.75 430.04,-229.42\"/>\n<polygon fill=\"black\" stroke=\"black\" points=\"431.01,-232.79 439.38,-226.29 428.79,-226.15 431.01,-232.79\"/>\n<text text-anchor=\"middle\" x=\"371.24\" y=\"-272.1\" font-family=\"Times,serif\" font-size=\"12.00\">0.194</text>\n<text text-anchor=\"middle\" x=\"371.24\" y=\"-257.85\" font-family=\"Times,serif\" font-size=\"12.00\">p&#45;val: 0.00</text>\n</g>\n<!-- P1_6_QF -->\n<g id=\"node15\" class=\"node\">\n<title>P1_6_QF</title>\n<polygon fill=\"none\" stroke=\"black\" points=\"67.75,-237 0,-237 0,-201 67.75,-201 67.75,-237\"/>\n<text text-anchor=\"middle\" x=\"33.88\" y=\"-213.95\" font-family=\"Times,serif\" font-size=\"14.00\">P1_6_QF</text>\n</g>\n<!-- QF&#45;&gt;P1_6_QF -->\n<g id=\"edge10\" class=\"edge\">\n<title>QF&#45;&gt;P1_6_QF</title>\n<path fill=\"none\" stroke=\"black\" d=\"M105.67,-306.15C92.06,-289.82 71.33,-264.94 55.63,-246.1\"/>\n<polygon fill=\"black\" stroke=\"black\" points=\"58.44,-244.01 49.35,-238.57 53.07,-248.5 58.44,-244.01\"/>\n<text text-anchor=\"middle\" x=\"98.08\" y=\"-264.98\" font-family=\"Times,serif\" font-size=\"12.00\">0.661</text>\n</g>\n<!-- P1_7_QF -->\n<g id=\"node16\" class=\"node\">\n<title>P1_7_QF</title>\n<polygon fill=\"none\" stroke=\"black\" points=\"153.75,-237 86,-237 86,-201 153.75,-201 153.75,-237\"/>\n<text text-anchor=\"middle\" x=\"119.88\" y=\"-213.95\" font-family=\"Times,serif\" font-size=\"14.00\">P1_7_QF</text>\n</g>\n<!-- QF&#45;&gt;P1_7_QF -->\n<g id=\"edge11\" class=\"edge\">\n<title>QF&#45;&gt;P1_7_QF</title>\n<path fill=\"none\" stroke=\"black\" d=\"M119.88,-301.05C119.88,-285.71 119.88,-265.14 119.88,-248.56\"/>\n<polygon fill=\"black\" stroke=\"black\" points=\"123.38,-248.84 119.88,-238.84 116.38,-248.84 123.38,-248.84\"/>\n<text text-anchor=\"middle\" x=\"145.38\" y=\"-272.1\" font-family=\"Times,serif\" font-size=\"12.00\">0.836</text>\n<text text-anchor=\"middle\" x=\"145.38\" y=\"-257.85\" font-family=\"Times,serif\" font-size=\"12.00\">p&#45;val: 0.00</text>\n</g>\n<!-- P1_8_QF -->\n<g id=\"node17\" class=\"node\">\n<title>P1_8_QF</title>\n<polygon fill=\"none\" stroke=\"black\" points=\"239.75,-237 172,-237 172,-201 239.75,-201 239.75,-237\"/>\n<text text-anchor=\"middle\" x=\"205.88\" y=\"-213.95\" font-family=\"Times,serif\" font-size=\"14.00\">P1_8_QF</text>\n</g>\n<!-- QF&#45;&gt;P1_8_QF -->\n<g id=\"edge12\" class=\"edge\">\n<title>QF&#45;&gt;P1_8_QF</title>\n<path fill=\"none\" stroke=\"black\" d=\"M138.12,-310.35C153.55,-299.43 173.41,-285.25 174.88,-283.5 183.68,-273.05 190.69,-259.67 195.8,-247.89\"/>\n<polygon fill=\"black\" stroke=\"black\" points=\"199.04,-249.22 199.55,-238.63 192.55,-246.59 199.04,-249.22\"/>\n<text text-anchor=\"middle\" x=\"217.68\" y=\"-272.1\" font-family=\"Times,serif\" font-size=\"12.00\">0.634</text>\n<text text-anchor=\"middle\" x=\"217.68\" y=\"-257.85\" font-family=\"Times,serif\" font-size=\"12.00\">p&#45;val: 0.00</text>\n</g>\n<!-- P6_1_L -->\n<g id=\"node22\" class=\"node\">\n<title>P6_1_L</title>\n<polygon fill=\"none\" stroke=\"black\" points=\"227.25,-36 168.5,-36 168.5,0 227.25,0 227.25,-36\"/>\n<text text-anchor=\"middle\" x=\"197.88\" y=\"-12.95\" font-family=\"Times,serif\" font-size=\"14.00\">P6_1_L</text>\n</g>\n<!-- L&#45;&gt;P6_1_L -->\n<g id=\"edge21\" class=\"edge\">\n<title>L&#45;&gt;P6_1_L</title>\n<path fill=\"none\" stroke=\"black\" d=\"M295.68,-111.84C280.34,-106.18 257.91,-96.32 241.88,-82.5 230.13,-72.37 220.02,-58.44 212.46,-46.21\"/>\n<polygon fill=\"black\" stroke=\"black\" points=\"215.58,-44.61 207.5,-37.75 209.54,-48.15 215.58,-44.61\"/>\n<text text-anchor=\"middle\" x=\"255.38\" y=\"-63.98\" font-family=\"Times,serif\" font-size=\"12.00\">0.862</text>\n</g>\n<!-- P6_2_L -->\n<g id=\"node23\" class=\"node\">\n<title>P6_2_L</title>\n<polygon fill=\"none\" stroke=\"black\" points=\"304.25,-36 245.5,-36 245.5,0 304.25,0 304.25,-36\"/>\n<text text-anchor=\"middle\" x=\"274.88\" y=\"-12.95\" font-family=\"Times,serif\" font-size=\"14.00\">P6_2_L</text>\n</g>\n<!-- L&#45;&gt;P6_2_L -->\n<g id=\"edge22\" class=\"edge\">\n<title>L&#45;&gt;P6_2_L</title>\n<path fill=\"none\" stroke=\"black\" d=\"M298.82,-107.14C291.5,-100.89 283.2,-92.26 278.88,-82.5 274.14,-71.82 272.64,-59.13 272.5,-47.91\"/>\n<polygon fill=\"black\" stroke=\"black\" points=\"276,-48.08 272.76,-37.99 269,-47.89 276,-48.08\"/>\n<text text-anchor=\"middle\" x=\"304.38\" y=\"-71.1\" font-family=\"Times,serif\" font-size=\"12.00\">0.824</text>\n<text text-anchor=\"middle\" x=\"304.38\" y=\"-56.85\" font-family=\"Times,serif\" font-size=\"12.00\">p&#45;val: 0.00</text>\n</g>\n<!-- P6_3_L -->\n<g id=\"node24\" class=\"node\">\n<title>P6_3_L</title>\n<polygon fill=\"none\" stroke=\"black\" points=\"381.25,-36 322.5,-36 322.5,0 381.25,0 381.25,-36\"/>\n<text text-anchor=\"middle\" x=\"351.88\" y=\"-12.95\" font-family=\"Times,serif\" font-size=\"14.00\">P6_3_L</text>\n</g>\n<!-- L&#45;&gt;P6_3_L -->\n<g id=\"edge23\" class=\"edge\">\n<title>L&#45;&gt;P6_3_L</title>\n<path fill=\"none\" stroke=\"black\" d=\"M320.89,-102C323.88,-95.98 327.19,-88.99 329.88,-82.5 334.58,-71.14 339.14,-58.37 342.88,-47.28\"/>\n<polygon fill=\"black\" stroke=\"black\" points=\"346.17,-48.49 345.97,-37.89 339.52,-46.3 346.17,-48.49\"/>\n<text text-anchor=\"middle\" x=\"365.77\" y=\"-71.1\" font-family=\"Times,serif\" font-size=\"12.00\">0.521</text>\n<text text-anchor=\"middle\" x=\"365.77\" y=\"-56.85\" font-family=\"Times,serif\" font-size=\"12.00\">p&#45;val: 0.00</text>\n</g>\n<!-- P6_4_L -->\n<g id=\"node25\" class=\"node\">\n<title>P6_4_L</title>\n<polygon fill=\"none\" stroke=\"black\" points=\"458.25,-36 399.5,-36 399.5,0 458.25,0 458.25,-36\"/>\n<text text-anchor=\"middle\" x=\"428.88\" y=\"-12.95\" font-family=\"Times,serif\" font-size=\"14.00\">P6_4_L</text>\n</g>\n<!-- L&#45;&gt;P6_4_L -->\n<g id=\"edge24\" class=\"edge\">\n<title>L&#45;&gt;P6_4_L</title>\n<path fill=\"none\" stroke=\"black\" d=\"M328.08,-108.52C333.03,-105.77 338.61,-102.86 343.88,-100.5 365.82,-90.69 376.63,-98.15 394.88,-82.5 405.88,-73.05 413.9,-59.13 419.37,-46.72\"/>\n<polygon fill=\"black\" stroke=\"black\" points=\"422.49,-48.35 422.97,-37.77 415.99,-45.74 422.49,-48.35\"/>\n<text text-anchor=\"middle\" x=\"441.17\" y=\"-71.1\" font-family=\"Times,serif\" font-size=\"12.00\">0.877</text>\n<text text-anchor=\"middle\" x=\"441.17\" y=\"-56.85\" font-family=\"Times,serif\" font-size=\"12.00\">p&#45;val: 0.00</text>\n</g>\n</g>\n</svg>\n",
      "text/plain": [
       "<graphviz.graphs.Digraph at 0x10ed52800>"
      ]
     },
     "execution_count": 6,
     "metadata": {},
     "output_type": "execute_result"
    }
   ],
   "execution_count": 6
  },
  {
   "metadata": {},
   "cell_type": "markdown",
   "source": [
    "### R squared\n",
    "Computes $R^2$ for Satisfaction (S) and Loyalty (L) using the standardized betas\n",
    "\n",
    "$R^2 = 1 - \\frac{\\sigma^2(residual)}{\\sigma^2(total)}$\n",
    "\n",
    "Hayes, T. (2021). R-squared change in structural equation models with latent variables and missing data. Behavior Research Methods, 53(5), 2127–2157. https://doi.org/10.3758/s13428-020-01532-y\n"
   ],
   "id": "a2387786e1f87d99"
  },
  {
   "metadata": {
    "ExecuteTime": {
     "end_time": "2025-07-10T11:19:49.140360Z",
     "start_time": "2025-07-10T11:19:49.125356Z"
    }
   },
   "cell_type": "code",
   "source": [
    "paths = (model.inspect(std_est=True)\n",
    "             .query(\"op == '~'\")\n",
    "             .set_index(['lval','rval']))"
   ],
   "id": "2b1aad805e82e484",
   "outputs": [],
   "execution_count": 7
  },
  {
   "metadata": {
    "ExecuteTime": {
     "end_time": "2025-07-10T11:19:49.168309Z",
     "start_time": "2025-07-10T11:19:49.163976Z"
    }
   },
   "cell_type": "code",
   "source": [
    "import numpy as np\n",
    "\n",
    "def compute_R_squared(\n",
    "        structural_model: \"semopy.Model\",\n",
    "        latent_variable: str\n",
    ") -> float:\n",
    "    estimated_matrices = structural_model.inspect(mode='mx')\n",
    "\n",
    "    beta_matrix = estimated_matrices['Beta']\n",
    "    residual_variance_matrix = estimated_matrices['Psi']\n",
    "\n",
    "    latent_variable_names = list(beta_matrix.index)\n",
    "    if latent_variable not in latent_variable_names:\n",
    "        raise ValueError(f\"The latent variable '{latent_variable}' was not found in the Beta matrix.\")\n",
    "\n",
    "    latent_variable_index = latent_variable_names.index(latent_variable)\n",
    "\n",
    "    identity_matrix = np.eye(beta_matrix.shape[0])\n",
    "    inverse_identity_minus_beta = np.linalg.inv(\n",
    "        identity_matrix - beta_matrix.values\n",
    "    )\n",
    "\n",
    "    total_latent_covariance_matrix = (\n",
    "        inverse_identity_minus_beta\n",
    "        @ residual_variance_matrix.values\n",
    "        @ inverse_identity_minus_beta.T\n",
    "    )\n",
    "\n",
    "    total_variance = total_latent_covariance_matrix[latent_variable_index, latent_variable_index]\n",
    "\n",
    "    residual_variance = (\n",
    "        residual_variance_matrix\n",
    "        .values[latent_variable_index, latent_variable_index]\n",
    "    )\n",
    "\n",
    "    return 1 - (residual_variance / total_variance)"
   ],
   "id": "3e1d1de35ab25d68",
   "outputs": [],
   "execution_count": 8
  },
  {
   "metadata": {
    "ExecuteTime": {
     "end_time": "2025-07-10T11:19:49.205441Z",
     "start_time": "2025-07-10T11:19:49.199957Z"
    }
   },
   "cell_type": "code",
   "source": [
    "R2_S = compute_R_squared(model, \"S\")\n",
    "R2_S"
   ],
   "id": "672cef7d861eccd9",
   "outputs": [
    {
     "data": {
      "text/plain": [
       "np.float64(0.5479682141350536)"
      ]
     },
     "execution_count": 9,
     "metadata": {},
     "output_type": "execute_result"
    }
   ],
   "execution_count": 9
  },
  {
   "metadata": {
    "ExecuteTime": {
     "end_time": "2025-07-10T11:19:49.236769Z",
     "start_time": "2025-07-10T11:19:49.231371Z"
    }
   },
   "cell_type": "code",
   "source": [
    "R2_L = compute_R_squared(model, \"L\")\n",
    "R2_L"
   ],
   "id": "4622c4bae77a2890",
   "outputs": [
    {
     "data": {
      "text/plain": [
       "np.float64(0.4358674480103061)"
      ]
     },
     "execution_count": 10,
     "metadata": {},
     "output_type": "execute_result"
    }
   ],
   "execution_count": 10
  },
  {
   "metadata": {},
   "cell_type": "markdown",
   "source": "### Direct Effects",
   "id": "fc98f2ba48f54b78"
  },
  {
   "metadata": {
    "ExecuteTime": {
     "end_time": "2025-07-10T11:19:49.282804Z",
     "start_time": "2025-07-10T11:19:49.268836Z"
    }
   },
   "cell_type": "code",
   "source": [
    "raw_item_estimates = (\n",
    "    model.inspect(std_est=True)\n",
    "         .query(\"op == '~' and not lval.str.startswith('P')\")\n",
    ")\n",
    "direct_effects_df = (\n",
    "    raw_item_estimates\n",
    "    .loc[:, ['lval','rval', 'Est. Std', 'Estimate','p-value', 'z-value']]\n",
    "    .rename(columns={\n",
    "        'lval': 'Outcome',\n",
    "        'rval': 'Predictor',\n",
    "        'Estimate': 'beta',\n",
    "        'Est. Std': 'beta_std',\n",
    "    })\n",
    "    .sort_values(by='beta_std')\n",
    ")\n",
    "direct_effects_df['hypothesis_result'] = direct_effects_df.apply(\n",
    "    lambda row: 'Supported' if row['p-value'] < 0.05 else 'Not Supported',\n",
    "    axis=1\n",
    ")\n",
    "direct_effects_df"
   ],
   "id": "dbfe6ff8f657a5df",
   "outputs": [
    {
     "data": {
      "text/plain": [
       "  Outcome Predictor  beta_std      beta   p-value    z-value hypothesis_result\n",
       "2       S        QT  0.177666  0.191582  0.000178   3.747854         Supported\n",
       "1       S        QF  0.194342  0.263556  0.000152   3.787914         Supported\n",
       "0       S        QS  0.510324  0.477614       0.0  10.199336         Supported\n",
       "3       L         S  0.660203  0.622577       0.0  14.720154         Supported"
      ],
      "text/html": [
       "<div>\n",
       "<style scoped>\n",
       "    .dataframe tbody tr th:only-of-type {\n",
       "        vertical-align: middle;\n",
       "    }\n",
       "\n",
       "    .dataframe tbody tr th {\n",
       "        vertical-align: top;\n",
       "    }\n",
       "\n",
       "    .dataframe thead th {\n",
       "        text-align: right;\n",
       "    }\n",
       "</style>\n",
       "<table border=\"1\" class=\"dataframe\">\n",
       "  <thead>\n",
       "    <tr style=\"text-align: right;\">\n",
       "      <th></th>\n",
       "      <th>Outcome</th>\n",
       "      <th>Predictor</th>\n",
       "      <th>beta_std</th>\n",
       "      <th>beta</th>\n",
       "      <th>p-value</th>\n",
       "      <th>z-value</th>\n",
       "      <th>hypothesis_result</th>\n",
       "    </tr>\n",
       "  </thead>\n",
       "  <tbody>\n",
       "    <tr>\n",
       "      <th>2</th>\n",
       "      <td>S</td>\n",
       "      <td>QT</td>\n",
       "      <td>0.177666</td>\n",
       "      <td>0.191582</td>\n",
       "      <td>0.000178</td>\n",
       "      <td>3.747854</td>\n",
       "      <td>Supported</td>\n",
       "    </tr>\n",
       "    <tr>\n",
       "      <th>1</th>\n",
       "      <td>S</td>\n",
       "      <td>QF</td>\n",
       "      <td>0.194342</td>\n",
       "      <td>0.263556</td>\n",
       "      <td>0.000152</td>\n",
       "      <td>3.787914</td>\n",
       "      <td>Supported</td>\n",
       "    </tr>\n",
       "    <tr>\n",
       "      <th>0</th>\n",
       "      <td>S</td>\n",
       "      <td>QS</td>\n",
       "      <td>0.510324</td>\n",
       "      <td>0.477614</td>\n",
       "      <td>0.0</td>\n",
       "      <td>10.199336</td>\n",
       "      <td>Supported</td>\n",
       "    </tr>\n",
       "    <tr>\n",
       "      <th>3</th>\n",
       "      <td>L</td>\n",
       "      <td>S</td>\n",
       "      <td>0.660203</td>\n",
       "      <td>0.622577</td>\n",
       "      <td>0.0</td>\n",
       "      <td>14.720154</td>\n",
       "      <td>Supported</td>\n",
       "    </tr>\n",
       "  </tbody>\n",
       "</table>\n",
       "</div>"
      ]
     },
     "execution_count": 11,
     "metadata": {},
     "output_type": "execute_result"
    }
   ],
   "execution_count": 11
  },
  {
   "metadata": {},
   "cell_type": "markdown",
   "source": "### Indirect Effects",
   "id": "d687aac292c0f01f"
  },
  {
   "metadata": {
    "ExecuteTime": {
     "end_time": "2025-07-10T11:19:49.395424Z",
     "start_time": "2025-07-10T11:19:49.343464Z"
    }
   },
   "cell_type": "code",
   "source": [
    "paths = (\n",
    "    model.inspect(std_est=True, se_robust=True)\n",
    "         .query(\"op == '~'\")\n",
    "         .set_index(['lval', 'rval'])\n",
    ")"
   ],
   "id": "4f354832aa57c81c",
   "outputs": [],
   "execution_count": 12
  },
  {
   "metadata": {},
   "cell_type": "markdown",
   "source": "#### Mediator-to-outcome path (M -> Y)",
   "id": "5b3d76f3860157e9"
  },
  {
   "metadata": {
    "ExecuteTime": {
     "end_time": "2025-07-10T11:19:49.433009Z",
     "start_time": "2025-07-10T11:19:49.429834Z"
    }
   },
   "cell_type": "code",
   "source": [
    "b_path_coefficient = float(\n",
    "    paths.loc[('L', 'S'), 'Estimate']\n",
    ")\n",
    "b_path_standardized_coefficient = float(\n",
    "    paths.loc[('L', 'S'), 'Est. Std']\n",
    ")\n",
    "b_path_standard_error = float(\n",
    "    paths.loc[('L', 'S'), 'Std. Err']\n",
    ")"
   ],
   "id": "ae9edb91f7dadef",
   "outputs": [],
   "execution_count": 13
  },
  {
   "metadata": {},
   "cell_type": "markdown",
   "source": [
    "#### Predictor-to-mediator paths (X -> M)\n",
    "\n",
    "Sobel's z test for mediation is calculated as:\n",
    "\n",
    "$Z = \\frac{a \\cdot b}{SE_{ab}}\n",
    "= \\frac{a \\cdot b}{\\sqrt{b^2 \\cdot SE_a^2 + a^2 \\cdot SE_b^2}}$\n",
    "\n",
    "Where:\n",
    "- a = path coefficient from X -> M\n",
    "- b = path coefficient from M -> Y\n",
    "- $SE_a$ = standard error of a\n",
    "- $SE_b$ = standard error of b\n",
    "\n",
    "Abu-Bader, S., & Jones, T. V. (2021). Statistical mediation analysis using the Sobel test and Hayes SPSS Process Macro. International Journal of Quantitative and Qualitative Research Methods, 9(1), 42–61."
   ],
   "id": "9fd2c668d8e2be8d"
  },
  {
   "metadata": {
    "ExecuteTime": {
     "end_time": "2025-07-10T11:19:49.474260Z",
     "start_time": "2025-07-10T11:19:49.469824Z"
    }
   },
   "cell_type": "code",
   "source": [
    "import math\n",
    "from scipy.stats import norm\n",
    "\n",
    "results = []\n",
    "for predictor in ['QS', 'QF', 'QT']:\n",
    "    a_path_coefficient = float(\n",
    "        paths.loc[('S', predictor), 'Estimate']\n",
    "    )\n",
    "    a_standardized_path_coefficient = float(\n",
    "        paths.loc[('S', predictor), 'Est. Std']\n",
    "    )\n",
    "    a_path_standard_error = float(\n",
    "        paths.loc[('S', predictor), 'Std. Err']\n",
    "    )\n",
    "\n",
    "    # Indirect effect = a * b\n",
    "    indirect_effect = a_path_coefficient * b_path_coefficient\n",
    "    standardized_indirect_effect = (\n",
    "        a_standardized_path_coefficient * b_path_standardized_coefficient\n",
    "    )\n",
    "\n",
    "    # Sobel standard error: sqrt(b^2 * SE_a^2 + a^2 * SE_b^2)\n",
    "    indirect_se = math.sqrt(\n",
    "        (b_path_coefficient ** 2) * (a_path_standard_error ** 2) +\n",
    "        (a_path_coefficient ** 2) * (b_path_standard_error ** 2)\n",
    "    )\n",
    "\n",
    "    z_value = indirect_effect / indirect_se\n",
    "    p_value = 2 * (1 - norm.cdf(abs(z_value)))\n",
    "\n",
    "    results.append({\n",
    "        'Path': f'{predictor} -> L (via S)',\n",
    "        'Indirect Effect': round(indirect_effect, 3),\n",
    "        'Std. Indirect Effect': round(standardized_indirect_effect, 3),\n",
    "        'Standard Error':  round(indirect_se, 3),\n",
    "        'z-value':         round(z_value, 2),\n",
    "        'p-value':         round(p_value, 4)\n",
    "    })"
   ],
   "id": "df700ae8d203492e",
   "outputs": [],
   "execution_count": 14
  },
  {
   "metadata": {
    "ExecuteTime": {
     "end_time": "2025-07-10T11:19:49.507653Z",
     "start_time": "2025-07-10T11:19:49.502502Z"
    }
   },
   "cell_type": "code",
   "source": [
    "indirect_effects_df = pd.DataFrame(results)\n",
    "indirect_effects_df"
   ],
   "id": "f19c2530b4691973",
   "outputs": [
    {
     "data": {
      "text/plain": [
       "              Path  Indirect Effect  Std. Indirect Effect  Standard Error  \\\n",
       "0  QS -> L (via S)            0.297                 0.337           0.042   \n",
       "1  QF -> L (via S)            0.164                 0.128           0.055   \n",
       "2  QT -> L (via S)            0.119                 0.117           0.035   \n",
       "\n",
       "   z-value  p-value  \n",
       "0     7.01   0.0000  \n",
       "1     2.96   0.0031  \n",
       "2     3.42   0.0006  "
      ],
      "text/html": [
       "<div>\n",
       "<style scoped>\n",
       "    .dataframe tbody tr th:only-of-type {\n",
       "        vertical-align: middle;\n",
       "    }\n",
       "\n",
       "    .dataframe tbody tr th {\n",
       "        vertical-align: top;\n",
       "    }\n",
       "\n",
       "    .dataframe thead th {\n",
       "        text-align: right;\n",
       "    }\n",
       "</style>\n",
       "<table border=\"1\" class=\"dataframe\">\n",
       "  <thead>\n",
       "    <tr style=\"text-align: right;\">\n",
       "      <th></th>\n",
       "      <th>Path</th>\n",
       "      <th>Indirect Effect</th>\n",
       "      <th>Std. Indirect Effect</th>\n",
       "      <th>Standard Error</th>\n",
       "      <th>z-value</th>\n",
       "      <th>p-value</th>\n",
       "    </tr>\n",
       "  </thead>\n",
       "  <tbody>\n",
       "    <tr>\n",
       "      <th>0</th>\n",
       "      <td>QS -&gt; L (via S)</td>\n",
       "      <td>0.297</td>\n",
       "      <td>0.337</td>\n",
       "      <td>0.042</td>\n",
       "      <td>7.01</td>\n",
       "      <td>0.0000</td>\n",
       "    </tr>\n",
       "    <tr>\n",
       "      <th>1</th>\n",
       "      <td>QF -&gt; L (via S)</td>\n",
       "      <td>0.164</td>\n",
       "      <td>0.128</td>\n",
       "      <td>0.055</td>\n",
       "      <td>2.96</td>\n",
       "      <td>0.0031</td>\n",
       "    </tr>\n",
       "    <tr>\n",
       "      <th>2</th>\n",
       "      <td>QT -&gt; L (via S)</td>\n",
       "      <td>0.119</td>\n",
       "      <td>0.117</td>\n",
       "      <td>0.035</td>\n",
       "      <td>3.42</td>\n",
       "      <td>0.0006</td>\n",
       "    </tr>\n",
       "  </tbody>\n",
       "</table>\n",
       "</div>"
      ]
     },
     "execution_count": 15,
     "metadata": {},
     "output_type": "execute_result"
    }
   ],
   "execution_count": 15
  },
  {
   "metadata": {},
   "cell_type": "markdown",
   "source": "# Final Analysis",
   "id": "ddb1d1d79d3048e3"
  },
  {
   "metadata": {
    "ExecuteTime": {
     "end_time": "2025-07-10T11:19:49.556036Z",
     "start_time": "2025-07-10T11:19:49.550736Z"
    }
   },
   "cell_type": "code",
   "source": "direct_effects_df",
   "id": "f6fc68406e9932c3",
   "outputs": [
    {
     "data": {
      "text/plain": [
       "  Outcome Predictor  beta_std      beta   p-value    z-value hypothesis_result\n",
       "2       S        QT  0.177666  0.191582  0.000178   3.747854         Supported\n",
       "1       S        QF  0.194342  0.263556  0.000152   3.787914         Supported\n",
       "0       S        QS  0.510324  0.477614       0.0  10.199336         Supported\n",
       "3       L         S  0.660203  0.622577       0.0  14.720154         Supported"
      ],
      "text/html": [
       "<div>\n",
       "<style scoped>\n",
       "    .dataframe tbody tr th:only-of-type {\n",
       "        vertical-align: middle;\n",
       "    }\n",
       "\n",
       "    .dataframe tbody tr th {\n",
       "        vertical-align: top;\n",
       "    }\n",
       "\n",
       "    .dataframe thead th {\n",
       "        text-align: right;\n",
       "    }\n",
       "</style>\n",
       "<table border=\"1\" class=\"dataframe\">\n",
       "  <thead>\n",
       "    <tr style=\"text-align: right;\">\n",
       "      <th></th>\n",
       "      <th>Outcome</th>\n",
       "      <th>Predictor</th>\n",
       "      <th>beta_std</th>\n",
       "      <th>beta</th>\n",
       "      <th>p-value</th>\n",
       "      <th>z-value</th>\n",
       "      <th>hypothesis_result</th>\n",
       "    </tr>\n",
       "  </thead>\n",
       "  <tbody>\n",
       "    <tr>\n",
       "      <th>2</th>\n",
       "      <td>S</td>\n",
       "      <td>QT</td>\n",
       "      <td>0.177666</td>\n",
       "      <td>0.191582</td>\n",
       "      <td>0.000178</td>\n",
       "      <td>3.747854</td>\n",
       "      <td>Supported</td>\n",
       "    </tr>\n",
       "    <tr>\n",
       "      <th>1</th>\n",
       "      <td>S</td>\n",
       "      <td>QF</td>\n",
       "      <td>0.194342</td>\n",
       "      <td>0.263556</td>\n",
       "      <td>0.000152</td>\n",
       "      <td>3.787914</td>\n",
       "      <td>Supported</td>\n",
       "    </tr>\n",
       "    <tr>\n",
       "      <th>0</th>\n",
       "      <td>S</td>\n",
       "      <td>QS</td>\n",
       "      <td>0.510324</td>\n",
       "      <td>0.477614</td>\n",
       "      <td>0.0</td>\n",
       "      <td>10.199336</td>\n",
       "      <td>Supported</td>\n",
       "    </tr>\n",
       "    <tr>\n",
       "      <th>3</th>\n",
       "      <td>L</td>\n",
       "      <td>S</td>\n",
       "      <td>0.660203</td>\n",
       "      <td>0.622577</td>\n",
       "      <td>0.0</td>\n",
       "      <td>14.720154</td>\n",
       "      <td>Supported</td>\n",
       "    </tr>\n",
       "  </tbody>\n",
       "</table>\n",
       "</div>"
      ]
     },
     "execution_count": 16,
     "metadata": {},
     "output_type": "execute_result"
    }
   ],
   "execution_count": 16
  },
  {
   "metadata": {
    "ExecuteTime": {
     "end_time": "2025-07-10T11:19:49.632999Z",
     "start_time": "2025-07-10T11:19:49.627130Z"
    }
   },
   "cell_type": "code",
   "source": "indirect_effects_df",
   "id": "a86883846e4e9363",
   "outputs": [
    {
     "data": {
      "text/plain": [
       "              Path  Indirect Effect  Std. Indirect Effect  Standard Error  \\\n",
       "0  QS -> L (via S)            0.297                 0.337           0.042   \n",
       "1  QF -> L (via S)            0.164                 0.128           0.055   \n",
       "2  QT -> L (via S)            0.119                 0.117           0.035   \n",
       "\n",
       "   z-value  p-value  \n",
       "0     7.01   0.0000  \n",
       "1     2.96   0.0031  \n",
       "2     3.42   0.0006  "
      ],
      "text/html": [
       "<div>\n",
       "<style scoped>\n",
       "    .dataframe tbody tr th:only-of-type {\n",
       "        vertical-align: middle;\n",
       "    }\n",
       "\n",
       "    .dataframe tbody tr th {\n",
       "        vertical-align: top;\n",
       "    }\n",
       "\n",
       "    .dataframe thead th {\n",
       "        text-align: right;\n",
       "    }\n",
       "</style>\n",
       "<table border=\"1\" class=\"dataframe\">\n",
       "  <thead>\n",
       "    <tr style=\"text-align: right;\">\n",
       "      <th></th>\n",
       "      <th>Path</th>\n",
       "      <th>Indirect Effect</th>\n",
       "      <th>Std. Indirect Effect</th>\n",
       "      <th>Standard Error</th>\n",
       "      <th>z-value</th>\n",
       "      <th>p-value</th>\n",
       "    </tr>\n",
       "  </thead>\n",
       "  <tbody>\n",
       "    <tr>\n",
       "      <th>0</th>\n",
       "      <td>QS -&gt; L (via S)</td>\n",
       "      <td>0.297</td>\n",
       "      <td>0.337</td>\n",
       "      <td>0.042</td>\n",
       "      <td>7.01</td>\n",
       "      <td>0.0000</td>\n",
       "    </tr>\n",
       "    <tr>\n",
       "      <th>1</th>\n",
       "      <td>QF -&gt; L (via S)</td>\n",
       "      <td>0.164</td>\n",
       "      <td>0.128</td>\n",
       "      <td>0.055</td>\n",
       "      <td>2.96</td>\n",
       "      <td>0.0031</td>\n",
       "    </tr>\n",
       "    <tr>\n",
       "      <th>2</th>\n",
       "      <td>QT -&gt; L (via S)</td>\n",
       "      <td>0.119</td>\n",
       "      <td>0.117</td>\n",
       "      <td>0.035</td>\n",
       "      <td>3.42</td>\n",
       "      <td>0.0006</td>\n",
       "    </tr>\n",
       "  </tbody>\n",
       "</table>\n",
       "</div>"
      ]
     },
     "execution_count": 17,
     "metadata": {},
     "output_type": "execute_result"
    }
   ],
   "execution_count": 17
  },
  {
   "metadata": {
    "ExecuteTime": {
     "end_time": "2025-07-10T11:19:49.738913Z",
     "start_time": "2025-07-10T11:19:49.735363Z"
    }
   },
   "cell_type": "code",
   "source": [
    "print(f\"R^2(S) = {R2_S:.3f}\")\n",
    "print(f\"R^2(L) = {R2_L:.3f}\")"
   ],
   "id": "33b9a1e886436e2c",
   "outputs": [
    {
     "name": "stdout",
     "output_type": "stream",
     "text": [
      "R^2(S) = 0.548\n",
      "R^2(L) = 0.436\n"
     ]
    }
   ],
   "execution_count": 18
  },
  {
   "metadata": {},
   "cell_type": "markdown",
   "source": [
    "1. H1 - Customer Service Quality (QS) positively influences Satisfaction (S)\n",
    "   1.  Supported: $\\beta = 0.510$, $p < 0.001$\n",
    "2. H2 - Financial Quality (QF) positively influences Satisfaction (S)\n",
    "   1.  Supported: $\\beta = 0.194$, $p < 0.001$\n",
    "3. H3 - Technical quality (QT) positively influences Satisfaction (S)\n",
    "   1.  Supported: $\\beta = 0.178$, $p < 0.001$\n",
    "4. H4 - Satisfaction (S) positively influences Loyalty (L)\n",
    "   1.  Supported: $\\beta = 0.660$, $p < 0.001$\n",
    "\n",
    "Model fit: $\\chi^2$/df = 3.76; CFI = .928; GFI = .904; TLI = .916; RMSEA = .075.\n",
    "All indices meet the conventional good‐fit thresholds (Hu & Bentler, 1999).\n",
    "\n",
    "Explained variance: $R^2$(S) = .578, $R^2$(L) = .436\n",
    "\n",
    "Direct effects:\n",
    "All three quality dimensions (QS, QF, QT) significantly positively influence Satisfaction ($\\beta = 0.510$, $p < 0.001$; $\\beta = 0.194$, $p < 0.001$; $\\beta = 0.178$, $p < 0.001$ respectively), together explaining almost 55% of its variance, thus H1 - H3 are supported.\n",
    "(QS) is the dominant driver ($\\beta$ = 0.510), well above the medium effect benchmark of .30 suggested by Cohen (1988).\n",
    "Satisfaction, in turn, strongly predicts Loyalty (L) ($\\beta$  = 0.660), accounting for 44 % of loyalty variance\n",
    "\n",
    "Indirect effects:\n",
    "QS, QF, and QT all have significant indirect effects on Loyalty through Satisfaction, with the strongest being from QS ($\\beta$ = 0.337, $p < 0.001$), followed by QF ($\\beta$ = 0.128, $p < 0.05$) and QT ($\\beta$ = 0.117, $p < 0.001$)."
   ],
   "id": "8c3e85c036152c4a"
  }
 ],
 "metadata": {
  "kernelspec": {
   "display_name": "Python 3 (ipykernel)",
   "language": "python",
   "name": "python3"
  },
  "language_info": {
   "codemirror_mode": {
    "name": "ipython",
    "version": 3
   },
   "file_extension": ".py",
   "mimetype": "text/x-python",
   "name": "python",
   "nbconvert_exporter": "python",
   "pygments_lexer": "ipython3",
   "version": "3.10.11"
  }
 },
 "nbformat": 4,
 "nbformat_minor": 5
}
