{
 "cells": [
  {
   "cell_type": "markdown",
   "id": "2686fb3a4fefcb90",
   "metadata": {},
   "source": [
    "# Practice 2: Structural Model\n",
    "\n",
    "## Objetives:\n",
    "1. Test the hypothesized model\n",
    "    1. H1 - Customer service quality(QS) positively influences Satisfaction (S)\n",
    "    2. H2 - Financial quality (QF) positively influences Satisfaction (S)\n",
    "    3. H3 - Technical quality (QT) positively influences Satisfaction (S)\n",
    "    4. H4 - Satisfaction (S) positively influences Loyalty (L)\n",
    "2. Report direct and indirect effects"
   ]
  },
  {
   "metadata": {},
   "cell_type": "markdown",
   "source": "## Data Preparation",
   "id": "ff629a8b552f2630"
  },
  {
   "metadata": {
    "ExecuteTime": {
     "end_time": "2025-07-11T13:32:57.314305Z",
     "start_time": "2025-07-11T13:32:56.963478Z"
    }
   },
   "cell_type": "code",
   "source": [
    "import pandas as pd\n",
    "import pyreadstat\n",
    "from pandas.core.interchange.dataframe_protocol import DataFrame\n",
    "\n",
    "raw_data_df, meta = pyreadstat.read_sav(\"../data/EXERCICIO_2025.sav\")\n",
    "raw_data_df.head()"
   ],
   "id": "f76fd2c9f0a24fd4",
   "outputs": [
    {
     "data": {
      "text/plain": [
       "   CASO   f1   f2   f3   f4   f5    f6    f7  P1.1_QA  P1.2_QA  ...   P7  P14  \\\n",
       "0   NaN  1.0  3.0  6.0  1.0  1.0  50.0  18.0      8.0      6.0  ...  3.0  2.0   \n",
       "1   NaN  1.0  1.0  5.0  1.0  1.0  36.0  35.0      8.0      7.0  ...  1.0  1.0   \n",
       "2   NaN  1.0  3.0  5.0  1.0  1.0  72.0  73.0     10.0     10.0  ...  2.0  2.0   \n",
       "3   NaN  1.0  3.0  9.0  1.0  1.0  24.0  27.0      6.0      6.0  ...  1.0  2.0   \n",
       "4   NaN  1.0  4.0  9.0  1.0  1.0  72.0  24.0      2.0      5.0  ...  2.0  1.0   \n",
       "\n",
       "     ltv2  tempo  clsocial  SATIS  LEAL  ATEND        FIN   TEC  \n",
       "0  1373.0   61.0       5.0   6.50   6.2    7.2   9.333333  8.50  \n",
       "1  1002.0   47.0       5.0   5.50   4.4    6.8   6.666667  8.00  \n",
       "2  2097.0   83.0       5.0   7.50   8.0    9.6  10.000000  8.00  \n",
       "3   802.0   35.0       4.0   6.25   6.2    6.4   7.666667  6.50  \n",
       "4  4835.0   78.0       4.0   5.25   4.4    4.4   5.666667  5.75  \n",
       "\n",
       "[5 rows x 45 columns]"
      ],
      "text/html": [
       "<div>\n",
       "<style scoped>\n",
       "    .dataframe tbody tr th:only-of-type {\n",
       "        vertical-align: middle;\n",
       "    }\n",
       "\n",
       "    .dataframe tbody tr th {\n",
       "        vertical-align: top;\n",
       "    }\n",
       "\n",
       "    .dataframe thead th {\n",
       "        text-align: right;\n",
       "    }\n",
       "</style>\n",
       "<table border=\"1\" class=\"dataframe\">\n",
       "  <thead>\n",
       "    <tr style=\"text-align: right;\">\n",
       "      <th></th>\n",
       "      <th>CASO</th>\n",
       "      <th>f1</th>\n",
       "      <th>f2</th>\n",
       "      <th>f3</th>\n",
       "      <th>f4</th>\n",
       "      <th>f5</th>\n",
       "      <th>f6</th>\n",
       "      <th>f7</th>\n",
       "      <th>P1.1_QA</th>\n",
       "      <th>P1.2_QA</th>\n",
       "      <th>...</th>\n",
       "      <th>P7</th>\n",
       "      <th>P14</th>\n",
       "      <th>ltv2</th>\n",
       "      <th>tempo</th>\n",
       "      <th>clsocial</th>\n",
       "      <th>SATIS</th>\n",
       "      <th>LEAL</th>\n",
       "      <th>ATEND</th>\n",
       "      <th>FIN</th>\n",
       "      <th>TEC</th>\n",
       "    </tr>\n",
       "  </thead>\n",
       "  <tbody>\n",
       "    <tr>\n",
       "      <th>0</th>\n",
       "      <td>NaN</td>\n",
       "      <td>1.0</td>\n",
       "      <td>3.0</td>\n",
       "      <td>6.0</td>\n",
       "      <td>1.0</td>\n",
       "      <td>1.0</td>\n",
       "      <td>50.0</td>\n",
       "      <td>18.0</td>\n",
       "      <td>8.0</td>\n",
       "      <td>6.0</td>\n",
       "      <td>...</td>\n",
       "      <td>3.0</td>\n",
       "      <td>2.0</td>\n",
       "      <td>1373.0</td>\n",
       "      <td>61.0</td>\n",
       "      <td>5.0</td>\n",
       "      <td>6.50</td>\n",
       "      <td>6.2</td>\n",
       "      <td>7.2</td>\n",
       "      <td>9.333333</td>\n",
       "      <td>8.50</td>\n",
       "    </tr>\n",
       "    <tr>\n",
       "      <th>1</th>\n",
       "      <td>NaN</td>\n",
       "      <td>1.0</td>\n",
       "      <td>1.0</td>\n",
       "      <td>5.0</td>\n",
       "      <td>1.0</td>\n",
       "      <td>1.0</td>\n",
       "      <td>36.0</td>\n",
       "      <td>35.0</td>\n",
       "      <td>8.0</td>\n",
       "      <td>7.0</td>\n",
       "      <td>...</td>\n",
       "      <td>1.0</td>\n",
       "      <td>1.0</td>\n",
       "      <td>1002.0</td>\n",
       "      <td>47.0</td>\n",
       "      <td>5.0</td>\n",
       "      <td>5.50</td>\n",
       "      <td>4.4</td>\n",
       "      <td>6.8</td>\n",
       "      <td>6.666667</td>\n",
       "      <td>8.00</td>\n",
       "    </tr>\n",
       "    <tr>\n",
       "      <th>2</th>\n",
       "      <td>NaN</td>\n",
       "      <td>1.0</td>\n",
       "      <td>3.0</td>\n",
       "      <td>5.0</td>\n",
       "      <td>1.0</td>\n",
       "      <td>1.0</td>\n",
       "      <td>72.0</td>\n",
       "      <td>73.0</td>\n",
       "      <td>10.0</td>\n",
       "      <td>10.0</td>\n",
       "      <td>...</td>\n",
       "      <td>2.0</td>\n",
       "      <td>2.0</td>\n",
       "      <td>2097.0</td>\n",
       "      <td>83.0</td>\n",
       "      <td>5.0</td>\n",
       "      <td>7.50</td>\n",
       "      <td>8.0</td>\n",
       "      <td>9.6</td>\n",
       "      <td>10.000000</td>\n",
       "      <td>8.00</td>\n",
       "    </tr>\n",
       "    <tr>\n",
       "      <th>3</th>\n",
       "      <td>NaN</td>\n",
       "      <td>1.0</td>\n",
       "      <td>3.0</td>\n",
       "      <td>9.0</td>\n",
       "      <td>1.0</td>\n",
       "      <td>1.0</td>\n",
       "      <td>24.0</td>\n",
       "      <td>27.0</td>\n",
       "      <td>6.0</td>\n",
       "      <td>6.0</td>\n",
       "      <td>...</td>\n",
       "      <td>1.0</td>\n",
       "      <td>2.0</td>\n",
       "      <td>802.0</td>\n",
       "      <td>35.0</td>\n",
       "      <td>4.0</td>\n",
       "      <td>6.25</td>\n",
       "      <td>6.2</td>\n",
       "      <td>6.4</td>\n",
       "      <td>7.666667</td>\n",
       "      <td>6.50</td>\n",
       "    </tr>\n",
       "    <tr>\n",
       "      <th>4</th>\n",
       "      <td>NaN</td>\n",
       "      <td>1.0</td>\n",
       "      <td>4.0</td>\n",
       "      <td>9.0</td>\n",
       "      <td>1.0</td>\n",
       "      <td>1.0</td>\n",
       "      <td>72.0</td>\n",
       "      <td>24.0</td>\n",
       "      <td>2.0</td>\n",
       "      <td>5.0</td>\n",
       "      <td>...</td>\n",
       "      <td>2.0</td>\n",
       "      <td>1.0</td>\n",
       "      <td>4835.0</td>\n",
       "      <td>78.0</td>\n",
       "      <td>4.0</td>\n",
       "      <td>5.25</td>\n",
       "      <td>4.4</td>\n",
       "      <td>4.4</td>\n",
       "      <td>5.666667</td>\n",
       "      <td>5.75</td>\n",
       "    </tr>\n",
       "  </tbody>\n",
       "</table>\n",
       "<p>5 rows × 45 columns</p>\n",
       "</div>"
      ]
     },
     "execution_count": 1,
     "metadata": {},
     "output_type": "execute_result"
    }
   ],
   "execution_count": 1
  },
  {
   "cell_type": "code",
   "id": "17ed44e012385cbc",
   "metadata": {
    "ExecuteTime": {
     "end_time": "2025-07-11T13:32:57.526348Z",
     "start_time": "2025-07-11T13:32:57.516275Z"
    }
   },
   "source": [
    "columns_to_filter = [\n",
    "    'P1.1_QA', 'P1.2_QA', 'P1.3_QA', 'P1.4_QA', 'P1.5_QA', 'P1.15_QA', 'P1.16_QA', 'P1.17_QA',\n",
    "    'P1.6_QC', 'P1.7_QC', 'P1.8_QC', 'P1.9_QC',\n",
    "    'P1.10_QT', 'P1.11_QT', 'P1.12_QT', 'P1.13_QT', 'P1.14_QT',\n",
    "    'P3.1_S', 'P3.2_S', 'P3.3_S', 'P3.4_S',\n",
    "    'P6.1_L', 'P6.2_L', 'P6.3_L', 'P6.4_L', 'P6.5_L', 'P6.6_L'\n",
    "]\n",
    "\n",
    "clean_df = raw_data_df[columns_to_filter].copy()\n",
    "\n",
    "clean_df.rename(columns=lambda c: c.replace('.', '_'), inplace=True)\n",
    "clean_df.rename(columns=lambda c: c.replace('C', 'F'), inplace=True)\n",
    "clean_df.rename(columns=lambda c: c.replace('A', 'S'), inplace=True)\n",
    "print(raw_data_df.shape)\n",
    "print(clean_df.shape)\n",
    "print(clean_df.isnull().sum())"
   ],
   "outputs": [
    {
     "name": "stdout",
     "output_type": "stream",
     "text": [
      "(493, 45)\n",
      "(493, 27)\n",
      "P1_1_QS     0\n",
      "P1_2_QS     0\n",
      "P1_3_QS     0\n",
      "P1_4_QS     0\n",
      "P1_5_QS     0\n",
      "P1_15_QS    0\n",
      "P1_16_QS    0\n",
      "P1_17_QS    0\n",
      "P1_6_QF     0\n",
      "P1_7_QF     0\n",
      "P1_8_QF     0\n",
      "P1_9_QF     0\n",
      "P1_10_QT    0\n",
      "P1_11_QT    0\n",
      "P1_12_QT    0\n",
      "P1_13_QT    0\n",
      "P1_14_QT    0\n",
      "P3_1_S      0\n",
      "P3_2_S      0\n",
      "P3_3_S      0\n",
      "P3_4_S      0\n",
      "P6_1_L      0\n",
      "P6_2_L      0\n",
      "P6_3_L      0\n",
      "P6_4_L      0\n",
      "P6_5_L      0\n",
      "P6_6_L      0\n",
      "dtype: int64\n"
     ]
    }
   ],
   "execution_count": 2
  },
  {
   "metadata": {},
   "cell_type": "markdown",
   "source": "## Refined Model",
   "id": "8fe1806356a370cb"
  },
  {
   "metadata": {},
   "cell_type": "markdown",
   "source": "### Modeling",
   "id": "6200a811b77c579"
  },
  {
   "metadata": {
    "ExecuteTime": {
     "end_time": "2025-07-11T13:32:58.809064Z",
     "start_time": "2025-07-11T13:32:57.572139Z"
    }
   },
   "cell_type": "code",
   "source": [
    "from semopy import Model\n",
    "model_description = \"\"\"\n",
    "QS =~ P1_1_QS + P1_2_QS + P1_4_QS + P1_5_QS + P1_16_QS\n",
    "QF =~ P1_6_QF + P1_7_QF + P1_8_QF\n",
    "QT =~ P1_10_QT + P1_11_QT + P1_12_QT + P1_13_QT\n",
    "S =~ P3_1_S + P3_2_S + P3_3_S + P3_4_S\n",
    "L =~ P6_1_L + P6_2_L + P6_3_L + P6_4_L\n",
    "\n",
    "S ~ QS + QF + QT\n",
    "L ~ S\n",
    "\"\"\"\n",
    "\n",
    "model = Model(model_description)\n",
    "solver_results = model.fit(clean_df)\n",
    "factor_scores = model.predict_factors(clean_df)\n",
    "print(solver_results)"
   ],
   "id": "d5c61aafd873685a",
   "outputs": [
    {
     "name": "stdout",
     "output_type": "stream",
     "text": [
      "Name of objective: MLW\n",
      "Optimization method: SLSQP\n",
      "Optimization successful.\n",
      "Optimization terminated successfully\n",
      "Objective value: 1.244\n",
      "Number of iterations: 46\n",
      "Params: 0.831 1.133 1.116 0.721 1.433 1.266 1.223 1.026 0.988 0.862 1.040 1.049 1.109 0.679 0.961 0.478 0.264 0.192 0.623 1.210 2.412 0.742 1.042 1.589 2.382 1.378 1.787 2.317 1.750 1.686 1.163 3.135 0.686 0.679 0.528 0.852 0.741 1.246 2.662 0.593 1.312 0.921 0.836 2.754 1.148 2.074 1.090\n"
     ]
    }
   ],
   "execution_count": 3
  },
  {
   "metadata": {},
   "cell_type": "markdown",
   "source": [
    "### Model Fit\n",
    "$\\chi^{2} / df < 5$\n",
    "\n",
    "CFI, GFI, TLI > 0.9\n",
    "\n",
    "RMSEA < 0,08"
   ],
   "id": "11d3ed3a7efd0c5a"
  },
  {
   "metadata": {
    "ExecuteTime": {
     "end_time": "2025-07-11T13:32:58.852968Z",
     "start_time": "2025-07-11T13:32:58.838403Z"
    }
   },
   "cell_type": "code",
   "source": [
    "from semopy import calc_stats\n",
    "\n",
    "refined_model_stats = calc_stats(model)\n",
    "refined_model_stats.T.loc[refined_model_stats.T.index.isin(['CFI', 'GFI', 'TLI', 'RMSEA'])]"
   ],
   "id": "4515c1b247104a77",
   "outputs": [
    {
     "data": {
      "text/plain": [
       "          Value\n",
       "CFI    0.927604\n",
       "GFI    0.904315\n",
       "TLI    0.915612\n",
       "RMSEA  0.074924"
      ],
      "text/html": [
       "<div>\n",
       "<style scoped>\n",
       "    .dataframe tbody tr th:only-of-type {\n",
       "        vertical-align: middle;\n",
       "    }\n",
       "\n",
       "    .dataframe tbody tr th {\n",
       "        vertical-align: top;\n",
       "    }\n",
       "\n",
       "    .dataframe thead th {\n",
       "        text-align: right;\n",
       "    }\n",
       "</style>\n",
       "<table border=\"1\" class=\"dataframe\">\n",
       "  <thead>\n",
       "    <tr style=\"text-align: right;\">\n",
       "      <th></th>\n",
       "      <th>Value</th>\n",
       "    </tr>\n",
       "  </thead>\n",
       "  <tbody>\n",
       "    <tr>\n",
       "      <th>CFI</th>\n",
       "      <td>0.927604</td>\n",
       "    </tr>\n",
       "    <tr>\n",
       "      <th>GFI</th>\n",
       "      <td>0.904315</td>\n",
       "    </tr>\n",
       "    <tr>\n",
       "      <th>TLI</th>\n",
       "      <td>0.915612</td>\n",
       "    </tr>\n",
       "    <tr>\n",
       "      <th>RMSEA</th>\n",
       "      <td>0.074924</td>\n",
       "    </tr>\n",
       "  </tbody>\n",
       "</table>\n",
       "</div>"
      ]
     },
     "execution_count": 4,
     "metadata": {},
     "output_type": "execute_result"
    }
   ],
   "execution_count": 4
  },
  {
   "metadata": {
    "ExecuteTime": {
     "end_time": "2025-07-11T13:32:58.947811Z",
     "start_time": "2025-07-11T13:32:58.944726Z"
    }
   },
   "cell_type": "code",
   "source": "print(f\"chi squared/degrees of freedom: {(refined_model_stats['chi2'] / refined_model_stats['DoF']).item():.6f}\")",
   "id": "ce0b01b4e6088e6f",
   "outputs": [
    {
     "name": "stdout",
     "output_type": "stream",
     "text": [
      "chi squared/degrees of freedom: 3.761902\n"
     ]
    }
   ],
   "execution_count": 5
  },
  {
   "metadata": {},
   "cell_type": "markdown",
   "source": "All cutoff criteria are satisfied, indicating a good fit of the model to the data.",
   "id": "a017eae91d120f65"
  },
  {
   "metadata": {},
   "cell_type": "markdown",
   "source": "### Model Graph",
   "id": "cb658f405caa8005"
  },
  {
   "metadata": {
    "ExecuteTime": {
     "end_time": "2025-07-11T13:32:59.302596Z",
     "start_time": "2025-07-11T13:32:58.995130Z"
    }
   },
   "cell_type": "code",
   "source": [
    "from semopy import semplot\n",
    "semplot(model, \"../practice 2/model.png\", std_ests=True, plot_covs=True)"
   ],
   "id": "177324ef4ec92e6f",
   "outputs": [
    {
     "data": {
      "image/svg+xml": "<?xml version=\"1.0\" encoding=\"UTF-8\" standalone=\"no\"?>\n<!DOCTYPE svg PUBLIC \"-//W3C//DTD SVG 1.1//EN\"\n \"http://www.w3.org/Graphics/SVG/1.1/DTD/svg11.dtd\">\n<!-- Generated by graphviz version 12.2.1 (20241206.2353)\n -->\n<!-- Title: G Pages: 1 -->\n<svg width=\"1246pt\" height=\"576pt\"\n viewBox=\"0.00 0.00 1245.50 575.66\" xmlns=\"http://www.w3.org/2000/svg\" xmlns:xlink=\"http://www.w3.org/1999/xlink\">\n<g id=\"graph0\" class=\"graph\" transform=\"scale(1 1) rotate(0) translate(4 571.66)\">\n<title>G</title>\n<polygon fill=\"white\" stroke=\"none\" points=\"-4,4 -4,-571.66 1241.5,-571.66 1241.5,4 -4,4\"/>\n<!-- QT -->\n<g id=\"node1\" class=\"node\">\n<title>QT</title>\n<ellipse fill=\"#cae6df\" stroke=\"black\" cx=\"920.88\" cy=\"-544.46\" rx=\"23.2\" ry=\"23.2\"/>\n<text text-anchor=\"middle\" x=\"920.88\" y=\"-539.41\" font-family=\"Times,serif\" font-size=\"14.00\">QT</text>\n</g>\n<!-- QF -->\n<g id=\"node2\" class=\"node\">\n<title>QF</title>\n<ellipse fill=\"#cae6df\" stroke=\"black\" cx=\"204.88\" cy=\"-324.19\" rx=\"22.69\" ry=\"22.69\"/>\n<text text-anchor=\"middle\" x=\"204.88\" y=\"-319.14\" font-family=\"Times,serif\" font-size=\"14.00\">QF</text>\n</g>\n<!-- QT&#45;&gt;QF -->\n<g id=\"edge26\" class=\"edge\">\n<title>QT&#45;&gt;QF</title>\n<path fill=\"none\" stroke=\"black\" stroke-dasharray=\"5,2\" d=\"M886.68,-537.76C843.01,-530.37 765.14,-516.81 698.88,-503.26 491.24,-460.82 397.28,-529.54 234.88,-393.38 223.99,-384.25 216.92,-370.41 212.4,-357.57\"/>\n<polygon fill=\"black\" stroke=\"black\" points=\"885.86,-541.17 896.31,-539.38 887.03,-534.27 885.86,-541.17\"/>\n<polygon fill=\"black\" stroke=\"black\" points=\"215.79,-356.67 209.5,-348.14 209.1,-358.73 215.79,-356.67\"/>\n<text text-anchor=\"middle\" x=\"355.79\" y=\"-436.92\" font-family=\"Times,serif\" font-size=\"12.00\">0.507</text>\n<text text-anchor=\"middle\" x=\"355.79\" y=\"-422.67\" font-family=\"Times,serif\" font-size=\"12.00\">p&#45;val: 0.00</text>\n</g>\n<!-- QS -->\n<g id=\"node3\" class=\"node\">\n<title>QS</title>\n<ellipse fill=\"#cae6df\" stroke=\"black\" cx=\"577.88\" cy=\"-434.07\" rx=\"22.69\" ry=\"22.69\"/>\n<text text-anchor=\"middle\" x=\"577.88\" y=\"-429.02\" font-family=\"Times,serif\" font-size=\"14.00\">QS</text>\n</g>\n<!-- QT&#45;&gt;QS -->\n<g id=\"edge27\" class=\"edge\">\n<title>QT&#45;&gt;QS</title>\n<path fill=\"none\" stroke=\"black\" stroke-dasharray=\"5,2\" d=\"M887.64,-533.4C861.14,-525.34 823.09,-513.7 789.88,-503.26 726.15,-483.24 651.89,-459.18 610.33,-445.66\"/>\n<polygon fill=\"black\" stroke=\"black\" points=\"886.56,-536.73 897.15,-536.28 888.6,-530.03 886.56,-536.73\"/>\n<polygon fill=\"black\" stroke=\"black\" points=\"611.54,-442.37 600.95,-442.61 609.38,-449.03 611.54,-442.37\"/>\n<text text-anchor=\"middle\" x=\"815.38\" y=\"-491.86\" font-family=\"Times,serif\" font-size=\"12.00\">0.480</text>\n<text text-anchor=\"middle\" x=\"815.38\" y=\"-477.61\" font-family=\"Times,serif\" font-size=\"12.00\">p&#45;val: 0.00</text>\n</g>\n<!-- S -->\n<g id=\"node4\" class=\"node\">\n<title>S</title>\n<ellipse fill=\"#cae6df\" stroke=\"black\" cx=\"339.88\" cy=\"-219\" rx=\"18\" ry=\"18\"/>\n<text text-anchor=\"middle\" x=\"339.88\" y=\"-213.95\" font-family=\"Times,serif\" font-size=\"14.00\">S</text>\n</g>\n<!-- QT&#45;&gt;S -->\n<g id=\"edge3\" class=\"edge\">\n<title>QT&#45;&gt;S</title>\n<path fill=\"none\" stroke=\"black\" d=\"M908.75,-524.52C898.25,-507.4 883.31,-481.2 873.88,-456.76 848.29,-390.49 888.01,-349.76 835.88,-301.5 767.24,-237.97 465.79,-223.69 369.53,-220.72\"/>\n<polygon fill=\"black\" stroke=\"black\" points=\"369.7,-217.23 359.61,-220.44 369.5,-224.23 369.7,-217.23\"/>\n<text text-anchor=\"middle\" x=\"890.34\" y=\"-381.98\" font-family=\"Times,serif\" font-size=\"12.00\">0.178</text>\n<text text-anchor=\"middle\" x=\"890.34\" y=\"-367.73\" font-family=\"Times,serif\" font-size=\"12.00\">p&#45;val: 0.00</text>\n</g>\n<!-- P1_10_QT -->\n<g id=\"node6\" class=\"node\">\n<title>P1_10_QT</title>\n<polygon fill=\"none\" stroke=\"black\" points=\"958.5,-452.07 883.25,-452.07 883.25,-416.07 958.5,-416.07 958.5,-452.07\"/>\n<text text-anchor=\"middle\" x=\"920.88\" y=\"-429.02\" font-family=\"Times,serif\" font-size=\"14.00\">P1_10_QT</text>\n</g>\n<!-- QT&#45;&gt;P1_10_QT -->\n<g id=\"edge13\" class=\"edge\">\n<title>QT&#45;&gt;P1_10_QT</title>\n<path fill=\"none\" stroke=\"black\" d=\"M920.88,-521C920.88,-504.48 920.88,-481.87 920.88,-464\"/>\n<polygon fill=\"black\" stroke=\"black\" points=\"924.38,-464.02 920.88,-454.02 917.38,-464.02 924.38,-464.02\"/>\n<text text-anchor=\"middle\" x=\"934.38\" y=\"-484.74\" font-family=\"Times,serif\" font-size=\"12.00\">0.680</text>\n</g>\n<!-- P1_11_QT -->\n<g id=\"node7\" class=\"node\">\n<title>P1_11_QT</title>\n<polygon fill=\"none\" stroke=\"black\" points=\"1051.5,-452.07 976.25,-452.07 976.25,-416.07 1051.5,-416.07 1051.5,-452.07\"/>\n<text text-anchor=\"middle\" x=\"1013.88\" y=\"-429.02\" font-family=\"Times,serif\" font-size=\"14.00\">P1_11_QT</text>\n</g>\n<!-- QT&#45;&gt;P1_11_QT -->\n<g id=\"edge14\" class=\"edge\">\n<title>QT&#45;&gt;P1_11_QT</title>\n<path fill=\"none\" stroke=\"black\" d=\"M935.41,-526.53C950.54,-508.89 974.42,-481.06 991.87,-460.72\"/>\n<polygon fill=\"black\" stroke=\"black\" points=\"994.3,-463.26 998.15,-453.39 988.99,-458.7 994.3,-463.26\"/>\n<text text-anchor=\"middle\" x=\"1003.94\" y=\"-491.86\" font-family=\"Times,serif\" font-size=\"12.00\">0.898</text>\n<text text-anchor=\"middle\" x=\"1003.94\" y=\"-477.61\" font-family=\"Times,serif\" font-size=\"12.00\">p&#45;val: 0.00</text>\n</g>\n<!-- P1_12_QT -->\n<g id=\"node8\" class=\"node\">\n<title>P1_12_QT</title>\n<polygon fill=\"none\" stroke=\"black\" points=\"1144.5,-452.07 1069.25,-452.07 1069.25,-416.07 1144.5,-416.07 1144.5,-452.07\"/>\n<text text-anchor=\"middle\" x=\"1106.88\" y=\"-429.02\" font-family=\"Times,serif\" font-size=\"14.00\">P1_12_QT</text>\n</g>\n<!-- QT&#45;&gt;P1_12_QT -->\n<g id=\"edge15\" class=\"edge\">\n<title>QT&#45;&gt;P1_12_QT</title>\n<path fill=\"none\" stroke=\"black\" d=\"M943.74,-538.27C967.46,-532.24 1005.06,-520.79 1033.88,-503.26 1052.77,-491.76 1070.96,-474.8 1084.45,-460.67\"/>\n<polygon fill=\"black\" stroke=\"black\" points=\"1086.94,-463.13 1091.18,-453.42 1081.81,-458.37 1086.94,-463.13\"/>\n<text text-anchor=\"middle\" x=\"1093.85\" y=\"-491.86\" font-family=\"Times,serif\" font-size=\"12.00\">0.823</text>\n<text text-anchor=\"middle\" x=\"1093.85\" y=\"-477.61\" font-family=\"Times,serif\" font-size=\"12.00\">p&#45;val: 0.00</text>\n</g>\n<!-- P1_13_QT -->\n<g id=\"node9\" class=\"node\">\n<title>P1_13_QT</title>\n<polygon fill=\"none\" stroke=\"black\" points=\"1237.5,-452.07 1162.25,-452.07 1162.25,-416.07 1237.5,-416.07 1237.5,-452.07\"/>\n<text text-anchor=\"middle\" x=\"1199.88\" y=\"-429.02\" font-family=\"Times,serif\" font-size=\"14.00\">P1_13_QT</text>\n</g>\n<!-- QT&#45;&gt;P1_13_QT -->\n<g id=\"edge16\" class=\"edge\">\n<title>QT&#45;&gt;P1_13_QT</title>\n<path fill=\"none\" stroke=\"black\" d=\"M944.25,-542.74C983.23,-540.69 1063.14,-532.9 1122.88,-503.26 1143.73,-492.91 1163.32,-475.41 1177.52,-460.73\"/>\n<polygon fill=\"black\" stroke=\"black\" points=\"1179.92,-463.29 1184.2,-453.59 1174.81,-458.51 1179.92,-463.29\"/>\n<text text-anchor=\"middle\" x=\"1187.22\" y=\"-491.86\" font-family=\"Times,serif\" font-size=\"12.00\">0.748</text>\n<text text-anchor=\"middle\" x=\"1187.22\" y=\"-477.61\" font-family=\"Times,serif\" font-size=\"12.00\">p&#45;val: 0.00</text>\n</g>\n<!-- QF&#45;&gt;S -->\n<g id=\"edge2\" class=\"edge\">\n<title>QF&#45;&gt;S</title>\n<path fill=\"none\" stroke=\"black\" d=\"M222.54,-309.61C231.66,-302.27 242.76,-292.82 251.88,-283.5 263.26,-271.86 262.35,-265.4 274.88,-255 286.32,-245.5 300.74,-237.42 313.09,-231.43\"/>\n<polygon fill=\"black\" stroke=\"black\" points=\"314.3,-234.73 321.91,-227.35 311.36,-228.37 314.3,-234.73\"/>\n<text text-anchor=\"middle\" x=\"300.38\" y=\"-272.1\" font-family=\"Times,serif\" font-size=\"12.00\">0.194</text>\n<text text-anchor=\"middle\" x=\"300.38\" y=\"-257.85\" font-family=\"Times,serif\" font-size=\"12.00\">p&#45;val: 0.00</text>\n</g>\n<!-- P1_6_QF -->\n<g id=\"node15\" class=\"node\">\n<title>P1_6_QF</title>\n<polygon fill=\"none\" stroke=\"black\" points=\"67.75,-237 0,-237 0,-201 67.75,-201 67.75,-237\"/>\n<text text-anchor=\"middle\" x=\"33.88\" y=\"-213.95\" font-family=\"Times,serif\" font-size=\"14.00\">P1_6_QF</text>\n</g>\n<!-- QF&#45;&gt;P1_6_QF -->\n<g id=\"edge10\" class=\"edge\">\n<title>QF&#45;&gt;P1_6_QF</title>\n<path fill=\"none\" stroke=\"black\" d=\"M182.95,-317.86C160.62,-311.79 125.58,-300.47 98.88,-283.5 82.75,-273.26 67.34,-258.5 55.58,-245.79\"/>\n<polygon fill=\"black\" stroke=\"black\" points=\"58.34,-243.63 49.06,-238.53 53.13,-248.31 58.34,-243.63\"/>\n<text text-anchor=\"middle\" x=\"112.38\" y=\"-264.98\" font-family=\"Times,serif\" font-size=\"12.00\">0.661</text>\n</g>\n<!-- P1_7_QF -->\n<g id=\"node16\" class=\"node\">\n<title>P1_7_QF</title>\n<polygon fill=\"none\" stroke=\"black\" points=\"153.75,-237 86,-237 86,-201 153.75,-201 153.75,-237\"/>\n<text text-anchor=\"middle\" x=\"119.88\" y=\"-213.95\" font-family=\"Times,serif\" font-size=\"14.00\">P1_7_QF</text>\n</g>\n<!-- QF&#45;&gt;P1_7_QF -->\n<g id=\"edge11\" class=\"edge\">\n<title>QF&#45;&gt;P1_7_QF</title>\n<path fill=\"none\" stroke=\"black\" d=\"M184.57,-313.48C172,-306.6 156.32,-296.33 145.88,-283.5 137.49,-273.21 131.48,-259.85 127.37,-248.04\"/>\n<polygon fill=\"black\" stroke=\"black\" points=\"130.79,-247.27 124.44,-238.79 124.12,-249.38 130.79,-247.27\"/>\n<text text-anchor=\"middle\" x=\"171.38\" y=\"-272.1\" font-family=\"Times,serif\" font-size=\"12.00\">0.836</text>\n<text text-anchor=\"middle\" x=\"171.38\" y=\"-257.85\" font-family=\"Times,serif\" font-size=\"12.00\">p&#45;val: 0.00</text>\n</g>\n<!-- P1_8_QF -->\n<g id=\"node17\" class=\"node\">\n<title>P1_8_QF</title>\n<polygon fill=\"none\" stroke=\"black\" points=\"239.75,-237 172,-237 172,-201 239.75,-201 239.75,-237\"/>\n<text text-anchor=\"middle\" x=\"205.88\" y=\"-213.95\" font-family=\"Times,serif\" font-size=\"14.00\">P1_8_QF</text>\n</g>\n<!-- QF&#45;&gt;P1_8_QF -->\n<g id=\"edge12\" class=\"edge\">\n<title>QF&#45;&gt;P1_8_QF</title>\n<path fill=\"none\" stroke=\"black\" d=\"M202.16,-301.38C200.85,-287.99 199.77,-270.5 200.88,-255 201.02,-252.93 201.22,-250.8 201.45,-248.66\"/>\n<polygon fill=\"black\" stroke=\"black\" points=\"204.9,-249.26 202.7,-238.9 197.95,-248.37 204.9,-249.26\"/>\n<text text-anchor=\"middle\" x=\"226.38\" y=\"-272.1\" font-family=\"Times,serif\" font-size=\"12.00\">0.634</text>\n<text text-anchor=\"middle\" x=\"226.38\" y=\"-257.85\" font-family=\"Times,serif\" font-size=\"12.00\">p&#45;val: 0.00</text>\n</g>\n<!-- QS&#45;&gt;QF -->\n<g id=\"edge25\" class=\"edge\">\n<title>QS&#45;&gt;QF</title>\n<path fill=\"none\" stroke=\"black\" stroke-dasharray=\"5,2\" d=\"M543.69,-431.3C474.76,-427.3 321.71,-416.08 274.88,-393.38 255.28,-383.88 237.73,-366.77 225.11,-352.06\"/>\n<polygon fill=\"black\" stroke=\"black\" points=\"543.46,-434.79 553.64,-431.86 543.85,-427.81 543.46,-434.79\"/>\n<polygon fill=\"black\" stroke=\"black\" points=\"227.93,-349.97 218.88,-344.47 222.52,-354.42 227.93,-349.97\"/>\n<text text-anchor=\"middle\" x=\"300.38\" y=\"-381.98\" font-family=\"Times,serif\" font-size=\"12.00\">0.485</text>\n<text text-anchor=\"middle\" x=\"300.38\" y=\"-367.73\" font-family=\"Times,serif\" font-size=\"12.00\">p&#45;val: 0.00</text>\n</g>\n<!-- QS&#45;&gt;S -->\n<g id=\"edge1\" class=\"edge\">\n<title>QS&#45;&gt;S</title>\n<path fill=\"none\" stroke=\"black\" d=\"M554.88,-432.2C507.31,-429.02 398.39,-414.35 348.88,-346.88 327.93,-318.35 329.69,-275.8 333.93,-247.98\"/>\n<polygon fill=\"black\" stroke=\"black\" points=\"337.36,-248.64 335.64,-238.18 330.47,-247.43 337.36,-248.64\"/>\n<text text-anchor=\"middle\" x=\"374.38\" y=\"-327.04\" font-family=\"Times,serif\" font-size=\"12.00\">0.510</text>\n<text text-anchor=\"middle\" x=\"374.38\" y=\"-312.79\" font-family=\"Times,serif\" font-size=\"12.00\">p&#45;val: 0.00</text>\n</g>\n<!-- P1_16_QS -->\n<g id=\"node10\" class=\"node\">\n<title>P1_16_QS</title>\n<polygon fill=\"none\" stroke=\"black\" points=\"483.12,-342.19 408.62,-342.19 408.62,-306.19 483.12,-306.19 483.12,-342.19\"/>\n<text text-anchor=\"middle\" x=\"445.88\" y=\"-319.14\" font-family=\"Times,serif\" font-size=\"14.00\">P1_16_QS</text>\n</g>\n<!-- QS&#45;&gt;P1_16_QS -->\n<g id=\"edge9\" class=\"edge\">\n<title>QS&#45;&gt;P1_16_QS</title>\n<path fill=\"none\" stroke=\"black\" d=\"M556.36,-425.97C538.79,-419.43 513.98,-408.46 495.88,-393.38 481.99,-381.81 469.89,-365.6 461.08,-351.89\"/>\n<polygon fill=\"black\" stroke=\"black\" points=\"464.28,-350.41 456.06,-343.73 458.32,-354.08 464.28,-350.41\"/>\n<text text-anchor=\"middle\" x=\"521.38\" y=\"-381.98\" font-family=\"Times,serif\" font-size=\"12.00\">0.613</text>\n<text text-anchor=\"middle\" x=\"521.38\" y=\"-367.73\" font-family=\"Times,serif\" font-size=\"12.00\">p&#45;val: 0.00</text>\n</g>\n<!-- P1_1_QS -->\n<g id=\"node11\" class=\"node\">\n<title>P1_1_QS</title>\n<polygon fill=\"none\" stroke=\"black\" points=\"568.75,-342.19 501,-342.19 501,-306.19 568.75,-306.19 568.75,-342.19\"/>\n<text text-anchor=\"middle\" x=\"534.88\" y=\"-319.14\" font-family=\"Times,serif\" font-size=\"14.00\">P1_1_QS</text>\n</g>\n<!-- QS&#45;&gt;P1_1_QS -->\n<g id=\"edge5\" class=\"edge\">\n<title>QS&#45;&gt;P1_1_QS</title>\n<path fill=\"none\" stroke=\"black\" d=\"M569.69,-412.53C562.95,-395.64 553.35,-371.55 545.94,-352.95\"/>\n<polygon fill=\"black\" stroke=\"black\" points=\"549.27,-351.86 542.32,-343.86 542.77,-354.45 549.27,-351.86\"/>\n<text text-anchor=\"middle\" x=\"574.99\" y=\"-374.86\" font-family=\"Times,serif\" font-size=\"12.00\">0.816</text>\n</g>\n<!-- P1_2_QS -->\n<g id=\"node12\" class=\"node\">\n<title>P1_2_QS</title>\n<polygon fill=\"none\" stroke=\"black\" points=\"654.75,-342.19 587,-342.19 587,-306.19 654.75,-306.19 654.75,-342.19\"/>\n<text text-anchor=\"middle\" x=\"620.88\" y=\"-319.14\" font-family=\"Times,serif\" font-size=\"14.00\">P1_2_QS</text>\n</g>\n<!-- QS&#45;&gt;P1_2_QS -->\n<g id=\"edge6\" class=\"edge\">\n<title>QS&#45;&gt;P1_2_QS</title>\n<path fill=\"none\" stroke=\"black\" d=\"M586.06,-412.53C592.8,-395.64 602.4,-371.55 609.81,-352.95\"/>\n<polygon fill=\"black\" stroke=\"black\" points=\"612.98,-354.45 613.43,-343.86 606.48,-351.86 612.98,-354.45\"/>\n<text text-anchor=\"middle\" x=\"629.99\" y=\"-381.98\" font-family=\"Times,serif\" font-size=\"12.00\">0.718</text>\n<text text-anchor=\"middle\" x=\"629.99\" y=\"-367.73\" font-family=\"Times,serif\" font-size=\"12.00\">p&#45;val: 0.00</text>\n</g>\n<!-- P1_4_QS -->\n<g id=\"node13\" class=\"node\">\n<title>P1_4_QS</title>\n<polygon fill=\"none\" stroke=\"black\" points=\"740.75,-342.19 673,-342.19 673,-306.19 740.75,-306.19 740.75,-342.19\"/>\n<text text-anchor=\"middle\" x=\"706.88\" y=\"-319.14\" font-family=\"Times,serif\" font-size=\"14.00\">P1_4_QS</text>\n</g>\n<!-- QS&#45;&gt;P1_4_QS -->\n<g id=\"edge7\" class=\"edge\">\n<title>QS&#45;&gt;P1_4_QS</title>\n<path fill=\"none\" stroke=\"black\" d=\"M599.5,-426.11C617.15,-419.65 641.99,-408.72 659.88,-393.38 673.18,-381.97 684.47,-365.96 692.65,-352.32\"/>\n<polygon fill=\"black\" stroke=\"black\" points=\"695.61,-354.2 697.53,-343.78 689.53,-350.73 695.61,-354.2\"/>\n<text text-anchor=\"middle\" x=\"709.13\" y=\"-381.98\" font-family=\"Times,serif\" font-size=\"12.00\">0.777</text>\n<text text-anchor=\"middle\" x=\"709.13\" y=\"-367.73\" font-family=\"Times,serif\" font-size=\"12.00\">p&#45;val: 0.00</text>\n</g>\n<!-- P1_5_QS -->\n<g id=\"node14\" class=\"node\">\n<title>P1_5_QS</title>\n<polygon fill=\"none\" stroke=\"black\" points=\"826.75,-342.19 759,-342.19 759,-306.19 826.75,-306.19 826.75,-342.19\"/>\n<text text-anchor=\"middle\" x=\"792.88\" y=\"-319.14\" font-family=\"Times,serif\" font-size=\"14.00\">P1_5_QS</text>\n</g>\n<!-- QS&#45;&gt;P1_5_QS -->\n<g id=\"edge8\" class=\"edge\">\n<title>QS&#45;&gt;P1_5_QS</title>\n<path fill=\"none\" stroke=\"black\" d=\"M600.77,-432.04C633.74,-429.59 695.41,-421.32 738.88,-393.38 754.98,-383.03 768.37,-366.21 777.79,-351.87\"/>\n<polygon fill=\"black\" stroke=\"black\" points=\"780.55,-354.07 782.86,-343.73 774.6,-350.37 780.55,-354.07\"/>\n<text text-anchor=\"middle\" x=\"793.31\" y=\"-381.98\" font-family=\"Times,serif\" font-size=\"12.00\">0.814</text>\n<text text-anchor=\"middle\" x=\"793.31\" y=\"-367.73\" font-family=\"Times,serif\" font-size=\"12.00\">p&#45;val: 0.00</text>\n</g>\n<!-- L -->\n<g id=\"node5\" class=\"node\">\n<title>L</title>\n<ellipse fill=\"#cae6df\" stroke=\"black\" cx=\"194.88\" cy=\"-118.5\" rx=\"18\" ry=\"18\"/>\n<text text-anchor=\"middle\" x=\"194.88\" y=\"-113.45\" font-family=\"Times,serif\" font-size=\"14.00\">L</text>\n</g>\n<!-- S&#45;&gt;L -->\n<g id=\"edge4\" class=\"edge\">\n<title>S&#45;&gt;L</title>\n<path fill=\"none\" stroke=\"black\" d=\"M321.96,-215.91C299.33,-212.48 260.17,-203.81 233.88,-183 221.67,-173.34 212.32,-158.74 205.84,-145.97\"/>\n<polygon fill=\"black\" stroke=\"black\" points=\"209.14,-144.75 201.72,-137.19 202.8,-147.73 209.14,-144.75\"/>\n<text text-anchor=\"middle\" x=\"259.38\" y=\"-171.6\" font-family=\"Times,serif\" font-size=\"12.00\">0.660</text>\n<text text-anchor=\"middle\" x=\"259.38\" y=\"-157.35\" font-family=\"Times,serif\" font-size=\"12.00\">p&#45;val: 0.00</text>\n</g>\n<!-- P3_1_S -->\n<g id=\"node18\" class=\"node\">\n<title>P3_1_S</title>\n<polygon fill=\"none\" stroke=\"black\" points=\"292.88,-136.5 234.88,-136.5 234.88,-100.5 292.88,-100.5 292.88,-136.5\"/>\n<text text-anchor=\"middle\" x=\"263.88\" y=\"-113.45\" font-family=\"Times,serif\" font-size=\"14.00\">P3_1_S</text>\n</g>\n<!-- S&#45;&gt;P3_1_S -->\n<g id=\"edge17\" class=\"edge\">\n<title>S&#45;&gt;P3_1_S</title>\n<path fill=\"none\" stroke=\"black\" d=\"M328.05,-205.32C322.12,-198.8 314.93,-190.63 308.88,-183 299.49,-171.17 289.73,-157.58 281.7,-146.01\"/>\n<polygon fill=\"black\" stroke=\"black\" points=\"284.82,-144.36 276.27,-138.09 279.05,-148.32 284.82,-144.36\"/>\n<text text-anchor=\"middle\" x=\"322.38\" y=\"-164.47\" font-family=\"Times,serif\" font-size=\"12.00\">0.882</text>\n</g>\n<!-- P3_2_S -->\n<g id=\"node19\" class=\"node\">\n<title>P3_2_S</title>\n<polygon fill=\"none\" stroke=\"black\" points=\"368.88,-136.5 310.88,-136.5 310.88,-100.5 368.88,-100.5 368.88,-136.5\"/>\n<text text-anchor=\"middle\" x=\"339.88\" y=\"-113.45\" font-family=\"Times,serif\" font-size=\"14.00\">P3_2_S</text>\n</g>\n<!-- S&#45;&gt;P3_2_S -->\n<g id=\"edge18\" class=\"edge\">\n<title>S&#45;&gt;P3_2_S</title>\n<path fill=\"none\" stroke=\"black\" d=\"M339.88,-200.84C339.88,-186.24 339.88,-164.98 339.88,-147.85\"/>\n<polygon fill=\"black\" stroke=\"black\" points=\"343.38,-148.3 339.88,-138.3 336.38,-148.3 343.38,-148.3\"/>\n<text text-anchor=\"middle\" x=\"365.38\" y=\"-171.6\" font-family=\"Times,serif\" font-size=\"12.00\">0.852</text>\n<text text-anchor=\"middle\" x=\"365.38\" y=\"-157.35\" font-family=\"Times,serif\" font-size=\"12.00\">p&#45;val: 0.00</text>\n</g>\n<!-- P3_3_S -->\n<g id=\"node20\" class=\"node\">\n<title>P3_3_S</title>\n<polygon fill=\"none\" stroke=\"black\" points=\"444.88,-136.5 386.88,-136.5 386.88,-100.5 444.88,-100.5 444.88,-136.5\"/>\n<text text-anchor=\"middle\" x=\"415.88\" y=\"-113.45\" font-family=\"Times,serif\" font-size=\"14.00\">P3_3_S</text>\n</g>\n<!-- S&#45;&gt;P3_3_S -->\n<g id=\"edge19\" class=\"edge\">\n<title>S&#45;&gt;P3_3_S</title>\n<path fill=\"none\" stroke=\"black\" d=\"M356.39,-210.91C368.33,-205.02 384.02,-195.58 393.88,-183 401.81,-172.87 406.99,-159.69 410.32,-147.97\"/>\n<polygon fill=\"black\" stroke=\"black\" points=\"413.69,-148.91 412.7,-138.36 406.89,-147.22 413.69,-148.91\"/>\n<text text-anchor=\"middle\" x=\"433.46\" y=\"-171.6\" font-family=\"Times,serif\" font-size=\"12.00\">0.912</text>\n<text text-anchor=\"middle\" x=\"433.46\" y=\"-157.35\" font-family=\"Times,serif\" font-size=\"12.00\">p&#45;val: 0.00</text>\n</g>\n<!-- P3_4_S -->\n<g id=\"node21\" class=\"node\">\n<title>P3_4_S</title>\n<polygon fill=\"none\" stroke=\"black\" points=\"520.88,-136.5 462.88,-136.5 462.88,-100.5 520.88,-100.5 520.88,-136.5\"/>\n<text text-anchor=\"middle\" x=\"491.88\" y=\"-113.45\" font-family=\"Times,serif\" font-size=\"14.00\">P3_4_S</text>\n</g>\n<!-- S&#45;&gt;P3_4_S -->\n<g id=\"edge20\" class=\"edge\">\n<title>S&#45;&gt;P3_4_S</title>\n<path fill=\"none\" stroke=\"black\" d=\"M357.95,-217.46C384.07,-215.77 432.56,-209.04 462.88,-183 473.5,-173.87 480.45,-160.03 484.86,-147.61\"/>\n<polygon fill=\"black\" stroke=\"black\" points=\"488.16,-148.8 487.8,-138.21 481.48,-146.71 488.16,-148.8\"/>\n<text text-anchor=\"middle\" x=\"507.35\" y=\"-171.6\" font-family=\"Times,serif\" font-size=\"12.00\">0.870</text>\n<text text-anchor=\"middle\" x=\"507.35\" y=\"-157.35\" font-family=\"Times,serif\" font-size=\"12.00\">p&#45;val: 0.00</text>\n</g>\n<!-- P6_1_L -->\n<g id=\"node22\" class=\"node\">\n<title>P6_1_L</title>\n<polygon fill=\"none\" stroke=\"black\" points=\"109.25,-36 50.5,-36 50.5,0 109.25,0 109.25,-36\"/>\n<text text-anchor=\"middle\" x=\"79.88\" y=\"-12.95\" font-family=\"Times,serif\" font-size=\"14.00\">P6_1_L</text>\n</g>\n<!-- L&#45;&gt;P6_1_L -->\n<g id=\"edge21\" class=\"edge\">\n<title>L&#45;&gt;P6_1_L</title>\n<path fill=\"none\" stroke=\"black\" d=\"M177.68,-111.84C162.34,-106.18 139.91,-96.32 123.88,-82.5 112.13,-72.37 102.02,-58.44 94.46,-46.21\"/>\n<polygon fill=\"black\" stroke=\"black\" points=\"97.58,-44.61 89.5,-37.75 91.54,-48.15 97.58,-44.61\"/>\n<text text-anchor=\"middle\" x=\"137.38\" y=\"-63.98\" font-family=\"Times,serif\" font-size=\"12.00\">0.862</text>\n</g>\n<!-- P6_2_L -->\n<g id=\"node23\" class=\"node\">\n<title>P6_2_L</title>\n<polygon fill=\"none\" stroke=\"black\" points=\"186.25,-36 127.5,-36 127.5,0 186.25,0 186.25,-36\"/>\n<text text-anchor=\"middle\" x=\"156.88\" y=\"-12.95\" font-family=\"Times,serif\" font-size=\"14.00\">P6_2_L</text>\n</g>\n<!-- L&#45;&gt;P6_2_L -->\n<g id=\"edge22\" class=\"edge\">\n<title>L&#45;&gt;P6_2_L</title>\n<path fill=\"none\" stroke=\"black\" d=\"M180.82,-107.14C173.5,-100.89 165.2,-92.26 160.88,-82.5 156.14,-71.82 154.64,-59.13 154.5,-47.91\"/>\n<polygon fill=\"black\" stroke=\"black\" points=\"158,-48.08 154.76,-37.99 151,-47.89 158,-48.08\"/>\n<text text-anchor=\"middle\" x=\"186.38\" y=\"-71.1\" font-family=\"Times,serif\" font-size=\"12.00\">0.824</text>\n<text text-anchor=\"middle\" x=\"186.38\" y=\"-56.85\" font-family=\"Times,serif\" font-size=\"12.00\">p&#45;val: 0.00</text>\n</g>\n<!-- P6_3_L -->\n<g id=\"node24\" class=\"node\">\n<title>P6_3_L</title>\n<polygon fill=\"none\" stroke=\"black\" points=\"263.25,-36 204.5,-36 204.5,0 263.25,0 263.25,-36\"/>\n<text text-anchor=\"middle\" x=\"233.88\" y=\"-12.95\" font-family=\"Times,serif\" font-size=\"14.00\">P6_3_L</text>\n</g>\n<!-- L&#45;&gt;P6_3_L -->\n<g id=\"edge23\" class=\"edge\">\n<title>L&#45;&gt;P6_3_L</title>\n<path fill=\"none\" stroke=\"black\" d=\"M202.89,-102C205.88,-95.98 209.19,-88.99 211.88,-82.5 216.58,-71.14 221.14,-58.37 224.88,-47.28\"/>\n<polygon fill=\"black\" stroke=\"black\" points=\"228.17,-48.49 227.97,-37.89 221.52,-46.3 228.17,-48.49\"/>\n<text text-anchor=\"middle\" x=\"247.77\" y=\"-71.1\" font-family=\"Times,serif\" font-size=\"12.00\">0.521</text>\n<text text-anchor=\"middle\" x=\"247.77\" y=\"-56.85\" font-family=\"Times,serif\" font-size=\"12.00\">p&#45;val: 0.00</text>\n</g>\n<!-- P6_4_L -->\n<g id=\"node25\" class=\"node\">\n<title>P6_4_L</title>\n<polygon fill=\"none\" stroke=\"black\" points=\"340.25,-36 281.5,-36 281.5,0 340.25,0 340.25,-36\"/>\n<text text-anchor=\"middle\" x=\"310.88\" y=\"-12.95\" font-family=\"Times,serif\" font-size=\"14.00\">P6_4_L</text>\n</g>\n<!-- L&#45;&gt;P6_4_L -->\n<g id=\"edge24\" class=\"edge\">\n<title>L&#45;&gt;P6_4_L</title>\n<path fill=\"none\" stroke=\"black\" d=\"M210.08,-108.52C215.03,-105.77 220.61,-102.86 225.88,-100.5 247.82,-90.69 258.63,-98.15 276.88,-82.5 287.88,-73.05 295.9,-59.13 301.37,-46.72\"/>\n<polygon fill=\"black\" stroke=\"black\" points=\"304.49,-48.35 304.97,-37.77 297.99,-45.74 304.49,-48.35\"/>\n<text text-anchor=\"middle\" x=\"323.17\" y=\"-71.1\" font-family=\"Times,serif\" font-size=\"12.00\">0.877</text>\n<text text-anchor=\"middle\" x=\"323.17\" y=\"-56.85\" font-family=\"Times,serif\" font-size=\"12.00\">p&#45;val: 0.00</text>\n</g>\n</g>\n</svg>\n",
      "text/plain": [
       "<graphviz.graphs.Digraph at 0x107d396c0>"
      ]
     },
     "execution_count": 6,
     "metadata": {},
     "output_type": "execute_result"
    }
   ],
   "execution_count": 6
  },
  {
   "metadata": {},
   "cell_type": "markdown",
   "source": [
    "### R squared\n",
    "Computes $R^2$ for Satisfaction (S) and Loyalty (L) using the standardized betas\n",
    "\n",
    "$R^2 = 1 - \\frac{\\sigma^2(residual)}{\\sigma^2(total)}$\n",
    "\n",
    "Hayes, T. (2021). R-squared change in structural equation models with latent variables and missing data. Behavior Research Methods, 53(5), 2127–2157. https://doi.org/10.3758/s13428-020-01532-y\n"
   ],
   "id": "a2387786e1f87d99"
  },
  {
   "metadata": {
    "ExecuteTime": {
     "end_time": "2025-07-11T13:32:59.358145Z",
     "start_time": "2025-07-11T13:32:59.344744Z"
    }
   },
   "cell_type": "code",
   "source": [
    "paths = (model.inspect(std_est=True)\n",
    "             .query(\"op == '~'\")\n",
    "             .set_index(['lval','rval']))"
   ],
   "id": "2b1aad805e82e484",
   "outputs": [],
   "execution_count": 7
  },
  {
   "metadata": {
    "ExecuteTime": {
     "end_time": "2025-07-11T13:32:59.385856Z",
     "start_time": "2025-07-11T13:32:59.377795Z"
    }
   },
   "cell_type": "code",
   "source": [
    "import numpy as np\n",
    "\n",
    "def compute_R_squared(\n",
    "        structural_model: \"semopy.Model\",\n",
    "        latent_variable: str\n",
    ") -> float:\n",
    "    estimated_matrices = structural_model.inspect(mode='mx')\n",
    "\n",
    "    beta_matrix = estimated_matrices['Beta']\n",
    "    residual_variance_matrix = estimated_matrices['Psi']\n",
    "\n",
    "    latent_variable_names = list(beta_matrix.index)\n",
    "    if latent_variable not in latent_variable_names:\n",
    "        raise ValueError(f\"The latent variable '{latent_variable}' was not found in the Beta matrix.\")\n",
    "\n",
    "    latent_variable_index = latent_variable_names.index(latent_variable)\n",
    "\n",
    "    identity_matrix = np.eye(beta_matrix.shape[0])\n",
    "    inverse_identity_minus_beta = np.linalg.inv(\n",
    "        identity_matrix - beta_matrix.values\n",
    "    )\n",
    "\n",
    "    total_latent_covariance_matrix = (\n",
    "        inverse_identity_minus_beta\n",
    "        @ residual_variance_matrix.values\n",
    "        @ inverse_identity_minus_beta.T\n",
    "    )\n",
    "\n",
    "    total_variance = total_latent_covariance_matrix[latent_variable_index, latent_variable_index]\n",
    "\n",
    "    residual_variance = (\n",
    "        residual_variance_matrix\n",
    "        .values[latent_variable_index, latent_variable_index]\n",
    "    )\n",
    "\n",
    "    return 1 - (residual_variance / total_variance)"
   ],
   "id": "3e1d1de35ab25d68",
   "outputs": [],
   "execution_count": 8
  },
  {
   "metadata": {
    "ExecuteTime": {
     "end_time": "2025-07-11T13:32:59.432005Z",
     "start_time": "2025-07-11T13:32:59.411223Z"
    }
   },
   "cell_type": "code",
   "source": [
    "R2_S = compute_R_squared(model, \"S\")\n",
    "R2_S"
   ],
   "id": "672cef7d861eccd9",
   "outputs": [
    {
     "data": {
      "text/plain": [
       "np.float64(0.5479682141350541)"
      ]
     },
     "execution_count": 9,
     "metadata": {},
     "output_type": "execute_result"
    }
   ],
   "execution_count": 9
  },
  {
   "metadata": {
    "ExecuteTime": {
     "end_time": "2025-07-11T13:32:59.481365Z",
     "start_time": "2025-07-11T13:32:59.468585Z"
    }
   },
   "cell_type": "code",
   "source": [
    "R2_L = compute_R_squared(model, \"L\")\n",
    "R2_L"
   ],
   "id": "4622c4bae77a2890",
   "outputs": [
    {
     "data": {
      "text/plain": [
       "np.float64(0.4358674480103064)"
      ]
     },
     "execution_count": 10,
     "metadata": {},
     "output_type": "execute_result"
    }
   ],
   "execution_count": 10
  },
  {
   "metadata": {},
   "cell_type": "markdown",
   "source": "### Direct Effects",
   "id": "fc98f2ba48f54b78"
  },
  {
   "metadata": {
    "ExecuteTime": {
     "end_time": "2025-07-11T13:32:59.529854Z",
     "start_time": "2025-07-11T13:32:59.509726Z"
    }
   },
   "cell_type": "code",
   "source": [
    "raw_item_estimates = (\n",
    "    model.inspect(std_est=True)\n",
    "         .query(\"op == '~' and not lval.str.startswith('P')\")\n",
    ")\n",
    "direct_effects_df = (\n",
    "    raw_item_estimates\n",
    "    .loc[:, ['lval','rval', 'Est. Std', 'Estimate','p-value', 'z-value']]\n",
    "    .rename(columns={\n",
    "        'lval': 'Outcome',\n",
    "        'rval': 'Predictor',\n",
    "        'Estimate': 'beta',\n",
    "        'Est. Std': 'beta_std',\n",
    "    })\n",
    "    .sort_values(by='beta_std')\n",
    ")\n",
    "direct_effects_df['hypothesis_result'] = direct_effects_df.apply(\n",
    "    lambda row: 'Supported' if row['p-value'] < 0.05 else 'Not Supported',\n",
    "    axis=1\n",
    ")"
   ],
   "id": "dbfe6ff8f657a5df",
   "outputs": [],
   "execution_count": 11
  },
  {
   "metadata": {
    "ExecuteTime": {
     "end_time": "2025-07-11T13:32:59.548115Z",
     "start_time": "2025-07-11T13:32:59.539302Z"
    }
   },
   "cell_type": "code",
   "source": [
    "direct_effects_df['p-value'] = (\n",
    "    direct_effects_df['p-value'].astype(float)\n",
    ")\n",
    "direct_effects_df['z-value'] = (\n",
    "    direct_effects_df['z-value'].astype(float)\n",
    ")\n",
    "\n",
    "direct_effects_df = direct_effects_df.round(3)\n",
    "direct_effects_df"
   ],
   "id": "88b5d7ea3cf3856f",
   "outputs": [
    {
     "data": {
      "text/plain": [
       "  Outcome Predictor  beta_std   beta  p-value  z-value hypothesis_result\n",
       "2       S        QT     0.178  0.192      0.0    3.748         Supported\n",
       "1       S        QF     0.194  0.264      0.0    3.788         Supported\n",
       "0       S        QS     0.510  0.478      0.0   10.199         Supported\n",
       "3       L         S     0.660  0.623      0.0   14.720         Supported"
      ],
      "text/html": [
       "<div>\n",
       "<style scoped>\n",
       "    .dataframe tbody tr th:only-of-type {\n",
       "        vertical-align: middle;\n",
       "    }\n",
       "\n",
       "    .dataframe tbody tr th {\n",
       "        vertical-align: top;\n",
       "    }\n",
       "\n",
       "    .dataframe thead th {\n",
       "        text-align: right;\n",
       "    }\n",
       "</style>\n",
       "<table border=\"1\" class=\"dataframe\">\n",
       "  <thead>\n",
       "    <tr style=\"text-align: right;\">\n",
       "      <th></th>\n",
       "      <th>Outcome</th>\n",
       "      <th>Predictor</th>\n",
       "      <th>beta_std</th>\n",
       "      <th>beta</th>\n",
       "      <th>p-value</th>\n",
       "      <th>z-value</th>\n",
       "      <th>hypothesis_result</th>\n",
       "    </tr>\n",
       "  </thead>\n",
       "  <tbody>\n",
       "    <tr>\n",
       "      <th>2</th>\n",
       "      <td>S</td>\n",
       "      <td>QT</td>\n",
       "      <td>0.178</td>\n",
       "      <td>0.192</td>\n",
       "      <td>0.0</td>\n",
       "      <td>3.748</td>\n",
       "      <td>Supported</td>\n",
       "    </tr>\n",
       "    <tr>\n",
       "      <th>1</th>\n",
       "      <td>S</td>\n",
       "      <td>QF</td>\n",
       "      <td>0.194</td>\n",
       "      <td>0.264</td>\n",
       "      <td>0.0</td>\n",
       "      <td>3.788</td>\n",
       "      <td>Supported</td>\n",
       "    </tr>\n",
       "    <tr>\n",
       "      <th>0</th>\n",
       "      <td>S</td>\n",
       "      <td>QS</td>\n",
       "      <td>0.510</td>\n",
       "      <td>0.478</td>\n",
       "      <td>0.0</td>\n",
       "      <td>10.199</td>\n",
       "      <td>Supported</td>\n",
       "    </tr>\n",
       "    <tr>\n",
       "      <th>3</th>\n",
       "      <td>L</td>\n",
       "      <td>S</td>\n",
       "      <td>0.660</td>\n",
       "      <td>0.623</td>\n",
       "      <td>0.0</td>\n",
       "      <td>14.720</td>\n",
       "      <td>Supported</td>\n",
       "    </tr>\n",
       "  </tbody>\n",
       "</table>\n",
       "</div>"
      ]
     },
     "execution_count": 12,
     "metadata": {},
     "output_type": "execute_result"
    }
   ],
   "execution_count": 12
  },
  {
   "metadata": {},
   "cell_type": "markdown",
   "source": "### Indirect Effects",
   "id": "d687aac292c0f01f"
  },
  {
   "metadata": {
    "ExecuteTime": {
     "end_time": "2025-07-11T13:32:59.657999Z",
     "start_time": "2025-07-11T13:32:59.603083Z"
    }
   },
   "cell_type": "code",
   "source": [
    "paths = (\n",
    "    model.inspect(std_est=True, se_robust=True)\n",
    "         .query(\"op == '~'\")\n",
    "         .set_index(['lval', 'rval'])\n",
    ")"
   ],
   "id": "4f354832aa57c81c",
   "outputs": [],
   "execution_count": 13
  },
  {
   "metadata": {},
   "cell_type": "markdown",
   "source": "#### Mediator-to-outcome path (M -> Y)",
   "id": "5b3d76f3860157e9"
  },
  {
   "metadata": {
    "ExecuteTime": {
     "end_time": "2025-07-11T13:32:59.720491Z",
     "start_time": "2025-07-11T13:32:59.715561Z"
    }
   },
   "cell_type": "code",
   "source": [
    "b_path_coefficient = float(\n",
    "    paths.loc[('L', 'S'), 'Estimate']\n",
    ")\n",
    "b_path_standardized_coefficient = float(\n",
    "    paths.loc[('L', 'S'), 'Est. Std']\n",
    ")\n",
    "b_path_standard_error = float(\n",
    "    paths.loc[('L', 'S'), 'Std. Err']\n",
    ")"
   ],
   "id": "ae9edb91f7dadef",
   "outputs": [],
   "execution_count": 14
  },
  {
   "metadata": {},
   "cell_type": "markdown",
   "source": [
    "#### Predictor-to-mediator paths (X -> M)\n",
    "\n",
    "Sobel's z test for mediation is calculated as:\n",
    "\n",
    "$Z = \\frac{a \\cdot b}{SE_{ab}}\n",
    "= \\frac{a \\cdot b}{\\sqrt{b^2 \\cdot SE_a^2 + a^2 \\cdot SE_b^2}}$\n",
    "\n",
    "Where:\n",
    "- a = path coefficient from X -> M\n",
    "- b = path coefficient from M -> Y\n",
    "- $SE_a$ = standard error of a\n",
    "- $SE_b$ = standard error of b\n",
    "\n",
    "Abu-Bader, S., & Jones, T. V. (2021). Statistical mediation analysis using the Sobel test and Hayes SPSS Process Macro. International Journal of Quantitative and Qualitative Research Methods, 9(1), 42–61."
   ],
   "id": "9fd2c668d8e2be8d"
  },
  {
   "metadata": {
    "ExecuteTime": {
     "end_time": "2025-07-11T13:32:59.779391Z",
     "start_time": "2025-07-11T13:32:59.769249Z"
    }
   },
   "cell_type": "code",
   "source": [
    "import math\n",
    "from scipy.stats import norm\n",
    "\n",
    "results = []\n",
    "for predictor in ['QS', 'QF', 'QT']:\n",
    "    a_path_coefficient = float(\n",
    "        paths.loc[('S', predictor), 'Estimate']\n",
    "    )\n",
    "    a_standardized_path_coefficient = float(\n",
    "        paths.loc[('S', predictor), 'Est. Std']\n",
    "    )\n",
    "    a_path_standard_error = float(\n",
    "        paths.loc[('S', predictor), 'Std. Err']\n",
    "    )\n",
    "\n",
    "    # Indirect effect = a * b\n",
    "    indirect_effect = a_path_coefficient * b_path_coefficient\n",
    "    standardized_indirect_effect = (\n",
    "        a_standardized_path_coefficient * b_path_standardized_coefficient\n",
    "    )\n",
    "\n",
    "    # Sobel standard error: sqrt(b^2 * SE_a^2 + a^2 * SE_b^2)\n",
    "    indirect_se = math.sqrt(\n",
    "        (b_path_coefficient ** 2) * (a_path_standard_error ** 2) +\n",
    "        (a_path_coefficient ** 2) * (b_path_standard_error ** 2)\n",
    "    )\n",
    "\n",
    "    z_value = indirect_effect / indirect_se\n",
    "    p_value = 2 * (1 - norm.cdf(abs(z_value)))\n",
    "\n",
    "    results.append({\n",
    "        'Path': f'{predictor} -> L (via S)',\n",
    "        'Indirect Effect': round(indirect_effect, 3),\n",
    "        'Std. Indirect Effect': round(standardized_indirect_effect, 3),\n",
    "        'Standard Error':  round(indirect_se, 3),\n",
    "        'z-value':         round(z_value, 2),\n",
    "        'p-value':         round(p_value, 4)\n",
    "    })"
   ],
   "id": "df700ae8d203492e",
   "outputs": [],
   "execution_count": 15
  },
  {
   "metadata": {
    "ExecuteTime": {
     "end_time": "2025-07-11T13:32:59.822118Z",
     "start_time": "2025-07-11T13:32:59.811009Z"
    }
   },
   "cell_type": "code",
   "source": [
    "indirect_effects_df = pd.DataFrame(results)\n",
    "indirect_effects_df = indirect_effects_df.round(3)\n",
    "indirect_effects_df"
   ],
   "id": "f19c2530b4691973",
   "outputs": [
    {
     "data": {
      "text/plain": [
       "              Path  Indirect Effect  Std. Indirect Effect  Standard Error  \\\n",
       "0  QS -> L (via S)            0.297                 0.337           0.042   \n",
       "1  QF -> L (via S)            0.164                 0.128           0.055   \n",
       "2  QT -> L (via S)            0.119                 0.117           0.035   \n",
       "\n",
       "   z-value  p-value  \n",
       "0     7.01    0.000  \n",
       "1     2.96    0.003  \n",
       "2     3.42    0.001  "
      ],
      "text/html": [
       "<div>\n",
       "<style scoped>\n",
       "    .dataframe tbody tr th:only-of-type {\n",
       "        vertical-align: middle;\n",
       "    }\n",
       "\n",
       "    .dataframe tbody tr th {\n",
       "        vertical-align: top;\n",
       "    }\n",
       "\n",
       "    .dataframe thead th {\n",
       "        text-align: right;\n",
       "    }\n",
       "</style>\n",
       "<table border=\"1\" class=\"dataframe\">\n",
       "  <thead>\n",
       "    <tr style=\"text-align: right;\">\n",
       "      <th></th>\n",
       "      <th>Path</th>\n",
       "      <th>Indirect Effect</th>\n",
       "      <th>Std. Indirect Effect</th>\n",
       "      <th>Standard Error</th>\n",
       "      <th>z-value</th>\n",
       "      <th>p-value</th>\n",
       "    </tr>\n",
       "  </thead>\n",
       "  <tbody>\n",
       "    <tr>\n",
       "      <th>0</th>\n",
       "      <td>QS -&gt; L (via S)</td>\n",
       "      <td>0.297</td>\n",
       "      <td>0.337</td>\n",
       "      <td>0.042</td>\n",
       "      <td>7.01</td>\n",
       "      <td>0.000</td>\n",
       "    </tr>\n",
       "    <tr>\n",
       "      <th>1</th>\n",
       "      <td>QF -&gt; L (via S)</td>\n",
       "      <td>0.164</td>\n",
       "      <td>0.128</td>\n",
       "      <td>0.055</td>\n",
       "      <td>2.96</td>\n",
       "      <td>0.003</td>\n",
       "    </tr>\n",
       "    <tr>\n",
       "      <th>2</th>\n",
       "      <td>QT -&gt; L (via S)</td>\n",
       "      <td>0.119</td>\n",
       "      <td>0.117</td>\n",
       "      <td>0.035</td>\n",
       "      <td>3.42</td>\n",
       "      <td>0.001</td>\n",
       "    </tr>\n",
       "  </tbody>\n",
       "</table>\n",
       "</div>"
      ]
     },
     "execution_count": 16,
     "metadata": {},
     "output_type": "execute_result"
    }
   ],
   "execution_count": 16
  },
  {
   "metadata": {},
   "cell_type": "markdown",
   "source": "# Final Analysis",
   "id": "ddb1d1d79d3048e3"
  },
  {
   "metadata": {
    "ExecuteTime": {
     "end_time": "2025-07-11T13:32:59.895028Z",
     "start_time": "2025-07-11T13:32:59.887858Z"
    }
   },
   "cell_type": "code",
   "source": "direct_effects_df",
   "id": "f6fc68406e9932c3",
   "outputs": [
    {
     "data": {
      "text/plain": [
       "  Outcome Predictor  beta_std   beta  p-value  z-value hypothesis_result\n",
       "2       S        QT     0.178  0.192      0.0    3.748         Supported\n",
       "1       S        QF     0.194  0.264      0.0    3.788         Supported\n",
       "0       S        QS     0.510  0.478      0.0   10.199         Supported\n",
       "3       L         S     0.660  0.623      0.0   14.720         Supported"
      ],
      "text/html": [
       "<div>\n",
       "<style scoped>\n",
       "    .dataframe tbody tr th:only-of-type {\n",
       "        vertical-align: middle;\n",
       "    }\n",
       "\n",
       "    .dataframe tbody tr th {\n",
       "        vertical-align: top;\n",
       "    }\n",
       "\n",
       "    .dataframe thead th {\n",
       "        text-align: right;\n",
       "    }\n",
       "</style>\n",
       "<table border=\"1\" class=\"dataframe\">\n",
       "  <thead>\n",
       "    <tr style=\"text-align: right;\">\n",
       "      <th></th>\n",
       "      <th>Outcome</th>\n",
       "      <th>Predictor</th>\n",
       "      <th>beta_std</th>\n",
       "      <th>beta</th>\n",
       "      <th>p-value</th>\n",
       "      <th>z-value</th>\n",
       "      <th>hypothesis_result</th>\n",
       "    </tr>\n",
       "  </thead>\n",
       "  <tbody>\n",
       "    <tr>\n",
       "      <th>2</th>\n",
       "      <td>S</td>\n",
       "      <td>QT</td>\n",
       "      <td>0.178</td>\n",
       "      <td>0.192</td>\n",
       "      <td>0.0</td>\n",
       "      <td>3.748</td>\n",
       "      <td>Supported</td>\n",
       "    </tr>\n",
       "    <tr>\n",
       "      <th>1</th>\n",
       "      <td>S</td>\n",
       "      <td>QF</td>\n",
       "      <td>0.194</td>\n",
       "      <td>0.264</td>\n",
       "      <td>0.0</td>\n",
       "      <td>3.788</td>\n",
       "      <td>Supported</td>\n",
       "    </tr>\n",
       "    <tr>\n",
       "      <th>0</th>\n",
       "      <td>S</td>\n",
       "      <td>QS</td>\n",
       "      <td>0.510</td>\n",
       "      <td>0.478</td>\n",
       "      <td>0.0</td>\n",
       "      <td>10.199</td>\n",
       "      <td>Supported</td>\n",
       "    </tr>\n",
       "    <tr>\n",
       "      <th>3</th>\n",
       "      <td>L</td>\n",
       "      <td>S</td>\n",
       "      <td>0.660</td>\n",
       "      <td>0.623</td>\n",
       "      <td>0.0</td>\n",
       "      <td>14.720</td>\n",
       "      <td>Supported</td>\n",
       "    </tr>\n",
       "  </tbody>\n",
       "</table>\n",
       "</div>"
      ]
     },
     "execution_count": 17,
     "metadata": {},
     "output_type": "execute_result"
    }
   ],
   "execution_count": 17
  },
  {
   "metadata": {
    "ExecuteTime": {
     "end_time": "2025-07-11T13:33:00.066477Z",
     "start_time": "2025-07-11T13:33:00.049511Z"
    }
   },
   "cell_type": "code",
   "source": "indirect_effects_df",
   "id": "a86883846e4e9363",
   "outputs": [
    {
     "data": {
      "text/plain": [
       "              Path  Indirect Effect  Std. Indirect Effect  Standard Error  \\\n",
       "0  QS -> L (via S)            0.297                 0.337           0.042   \n",
       "1  QF -> L (via S)            0.164                 0.128           0.055   \n",
       "2  QT -> L (via S)            0.119                 0.117           0.035   \n",
       "\n",
       "   z-value  p-value  \n",
       "0     7.01    0.000  \n",
       "1     2.96    0.003  \n",
       "2     3.42    0.001  "
      ],
      "text/html": [
       "<div>\n",
       "<style scoped>\n",
       "    .dataframe tbody tr th:only-of-type {\n",
       "        vertical-align: middle;\n",
       "    }\n",
       "\n",
       "    .dataframe tbody tr th {\n",
       "        vertical-align: top;\n",
       "    }\n",
       "\n",
       "    .dataframe thead th {\n",
       "        text-align: right;\n",
       "    }\n",
       "</style>\n",
       "<table border=\"1\" class=\"dataframe\">\n",
       "  <thead>\n",
       "    <tr style=\"text-align: right;\">\n",
       "      <th></th>\n",
       "      <th>Path</th>\n",
       "      <th>Indirect Effect</th>\n",
       "      <th>Std. Indirect Effect</th>\n",
       "      <th>Standard Error</th>\n",
       "      <th>z-value</th>\n",
       "      <th>p-value</th>\n",
       "    </tr>\n",
       "  </thead>\n",
       "  <tbody>\n",
       "    <tr>\n",
       "      <th>0</th>\n",
       "      <td>QS -&gt; L (via S)</td>\n",
       "      <td>0.297</td>\n",
       "      <td>0.337</td>\n",
       "      <td>0.042</td>\n",
       "      <td>7.01</td>\n",
       "      <td>0.000</td>\n",
       "    </tr>\n",
       "    <tr>\n",
       "      <th>1</th>\n",
       "      <td>QF -&gt; L (via S)</td>\n",
       "      <td>0.164</td>\n",
       "      <td>0.128</td>\n",
       "      <td>0.055</td>\n",
       "      <td>2.96</td>\n",
       "      <td>0.003</td>\n",
       "    </tr>\n",
       "    <tr>\n",
       "      <th>2</th>\n",
       "      <td>QT -&gt; L (via S)</td>\n",
       "      <td>0.119</td>\n",
       "      <td>0.117</td>\n",
       "      <td>0.035</td>\n",
       "      <td>3.42</td>\n",
       "      <td>0.001</td>\n",
       "    </tr>\n",
       "  </tbody>\n",
       "</table>\n",
       "</div>"
      ]
     },
     "execution_count": 18,
     "metadata": {},
     "output_type": "execute_result"
    }
   ],
   "execution_count": 18
  },
  {
   "metadata": {
    "ExecuteTime": {
     "end_time": "2025-07-11T13:33:00.239932Z",
     "start_time": "2025-07-11T13:33:00.231684Z"
    }
   },
   "cell_type": "code",
   "source": [
    "print(f\"R^2(S) = {R2_S:.3f}\")\n",
    "print(f\"R^2(L) = {R2_L:.3f}\")"
   ],
   "id": "33b9a1e886436e2c",
   "outputs": [
    {
     "name": "stdout",
     "output_type": "stream",
     "text": [
      "R^2(S) = 0.548\n",
      "R^2(L) = 0.436\n"
     ]
    }
   ],
   "execution_count": 19
  },
  {
   "metadata": {},
   "cell_type": "markdown",
   "source": [
    "1. H1 - Customer Service Quality (QS) positively influences Satisfaction (S)\n",
    "   1.  Supported: $\\beta^* = 0.510$, $p < 0.001$\n",
    "2. H2 - Financial Quality (QF) positively influences Satisfaction (S)\n",
    "   1.  Supported: $\\beta^* = 0.194$, $p < 0.001$\n",
    "3. H3 - Technical quality (QT) positively influences Satisfaction (S)\n",
    "   1.  Supported: $\\beta^* = 0.178$, $p < 0.001$\n",
    "4. H4 - Satisfaction (S) positively influences Loyalty (L)\n",
    "   1.  Supported: $\\beta^* = 0.660$, $p < 0.001$\n",
    "\n",
    "Model fit: $\\frac{\\chi^2}{df}= 3.76$; CFI = .928; GFI = .904; TLI = .916; RMSEA = .075.\n",
    "All indices meet the conventional good‐fit thresholds (Hu & Bentler, 1999).\n",
    "\n",
    "Explained variance: $R^2$(S) = .578, $R^2$(L) = .436\n",
    "\n",
    "Direct effects:\n",
    "All three quality dimensions (QS, QF, QT) significantly positively influence Satisfaction ($\\beta^* = 0.510$, $p < 0.001$; $\\beta^* = 0.194$, $p < 0.001$; $\\beta^* = 0.178$, $p < 0.001$ respectively), together explaining almost 55% of its variance, thus H1 - H3 are supported.\n",
    "(QS) is the dominant driver ($\\beta^*$ = 0.510), well above the medium effect benchmark of .30 suggested by Cohen (1988).\n",
    "Satisfaction, in turn, strongly predicts Loyalty (L) ($\\beta^*$  = 0.660), accounting for 44 % of loyalty variance\n",
    "\n",
    "Indirect effects:\n",
    "QS, QF, and QT all have significant indirect effects on Loyalty through Satisfaction, with the strongest being from QS ($\\beta^*$ = 0.337, $p < 0.001$), followed by QF ($\\beta^*$ = 0.128, $p < 0.05$) and QT ($\\beta^*$ = 0.117, $p < 0.001$)."
   ],
   "id": "8c3e85c036152c4a"
  }
 ],
 "metadata": {
  "kernelspec": {
   "display_name": "Python 3 (ipykernel)",
   "language": "python",
   "name": "python3"
  },
  "language_info": {
   "codemirror_mode": {
    "name": "ipython",
    "version": 3
   },
   "file_extension": ".py",
   "mimetype": "text/x-python",
   "name": "python",
   "nbconvert_exporter": "python",
   "pygments_lexer": "ipython3",
   "version": "3.10.11"
  }
 },
 "nbformat": 4,
 "nbformat_minor": 5
}
