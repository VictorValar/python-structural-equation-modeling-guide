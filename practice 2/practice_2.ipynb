{
 "cells": [
  {
   "cell_type": "markdown",
   "id": "2686fb3a4fefcb90",
   "metadata": {},
   "source": [
    "# Practice 2: Structural Model\n",
    "\n",
    "## Objetives:\n",
    "1. Test the hypothesized model\n",
    "    1. H1 - Customer service quality(QS) positively influences Satisfaction (S)\n",
    "    2. H2 - Financial quality (QF) positively influences Satisfaction (S)\n",
    "    3. H3 - Technical quality (QT) positively influences Satisfaction (S)\n",
    "    4. H4 - Satisfaction (S) positively influences Loyalty (L)\n",
    "2. Report direct and indirect effects"
   ]
  },
  {
   "metadata": {},
   "cell_type": "markdown",
   "source": "## Data Preparation",
   "id": "ff629a8b552f2630"
  },
  {
   "metadata": {
    "ExecuteTime": {
     "end_time": "2025-07-09T12:45:26.480316Z",
     "start_time": "2025-07-09T12:45:26.157377Z"
    }
   },
   "cell_type": "code",
   "source": [
    "import pandas as pd\n",
    "import pyreadstat\n",
    "from pandas.core.interchange.dataframe_protocol import DataFrame\n",
    "\n",
    "raw_data_df, meta = pyreadstat.read_sav(\"../data/EXERCICIO_2025.sav\")\n",
    "raw_data_df.head()"
   ],
   "id": "f76fd2c9f0a24fd4",
   "outputs": [
    {
     "data": {
      "text/plain": [
       "   CASO   f1   f2   f3   f4   f5    f6    f7  P1.1_QA  P1.2_QA  ...   P7  P14  \\\n",
       "0   NaN  1.0  3.0  6.0  1.0  1.0  50.0  18.0      8.0      6.0  ...  3.0  2.0   \n",
       "1   NaN  1.0  1.0  5.0  1.0  1.0  36.0  35.0      8.0      7.0  ...  1.0  1.0   \n",
       "2   NaN  1.0  3.0  5.0  1.0  1.0  72.0  73.0     10.0     10.0  ...  2.0  2.0   \n",
       "3   NaN  1.0  3.0  9.0  1.0  1.0  24.0  27.0      6.0      6.0  ...  1.0  2.0   \n",
       "4   NaN  1.0  4.0  9.0  1.0  1.0  72.0  24.0      2.0      5.0  ...  2.0  1.0   \n",
       "\n",
       "     ltv2  tempo  clsocial  SATIS  LEAL  ATEND        FIN   TEC  \n",
       "0  1373.0   61.0       5.0   6.50   6.2    7.2   9.333333  8.50  \n",
       "1  1002.0   47.0       5.0   5.50   4.4    6.8   6.666667  8.00  \n",
       "2  2097.0   83.0       5.0   7.50   8.0    9.6  10.000000  8.00  \n",
       "3   802.0   35.0       4.0   6.25   6.2    6.4   7.666667  6.50  \n",
       "4  4835.0   78.0       4.0   5.25   4.4    4.4   5.666667  5.75  \n",
       "\n",
       "[5 rows x 45 columns]"
      ],
      "text/html": [
       "<div>\n",
       "<style scoped>\n",
       "    .dataframe tbody tr th:only-of-type {\n",
       "        vertical-align: middle;\n",
       "    }\n",
       "\n",
       "    .dataframe tbody tr th {\n",
       "        vertical-align: top;\n",
       "    }\n",
       "\n",
       "    .dataframe thead th {\n",
       "        text-align: right;\n",
       "    }\n",
       "</style>\n",
       "<table border=\"1\" class=\"dataframe\">\n",
       "  <thead>\n",
       "    <tr style=\"text-align: right;\">\n",
       "      <th></th>\n",
       "      <th>CASO</th>\n",
       "      <th>f1</th>\n",
       "      <th>f2</th>\n",
       "      <th>f3</th>\n",
       "      <th>f4</th>\n",
       "      <th>f5</th>\n",
       "      <th>f6</th>\n",
       "      <th>f7</th>\n",
       "      <th>P1.1_QA</th>\n",
       "      <th>P1.2_QA</th>\n",
       "      <th>...</th>\n",
       "      <th>P7</th>\n",
       "      <th>P14</th>\n",
       "      <th>ltv2</th>\n",
       "      <th>tempo</th>\n",
       "      <th>clsocial</th>\n",
       "      <th>SATIS</th>\n",
       "      <th>LEAL</th>\n",
       "      <th>ATEND</th>\n",
       "      <th>FIN</th>\n",
       "      <th>TEC</th>\n",
       "    </tr>\n",
       "  </thead>\n",
       "  <tbody>\n",
       "    <tr>\n",
       "      <th>0</th>\n",
       "      <td>NaN</td>\n",
       "      <td>1.0</td>\n",
       "      <td>3.0</td>\n",
       "      <td>6.0</td>\n",
       "      <td>1.0</td>\n",
       "      <td>1.0</td>\n",
       "      <td>50.0</td>\n",
       "      <td>18.0</td>\n",
       "      <td>8.0</td>\n",
       "      <td>6.0</td>\n",
       "      <td>...</td>\n",
       "      <td>3.0</td>\n",
       "      <td>2.0</td>\n",
       "      <td>1373.0</td>\n",
       "      <td>61.0</td>\n",
       "      <td>5.0</td>\n",
       "      <td>6.50</td>\n",
       "      <td>6.2</td>\n",
       "      <td>7.2</td>\n",
       "      <td>9.333333</td>\n",
       "      <td>8.50</td>\n",
       "    </tr>\n",
       "    <tr>\n",
       "      <th>1</th>\n",
       "      <td>NaN</td>\n",
       "      <td>1.0</td>\n",
       "      <td>1.0</td>\n",
       "      <td>5.0</td>\n",
       "      <td>1.0</td>\n",
       "      <td>1.0</td>\n",
       "      <td>36.0</td>\n",
       "      <td>35.0</td>\n",
       "      <td>8.0</td>\n",
       "      <td>7.0</td>\n",
       "      <td>...</td>\n",
       "      <td>1.0</td>\n",
       "      <td>1.0</td>\n",
       "      <td>1002.0</td>\n",
       "      <td>47.0</td>\n",
       "      <td>5.0</td>\n",
       "      <td>5.50</td>\n",
       "      <td>4.4</td>\n",
       "      <td>6.8</td>\n",
       "      <td>6.666667</td>\n",
       "      <td>8.00</td>\n",
       "    </tr>\n",
       "    <tr>\n",
       "      <th>2</th>\n",
       "      <td>NaN</td>\n",
       "      <td>1.0</td>\n",
       "      <td>3.0</td>\n",
       "      <td>5.0</td>\n",
       "      <td>1.0</td>\n",
       "      <td>1.0</td>\n",
       "      <td>72.0</td>\n",
       "      <td>73.0</td>\n",
       "      <td>10.0</td>\n",
       "      <td>10.0</td>\n",
       "      <td>...</td>\n",
       "      <td>2.0</td>\n",
       "      <td>2.0</td>\n",
       "      <td>2097.0</td>\n",
       "      <td>83.0</td>\n",
       "      <td>5.0</td>\n",
       "      <td>7.50</td>\n",
       "      <td>8.0</td>\n",
       "      <td>9.6</td>\n",
       "      <td>10.000000</td>\n",
       "      <td>8.00</td>\n",
       "    </tr>\n",
       "    <tr>\n",
       "      <th>3</th>\n",
       "      <td>NaN</td>\n",
       "      <td>1.0</td>\n",
       "      <td>3.0</td>\n",
       "      <td>9.0</td>\n",
       "      <td>1.0</td>\n",
       "      <td>1.0</td>\n",
       "      <td>24.0</td>\n",
       "      <td>27.0</td>\n",
       "      <td>6.0</td>\n",
       "      <td>6.0</td>\n",
       "      <td>...</td>\n",
       "      <td>1.0</td>\n",
       "      <td>2.0</td>\n",
       "      <td>802.0</td>\n",
       "      <td>35.0</td>\n",
       "      <td>4.0</td>\n",
       "      <td>6.25</td>\n",
       "      <td>6.2</td>\n",
       "      <td>6.4</td>\n",
       "      <td>7.666667</td>\n",
       "      <td>6.50</td>\n",
       "    </tr>\n",
       "    <tr>\n",
       "      <th>4</th>\n",
       "      <td>NaN</td>\n",
       "      <td>1.0</td>\n",
       "      <td>4.0</td>\n",
       "      <td>9.0</td>\n",
       "      <td>1.0</td>\n",
       "      <td>1.0</td>\n",
       "      <td>72.0</td>\n",
       "      <td>24.0</td>\n",
       "      <td>2.0</td>\n",
       "      <td>5.0</td>\n",
       "      <td>...</td>\n",
       "      <td>2.0</td>\n",
       "      <td>1.0</td>\n",
       "      <td>4835.0</td>\n",
       "      <td>78.0</td>\n",
       "      <td>4.0</td>\n",
       "      <td>5.25</td>\n",
       "      <td>4.4</td>\n",
       "      <td>4.4</td>\n",
       "      <td>5.666667</td>\n",
       "      <td>5.75</td>\n",
       "    </tr>\n",
       "  </tbody>\n",
       "</table>\n",
       "<p>5 rows × 45 columns</p>\n",
       "</div>"
      ]
     },
     "execution_count": 1,
     "metadata": {},
     "output_type": "execute_result"
    }
   ],
   "execution_count": 1
  },
  {
   "cell_type": "code",
   "id": "17ed44e012385cbc",
   "metadata": {
    "ExecuteTime": {
     "end_time": "2025-07-09T12:45:26.686466Z",
     "start_time": "2025-07-09T12:45:26.679451Z"
    }
   },
   "source": [
    "columns_to_filter = [\n",
    "    'P1.1_QA', 'P1.2_QA', 'P1.3_QA', 'P1.4_QA', 'P1.5_QA', 'P1.15_QA', 'P1.16_QA', 'P1.17_QA',\n",
    "    'P1.6_QC', 'P1.7_QC', 'P1.8_QC', 'P1.9_QC',\n",
    "    'P1.10_QT', 'P1.11_QT', 'P1.12_QT', 'P1.13_QT', 'P1.14_QT',\n",
    "    'P3.1_S', 'P3.2_S', 'P3.3_S', 'P3.4_S',\n",
    "    'P6.1_L', 'P6.2_L', 'P6.3_L', 'P6.4_L', 'P6.5_L', 'P6.6_L'\n",
    "]\n",
    "\n",
    "clean_df = raw_data_df[columns_to_filter].copy()\n",
    "\n",
    "clean_df.rename(columns=lambda c: c.replace('.', '_'), inplace=True)\n",
    "clean_df.rename(columns=lambda c: c.replace('C', 'F'), inplace=True)\n",
    "clean_df.rename(columns=lambda c: c.replace('A', 'S'), inplace=True)\n",
    "print(raw_data_df.shape)\n",
    "print(clean_df.shape)\n",
    "print(clean_df.isnull().sum())"
   ],
   "outputs": [
    {
     "name": "stdout",
     "output_type": "stream",
     "text": [
      "(493, 45)\n",
      "(493, 27)\n",
      "P1_1_QS     0\n",
      "P1_2_QS     0\n",
      "P1_3_QS     0\n",
      "P1_4_QS     0\n",
      "P1_5_QS     0\n",
      "P1_15_QS    0\n",
      "P1_16_QS    0\n",
      "P1_17_QS    0\n",
      "P1_6_QF     0\n",
      "P1_7_QF     0\n",
      "P1_8_QF     0\n",
      "P1_9_QF     0\n",
      "P1_10_QT    0\n",
      "P1_11_QT    0\n",
      "P1_12_QT    0\n",
      "P1_13_QT    0\n",
      "P1_14_QT    0\n",
      "P3_1_S      0\n",
      "P3_2_S      0\n",
      "P3_3_S      0\n",
      "P3_4_S      0\n",
      "P6_1_L      0\n",
      "P6_2_L      0\n",
      "P6_3_L      0\n",
      "P6_4_L      0\n",
      "P6_5_L      0\n",
      "P6_6_L      0\n",
      "dtype: int64\n"
     ]
    }
   ],
   "execution_count": 2
  },
  {
   "metadata": {},
   "cell_type": "markdown",
   "source": "## Refined Model",
   "id": "8fe1806356a370cb"
  },
  {
   "metadata": {},
   "cell_type": "markdown",
   "source": "### Modeling",
   "id": "6200a811b77c579"
  },
  {
   "metadata": {
    "ExecuteTime": {
     "end_time": "2025-07-09T12:45:27.792502Z",
     "start_time": "2025-07-09T12:45:26.725553Z"
    }
   },
   "cell_type": "code",
   "source": [
    "from semopy import Model\n",
    "model_description = \"\"\"\n",
    "QS =~ P1_1_QS + P1_2_QS + P1_4_QS + P1_5_QS + P1_16_QS\n",
    "QF =~ P1_6_QF + P1_7_QF + P1_8_QF\n",
    "QT =~ P1_10_QT + P1_11_QT + P1_12_QT + P1_13_QT\n",
    "S =~ P3_1_S + P3_2_S + P3_3_S + P3_4_S\n",
    "L =~ P6_1_L + P6_2_L + P6_3_L + P6_4_L\n",
    "\n",
    "S ~ QS + QF + QT\n",
    "L ~ S\n",
    "\"\"\"\n",
    "\n",
    "model = Model(model_description)\n",
    "print(model.fit(clean_df))"
   ],
   "id": "d5c61aafd873685a",
   "outputs": [
    {
     "name": "stdout",
     "output_type": "stream",
     "text": [
      "Name of objective: MLW\n",
      "Optimization method: SLSQP\n",
      "Optimization successful.\n",
      "Optimization terminated successfully\n",
      "Objective value: 1.244\n",
      "Number of iterations: 46\n",
      "Params: 0.831 1.133 1.116 0.721 1.433 1.266 1.223 1.026 0.988 0.862 1.040 1.049 1.109 0.679 0.961 0.478 0.264 0.192 0.623 1.210 2.412 0.742 1.042 1.589 2.382 1.378 1.787 2.317 1.750 1.686 1.163 3.135 0.686 0.679 0.528 0.852 0.741 1.246 2.662 0.593 1.312 2.754 0.921 1.148 2.074 0.836 1.090\n"
     ]
    }
   ],
   "execution_count": 3
  },
  {
   "metadata": {},
   "cell_type": "markdown",
   "source": [
    "### Model Fit\n",
    "$\\chi^{2} / df < 5$\n",
    "\n",
    "CFI, GFI, TLI > 0.9\n",
    "\n",
    "RMSEA < 0,08"
   ],
   "id": "11d3ed3a7efd0c5a"
  },
  {
   "metadata": {
    "ExecuteTime": {
     "end_time": "2025-07-09T12:45:27.826214Z",
     "start_time": "2025-07-09T12:45:27.813453Z"
    }
   },
   "cell_type": "code",
   "source": [
    "from semopy import calc_stats\n",
    "\n",
    "refined_model_stats = calc_stats(model)\n",
    "refined_model_stats.T.loc[refined_model_stats.T.index.isin(['CFI', 'GFI', 'TLI', 'RMSEA'])]"
   ],
   "id": "4515c1b247104a77",
   "outputs": [
    {
     "data": {
      "text/plain": [
       "          Value\n",
       "CFI    0.927604\n",
       "GFI    0.904315\n",
       "TLI    0.915612\n",
       "RMSEA  0.074924"
      ],
      "text/html": [
       "<div>\n",
       "<style scoped>\n",
       "    .dataframe tbody tr th:only-of-type {\n",
       "        vertical-align: middle;\n",
       "    }\n",
       "\n",
       "    .dataframe tbody tr th {\n",
       "        vertical-align: top;\n",
       "    }\n",
       "\n",
       "    .dataframe thead th {\n",
       "        text-align: right;\n",
       "    }\n",
       "</style>\n",
       "<table border=\"1\" class=\"dataframe\">\n",
       "  <thead>\n",
       "    <tr style=\"text-align: right;\">\n",
       "      <th></th>\n",
       "      <th>Value</th>\n",
       "    </tr>\n",
       "  </thead>\n",
       "  <tbody>\n",
       "    <tr>\n",
       "      <th>CFI</th>\n",
       "      <td>0.927604</td>\n",
       "    </tr>\n",
       "    <tr>\n",
       "      <th>GFI</th>\n",
       "      <td>0.904315</td>\n",
       "    </tr>\n",
       "    <tr>\n",
       "      <th>TLI</th>\n",
       "      <td>0.915612</td>\n",
       "    </tr>\n",
       "    <tr>\n",
       "      <th>RMSEA</th>\n",
       "      <td>0.074924</td>\n",
       "    </tr>\n",
       "  </tbody>\n",
       "</table>\n",
       "</div>"
      ]
     },
     "execution_count": 4,
     "metadata": {},
     "output_type": "execute_result"
    }
   ],
   "execution_count": 4
  },
  {
   "metadata": {
    "ExecuteTime": {
     "end_time": "2025-07-09T12:45:27.909252Z",
     "start_time": "2025-07-09T12:45:27.905985Z"
    }
   },
   "cell_type": "code",
   "source": "print(f\"chi squared/degrees of freedom: {(refined_model_stats['chi2'] / refined_model_stats['DoF']).item():.6f}\")",
   "id": "ce0b01b4e6088e6f",
   "outputs": [
    {
     "name": "stdout",
     "output_type": "stream",
     "text": [
      "chi squared/degrees of freedom: 3.761902\n"
     ]
    }
   ],
   "execution_count": 5
  },
  {
   "metadata": {},
   "cell_type": "markdown",
   "source": "All cutoff criteria are satisfied, indicating a good fit of the model to the data.",
   "id": "a017eae91d120f65"
  },
  {
   "metadata": {},
   "cell_type": "markdown",
   "source": "### Standardized Path Coefficients",
   "id": "fc98f2ba48f54b78"
  },
  {
   "metadata": {
    "ExecuteTime": {
     "end_time": "2025-07-09T12:45:27.958693Z",
     "start_time": "2025-07-09T12:45:27.944297Z"
    }
   },
   "cell_type": "code",
   "source": [
    "raw_item_estimates = (\n",
    "    model.inspect(std_est=True)\n",
    "         .query(\"op == '~' and not lval.str.startswith('P')\")\n",
    ")\n",
    "direct_effects_df = (\n",
    "    raw_item_estimates\n",
    "    .loc[:, ['lval','rval', 'Est. Std','p-value', 'z-value']]\n",
    "    .rename(columns={\n",
    "        'lval': 'Outcome',\n",
    "        'rval': 'Predictor',\n",
    "        'Est. Std': 'beta',\n",
    "        'p-value': 'p-value',\n",
    "        'z-value': 't-value'\n",
    "    })\n",
    "    .sort_values(by='beta')\n",
    ")\n",
    "direct_effects_df['hypothesis_result'] = direct_effects_df.apply(\n",
    "    lambda row: 'Supported' if row['p-value'] < 0.05 else 'Not Supported',\n",
    "    axis=1\n",
    ")\n",
    "direct_effects_df"
   ],
   "id": "dbfe6ff8f657a5df",
   "outputs": [
    {
     "data": {
      "text/plain": [
       "  Outcome Predictor      beta   p-value    t-value hypothesis_result\n",
       "2       S        QT  0.177666  0.000178   3.747854         Supported\n",
       "1       S        QF  0.194342  0.000152   3.787914         Supported\n",
       "0       S        QS  0.510324       0.0  10.199336         Supported\n",
       "3       L         S  0.660203       0.0  14.720154         Supported"
      ],
      "text/html": [
       "<div>\n",
       "<style scoped>\n",
       "    .dataframe tbody tr th:only-of-type {\n",
       "        vertical-align: middle;\n",
       "    }\n",
       "\n",
       "    .dataframe tbody tr th {\n",
       "        vertical-align: top;\n",
       "    }\n",
       "\n",
       "    .dataframe thead th {\n",
       "        text-align: right;\n",
       "    }\n",
       "</style>\n",
       "<table border=\"1\" class=\"dataframe\">\n",
       "  <thead>\n",
       "    <tr style=\"text-align: right;\">\n",
       "      <th></th>\n",
       "      <th>Outcome</th>\n",
       "      <th>Predictor</th>\n",
       "      <th>beta</th>\n",
       "      <th>p-value</th>\n",
       "      <th>t-value</th>\n",
       "      <th>hypothesis_result</th>\n",
       "    </tr>\n",
       "  </thead>\n",
       "  <tbody>\n",
       "    <tr>\n",
       "      <th>2</th>\n",
       "      <td>S</td>\n",
       "      <td>QT</td>\n",
       "      <td>0.177666</td>\n",
       "      <td>0.000178</td>\n",
       "      <td>3.747854</td>\n",
       "      <td>Supported</td>\n",
       "    </tr>\n",
       "    <tr>\n",
       "      <th>1</th>\n",
       "      <td>S</td>\n",
       "      <td>QF</td>\n",
       "      <td>0.194342</td>\n",
       "      <td>0.000152</td>\n",
       "      <td>3.787914</td>\n",
       "      <td>Supported</td>\n",
       "    </tr>\n",
       "    <tr>\n",
       "      <th>0</th>\n",
       "      <td>S</td>\n",
       "      <td>QS</td>\n",
       "      <td>0.510324</td>\n",
       "      <td>0.0</td>\n",
       "      <td>10.199336</td>\n",
       "      <td>Supported</td>\n",
       "    </tr>\n",
       "    <tr>\n",
       "      <th>3</th>\n",
       "      <td>L</td>\n",
       "      <td>S</td>\n",
       "      <td>0.660203</td>\n",
       "      <td>0.0</td>\n",
       "      <td>14.720154</td>\n",
       "      <td>Supported</td>\n",
       "    </tr>\n",
       "  </tbody>\n",
       "</table>\n",
       "</div>"
      ]
     },
     "execution_count": 6,
     "metadata": {},
     "output_type": "execute_result"
    }
   ],
   "execution_count": 6
  },
  {
   "metadata": {},
   "cell_type": "markdown",
   "source": "### Model Graph",
   "id": "cb658f405caa8005"
  },
  {
   "metadata": {
    "ExecuteTime": {
     "end_time": "2025-07-09T12:45:28.298159Z",
     "start_time": "2025-07-09T12:45:28.017441Z"
    }
   },
   "cell_type": "code",
   "source": [
    "from semopy import semplot\n",
    "semplot(model, \"../practice 2/model.png\", std_ests=True, plot_covs=True)"
   ],
   "id": "177324ef4ec92e6f",
   "outputs": [
    {
     "data": {
      "image/svg+xml": "<?xml version=\"1.0\" encoding=\"UTF-8\" standalone=\"no\"?>\n<!DOCTYPE svg PUBLIC \"-//W3C//DTD SVG 1.1//EN\"\n \"http://www.w3.org/Graphics/SVG/1.1/DTD/svg11.dtd\">\n<!-- Generated by graphviz version 12.2.1 (20241206.2353)\n -->\n<!-- Title: G Pages: 1 -->\n<svg width=\"1060pt\" height=\"576pt\"\n viewBox=\"0.00 0.00 1060.12 575.66\" xmlns=\"http://www.w3.org/2000/svg\" xmlns:xlink=\"http://www.w3.org/1999/xlink\">\n<g id=\"graph0\" class=\"graph\" transform=\"scale(1 1) rotate(0) translate(4 571.66)\">\n<title>G</title>\n<polygon fill=\"white\" stroke=\"none\" points=\"-4,4 -4,-571.66 1056.12,-571.66 1056.12,4 -4,4\"/>\n<!-- L -->\n<g id=\"node1\" class=\"node\">\n<title>L</title>\n<ellipse fill=\"#cae6df\" stroke=\"black\" cx=\"373.25\" cy=\"-118.5\" rx=\"18\" ry=\"18\"/>\n<text text-anchor=\"middle\" x=\"373.25\" y=\"-113.45\" font-family=\"Times,serif\" font-size=\"14.00\">L</text>\n</g>\n<!-- P6_1_L -->\n<g id=\"node22\" class=\"node\">\n<title>P6_1_L</title>\n<polygon fill=\"none\" stroke=\"black\" points=\"287.62,-36 228.88,-36 228.88,0 287.62,0 287.62,-36\"/>\n<text text-anchor=\"middle\" x=\"258.25\" y=\"-12.95\" font-family=\"Times,serif\" font-size=\"14.00\">P6_1_L</text>\n</g>\n<!-- L&#45;&gt;P6_1_L -->\n<g id=\"edge21\" class=\"edge\">\n<title>L&#45;&gt;P6_1_L</title>\n<path fill=\"none\" stroke=\"black\" d=\"M356.05,-111.84C340.72,-106.18 318.28,-96.32 302.25,-82.5 290.5,-72.37 280.39,-58.44 272.84,-46.21\"/>\n<polygon fill=\"black\" stroke=\"black\" points=\"275.95,-44.61 267.87,-37.75 269.92,-48.15 275.95,-44.61\"/>\n<text text-anchor=\"middle\" x=\"315.75\" y=\"-63.98\" font-family=\"Times,serif\" font-size=\"12.00\">0.862</text>\n</g>\n<!-- P6_2_L -->\n<g id=\"node23\" class=\"node\">\n<title>P6_2_L</title>\n<polygon fill=\"none\" stroke=\"black\" points=\"364.62,-36 305.88,-36 305.88,0 364.62,0 364.62,-36\"/>\n<text text-anchor=\"middle\" x=\"335.25\" y=\"-12.95\" font-family=\"Times,serif\" font-size=\"14.00\">P6_2_L</text>\n</g>\n<!-- L&#45;&gt;P6_2_L -->\n<g id=\"edge22\" class=\"edge\">\n<title>L&#45;&gt;P6_2_L</title>\n<path fill=\"none\" stroke=\"black\" d=\"M359.2,-107.14C351.88,-100.89 343.57,-92.26 339.25,-82.5 334.52,-71.82 333.02,-59.13 332.88,-47.91\"/>\n<polygon fill=\"black\" stroke=\"black\" points=\"336.37,-48.08 333.14,-37.99 329.38,-47.89 336.37,-48.08\"/>\n<text text-anchor=\"middle\" x=\"364.75\" y=\"-71.1\" font-family=\"Times,serif\" font-size=\"12.00\">0.824</text>\n<text text-anchor=\"middle\" x=\"364.75\" y=\"-56.85\" font-family=\"Times,serif\" font-size=\"12.00\">p&#45;val: 0.00</text>\n</g>\n<!-- P6_3_L -->\n<g id=\"node24\" class=\"node\">\n<title>P6_3_L</title>\n<polygon fill=\"none\" stroke=\"black\" points=\"441.62,-36 382.88,-36 382.88,0 441.62,0 441.62,-36\"/>\n<text text-anchor=\"middle\" x=\"412.25\" y=\"-12.95\" font-family=\"Times,serif\" font-size=\"14.00\">P6_3_L</text>\n</g>\n<!-- L&#45;&gt;P6_3_L -->\n<g id=\"edge23\" class=\"edge\">\n<title>L&#45;&gt;P6_3_L</title>\n<path fill=\"none\" stroke=\"black\" d=\"M381.27,-102C384.25,-95.98 387.56,-88.99 390.25,-82.5 394.96,-71.14 399.52,-58.37 403.25,-47.28\"/>\n<polygon fill=\"black\" stroke=\"black\" points=\"406.54,-48.49 406.35,-37.89 399.89,-46.3 406.54,-48.49\"/>\n<text text-anchor=\"middle\" x=\"426.14\" y=\"-71.1\" font-family=\"Times,serif\" font-size=\"12.00\">0.521</text>\n<text text-anchor=\"middle\" x=\"426.14\" y=\"-56.85\" font-family=\"Times,serif\" font-size=\"12.00\">p&#45;val: 0.00</text>\n</g>\n<!-- P6_4_L -->\n<g id=\"node25\" class=\"node\">\n<title>P6_4_L</title>\n<polygon fill=\"none\" stroke=\"black\" points=\"518.62,-36 459.88,-36 459.88,0 518.62,0 518.62,-36\"/>\n<text text-anchor=\"middle\" x=\"489.25\" y=\"-12.95\" font-family=\"Times,serif\" font-size=\"14.00\">P6_4_L</text>\n</g>\n<!-- L&#45;&gt;P6_4_L -->\n<g id=\"edge24\" class=\"edge\">\n<title>L&#45;&gt;P6_4_L</title>\n<path fill=\"none\" stroke=\"black\" d=\"M388.45,-108.52C393.4,-105.77 398.98,-102.86 404.25,-100.5 426.19,-90.69 437.01,-98.15 455.25,-82.5 466.26,-73.05 474.27,-59.13 479.75,-46.72\"/>\n<polygon fill=\"black\" stroke=\"black\" points=\"482.86,-48.35 483.35,-37.77 476.37,-45.74 482.86,-48.35\"/>\n<text text-anchor=\"middle\" x=\"501.54\" y=\"-71.1\" font-family=\"Times,serif\" font-size=\"12.00\">0.877</text>\n<text text-anchor=\"middle\" x=\"501.54\" y=\"-56.85\" font-family=\"Times,serif\" font-size=\"12.00\">p&#45;val: 0.00</text>\n</g>\n<!-- QS -->\n<g id=\"node2\" class=\"node\">\n<title>QS</title>\n<ellipse fill=\"#cae6df\" stroke=\"black\" cx=\"273.25\" cy=\"-324.19\" rx=\"22.69\" ry=\"22.69\"/>\n<text text-anchor=\"middle\" x=\"273.25\" y=\"-319.14\" font-family=\"Times,serif\" font-size=\"14.00\">QS</text>\n</g>\n<!-- S -->\n<g id=\"node4\" class=\"node\">\n<title>S</title>\n<ellipse fill=\"#cae6df\" stroke=\"black\" cx=\"518.25\" cy=\"-219\" rx=\"18\" ry=\"18\"/>\n<text text-anchor=\"middle\" x=\"518.25\" y=\"-213.95\" font-family=\"Times,serif\" font-size=\"14.00\">S</text>\n</g>\n<!-- QS&#45;&gt;S -->\n<g id=\"edge1\" class=\"edge\">\n<title>QS&#45;&gt;S</title>\n<path fill=\"none\" stroke=\"black\" d=\"M290.47,-309.08C294.76,-306.16 299.49,-303.4 304.25,-301.5 353.5,-281.78 374.42,-306.45 422.25,-283.5 439.12,-275.4 438,-265.85 453.25,-255 465.28,-246.43 479.65,-238.49 491.82,-232.34\"/>\n<polygon fill=\"black\" stroke=\"black\" points=\"493.04,-235.64 500.47,-228.09 489.95,-229.36 493.04,-235.64\"/>\n<text text-anchor=\"middle\" x=\"478.75\" y=\"-272.1\" font-family=\"Times,serif\" font-size=\"12.00\">0.510</text>\n<text text-anchor=\"middle\" x=\"478.75\" y=\"-257.85\" font-family=\"Times,serif\" font-size=\"12.00\">p&#45;val: 0.00</text>\n</g>\n<!-- P1_16_QS -->\n<g id=\"node10\" class=\"node\">\n<title>P1_16_QS</title>\n<polygon fill=\"none\" stroke=\"black\" points=\"74.5,-237 0,-237 0,-201 74.5,-201 74.5,-237\"/>\n<text text-anchor=\"middle\" x=\"37.25\" y=\"-213.95\" font-family=\"Times,serif\" font-size=\"14.00\">P1_16_QS</text>\n</g>\n<!-- QS&#45;&gt;P1_16_QS -->\n<g id=\"edge9\" class=\"edge\">\n<title>QS&#45;&gt;P1_16_QS</title>\n<path fill=\"none\" stroke=\"black\" d=\"M250.4,-321.89C216.05,-319.09 149.95,-310.37 101.25,-283.5 84.32,-274.16 68.83,-259.06 57.33,-245.92\"/>\n<polygon fill=\"black\" stroke=\"black\" points=\"60.13,-243.8 51.01,-238.39 54.77,-248.3 60.13,-243.8\"/>\n<text text-anchor=\"middle\" x=\"126.75\" y=\"-272.1\" font-family=\"Times,serif\" font-size=\"12.00\">0.613</text>\n<text text-anchor=\"middle\" x=\"126.75\" y=\"-257.85\" font-family=\"Times,serif\" font-size=\"12.00\">p&#45;val: 0.00</text>\n</g>\n<!-- P1_1_QS -->\n<g id=\"node11\" class=\"node\">\n<title>P1_1_QS</title>\n<polygon fill=\"none\" stroke=\"black\" points=\"160.12,-237 92.38,-237 92.38,-201 160.12,-201 160.12,-237\"/>\n<text text-anchor=\"middle\" x=\"126.25\" y=\"-213.95\" font-family=\"Times,serif\" font-size=\"14.00\">P1_1_QS</text>\n</g>\n<!-- QS&#45;&gt;P1_1_QS -->\n<g id=\"edge5\" class=\"edge\">\n<title>QS&#45;&gt;P1_1_QS</title>\n<path fill=\"none\" stroke=\"black\" d=\"M251.64,-316C233.24,-309.27 206.64,-298.08 186.25,-283.5 171.56,-272.99 157.55,-258.52 146.77,-246.04\"/>\n<polygon fill=\"black\" stroke=\"black\" points=\"149.6,-243.97 140.5,-238.56 144.24,-248.47 149.6,-243.97\"/>\n<text text-anchor=\"middle\" x=\"199.75\" y=\"-264.98\" font-family=\"Times,serif\" font-size=\"12.00\">0.816</text>\n</g>\n<!-- P1_2_QS -->\n<g id=\"node12\" class=\"node\">\n<title>P1_2_QS</title>\n<polygon fill=\"none\" stroke=\"black\" points=\"246.12,-237 178.38,-237 178.38,-201 246.12,-201 246.12,-237\"/>\n<text text-anchor=\"middle\" x=\"212.25\" y=\"-213.95\" font-family=\"Times,serif\" font-size=\"14.00\">P1_2_QS</text>\n</g>\n<!-- QS&#45;&gt;P1_2_QS -->\n<g id=\"edge6\" class=\"edge\">\n<title>QS&#45;&gt;P1_2_QS</title>\n<path fill=\"none\" stroke=\"black\" d=\"M254.61,-310.87C245.39,-303.87 234.86,-294.35 228.25,-283.5 221.84,-272.98 217.99,-259.99 215.68,-248.5\"/>\n<polygon fill=\"black\" stroke=\"black\" points=\"219.15,-248.02 214.04,-238.74 212.24,-249.18 219.15,-248.02\"/>\n<text text-anchor=\"middle\" x=\"253.75\" y=\"-272.1\" font-family=\"Times,serif\" font-size=\"12.00\">0.718</text>\n<text text-anchor=\"middle\" x=\"253.75\" y=\"-257.85\" font-family=\"Times,serif\" font-size=\"12.00\">p&#45;val: 0.00</text>\n</g>\n<!-- P1_4_QS -->\n<g id=\"node13\" class=\"node\">\n<title>P1_4_QS</title>\n<polygon fill=\"none\" stroke=\"black\" points=\"332.12,-237 264.38,-237 264.38,-201 332.12,-201 332.12,-237\"/>\n<text text-anchor=\"middle\" x=\"298.25\" y=\"-213.95\" font-family=\"Times,serif\" font-size=\"14.00\">P1_4_QS</text>\n</g>\n<!-- QS&#45;&gt;P1_4_QS -->\n<g id=\"edge7\" class=\"edge\">\n<title>QS&#45;&gt;P1_4_QS</title>\n<path fill=\"none\" stroke=\"black\" d=\"M278.43,-301.81C282.2,-286.27 287.33,-265.08 291.43,-248.16\"/>\n<polygon fill=\"black\" stroke=\"black\" points=\"294.76,-249.27 293.71,-238.72 287.96,-247.62 294.76,-249.27\"/>\n<text text-anchor=\"middle\" x=\"314.95\" y=\"-272.1\" font-family=\"Times,serif\" font-size=\"12.00\">0.777</text>\n<text text-anchor=\"middle\" x=\"314.95\" y=\"-257.85\" font-family=\"Times,serif\" font-size=\"12.00\">p&#45;val: 0.00</text>\n</g>\n<!-- P1_5_QS -->\n<g id=\"node14\" class=\"node\">\n<title>P1_5_QS</title>\n<polygon fill=\"none\" stroke=\"black\" points=\"418.12,-237 350.38,-237 350.38,-201 418.12,-201 418.12,-237\"/>\n<text text-anchor=\"middle\" x=\"384.25\" y=\"-213.95\" font-family=\"Times,serif\" font-size=\"14.00\">P1_5_QS</text>\n</g>\n<!-- QS&#45;&gt;P1_5_QS -->\n<g id=\"edge8\" class=\"edge\">\n<title>QS&#45;&gt;P1_5_QS</title>\n<path fill=\"none\" stroke=\"black\" d=\"M291.24,-309.76C295.41,-306.88 299.91,-303.97 304.25,-301.5 321.2,-291.87 329.54,-296.29 344.25,-283.5 355.58,-273.65 364.82,-259.8 371.55,-247.55\"/>\n<polygon fill=\"black\" stroke=\"black\" points=\"374.65,-249.17 376.11,-238.68 368.42,-245.96 374.65,-249.17\"/>\n<text text-anchor=\"middle\" x=\"392.7\" y=\"-272.1\" font-family=\"Times,serif\" font-size=\"12.00\">0.814</text>\n<text text-anchor=\"middle\" x=\"392.7\" y=\"-257.85\" font-family=\"Times,serif\" font-size=\"12.00\">p&#45;val: 0.00</text>\n</g>\n<!-- QF -->\n<g id=\"node3\" class=\"node\">\n<title>QF</title>\n<ellipse fill=\"#cae6df\" stroke=\"black\" cx=\"815.25\" cy=\"-544.97\" rx=\"22.69\" ry=\"22.69\"/>\n<text text-anchor=\"middle\" x=\"815.25\" y=\"-539.92\" font-family=\"Times,serif\" font-size=\"14.00\">QF</text>\n</g>\n<!-- QF&#45;&gt;QS -->\n<g id=\"edge25\" class=\"edge\">\n<title>QF&#45;&gt;QS</title>\n<path fill=\"none\" stroke=\"black\" stroke-dasharray=\"5,2\" d=\"M781.35,-538.86C714.08,-528.16 559.49,-500.76 435.25,-457.78 370.14,-435.26 339.71,-445.15 294.25,-393.38 285.7,-383.65 280.63,-370.48 277.63,-358.32\"/>\n<polygon fill=\"black\" stroke=\"black\" points=\"780.58,-542.28 791,-540.37 781.66,-535.37 780.58,-542.28\"/>\n<polygon fill=\"black\" stroke=\"black\" points=\"281.07,-357.69 275.64,-348.59 274.21,-359.09 281.07,-357.69\"/>\n<text text-anchor=\"middle\" x=\"460.75\" y=\"-437.43\" font-family=\"Times,serif\" font-size=\"12.00\">0.485</text>\n<text text-anchor=\"middle\" x=\"460.75\" y=\"-423.18\" font-family=\"Times,serif\" font-size=\"12.00\">p&#45;val: 0.00</text>\n</g>\n<!-- QF&#45;&gt;S -->\n<g id=\"edge2\" class=\"edge\">\n<title>QF&#45;&gt;S</title>\n<path fill=\"none\" stroke=\"black\" d=\"M812.02,-522.14C803.49,-465.68 780.01,-318.07 765.25,-301.5 708.25,-237.51 600.01,-223.61 547.83,-220.69\"/>\n<polygon fill=\"black\" stroke=\"black\" points=\"548.08,-217.2 537.93,-220.25 547.77,-224.19 548.08,-217.2\"/>\n<text text-anchor=\"middle\" x=\"815.75\" y=\"-381.98\" font-family=\"Times,serif\" font-size=\"12.00\">0.194</text>\n<text text-anchor=\"middle\" x=\"815.75\" y=\"-367.73\" font-family=\"Times,serif\" font-size=\"12.00\">p&#45;val: 0.00</text>\n</g>\n<!-- QT -->\n<g id=\"node5\" class=\"node\">\n<title>QT</title>\n<ellipse fill=\"#cae6df\" stroke=\"black\" cx=\"518.25\" cy=\"-434.58\" rx=\"23.2\" ry=\"23.2\"/>\n<text text-anchor=\"middle\" x=\"518.25\" y=\"-429.53\" font-family=\"Times,serif\" font-size=\"14.00\">QT</text>\n</g>\n<!-- QF&#45;&gt;QT -->\n<g id=\"edge27\" class=\"edge\">\n<title>QF&#45;&gt;QT</title>\n<path fill=\"none\" stroke=\"black\" stroke-dasharray=\"5,2\" d=\"M783.39,-532.35C726.4,-511.55 607.6,-468.19 550.4,-447.31\"/>\n<polygon fill=\"black\" stroke=\"black\" points=\"781.87,-535.52 792.47,-535.66 784.27,-528.94 781.87,-535.52\"/>\n<polygon fill=\"black\" stroke=\"black\" points=\"551.83,-444.11 541.24,-443.97 549.43,-450.69 551.83,-444.11\"/>\n<text text-anchor=\"middle\" x=\"727.59\" y=\"-492.88\" font-family=\"Times,serif\" font-size=\"12.00\">0.507</text>\n<text text-anchor=\"middle\" x=\"727.59\" y=\"-478.63\" font-family=\"Times,serif\" font-size=\"12.00\">p&#45;val: 0.00</text>\n</g>\n<!-- P1_6_QF -->\n<g id=\"node15\" class=\"node\">\n<title>P1_6_QF</title>\n<polygon fill=\"none\" stroke=\"black\" points=\"880.12,-452.58 812.38,-452.58 812.38,-416.58 880.12,-416.58 880.12,-452.58\"/>\n<text text-anchor=\"middle\" x=\"846.25\" y=\"-429.53\" font-family=\"Times,serif\" font-size=\"14.00\">P1_6_QF</text>\n</g>\n<!-- QF&#45;&gt;P1_6_QF -->\n<g id=\"edge10\" class=\"edge\">\n<title>QF&#45;&gt;P1_6_QF</title>\n<path fill=\"none\" stroke=\"black\" d=\"M821.3,-522.82C826.12,-505.96 832.92,-482.2 838.2,-463.74\"/>\n<polygon fill=\"black\" stroke=\"black\" points=\"841.54,-464.8 840.92,-454.22 834.81,-462.87 841.54,-464.8\"/>\n<text text-anchor=\"middle\" x=\"847.94\" y=\"-485.76\" font-family=\"Times,serif\" font-size=\"12.00\">0.661</text>\n</g>\n<!-- P1_7_QF -->\n<g id=\"node16\" class=\"node\">\n<title>P1_7_QF</title>\n<polygon fill=\"none\" stroke=\"black\" points=\"966.12,-452.58 898.38,-452.58 898.38,-416.58 966.12,-416.58 966.12,-452.58\"/>\n<text text-anchor=\"middle\" x=\"932.25\" y=\"-429.53\" font-family=\"Times,serif\" font-size=\"14.00\">P1_7_QF</text>\n</g>\n<!-- QF&#45;&gt;P1_7_QF -->\n<g id=\"edge11\" class=\"edge\">\n<title>QF&#45;&gt;P1_7_QF</title>\n<path fill=\"none\" stroke=\"black\" d=\"M833.29,-530.55C843,-523.09 855.05,-513.49 865.25,-504.28 880.36,-490.64 896.32,-474.36 908.87,-461.08\"/>\n<polygon fill=\"black\" stroke=\"black\" points=\"911.27,-463.63 915.54,-453.94 906.15,-458.85 911.27,-463.63\"/>\n<text text-anchor=\"middle\" x=\"919.18\" y=\"-492.88\" font-family=\"Times,serif\" font-size=\"12.00\">0.836</text>\n<text text-anchor=\"middle\" x=\"919.18\" y=\"-478.63\" font-family=\"Times,serif\" font-size=\"12.00\">p&#45;val: 0.00</text>\n</g>\n<!-- P1_8_QF -->\n<g id=\"node17\" class=\"node\">\n<title>P1_8_QF</title>\n<polygon fill=\"none\" stroke=\"black\" points=\"1052.12,-452.58 984.38,-452.58 984.38,-416.58 1052.12,-416.58 1052.12,-452.58\"/>\n<text text-anchor=\"middle\" x=\"1018.25\" y=\"-429.53\" font-family=\"Times,serif\" font-size=\"14.00\">P1_8_QF</text>\n</g>\n<!-- QF&#45;&gt;P1_8_QF -->\n<g id=\"edge12\" class=\"edge\">\n<title>QF&#45;&gt;P1_8_QF</title>\n<path fill=\"none\" stroke=\"black\" d=\"M837.76,-540.68C865.34,-535.9 912.76,-525.22 948.25,-504.28 967.07,-493.18 984.62,-475.94 997.44,-461.51\"/>\n<polygon fill=\"black\" stroke=\"black\" points=\"999.93,-463.98 1003.79,-454.11 994.62,-459.42 999.93,-463.98\"/>\n<text text-anchor=\"middle\" x=\"1009.2\" y=\"-492.88\" font-family=\"Times,serif\" font-size=\"12.00\">0.634</text>\n<text text-anchor=\"middle\" x=\"1009.2\" y=\"-478.63\" font-family=\"Times,serif\" font-size=\"12.00\">p&#45;val: 0.00</text>\n</g>\n<!-- S&#45;&gt;L -->\n<g id=\"edge4\" class=\"edge\">\n<title>S&#45;&gt;L</title>\n<path fill=\"none\" stroke=\"black\" d=\"M500.34,-215.91C477.71,-212.48 438.54,-203.81 412.25,-183 400.04,-173.34 390.7,-158.74 384.22,-145.97\"/>\n<polygon fill=\"black\" stroke=\"black\" points=\"387.51,-144.75 380.09,-137.19 381.18,-147.73 387.51,-144.75\"/>\n<text text-anchor=\"middle\" x=\"437.75\" y=\"-171.6\" font-family=\"Times,serif\" font-size=\"12.00\">0.660</text>\n<text text-anchor=\"middle\" x=\"437.75\" y=\"-157.35\" font-family=\"Times,serif\" font-size=\"12.00\">p&#45;val: 0.00</text>\n</g>\n<!-- P3_1_S -->\n<g id=\"node18\" class=\"node\">\n<title>P3_1_S</title>\n<polygon fill=\"none\" stroke=\"black\" points=\"471.25,-136.5 413.25,-136.5 413.25,-100.5 471.25,-100.5 471.25,-136.5\"/>\n<text text-anchor=\"middle\" x=\"442.25\" y=\"-113.45\" font-family=\"Times,serif\" font-size=\"14.00\">P3_1_S</text>\n</g>\n<!-- S&#45;&gt;P3_1_S -->\n<g id=\"edge17\" class=\"edge\">\n<title>S&#45;&gt;P3_1_S</title>\n<path fill=\"none\" stroke=\"black\" d=\"M506.42,-205.32C500.49,-198.8 493.3,-190.63 487.25,-183 477.87,-171.17 468.1,-157.58 460.08,-146.01\"/>\n<polygon fill=\"black\" stroke=\"black\" points=\"463.19,-144.36 454.65,-138.09 457.42,-148.32 463.19,-144.36\"/>\n<text text-anchor=\"middle\" x=\"500.75\" y=\"-164.47\" font-family=\"Times,serif\" font-size=\"12.00\">0.882</text>\n</g>\n<!-- P3_2_S -->\n<g id=\"node19\" class=\"node\">\n<title>P3_2_S</title>\n<polygon fill=\"none\" stroke=\"black\" points=\"547.25,-136.5 489.25,-136.5 489.25,-100.5 547.25,-100.5 547.25,-136.5\"/>\n<text text-anchor=\"middle\" x=\"518.25\" y=\"-113.45\" font-family=\"Times,serif\" font-size=\"14.00\">P3_2_S</text>\n</g>\n<!-- S&#45;&gt;P3_2_S -->\n<g id=\"edge18\" class=\"edge\">\n<title>S&#45;&gt;P3_2_S</title>\n<path fill=\"none\" stroke=\"black\" d=\"M518.25,-200.84C518.25,-186.24 518.25,-164.98 518.25,-147.85\"/>\n<polygon fill=\"black\" stroke=\"black\" points=\"521.75,-148.3 518.25,-138.3 514.75,-148.3 521.75,-148.3\"/>\n<text text-anchor=\"middle\" x=\"543.75\" y=\"-171.6\" font-family=\"Times,serif\" font-size=\"12.00\">0.852</text>\n<text text-anchor=\"middle\" x=\"543.75\" y=\"-157.35\" font-family=\"Times,serif\" font-size=\"12.00\">p&#45;val: 0.00</text>\n</g>\n<!-- P3_3_S -->\n<g id=\"node20\" class=\"node\">\n<title>P3_3_S</title>\n<polygon fill=\"none\" stroke=\"black\" points=\"623.25,-136.5 565.25,-136.5 565.25,-100.5 623.25,-100.5 623.25,-136.5\"/>\n<text text-anchor=\"middle\" x=\"594.25\" y=\"-113.45\" font-family=\"Times,serif\" font-size=\"14.00\">P3_3_S</text>\n</g>\n<!-- S&#45;&gt;P3_3_S -->\n<g id=\"edge19\" class=\"edge\">\n<title>S&#45;&gt;P3_3_S</title>\n<path fill=\"none\" stroke=\"black\" d=\"M534.77,-210.91C546.7,-205.02 562.4,-195.58 572.25,-183 580.18,-172.87 585.36,-159.69 588.69,-147.97\"/>\n<polygon fill=\"black\" stroke=\"black\" points=\"592.06,-148.91 591.07,-138.36 585.27,-147.22 592.06,-148.91\"/>\n<text text-anchor=\"middle\" x=\"611.84\" y=\"-171.6\" font-family=\"Times,serif\" font-size=\"12.00\">0.912</text>\n<text text-anchor=\"middle\" x=\"611.84\" y=\"-157.35\" font-family=\"Times,serif\" font-size=\"12.00\">p&#45;val: 0.00</text>\n</g>\n<!-- P3_4_S -->\n<g id=\"node21\" class=\"node\">\n<title>P3_4_S</title>\n<polygon fill=\"none\" stroke=\"black\" points=\"699.25,-136.5 641.25,-136.5 641.25,-100.5 699.25,-100.5 699.25,-136.5\"/>\n<text text-anchor=\"middle\" x=\"670.25\" y=\"-113.45\" font-family=\"Times,serif\" font-size=\"14.00\">P3_4_S</text>\n</g>\n<!-- S&#45;&gt;P3_4_S -->\n<g id=\"edge20\" class=\"edge\">\n<title>S&#45;&gt;P3_4_S</title>\n<path fill=\"none\" stroke=\"black\" d=\"M536.32,-217.46C562.44,-215.77 610.94,-209.04 641.25,-183 651.88,-173.87 658.82,-160.03 663.24,-147.61\"/>\n<polygon fill=\"black\" stroke=\"black\" points=\"666.53,-148.8 666.17,-138.21 659.85,-146.71 666.53,-148.8\"/>\n<text text-anchor=\"middle\" x=\"685.73\" y=\"-171.6\" font-family=\"Times,serif\" font-size=\"12.00\">0.870</text>\n<text text-anchor=\"middle\" x=\"685.73\" y=\"-157.35\" font-family=\"Times,serif\" font-size=\"12.00\">p&#45;val: 0.00</text>\n</g>\n<!-- QT&#45;&gt;QS -->\n<g id=\"edge26\" class=\"edge\">\n<title>QT&#45;&gt;QS</title>\n<path fill=\"none\" stroke=\"black\" stroke-dasharray=\"5,2\" d=\"M483.23,-433.22C442.8,-431.29 375.66,-423.34 327.25,-393.38 311.85,-383.85 299.03,-368.29 289.76,-354.44\"/>\n<polygon fill=\"black\" stroke=\"black\" points=\"482.99,-436.71 493.11,-433.58 483.25,-429.72 482.99,-436.71\"/>\n<polygon fill=\"black\" stroke=\"black\" points=\"292.75,-352.62 284.45,-346.04 286.83,-356.37 292.75,-352.62\"/>\n<text text-anchor=\"middle\" x=\"352.75\" y=\"-381.98\" font-family=\"Times,serif\" font-size=\"12.00\">0.480</text>\n<text text-anchor=\"middle\" x=\"352.75\" y=\"-367.73\" font-family=\"Times,serif\" font-size=\"12.00\">p&#45;val: 0.00</text>\n</g>\n<!-- QT&#45;&gt;S -->\n<g id=\"edge3\" class=\"edge\">\n<title>QT&#45;&gt;S</title>\n<path fill=\"none\" stroke=\"black\" d=\"M518.25,-411.13C518.25,-372.05 518.25,-291.62 518.25,-248.61\"/>\n<polygon fill=\"black\" stroke=\"black\" points=\"521.75,-248.8 518.25,-238.8 514.75,-248.8 521.75,-248.8\"/>\n<text text-anchor=\"middle\" x=\"543.75\" y=\"-327.04\" font-family=\"Times,serif\" font-size=\"12.00\">0.178</text>\n<text text-anchor=\"middle\" x=\"543.75\" y=\"-312.79\" font-family=\"Times,serif\" font-size=\"12.00\">p&#45;val: 0.00</text>\n</g>\n<!-- P1_10_QT -->\n<g id=\"node6\" class=\"node\">\n<title>P1_10_QT</title>\n<polygon fill=\"none\" stroke=\"black\" points=\"388.88,-342.19 313.62,-342.19 313.62,-306.19 388.88,-306.19 388.88,-342.19\"/>\n<text text-anchor=\"middle\" x=\"351.25\" y=\"-319.14\" font-family=\"Times,serif\" font-size=\"14.00\">P1_10_QT</text>\n</g>\n<!-- QT&#45;&gt;P1_10_QT -->\n<g id=\"edge13\" class=\"edge\">\n<title>QT&#45;&gt;P1_10_QT</title>\n<path fill=\"none\" stroke=\"black\" d=\"M495.66,-428.38C473.13,-422.45 438.21,-411.21 412.25,-393.38 395.87,-382.13 380.93,-365.59 369.93,-351.61\"/>\n<polygon fill=\"black\" stroke=\"black\" points=\"372.73,-349.51 363.9,-343.65 367.15,-353.73 372.73,-349.51\"/>\n<text text-anchor=\"middle\" x=\"425.75\" y=\"-374.86\" font-family=\"Times,serif\" font-size=\"12.00\">0.680</text>\n</g>\n<!-- P1_11_QT -->\n<g id=\"node7\" class=\"node\">\n<title>P1_11_QT</title>\n<polygon fill=\"none\" stroke=\"black\" points=\"481.88,-342.19 406.62,-342.19 406.62,-306.19 481.88,-306.19 481.88,-342.19\"/>\n<text text-anchor=\"middle\" x=\"444.25\" y=\"-319.14\" font-family=\"Times,serif\" font-size=\"14.00\">P1_11_QT</text>\n</g>\n<!-- QT&#45;&gt;P1_11_QT -->\n<g id=\"edge14\" class=\"edge\">\n<title>QT&#45;&gt;P1_11_QT</title>\n<path fill=\"none\" stroke=\"black\" d=\"M496.52,-425.91C481.83,-419.54 463.34,-408.98 453.25,-393.38 445.75,-381.79 443.19,-366.76 442.64,-353.76\"/>\n<polygon fill=\"black\" stroke=\"black\" points=\"446.14,-354.06 442.61,-344.07 439.14,-354.08 446.14,-354.06\"/>\n<text text-anchor=\"middle\" x=\"478.75\" y=\"-381.98\" font-family=\"Times,serif\" font-size=\"12.00\">0.898</text>\n<text text-anchor=\"middle\" x=\"478.75\" y=\"-367.73\" font-family=\"Times,serif\" font-size=\"12.00\">p&#45;val: 0.00</text>\n</g>\n<!-- P1_12_QT -->\n<g id=\"node8\" class=\"node\">\n<title>P1_12_QT</title>\n<polygon fill=\"none\" stroke=\"black\" points=\"662.88,-342.19 587.62,-342.19 587.62,-306.19 662.88,-306.19 662.88,-342.19\"/>\n<text text-anchor=\"middle\" x=\"625.25\" y=\"-319.14\" font-family=\"Times,serif\" font-size=\"14.00\">P1_12_QT</text>\n</g>\n<!-- QT&#45;&gt;P1_12_QT -->\n<g id=\"edge15\" class=\"edge\">\n<title>QT&#45;&gt;P1_12_QT</title>\n<path fill=\"none\" stroke=\"black\" d=\"M534.04,-417.59C551.41,-399.99 579.57,-371.46 600.02,-350.75\"/>\n<polygon fill=\"black\" stroke=\"black\" points=\"602.38,-353.34 606.91,-343.77 597.4,-348.42 602.38,-353.34\"/>\n<text text-anchor=\"middle\" x=\"609.98\" y=\"-381.98\" font-family=\"Times,serif\" font-size=\"12.00\">0.823</text>\n<text text-anchor=\"middle\" x=\"609.98\" y=\"-367.73\" font-family=\"Times,serif\" font-size=\"12.00\">p&#45;val: 0.00</text>\n</g>\n<!-- P1_13_QT -->\n<g id=\"node9\" class=\"node\">\n<title>P1_13_QT</title>\n<polygon fill=\"none\" stroke=\"black\" points=\"755.88,-342.19 680.62,-342.19 680.62,-306.19 755.88,-306.19 755.88,-342.19\"/>\n<text text-anchor=\"middle\" x=\"718.25\" y=\"-319.14\" font-family=\"Times,serif\" font-size=\"14.00\">P1_13_QT</text>\n</g>\n<!-- QT&#45;&gt;P1_13_QT -->\n<g id=\"edge16\" class=\"edge\">\n<title>QT&#45;&gt;P1_13_QT</title>\n<path fill=\"none\" stroke=\"black\" d=\"M541.21,-428.79C566.4,-422.9 607.49,-411.42 639.25,-393.38 659.53,-381.86 679.39,-364.69 694.13,-350.45\"/>\n<polygon fill=\"black\" stroke=\"black\" points=\"696.46,-353.07 701.1,-343.54 691.53,-348.1 696.46,-353.07\"/>\n<text text-anchor=\"middle\" x=\"703.86\" y=\"-381.98\" font-family=\"Times,serif\" font-size=\"12.00\">0.748</text>\n<text text-anchor=\"middle\" x=\"703.86\" y=\"-367.73\" font-family=\"Times,serif\" font-size=\"12.00\">p&#45;val: 0.00</text>\n</g>\n</g>\n</svg>\n",
      "text/plain": [
       "<graphviz.graphs.Digraph at 0x13130e260>"
      ]
     },
     "execution_count": 7,
     "metadata": {},
     "output_type": "execute_result"
    }
   ],
   "execution_count": 7
  },
  {
   "metadata": {},
   "cell_type": "markdown",
   "source": [
    "### R squared\n",
    "Computes $R^2$ for Satisfaction (S) and Loyalty (L) using the standardized betas\n",
    "\n",
    "$R^{2}= \\boldsymbol\\beta^{\\mkern-2mu\\top} \\mathbf R_{XX}\\boldsymbol\\beta$"
   ],
   "id": "a2387786e1f87d99"
  },
  {
   "metadata": {
    "ExecuteTime": {
     "end_time": "2025-07-09T12:45:28.371009Z",
     "start_time": "2025-07-09T12:45:28.356067Z"
    }
   },
   "cell_type": "code",
   "source": [
    "import numpy as np\n",
    "\n",
    "paths = (model.inspect(std_est=True)\n",
    "             .query(\"op == '~'\")\n",
    "             .set_index(['lval','rval']))\n",
    "\n",
    "factor_scores = model.predict_factors(clean_df)"
   ],
   "id": "2b1aad805e82e484",
   "outputs": [],
   "execution_count": 8
  },
  {
   "metadata": {
    "ExecuteTime": {
     "end_time": "2025-07-09T12:45:28.413911Z",
     "start_time": "2025-07-09T12:45:28.409664Z"
    }
   },
   "cell_type": "code",
   "source": [
    "def latent_R2(target, predictors, paths, factor_scores):\n",
    "    \"\"\"\n",
    "    Compute R squared for an endogenous latent variable, give n latent predictors.\n",
    "    \"\"\"\n",
    "    beta = paths.loc[(target, predictors), 'Est. Std'].values.astype(float)\n",
    "\n",
    "    R_xx = np.corrcoef(factor_scores[predictors].T)\n",
    "\n",
    "    if np.ndim(R_xx) == 0:\n",
    "        return float(beta[0] ** 2)\n",
    "\n",
    "    return float(beta @ R_xx @ beta)"
   ],
   "id": "ec2dc46649bcdca4",
   "outputs": [],
   "execution_count": 9
  },
  {
   "metadata": {
    "ExecuteTime": {
     "end_time": "2025-07-09T12:45:28.457168Z",
     "start_time": "2025-07-09T12:45:28.447296Z"
    }
   },
   "cell_type": "code",
   "source": [
    "R2_S = latent_R2('S', ['QS', 'QF', 'QT'], paths, factor_scores)\n",
    "R2_S"
   ],
   "id": "672cef7d861eccd9",
   "outputs": [
    {
     "data": {
      "text/plain": [
       "0.5783830648107231"
      ]
     },
     "execution_count": 10,
     "metadata": {},
     "output_type": "execute_result"
    }
   ],
   "execution_count": 10
  },
  {
   "metadata": {
    "ExecuteTime": {
     "end_time": "2025-07-09T12:45:28.491038Z",
     "start_time": "2025-07-09T12:45:28.474461Z"
    }
   },
   "cell_type": "code",
   "source": [
    "R2_L = latent_R2('L', ['S'], paths, factor_scores)\n",
    "R2_L"
   ],
   "id": "4622c4bae77a2890",
   "outputs": [
    {
     "data": {
      "text/plain": [
       "0.4358674480103058"
      ]
     },
     "execution_count": 11,
     "metadata": {},
     "output_type": "execute_result"
    }
   ],
   "execution_count": 11
  },
  {
   "metadata": {},
   "cell_type": "markdown",
   "source": "### Indirect Effects",
   "id": "d687aac292c0f01f"
  },
  {
   "metadata": {
    "ExecuteTime": {
     "end_time": "2025-07-09T12:45:28.603030Z",
     "start_time": "2025-07-09T12:45:28.539505Z"
    }
   },
   "cell_type": "code",
   "source": [
    "paths = (\n",
    "    model.inspect(std_est=True, se_robust=True)\n",
    "         .query(\"op == '~'\")\n",
    "         .set_index(['lval', 'rval'])\n",
    ")"
   ],
   "id": "4f354832aa57c81c",
   "outputs": [],
   "execution_count": 12
  },
  {
   "metadata": {},
   "cell_type": "markdown",
   "source": "#### Mediator-to-outcome path (M -> Y)",
   "id": "5b3d76f3860157e9"
  },
  {
   "metadata": {
    "ExecuteTime": {
     "end_time": "2025-07-09T12:45:28.636470Z",
     "start_time": "2025-07-09T12:45:28.631120Z"
    }
   },
   "cell_type": "code",
   "source": [
    "b_path_coefficient = float(\n",
    "    paths.loc[('L', 'S'), 'Est. Std']\n",
    ")\n",
    "b_path_standard_error = float(\n",
    "    paths.loc[('L', 'S'), 'Std. Err']\n",
    ")"
   ],
   "id": "ae9edb91f7dadef",
   "outputs": [],
   "execution_count": 13
  },
  {
   "metadata": {},
   "cell_type": "markdown",
   "source": [
    "#### Predictor-to-mediator paths (X -> M)\n",
    "\n",
    "Sobel's z test for mediation is calculated as:\n",
    "$Z = \\frac{a \\cdot b}{SE_{ab}}\n",
    "= \\frac{a \\cdot b}{\\sqrt{b^2 \\cdot SE_a^2 + a^2 \\cdot SE_b^2}}$\n",
    "\n",
    "Where:\n",
    "- a = path coefficient from X -> M\n",
    "- b = path coefficient from M -> Y\n",
    "- $SE_a$ = standard error of a\n",
    "- $SE_b$ = standard error of b\n",
    "\n",
    "Abu-Bader, S., & Jones, T. V. (2021). Statistical mediation analysis using the Sobel test and Hayes SPSS Process Macro. International Journal of Quantitative and Qualitative Research Methods, 9(1), 42–61."
   ],
   "id": "9fd2c668d8e2be8d"
  },
  {
   "metadata": {
    "ExecuteTime": {
     "end_time": "2025-07-09T12:45:28.670246Z",
     "start_time": "2025-07-09T12:45:28.664681Z"
    }
   },
   "cell_type": "code",
   "source": [
    "import math\n",
    "from scipy.stats import norm\n",
    "\n",
    "results = []\n",
    "for predictor in ['QS', 'QF', 'QT']:\n",
    "    a_path_coefficient = float(\n",
    "        paths.loc[('S', predictor), 'Estimate']\n",
    "    )\n",
    "    a_path_standard_error = float(\n",
    "        paths.loc[('S', predictor), 'Std. Err']\n",
    "    )\n",
    "\n",
    "    # Indirect effect = a * b\n",
    "    indirect_effect = a_path_coefficient * b_path_coefficient\n",
    "\n",
    "    # Sobel standard error: sqrt(b^2 * SE_a^2 + a^2 * SE_b^2)\n",
    "    indirect_se = math.sqrt(\n",
    "        (b_path_coefficient ** 2) * (a_path_standard_error ** 2) +\n",
    "        (a_path_coefficient ** 2) * (b_path_standard_error ** 2)\n",
    "    )\n",
    "\n",
    "    z_value = indirect_effect / indirect_se\n",
    "    p_value = 2 * (1 - norm.cdf(abs(z_value)))\n",
    "\n",
    "    results.append({\n",
    "        'Path': f'{predictor} -> L (via S)',\n",
    "        'Indirect Effect': round(indirect_effect, 3),\n",
    "        'Standard Error':  round(indirect_se, 3),\n",
    "        'z-value':         round(z_value, 2),\n",
    "        'p-value':         round(p_value, 4)\n",
    "    })"
   ],
   "id": "df700ae8d203492e",
   "outputs": [],
   "execution_count": 14
  },
  {
   "metadata": {
    "ExecuteTime": {
     "end_time": "2025-07-09T12:45:28.708513Z",
     "start_time": "2025-07-09T12:45:28.697994Z"
    }
   },
   "cell_type": "code",
   "source": [
    "indirect_effects_df = pd.DataFrame(results)\n",
    "indirect_effects_df"
   ],
   "id": "f19c2530b4691973",
   "outputs": [
    {
     "data": {
      "text/plain": [
       "              Path  Indirect Effect  Standard Error  z-value  p-value\n",
       "0  QS -> L (via S)            0.315           0.044     7.16   0.0000\n",
       "1  QF -> L (via S)            0.174           0.059     2.97   0.0030\n",
       "2  QT -> L (via S)            0.126           0.037     3.44   0.0006"
      ],
      "text/html": [
       "<div>\n",
       "<style scoped>\n",
       "    .dataframe tbody tr th:only-of-type {\n",
       "        vertical-align: middle;\n",
       "    }\n",
       "\n",
       "    .dataframe tbody tr th {\n",
       "        vertical-align: top;\n",
       "    }\n",
       "\n",
       "    .dataframe thead th {\n",
       "        text-align: right;\n",
       "    }\n",
       "</style>\n",
       "<table border=\"1\" class=\"dataframe\">\n",
       "  <thead>\n",
       "    <tr style=\"text-align: right;\">\n",
       "      <th></th>\n",
       "      <th>Path</th>\n",
       "      <th>Indirect Effect</th>\n",
       "      <th>Standard Error</th>\n",
       "      <th>z-value</th>\n",
       "      <th>p-value</th>\n",
       "    </tr>\n",
       "  </thead>\n",
       "  <tbody>\n",
       "    <tr>\n",
       "      <th>0</th>\n",
       "      <td>QS -&gt; L (via S)</td>\n",
       "      <td>0.315</td>\n",
       "      <td>0.044</td>\n",
       "      <td>7.16</td>\n",
       "      <td>0.0000</td>\n",
       "    </tr>\n",
       "    <tr>\n",
       "      <th>1</th>\n",
       "      <td>QF -&gt; L (via S)</td>\n",
       "      <td>0.174</td>\n",
       "      <td>0.059</td>\n",
       "      <td>2.97</td>\n",
       "      <td>0.0030</td>\n",
       "    </tr>\n",
       "    <tr>\n",
       "      <th>2</th>\n",
       "      <td>QT -&gt; L (via S)</td>\n",
       "      <td>0.126</td>\n",
       "      <td>0.037</td>\n",
       "      <td>3.44</td>\n",
       "      <td>0.0006</td>\n",
       "    </tr>\n",
       "  </tbody>\n",
       "</table>\n",
       "</div>"
      ]
     },
     "execution_count": 15,
     "metadata": {},
     "output_type": "execute_result"
    }
   ],
   "execution_count": 15
  },
  {
   "metadata": {},
   "cell_type": "markdown",
   "source": "# Final Analysis",
   "id": "ddb1d1d79d3048e3"
  },
  {
   "metadata": {
    "ExecuteTime": {
     "end_time": "2025-07-09T12:45:28.765251Z",
     "start_time": "2025-07-09T12:45:28.760457Z"
    }
   },
   "cell_type": "code",
   "source": "direct_effects_df",
   "id": "f6fc68406e9932c3",
   "outputs": [
    {
     "data": {
      "text/plain": [
       "  Outcome Predictor      beta   p-value    t-value hypothesis_result\n",
       "2       S        QT  0.177666  0.000178   3.747854         Supported\n",
       "1       S        QF  0.194342  0.000152   3.787914         Supported\n",
       "0       S        QS  0.510324       0.0  10.199336         Supported\n",
       "3       L         S  0.660203       0.0  14.720154         Supported"
      ],
      "text/html": [
       "<div>\n",
       "<style scoped>\n",
       "    .dataframe tbody tr th:only-of-type {\n",
       "        vertical-align: middle;\n",
       "    }\n",
       "\n",
       "    .dataframe tbody tr th {\n",
       "        vertical-align: top;\n",
       "    }\n",
       "\n",
       "    .dataframe thead th {\n",
       "        text-align: right;\n",
       "    }\n",
       "</style>\n",
       "<table border=\"1\" class=\"dataframe\">\n",
       "  <thead>\n",
       "    <tr style=\"text-align: right;\">\n",
       "      <th></th>\n",
       "      <th>Outcome</th>\n",
       "      <th>Predictor</th>\n",
       "      <th>beta</th>\n",
       "      <th>p-value</th>\n",
       "      <th>t-value</th>\n",
       "      <th>hypothesis_result</th>\n",
       "    </tr>\n",
       "  </thead>\n",
       "  <tbody>\n",
       "    <tr>\n",
       "      <th>2</th>\n",
       "      <td>S</td>\n",
       "      <td>QT</td>\n",
       "      <td>0.177666</td>\n",
       "      <td>0.000178</td>\n",
       "      <td>3.747854</td>\n",
       "      <td>Supported</td>\n",
       "    </tr>\n",
       "    <tr>\n",
       "      <th>1</th>\n",
       "      <td>S</td>\n",
       "      <td>QF</td>\n",
       "      <td>0.194342</td>\n",
       "      <td>0.000152</td>\n",
       "      <td>3.787914</td>\n",
       "      <td>Supported</td>\n",
       "    </tr>\n",
       "    <tr>\n",
       "      <th>0</th>\n",
       "      <td>S</td>\n",
       "      <td>QS</td>\n",
       "      <td>0.510324</td>\n",
       "      <td>0.0</td>\n",
       "      <td>10.199336</td>\n",
       "      <td>Supported</td>\n",
       "    </tr>\n",
       "    <tr>\n",
       "      <th>3</th>\n",
       "      <td>L</td>\n",
       "      <td>S</td>\n",
       "      <td>0.660203</td>\n",
       "      <td>0.0</td>\n",
       "      <td>14.720154</td>\n",
       "      <td>Supported</td>\n",
       "    </tr>\n",
       "  </tbody>\n",
       "</table>\n",
       "</div>"
      ]
     },
     "execution_count": 16,
     "metadata": {},
     "output_type": "execute_result"
    }
   ],
   "execution_count": 16
  },
  {
   "metadata": {
    "ExecuteTime": {
     "end_time": "2025-07-09T12:45:28.841052Z",
     "start_time": "2025-07-09T12:45:28.834122Z"
    }
   },
   "cell_type": "code",
   "source": "indirect_effects_df",
   "id": "a86883846e4e9363",
   "outputs": [
    {
     "data": {
      "text/plain": [
       "              Path  Indirect Effect  Standard Error  z-value  p-value\n",
       "0  QS -> L (via S)            0.315           0.044     7.16   0.0000\n",
       "1  QF -> L (via S)            0.174           0.059     2.97   0.0030\n",
       "2  QT -> L (via S)            0.126           0.037     3.44   0.0006"
      ],
      "text/html": [
       "<div>\n",
       "<style scoped>\n",
       "    .dataframe tbody tr th:only-of-type {\n",
       "        vertical-align: middle;\n",
       "    }\n",
       "\n",
       "    .dataframe tbody tr th {\n",
       "        vertical-align: top;\n",
       "    }\n",
       "\n",
       "    .dataframe thead th {\n",
       "        text-align: right;\n",
       "    }\n",
       "</style>\n",
       "<table border=\"1\" class=\"dataframe\">\n",
       "  <thead>\n",
       "    <tr style=\"text-align: right;\">\n",
       "      <th></th>\n",
       "      <th>Path</th>\n",
       "      <th>Indirect Effect</th>\n",
       "      <th>Standard Error</th>\n",
       "      <th>z-value</th>\n",
       "      <th>p-value</th>\n",
       "    </tr>\n",
       "  </thead>\n",
       "  <tbody>\n",
       "    <tr>\n",
       "      <th>0</th>\n",
       "      <td>QS -&gt; L (via S)</td>\n",
       "      <td>0.315</td>\n",
       "      <td>0.044</td>\n",
       "      <td>7.16</td>\n",
       "      <td>0.0000</td>\n",
       "    </tr>\n",
       "    <tr>\n",
       "      <th>1</th>\n",
       "      <td>QF -&gt; L (via S)</td>\n",
       "      <td>0.174</td>\n",
       "      <td>0.059</td>\n",
       "      <td>2.97</td>\n",
       "      <td>0.0030</td>\n",
       "    </tr>\n",
       "    <tr>\n",
       "      <th>2</th>\n",
       "      <td>QT -&gt; L (via S)</td>\n",
       "      <td>0.126</td>\n",
       "      <td>0.037</td>\n",
       "      <td>3.44</td>\n",
       "      <td>0.0006</td>\n",
       "    </tr>\n",
       "  </tbody>\n",
       "</table>\n",
       "</div>"
      ]
     },
     "execution_count": 17,
     "metadata": {},
     "output_type": "execute_result"
    }
   ],
   "execution_count": 17
  },
  {
   "metadata": {
    "ExecuteTime": {
     "end_time": "2025-07-09T12:45:28.959836Z",
     "start_time": "2025-07-09T12:45:28.956980Z"
    }
   },
   "cell_type": "code",
   "source": [
    "print(f\"R^2(S) = {R2_S:.3f}\")\n",
    "print(f\"R^2(L) = {R2_L:.3f}\")"
   ],
   "id": "33b9a1e886436e2c",
   "outputs": [
    {
     "name": "stdout",
     "output_type": "stream",
     "text": [
      "R^2(S) = 0.578\n",
      "R^2(L) = 0.436\n"
     ]
    }
   ],
   "execution_count": 18
  },
  {
   "metadata": {},
   "cell_type": "markdown",
   "source": [
    "1. H1 - Customer Service Quality (QS) positively influences Satisfaction (S)\n",
    "   1.  Supported: $\\beta = 0.510$, $p < 0.001$\n",
    "2. H2 - Financial Quality (QF) positively influences Satisfaction (S)\n",
    "   1.  Supported: $\\beta = 0.194$, $p < 0.001$\n",
    "3. H3 - Technical quality (QT) positively influences Satisfaction (S)\n",
    "   1.  Supported: $\\beta = 0.178$, $p < 0.001$\n",
    "4. H4 - Satisfaction (S) positively influences Loyalty (L)\n",
    "   1.  Supported: $\\beta = 0.660$, $p < 0.001$\n",
    "\n",
    "Model fit: $\\chi^2$/df = 3.76; CFI = .928; GFI = .904; TLI = .916; RMSEA = .075.\n",
    "All indices meet the conventional good‐fit thresholds (Hu & Bentler, 1999).\n",
    "\n",
    "Explained variance: $R^2$(S) = .578, $R^2$(L) = .436\n",
    "\n",
    "Direct effects:\n",
    "All three quality dimensions (QS, QF, QT) significantly positively influence Satisfaction ($\\beta = 0.510$, $p < 0.001$; $\\beta = 0.194$, $p < 0.001$; $\\beta = 0.178$, $p < 0.001$ respectively), together explaining almost 58 % of its variance, thus H1 - H3 are supported.\n",
    "(QS) is the dominant driver ($\\beta$ = 0.510), well above the medium-effect benchmark of .30 suggested by Cohen (1988).\n",
    "Satisfaction, in turn, strongly predicts Loyalty (L) ($\\beta$  = 0.660), accounting for 44 % of loyalty variance\n",
    "\n",
    "Indirect effects:\n",
    "QS, QF, and QT all have significant indirect effects on Loyalty through Satisfaction, with the strongest being from QS ($\\beta$ = 0.315, $p < 0.001$), followed by QF ($\\beta$ = 0.174, $p < 0.05$) and QT ($\\beta$ = 0.126, $p < 0.001$)."
   ],
   "id": "8c3e85c036152c4a"
  }
 ],
 "metadata": {
  "kernelspec": {
   "display_name": "Python 3 (ipykernel)",
   "language": "python",
   "name": "python3"
  },
  "language_info": {
   "codemirror_mode": {
    "name": "ipython",
    "version": 3
   },
   "file_extension": ".py",
   "mimetype": "text/x-python",
   "name": "python",
   "nbconvert_exporter": "python",
   "pygments_lexer": "ipython3",
   "version": "3.10.11"
  }
 },
 "nbformat": 4,
 "nbformat_minor": 5
}
