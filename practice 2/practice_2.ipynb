{
 "cells": [
  {
   "cell_type": "markdown",
   "id": "2686fb3a4fefcb90",
   "metadata": {},
   "source": [
    "# Practice 2: Structural Model\n",
    "\n",
    "## Objetives:\n",
    "1. Test the hypothesized model\n",
    "    1. H1 - Customer service quality(QS) positively influences Satisfaction (S)\n",
    "    2. H2 - Financial quality (QF) positively influences Satisfaction (S)\n",
    "    3. H3 - Technical quality (QT) positively influences Satisfaction (S)\n",
    "    4. H4 - Satisfaction (S) positively influences Loyalty (L)\n",
    "2. Report direct and indirect effects"
   ]
  },
  {
   "metadata": {},
   "cell_type": "markdown",
   "source": "## Data Preparation",
   "id": "ff629a8b552f2630"
  },
  {
   "metadata": {
    "ExecuteTime": {
     "end_time": "2025-07-09T16:02:25.560888Z",
     "start_time": "2025-07-09T16:02:25.158947Z"
    }
   },
   "cell_type": "code",
   "source": [
    "import pandas as pd\n",
    "import pyreadstat\n",
    "from pandas.core.interchange.dataframe_protocol import DataFrame\n",
    "\n",
    "raw_data_df, meta = pyreadstat.read_sav(\"../data/EXERCICIO_2025.sav\")\n",
    "raw_data_df.head()"
   ],
   "id": "f76fd2c9f0a24fd4",
   "outputs": [
    {
     "data": {
      "text/plain": [
       "   CASO   f1   f2   f3   f4   f5    f6    f7  P1.1_QA  P1.2_QA  ...   P7  P14  \\\n",
       "0   NaN  1.0  3.0  6.0  1.0  1.0  50.0  18.0      8.0      6.0  ...  3.0  2.0   \n",
       "1   NaN  1.0  1.0  5.0  1.0  1.0  36.0  35.0      8.0      7.0  ...  1.0  1.0   \n",
       "2   NaN  1.0  3.0  5.0  1.0  1.0  72.0  73.0     10.0     10.0  ...  2.0  2.0   \n",
       "3   NaN  1.0  3.0  9.0  1.0  1.0  24.0  27.0      6.0      6.0  ...  1.0  2.0   \n",
       "4   NaN  1.0  4.0  9.0  1.0  1.0  72.0  24.0      2.0      5.0  ...  2.0  1.0   \n",
       "\n",
       "     ltv2  tempo  clsocial  SATIS  LEAL  ATEND        FIN   TEC  \n",
       "0  1373.0   61.0       5.0   6.50   6.2    7.2   9.333333  8.50  \n",
       "1  1002.0   47.0       5.0   5.50   4.4    6.8   6.666667  8.00  \n",
       "2  2097.0   83.0       5.0   7.50   8.0    9.6  10.000000  8.00  \n",
       "3   802.0   35.0       4.0   6.25   6.2    6.4   7.666667  6.50  \n",
       "4  4835.0   78.0       4.0   5.25   4.4    4.4   5.666667  5.75  \n",
       "\n",
       "[5 rows x 45 columns]"
      ],
      "text/html": [
       "<div>\n",
       "<style scoped>\n",
       "    .dataframe tbody tr th:only-of-type {\n",
       "        vertical-align: middle;\n",
       "    }\n",
       "\n",
       "    .dataframe tbody tr th {\n",
       "        vertical-align: top;\n",
       "    }\n",
       "\n",
       "    .dataframe thead th {\n",
       "        text-align: right;\n",
       "    }\n",
       "</style>\n",
       "<table border=\"1\" class=\"dataframe\">\n",
       "  <thead>\n",
       "    <tr style=\"text-align: right;\">\n",
       "      <th></th>\n",
       "      <th>CASO</th>\n",
       "      <th>f1</th>\n",
       "      <th>f2</th>\n",
       "      <th>f3</th>\n",
       "      <th>f4</th>\n",
       "      <th>f5</th>\n",
       "      <th>f6</th>\n",
       "      <th>f7</th>\n",
       "      <th>P1.1_QA</th>\n",
       "      <th>P1.2_QA</th>\n",
       "      <th>...</th>\n",
       "      <th>P7</th>\n",
       "      <th>P14</th>\n",
       "      <th>ltv2</th>\n",
       "      <th>tempo</th>\n",
       "      <th>clsocial</th>\n",
       "      <th>SATIS</th>\n",
       "      <th>LEAL</th>\n",
       "      <th>ATEND</th>\n",
       "      <th>FIN</th>\n",
       "      <th>TEC</th>\n",
       "    </tr>\n",
       "  </thead>\n",
       "  <tbody>\n",
       "    <tr>\n",
       "      <th>0</th>\n",
       "      <td>NaN</td>\n",
       "      <td>1.0</td>\n",
       "      <td>3.0</td>\n",
       "      <td>6.0</td>\n",
       "      <td>1.0</td>\n",
       "      <td>1.0</td>\n",
       "      <td>50.0</td>\n",
       "      <td>18.0</td>\n",
       "      <td>8.0</td>\n",
       "      <td>6.0</td>\n",
       "      <td>...</td>\n",
       "      <td>3.0</td>\n",
       "      <td>2.0</td>\n",
       "      <td>1373.0</td>\n",
       "      <td>61.0</td>\n",
       "      <td>5.0</td>\n",
       "      <td>6.50</td>\n",
       "      <td>6.2</td>\n",
       "      <td>7.2</td>\n",
       "      <td>9.333333</td>\n",
       "      <td>8.50</td>\n",
       "    </tr>\n",
       "    <tr>\n",
       "      <th>1</th>\n",
       "      <td>NaN</td>\n",
       "      <td>1.0</td>\n",
       "      <td>1.0</td>\n",
       "      <td>5.0</td>\n",
       "      <td>1.0</td>\n",
       "      <td>1.0</td>\n",
       "      <td>36.0</td>\n",
       "      <td>35.0</td>\n",
       "      <td>8.0</td>\n",
       "      <td>7.0</td>\n",
       "      <td>...</td>\n",
       "      <td>1.0</td>\n",
       "      <td>1.0</td>\n",
       "      <td>1002.0</td>\n",
       "      <td>47.0</td>\n",
       "      <td>5.0</td>\n",
       "      <td>5.50</td>\n",
       "      <td>4.4</td>\n",
       "      <td>6.8</td>\n",
       "      <td>6.666667</td>\n",
       "      <td>8.00</td>\n",
       "    </tr>\n",
       "    <tr>\n",
       "      <th>2</th>\n",
       "      <td>NaN</td>\n",
       "      <td>1.0</td>\n",
       "      <td>3.0</td>\n",
       "      <td>5.0</td>\n",
       "      <td>1.0</td>\n",
       "      <td>1.0</td>\n",
       "      <td>72.0</td>\n",
       "      <td>73.0</td>\n",
       "      <td>10.0</td>\n",
       "      <td>10.0</td>\n",
       "      <td>...</td>\n",
       "      <td>2.0</td>\n",
       "      <td>2.0</td>\n",
       "      <td>2097.0</td>\n",
       "      <td>83.0</td>\n",
       "      <td>5.0</td>\n",
       "      <td>7.50</td>\n",
       "      <td>8.0</td>\n",
       "      <td>9.6</td>\n",
       "      <td>10.000000</td>\n",
       "      <td>8.00</td>\n",
       "    </tr>\n",
       "    <tr>\n",
       "      <th>3</th>\n",
       "      <td>NaN</td>\n",
       "      <td>1.0</td>\n",
       "      <td>3.0</td>\n",
       "      <td>9.0</td>\n",
       "      <td>1.0</td>\n",
       "      <td>1.0</td>\n",
       "      <td>24.0</td>\n",
       "      <td>27.0</td>\n",
       "      <td>6.0</td>\n",
       "      <td>6.0</td>\n",
       "      <td>...</td>\n",
       "      <td>1.0</td>\n",
       "      <td>2.0</td>\n",
       "      <td>802.0</td>\n",
       "      <td>35.0</td>\n",
       "      <td>4.0</td>\n",
       "      <td>6.25</td>\n",
       "      <td>6.2</td>\n",
       "      <td>6.4</td>\n",
       "      <td>7.666667</td>\n",
       "      <td>6.50</td>\n",
       "    </tr>\n",
       "    <tr>\n",
       "      <th>4</th>\n",
       "      <td>NaN</td>\n",
       "      <td>1.0</td>\n",
       "      <td>4.0</td>\n",
       "      <td>9.0</td>\n",
       "      <td>1.0</td>\n",
       "      <td>1.0</td>\n",
       "      <td>72.0</td>\n",
       "      <td>24.0</td>\n",
       "      <td>2.0</td>\n",
       "      <td>5.0</td>\n",
       "      <td>...</td>\n",
       "      <td>2.0</td>\n",
       "      <td>1.0</td>\n",
       "      <td>4835.0</td>\n",
       "      <td>78.0</td>\n",
       "      <td>4.0</td>\n",
       "      <td>5.25</td>\n",
       "      <td>4.4</td>\n",
       "      <td>4.4</td>\n",
       "      <td>5.666667</td>\n",
       "      <td>5.75</td>\n",
       "    </tr>\n",
       "  </tbody>\n",
       "</table>\n",
       "<p>5 rows × 45 columns</p>\n",
       "</div>"
      ]
     },
     "execution_count": 1,
     "metadata": {},
     "output_type": "execute_result"
    }
   ],
   "execution_count": 1
  },
  {
   "cell_type": "code",
   "id": "17ed44e012385cbc",
   "metadata": {
    "ExecuteTime": {
     "end_time": "2025-07-09T16:02:25.754837Z",
     "start_time": "2025-07-09T16:02:25.749371Z"
    }
   },
   "source": [
    "columns_to_filter = [\n",
    "    'P1.1_QA', 'P1.2_QA', 'P1.3_QA', 'P1.4_QA', 'P1.5_QA', 'P1.15_QA', 'P1.16_QA', 'P1.17_QA',\n",
    "    'P1.6_QC', 'P1.7_QC', 'P1.8_QC', 'P1.9_QC',\n",
    "    'P1.10_QT', 'P1.11_QT', 'P1.12_QT', 'P1.13_QT', 'P1.14_QT',\n",
    "    'P3.1_S', 'P3.2_S', 'P3.3_S', 'P3.4_S',\n",
    "    'P6.1_L', 'P6.2_L', 'P6.3_L', 'P6.4_L', 'P6.5_L', 'P6.6_L'\n",
    "]\n",
    "\n",
    "clean_df = raw_data_df[columns_to_filter].copy()\n",
    "\n",
    "clean_df.rename(columns=lambda c: c.replace('.', '_'), inplace=True)\n",
    "clean_df.rename(columns=lambda c: c.replace('C', 'F'), inplace=True)\n",
    "clean_df.rename(columns=lambda c: c.replace('A', 'S'), inplace=True)\n",
    "print(raw_data_df.shape)\n",
    "print(clean_df.shape)\n",
    "print(clean_df.isnull().sum())"
   ],
   "outputs": [
    {
     "name": "stdout",
     "output_type": "stream",
     "text": [
      "(493, 45)\n",
      "(493, 27)\n",
      "P1_1_QS     0\n",
      "P1_2_QS     0\n",
      "P1_3_QS     0\n",
      "P1_4_QS     0\n",
      "P1_5_QS     0\n",
      "P1_15_QS    0\n",
      "P1_16_QS    0\n",
      "P1_17_QS    0\n",
      "P1_6_QF     0\n",
      "P1_7_QF     0\n",
      "P1_8_QF     0\n",
      "P1_9_QF     0\n",
      "P1_10_QT    0\n",
      "P1_11_QT    0\n",
      "P1_12_QT    0\n",
      "P1_13_QT    0\n",
      "P1_14_QT    0\n",
      "P3_1_S      0\n",
      "P3_2_S      0\n",
      "P3_3_S      0\n",
      "P3_4_S      0\n",
      "P6_1_L      0\n",
      "P6_2_L      0\n",
      "P6_3_L      0\n",
      "P6_4_L      0\n",
      "P6_5_L      0\n",
      "P6_6_L      0\n",
      "dtype: int64\n"
     ]
    }
   ],
   "execution_count": 2
  },
  {
   "metadata": {},
   "cell_type": "markdown",
   "source": "## Refined Model",
   "id": "8fe1806356a370cb"
  },
  {
   "metadata": {},
   "cell_type": "markdown",
   "source": "### Modeling",
   "id": "6200a811b77c579"
  },
  {
   "metadata": {
    "ExecuteTime": {
     "end_time": "2025-07-09T16:02:27.028405Z",
     "start_time": "2025-07-09T16:02:25.801789Z"
    }
   },
   "cell_type": "code",
   "source": [
    "from semopy import Model\n",
    "model_description = \"\"\"\n",
    "QS =~ P1_1_QS + P1_2_QS + P1_4_QS + P1_5_QS + P1_16_QS\n",
    "QF =~ P1_6_QF + P1_7_QF + P1_8_QF\n",
    "QT =~ P1_10_QT + P1_11_QT + P1_12_QT + P1_13_QT\n",
    "S =~ P3_1_S + P3_2_S + P3_3_S + P3_4_S\n",
    "L =~ P6_1_L + P6_2_L + P6_3_L + P6_4_L\n",
    "\n",
    "S ~ QS + QF + QT\n",
    "L ~ S\n",
    "\"\"\"\n",
    "\n",
    "model = Model(model_description)\n",
    "solver_results = model.fit(clean_df)\n",
    "factor_scores = model.predict_factors(clean_df)\n",
    "print(solver_results)"
   ],
   "id": "d5c61aafd873685a",
   "outputs": [
    {
     "name": "stdout",
     "output_type": "stream",
     "text": [
      "Name of objective: MLW\n",
      "Optimization method: SLSQP\n",
      "Optimization successful.\n",
      "Optimization terminated successfully\n",
      "Objective value: 1.244\n",
      "Number of iterations: 46\n",
      "Params: 0.831 1.133 1.116 0.721 1.433 1.266 1.223 1.026 0.988 0.862 1.040 1.049 1.109 0.679 0.961 0.478 0.264 0.192 0.623 1.210 2.412 0.742 1.042 1.589 2.382 1.378 1.787 2.317 1.750 1.686 1.163 3.135 0.686 0.679 0.528 0.852 0.741 1.246 2.662 0.593 1.312 2.754 0.921 1.148 2.074 0.836 1.090\n"
     ]
    }
   ],
   "execution_count": 3
  },
  {
   "metadata": {},
   "cell_type": "markdown",
   "source": [
    "### Model Fit\n",
    "$\\chi^{2} / df < 5$\n",
    "\n",
    "CFI, GFI, TLI > 0.9\n",
    "\n",
    "RMSEA < 0,08"
   ],
   "id": "11d3ed3a7efd0c5a"
  },
  {
   "metadata": {
    "ExecuteTime": {
     "end_time": "2025-07-09T16:02:27.068139Z",
     "start_time": "2025-07-09T16:02:27.053027Z"
    }
   },
   "cell_type": "code",
   "source": [
    "from semopy import calc_stats\n",
    "\n",
    "refined_model_stats = calc_stats(model)\n",
    "refined_model_stats.T.loc[refined_model_stats.T.index.isin(['CFI', 'GFI', 'TLI', 'RMSEA'])]"
   ],
   "id": "4515c1b247104a77",
   "outputs": [
    {
     "data": {
      "text/plain": [
       "          Value\n",
       "CFI    0.927604\n",
       "GFI    0.904315\n",
       "TLI    0.915612\n",
       "RMSEA  0.074924"
      ],
      "text/html": [
       "<div>\n",
       "<style scoped>\n",
       "    .dataframe tbody tr th:only-of-type {\n",
       "        vertical-align: middle;\n",
       "    }\n",
       "\n",
       "    .dataframe tbody tr th {\n",
       "        vertical-align: top;\n",
       "    }\n",
       "\n",
       "    .dataframe thead th {\n",
       "        text-align: right;\n",
       "    }\n",
       "</style>\n",
       "<table border=\"1\" class=\"dataframe\">\n",
       "  <thead>\n",
       "    <tr style=\"text-align: right;\">\n",
       "      <th></th>\n",
       "      <th>Value</th>\n",
       "    </tr>\n",
       "  </thead>\n",
       "  <tbody>\n",
       "    <tr>\n",
       "      <th>CFI</th>\n",
       "      <td>0.927604</td>\n",
       "    </tr>\n",
       "    <tr>\n",
       "      <th>GFI</th>\n",
       "      <td>0.904315</td>\n",
       "    </tr>\n",
       "    <tr>\n",
       "      <th>TLI</th>\n",
       "      <td>0.915612</td>\n",
       "    </tr>\n",
       "    <tr>\n",
       "      <th>RMSEA</th>\n",
       "      <td>0.074924</td>\n",
       "    </tr>\n",
       "  </tbody>\n",
       "</table>\n",
       "</div>"
      ]
     },
     "execution_count": 4,
     "metadata": {},
     "output_type": "execute_result"
    }
   ],
   "execution_count": 4
  },
  {
   "metadata": {
    "ExecuteTime": {
     "end_time": "2025-07-09T16:02:27.159023Z",
     "start_time": "2025-07-09T16:02:27.156739Z"
    }
   },
   "cell_type": "code",
   "source": "print(f\"chi squared/degrees of freedom: {(refined_model_stats['chi2'] / refined_model_stats['DoF']).item():.6f}\")",
   "id": "ce0b01b4e6088e6f",
   "outputs": [
    {
     "name": "stdout",
     "output_type": "stream",
     "text": [
      "chi squared/degrees of freedom: 3.761902\n"
     ]
    }
   ],
   "execution_count": 5
  },
  {
   "metadata": {},
   "cell_type": "markdown",
   "source": "All cutoff criteria are satisfied, indicating a good fit of the model to the data.",
   "id": "a017eae91d120f65"
  },
  {
   "metadata": {},
   "cell_type": "markdown",
   "source": "### Model Graph",
   "id": "cb658f405caa8005"
  },
  {
   "metadata": {
    "ExecuteTime": {
     "end_time": "2025-07-09T16:02:27.561104Z",
     "start_time": "2025-07-09T16:02:27.217751Z"
    }
   },
   "cell_type": "code",
   "source": [
    "from semopy import semplot\n",
    "semplot(model, \"../practice 2/model.png\", std_ests=True, plot_covs=True)"
   ],
   "id": "177324ef4ec92e6f",
   "outputs": [
    {
     "data": {
      "image/svg+xml": "<?xml version=\"1.0\" encoding=\"UTF-8\" standalone=\"no\"?>\n<!DOCTYPE svg PUBLIC \"-//W3C//DTD SVG 1.1//EN\"\n \"http://www.w3.org/Graphics/SVG/1.1/DTD/svg11.dtd\">\n<!-- Generated by graphviz version 12.2.1 (20241206.2353)\n -->\n<!-- Title: G Pages: 1 -->\n<svg width=\"1240pt\" height=\"576pt\"\n viewBox=\"0.00 0.00 1240.12 575.66\" xmlns=\"http://www.w3.org/2000/svg\" xmlns:xlink=\"http://www.w3.org/1999/xlink\">\n<g id=\"graph0\" class=\"graph\" transform=\"scale(1 1) rotate(0) translate(4 571.66)\">\n<title>G</title>\n<polygon fill=\"white\" stroke=\"none\" points=\"-4,4 -4,-571.66 1236.12,-571.66 1236.12,4 -4,4\"/>\n<!-- QS -->\n<g id=\"node1\" class=\"node\">\n<title>QS</title>\n<ellipse fill=\"#cae6df\" stroke=\"black\" cx=\"335.25\" cy=\"-324.19\" rx=\"22.69\" ry=\"22.69\"/>\n<text text-anchor=\"middle\" x=\"335.25\" y=\"-319.14\" font-family=\"Times,serif\" font-size=\"14.00\">QS</text>\n</g>\n<!-- S -->\n<g id=\"node5\" class=\"node\">\n<title>S</title>\n<ellipse fill=\"#cae6df\" stroke=\"black\" cx=\"512.25\" cy=\"-219\" rx=\"18\" ry=\"18\"/>\n<text text-anchor=\"middle\" x=\"512.25\" y=\"-213.95\" font-family=\"Times,serif\" font-size=\"14.00\">S</text>\n</g>\n<!-- QS&#45;&gt;S -->\n<g id=\"edge1\" class=\"edge\">\n<title>QS&#45;&gt;S</title>\n<path fill=\"none\" stroke=\"black\" d=\"M357,-316.19C375.48,-309.58 402.13,-298.46 422.25,-283.5 435.77,-273.45 434.07,-265.49 447.25,-255 458.88,-245.74 473.32,-237.68 485.63,-231.64\"/>\n<polygon fill=\"black\" stroke=\"black\" points=\"486.85,-234.94 494.41,-227.52 483.87,-228.6 486.85,-234.94\"/>\n<text text-anchor=\"middle\" x=\"472.75\" y=\"-272.1\" font-family=\"Times,serif\" font-size=\"12.00\">0.510</text>\n<text text-anchor=\"middle\" x=\"472.75\" y=\"-257.85\" font-family=\"Times,serif\" font-size=\"12.00\">p&#45;val: 0.00</text>\n</g>\n<!-- P1_16_QS -->\n<g id=\"node10\" class=\"node\">\n<title>P1_16_QS</title>\n<polygon fill=\"none\" stroke=\"black\" points=\"74.5,-237 0,-237 0,-201 74.5,-201 74.5,-237\"/>\n<text text-anchor=\"middle\" x=\"37.25\" y=\"-213.95\" font-family=\"Times,serif\" font-size=\"14.00\">P1_16_QS</text>\n</g>\n<!-- QS&#45;&gt;P1_16_QS -->\n<g id=\"edge9\" class=\"edge\">\n<title>QS&#45;&gt;P1_16_QS</title>\n<path fill=\"none\" stroke=\"black\" d=\"M312.22,-323.77C268.56,-323.93 171.8,-319.76 101.25,-283.5 83.94,-274.61 68.35,-259.38 56.89,-246.06\"/>\n<polygon fill=\"black\" stroke=\"black\" points=\"59.67,-243.92 50.61,-238.42 54.26,-248.37 59.67,-243.92\"/>\n<text text-anchor=\"middle\" x=\"126.75\" y=\"-272.1\" font-family=\"Times,serif\" font-size=\"12.00\">0.613</text>\n<text text-anchor=\"middle\" x=\"126.75\" y=\"-257.85\" font-family=\"Times,serif\" font-size=\"12.00\">p&#45;val: 0.00</text>\n</g>\n<!-- P1_1_QS -->\n<g id=\"node11\" class=\"node\">\n<title>P1_1_QS</title>\n<polygon fill=\"none\" stroke=\"black\" points=\"160.12,-237 92.38,-237 92.38,-201 160.12,-201 160.12,-237\"/>\n<text text-anchor=\"middle\" x=\"126.25\" y=\"-213.95\" font-family=\"Times,serif\" font-size=\"14.00\">P1_1_QS</text>\n</g>\n<!-- QS&#45;&gt;P1_1_QS -->\n<g id=\"edge5\" class=\"edge\">\n<title>QS&#45;&gt;P1_1_QS</title>\n<path fill=\"none\" stroke=\"black\" d=\"M312.51,-320.62C282.72,-316.46 229.68,-306.3 190.25,-283.5 173.63,-273.89 158.24,-258.9 146.72,-245.9\"/>\n<polygon fill=\"black\" stroke=\"black\" points=\"149.53,-243.8 140.37,-238.46 144.2,-248.35 149.53,-243.8\"/>\n<text text-anchor=\"middle\" x=\"203.75\" y=\"-264.98\" font-family=\"Times,serif\" font-size=\"12.00\">0.816</text>\n</g>\n<!-- P1_2_QS -->\n<g id=\"node12\" class=\"node\">\n<title>P1_2_QS</title>\n<polygon fill=\"none\" stroke=\"black\" points=\"246.12,-237 178.38,-237 178.38,-201 246.12,-201 246.12,-237\"/>\n<text text-anchor=\"middle\" x=\"212.25\" y=\"-213.95\" font-family=\"Times,serif\" font-size=\"14.00\">P1_2_QS</text>\n</g>\n<!-- QS&#45;&gt;P1_2_QS -->\n<g id=\"edge6\" class=\"edge\">\n<title>QS&#45;&gt;P1_2_QS</title>\n<path fill=\"none\" stroke=\"black\" d=\"M312.72,-319.01C291.32,-313.97 259.5,-303.55 239.25,-283.5 229.64,-273.98 223.25,-260.51 219.12,-248.42\"/>\n<polygon fill=\"black\" stroke=\"black\" points=\"222.48,-247.44 216.25,-238.87 215.78,-249.46 222.48,-247.44\"/>\n<text text-anchor=\"middle\" x=\"264.75\" y=\"-272.1\" font-family=\"Times,serif\" font-size=\"12.00\">0.718</text>\n<text text-anchor=\"middle\" x=\"264.75\" y=\"-257.85\" font-family=\"Times,serif\" font-size=\"12.00\">p&#45;val: 0.00</text>\n</g>\n<!-- P1_4_QS -->\n<g id=\"node13\" class=\"node\">\n<title>P1_4_QS</title>\n<polygon fill=\"none\" stroke=\"black\" points=\"332.12,-237 264.38,-237 264.38,-201 332.12,-201 332.12,-237\"/>\n<text text-anchor=\"middle\" x=\"298.25\" y=\"-213.95\" font-family=\"Times,serif\" font-size=\"14.00\">P1_4_QS</text>\n</g>\n<!-- QS&#45;&gt;P1_4_QS -->\n<g id=\"edge7\" class=\"edge\">\n<title>QS&#45;&gt;P1_4_QS</title>\n<path fill=\"none\" stroke=\"black\" d=\"M317.91,-309.21C310.71,-302.31 303.15,-293.36 299.25,-283.5 294.97,-272.66 294.05,-259.94 294.45,-248.74\"/>\n<polygon fill=\"black\" stroke=\"black\" points=\"297.94,-249.09 295.19,-238.86 290.96,-248.57 297.94,-249.09\"/>\n<text text-anchor=\"middle\" x=\"324.75\" y=\"-272.1\" font-family=\"Times,serif\" font-size=\"12.00\">0.777</text>\n<text text-anchor=\"middle\" x=\"324.75\" y=\"-257.85\" font-family=\"Times,serif\" font-size=\"12.00\">p&#45;val: 0.00</text>\n</g>\n<!-- P1_5_QS -->\n<g id=\"node14\" class=\"node\">\n<title>P1_5_QS</title>\n<polygon fill=\"none\" stroke=\"black\" points=\"418.12,-237 350.38,-237 350.38,-201 418.12,-201 418.12,-237\"/>\n<text text-anchor=\"middle\" x=\"384.25\" y=\"-213.95\" font-family=\"Times,serif\" font-size=\"14.00\">P1_5_QS</text>\n</g>\n<!-- QS&#45;&gt;P1_5_QS -->\n<g id=\"edge8\" class=\"edge\">\n<title>QS&#45;&gt;P1_5_QS</title>\n<path fill=\"none\" stroke=\"black\" d=\"M344.7,-303.29C352.21,-287.48 362.79,-265.19 371.12,-247.64\"/>\n<polygon fill=\"black\" stroke=\"black\" points=\"374.2,-249.33 375.32,-238.8 367.87,-246.33 374.2,-249.33\"/>\n<text text-anchor=\"middle\" x=\"392.5\" y=\"-272.1\" font-family=\"Times,serif\" font-size=\"12.00\">0.814</text>\n<text text-anchor=\"middle\" x=\"392.5\" y=\"-257.85\" font-family=\"Times,serif\" font-size=\"12.00\">p&#45;val: 0.00</text>\n</g>\n<!-- QT -->\n<g id=\"node2\" class=\"node\">\n<title>QT</title>\n<ellipse fill=\"#cae6df\" stroke=\"black\" cx=\"712.25\" cy=\"-434.58\" rx=\"23.2\" ry=\"23.2\"/>\n<text text-anchor=\"middle\" x=\"712.25\" y=\"-429.53\" font-family=\"Times,serif\" font-size=\"14.00\">QT</text>\n</g>\n<!-- QT&#45;&gt;QS -->\n<g id=\"edge26\" class=\"edge\">\n<title>QT&#45;&gt;QS</title>\n<path fill=\"none\" stroke=\"black\" stroke-dasharray=\"5,2\" d=\"M677.32,-432.64C625.58,-430.3 526.2,-422.09 447.25,-393.38 415.9,-381.98 383.73,-361.28 361.97,-345.67\"/>\n<polygon fill=\"black\" stroke=\"black\" points=\"677.16,-436.14 687.3,-433.04 677.44,-429.15 677.16,-436.14\"/>\n<polygon fill=\"black\" stroke=\"black\" points=\"364.09,-342.89 353.96,-339.8 359.95,-348.54 364.09,-342.89\"/>\n<text text-anchor=\"middle\" x=\"472.75\" y=\"-381.98\" font-family=\"Times,serif\" font-size=\"12.00\">0.480</text>\n<text text-anchor=\"middle\" x=\"472.75\" y=\"-367.73\" font-family=\"Times,serif\" font-size=\"12.00\">p&#45;val: 0.00</text>\n</g>\n<!-- QT&#45;&gt;S -->\n<g id=\"edge3\" class=\"edge\">\n<title>QT&#45;&gt;S</title>\n<path fill=\"none\" stroke=\"black\" d=\"M688.92,-430.64C647.29,-424.03 560.86,-403.83 521.25,-346.88 501.15,-317.98 502.59,-275.87 506.54,-248.22\"/>\n<polygon fill=\"black\" stroke=\"black\" points=\"509.98,-248.9 508.15,-238.47 503.07,-247.76 509.98,-248.9\"/>\n<text text-anchor=\"middle\" x=\"546.75\" y=\"-327.04\" font-family=\"Times,serif\" font-size=\"12.00\">0.178</text>\n<text text-anchor=\"middle\" x=\"546.75\" y=\"-312.79\" font-family=\"Times,serif\" font-size=\"12.00\">p&#45;val: 0.00</text>\n</g>\n<!-- P1_10_QT -->\n<g id=\"node6\" class=\"node\">\n<title>P1_10_QT</title>\n<polygon fill=\"none\" stroke=\"black\" points=\"656.88,-342.19 581.62,-342.19 581.62,-306.19 656.88,-306.19 656.88,-342.19\"/>\n<text text-anchor=\"middle\" x=\"619.25\" y=\"-319.14\" font-family=\"Times,serif\" font-size=\"14.00\">P1_10_QT</text>\n</g>\n<!-- QT&#45;&gt;P1_10_QT -->\n<g id=\"edge13\" class=\"edge\">\n<title>QT&#45;&gt;P1_10_QT</title>\n<path fill=\"none\" stroke=\"black\" d=\"M697.72,-416.65C682.59,-399.01 658.71,-371.18 641.26,-350.84\"/>\n<polygon fill=\"black\" stroke=\"black\" points=\"644.14,-348.82 634.97,-343.51 638.83,-353.38 644.14,-348.82\"/>\n<text text-anchor=\"middle\" x=\"690.31\" y=\"-374.86\" font-family=\"Times,serif\" font-size=\"12.00\">0.680</text>\n</g>\n<!-- P1_11_QT -->\n<g id=\"node7\" class=\"node\">\n<title>P1_11_QT</title>\n<polygon fill=\"none\" stroke=\"black\" points=\"749.88,-342.19 674.62,-342.19 674.62,-306.19 749.88,-306.19 749.88,-342.19\"/>\n<text text-anchor=\"middle\" x=\"712.25\" y=\"-319.14\" font-family=\"Times,serif\" font-size=\"14.00\">P1_11_QT</text>\n</g>\n<!-- QT&#45;&gt;P1_11_QT -->\n<g id=\"edge14\" class=\"edge\">\n<title>QT&#45;&gt;P1_11_QT</title>\n<path fill=\"none\" stroke=\"black\" d=\"M712.25,-411.12C712.25,-394.6 712.25,-371.99 712.25,-354.12\"/>\n<polygon fill=\"black\" stroke=\"black\" points=\"715.75,-354.14 712.25,-344.14 708.75,-354.14 715.75,-354.14\"/>\n<text text-anchor=\"middle\" x=\"737.75\" y=\"-381.98\" font-family=\"Times,serif\" font-size=\"12.00\">0.898</text>\n<text text-anchor=\"middle\" x=\"737.75\" y=\"-367.73\" font-family=\"Times,serif\" font-size=\"12.00\">p&#45;val: 0.00</text>\n</g>\n<!-- P1_12_QT -->\n<g id=\"node8\" class=\"node\">\n<title>P1_12_QT</title>\n<polygon fill=\"none\" stroke=\"black\" points=\"842.88,-342.19 767.62,-342.19 767.62,-306.19 842.88,-306.19 842.88,-342.19\"/>\n<text text-anchor=\"middle\" x=\"805.25\" y=\"-319.14\" font-family=\"Times,serif\" font-size=\"14.00\">P1_12_QT</text>\n</g>\n<!-- QT&#45;&gt;P1_12_QT -->\n<g id=\"edge15\" class=\"edge\">\n<title>QT&#45;&gt;P1_12_QT</title>\n<path fill=\"none\" stroke=\"black\" d=\"M732.23,-421.99C743.47,-414.77 757.22,-404.72 767.25,-393.38 777.84,-381.4 786.74,-365.98 793.26,-352.84\"/>\n<polygon fill=\"black\" stroke=\"black\" points=\"796.41,-354.36 797.51,-343.83 790.08,-351.38 796.41,-354.36\"/>\n<text text-anchor=\"middle\" x=\"812.13\" y=\"-381.98\" font-family=\"Times,serif\" font-size=\"12.00\">0.823</text>\n<text text-anchor=\"middle\" x=\"812.13\" y=\"-367.73\" font-family=\"Times,serif\" font-size=\"12.00\">p&#45;val: 0.00</text>\n</g>\n<!-- P1_13_QT -->\n<g id=\"node9\" class=\"node\">\n<title>P1_13_QT</title>\n<polygon fill=\"none\" stroke=\"black\" points=\"935.88,-342.19 860.62,-342.19 860.62,-306.19 935.88,-306.19 935.88,-342.19\"/>\n<text text-anchor=\"middle\" x=\"898.25\" y=\"-319.14\" font-family=\"Times,serif\" font-size=\"14.00\">P1_13_QT</text>\n</g>\n<!-- QT&#45;&gt;P1_13_QT -->\n<g id=\"edge16\" class=\"edge\">\n<title>QT&#45;&gt;P1_13_QT</title>\n<path fill=\"none\" stroke=\"black\" d=\"M735.39,-430.43C762.62,-425.85 808.27,-415.38 841.25,-393.38 857.41,-382.6 871.47,-365.92 881.58,-351.76\"/>\n<polygon fill=\"black\" stroke=\"black\" points=\"884.33,-353.94 887.07,-343.71 878.54,-350 884.33,-353.94\"/>\n<text text-anchor=\"middle\" x=\"896.64\" y=\"-381.98\" font-family=\"Times,serif\" font-size=\"12.00\">0.748</text>\n<text text-anchor=\"middle\" x=\"896.64\" y=\"-367.73\" font-family=\"Times,serif\" font-size=\"12.00\">p&#45;val: 0.00</text>\n</g>\n<!-- QF -->\n<g id=\"node3\" class=\"node\">\n<title>QF</title>\n<ellipse fill=\"#cae6df\" stroke=\"black\" cx=\"995.25\" cy=\"-544.97\" rx=\"22.69\" ry=\"22.69\"/>\n<text text-anchor=\"middle\" x=\"995.25\" y=\"-539.92\" font-family=\"Times,serif\" font-size=\"14.00\">QF</text>\n</g>\n<!-- QF&#45;&gt;QS -->\n<g id=\"edge25\" class=\"edge\">\n<title>QF&#45;&gt;QS</title>\n<path fill=\"none\" stroke=\"black\" stroke-dasharray=\"5,2\" d=\"M962.05,-536.88C926.07,-529.13 867,-516.22 816.25,-504.28 625.38,-459.4 553.09,-501.09 389.25,-393.38 374.12,-383.43 361.32,-367.85 351.98,-354.08\"/>\n<polygon fill=\"black\" stroke=\"black\" points=\"960.89,-540.21 971.4,-538.89 962.36,-533.37 960.89,-540.21\"/>\n<polygon fill=\"black\" stroke=\"black\" points=\"354.98,-352.28 346.63,-345.76 349.1,-356.07 354.98,-352.28\"/>\n<text text-anchor=\"middle\" x=\"547.41\" y=\"-437.43\" font-family=\"Times,serif\" font-size=\"12.00\">0.485</text>\n<text text-anchor=\"middle\" x=\"547.41\" y=\"-423.18\" font-family=\"Times,serif\" font-size=\"12.00\">p&#45;val: 0.00</text>\n</g>\n<!-- QF&#45;&gt;QT -->\n<g id=\"edge27\" class=\"edge\">\n<title>QF&#45;&gt;QT</title>\n<path fill=\"none\" stroke=\"black\" stroke-dasharray=\"5,2\" d=\"M963.58,-531.84C909.22,-511.03 798.77,-468.72 744.21,-447.82\"/>\n<polygon fill=\"black\" stroke=\"black\" points=\"961.98,-534.98 972.57,-535.29 964.48,-528.44 961.98,-534.98\"/>\n<polygon fill=\"black\" stroke=\"black\" points=\"745.77,-444.67 735.18,-444.37 743.27,-451.21 745.77,-444.67\"/>\n<text text-anchor=\"middle\" x=\"912.92\" y=\"-492.88\" font-family=\"Times,serif\" font-size=\"12.00\">0.507</text>\n<text text-anchor=\"middle\" x=\"912.92\" y=\"-478.63\" font-family=\"Times,serif\" font-size=\"12.00\">p&#45;val: 0.00</text>\n</g>\n<!-- QF&#45;&gt;S -->\n<g id=\"edge2\" class=\"edge\">\n<title>QF&#45;&gt;S</title>\n<path fill=\"none\" stroke=\"black\" d=\"M992.14,-522.03C983.9,-465.29 961.08,-317.05 945.25,-301.5 887.54,-244.78 629.52,-226.15 541.66,-221.39\"/>\n<polygon fill=\"black\" stroke=\"black\" points=\"542.11,-217.91 531.94,-220.88 541.75,-224.9 542.11,-217.91\"/>\n<text text-anchor=\"middle\" x=\"996.32\" y=\"-381.98\" font-family=\"Times,serif\" font-size=\"12.00\">0.194</text>\n<text text-anchor=\"middle\" x=\"996.32\" y=\"-367.73\" font-family=\"Times,serif\" font-size=\"12.00\">p&#45;val: 0.00</text>\n</g>\n<!-- P1_6_QF -->\n<g id=\"node15\" class=\"node\">\n<title>P1_6_QF</title>\n<polygon fill=\"none\" stroke=\"black\" points=\"1060.12,-452.58 992.38,-452.58 992.38,-416.58 1060.12,-416.58 1060.12,-452.58\"/>\n<text text-anchor=\"middle\" x=\"1026.25\" y=\"-429.53\" font-family=\"Times,serif\" font-size=\"14.00\">P1_6_QF</text>\n</g>\n<!-- QF&#45;&gt;P1_6_QF -->\n<g id=\"edge10\" class=\"edge\">\n<title>QF&#45;&gt;P1_6_QF</title>\n<path fill=\"none\" stroke=\"black\" d=\"M1001.3,-522.82C1006.12,-505.96 1012.92,-482.2 1018.2,-463.74\"/>\n<polygon fill=\"black\" stroke=\"black\" points=\"1021.54,-464.8 1020.92,-454.22 1014.81,-462.87 1021.54,-464.8\"/>\n<text text-anchor=\"middle\" x=\"1027.94\" y=\"-485.76\" font-family=\"Times,serif\" font-size=\"12.00\">0.661</text>\n</g>\n<!-- P1_7_QF -->\n<g id=\"node16\" class=\"node\">\n<title>P1_7_QF</title>\n<polygon fill=\"none\" stroke=\"black\" points=\"1146.12,-452.58 1078.38,-452.58 1078.38,-416.58 1146.12,-416.58 1146.12,-452.58\"/>\n<text text-anchor=\"middle\" x=\"1112.25\" y=\"-429.53\" font-family=\"Times,serif\" font-size=\"14.00\">P1_7_QF</text>\n</g>\n<!-- QF&#45;&gt;P1_7_QF -->\n<g id=\"edge11\" class=\"edge\">\n<title>QF&#45;&gt;P1_7_QF</title>\n<path fill=\"none\" stroke=\"black\" d=\"M1013.29,-530.55C1023,-523.09 1035.05,-513.49 1045.25,-504.28 1060.36,-490.64 1076.32,-474.36 1088.87,-461.08\"/>\n<polygon fill=\"black\" stroke=\"black\" points=\"1091.27,-463.63 1095.54,-453.94 1086.15,-458.85 1091.27,-463.63\"/>\n<text text-anchor=\"middle\" x=\"1099.18\" y=\"-492.88\" font-family=\"Times,serif\" font-size=\"12.00\">0.836</text>\n<text text-anchor=\"middle\" x=\"1099.18\" y=\"-478.63\" font-family=\"Times,serif\" font-size=\"12.00\">p&#45;val: 0.00</text>\n</g>\n<!-- P1_8_QF -->\n<g id=\"node17\" class=\"node\">\n<title>P1_8_QF</title>\n<polygon fill=\"none\" stroke=\"black\" points=\"1232.12,-452.58 1164.38,-452.58 1164.38,-416.58 1232.12,-416.58 1232.12,-452.58\"/>\n<text text-anchor=\"middle\" x=\"1198.25\" y=\"-429.53\" font-family=\"Times,serif\" font-size=\"14.00\">P1_8_QF</text>\n</g>\n<!-- QF&#45;&gt;P1_8_QF -->\n<g id=\"edge12\" class=\"edge\">\n<title>QF&#45;&gt;P1_8_QF</title>\n<path fill=\"none\" stroke=\"black\" d=\"M1017.76,-540.68C1045.34,-535.9 1092.76,-525.22 1128.25,-504.28 1147.07,-493.18 1164.62,-475.94 1177.44,-461.51\"/>\n<polygon fill=\"black\" stroke=\"black\" points=\"1179.93,-463.98 1183.79,-454.11 1174.62,-459.42 1179.93,-463.98\"/>\n<text text-anchor=\"middle\" x=\"1189.2\" y=\"-492.88\" font-family=\"Times,serif\" font-size=\"12.00\">0.634</text>\n<text text-anchor=\"middle\" x=\"1189.2\" y=\"-478.63\" font-family=\"Times,serif\" font-size=\"12.00\">p&#45;val: 0.00</text>\n</g>\n<!-- L -->\n<g id=\"node4\" class=\"node\">\n<title>L</title>\n<ellipse fill=\"#cae6df\" stroke=\"black\" cx=\"367.25\" cy=\"-118.5\" rx=\"18\" ry=\"18\"/>\n<text text-anchor=\"middle\" x=\"367.25\" y=\"-113.45\" font-family=\"Times,serif\" font-size=\"14.00\">L</text>\n</g>\n<!-- P6_1_L -->\n<g id=\"node22\" class=\"node\">\n<title>P6_1_L</title>\n<polygon fill=\"none\" stroke=\"black\" points=\"281.62,-36 222.88,-36 222.88,0 281.62,0 281.62,-36\"/>\n<text text-anchor=\"middle\" x=\"252.25\" y=\"-12.95\" font-family=\"Times,serif\" font-size=\"14.00\">P6_1_L</text>\n</g>\n<!-- L&#45;&gt;P6_1_L -->\n<g id=\"edge21\" class=\"edge\">\n<title>L&#45;&gt;P6_1_L</title>\n<path fill=\"none\" stroke=\"black\" d=\"M350.05,-111.84C334.72,-106.18 312.28,-96.32 296.25,-82.5 284.5,-72.37 274.39,-58.44 266.84,-46.21\"/>\n<polygon fill=\"black\" stroke=\"black\" points=\"269.95,-44.61 261.87,-37.75 263.92,-48.15 269.95,-44.61\"/>\n<text text-anchor=\"middle\" x=\"309.75\" y=\"-63.98\" font-family=\"Times,serif\" font-size=\"12.00\">0.862</text>\n</g>\n<!-- P6_2_L -->\n<g id=\"node23\" class=\"node\">\n<title>P6_2_L</title>\n<polygon fill=\"none\" stroke=\"black\" points=\"358.62,-36 299.88,-36 299.88,0 358.62,0 358.62,-36\"/>\n<text text-anchor=\"middle\" x=\"329.25\" y=\"-12.95\" font-family=\"Times,serif\" font-size=\"14.00\">P6_2_L</text>\n</g>\n<!-- L&#45;&gt;P6_2_L -->\n<g id=\"edge22\" class=\"edge\">\n<title>L&#45;&gt;P6_2_L</title>\n<path fill=\"none\" stroke=\"black\" d=\"M353.2,-107.14C345.88,-100.89 337.57,-92.26 333.25,-82.5 328.52,-71.82 327.02,-59.13 326.88,-47.91\"/>\n<polygon fill=\"black\" stroke=\"black\" points=\"330.37,-48.08 327.14,-37.99 323.38,-47.89 330.37,-48.08\"/>\n<text text-anchor=\"middle\" x=\"358.75\" y=\"-71.1\" font-family=\"Times,serif\" font-size=\"12.00\">0.824</text>\n<text text-anchor=\"middle\" x=\"358.75\" y=\"-56.85\" font-family=\"Times,serif\" font-size=\"12.00\">p&#45;val: 0.00</text>\n</g>\n<!-- P6_3_L -->\n<g id=\"node24\" class=\"node\">\n<title>P6_3_L</title>\n<polygon fill=\"none\" stroke=\"black\" points=\"435.62,-36 376.88,-36 376.88,0 435.62,0 435.62,-36\"/>\n<text text-anchor=\"middle\" x=\"406.25\" y=\"-12.95\" font-family=\"Times,serif\" font-size=\"14.00\">P6_3_L</text>\n</g>\n<!-- L&#45;&gt;P6_3_L -->\n<g id=\"edge23\" class=\"edge\">\n<title>L&#45;&gt;P6_3_L</title>\n<path fill=\"none\" stroke=\"black\" d=\"M375.27,-102C378.25,-95.98 381.56,-88.99 384.25,-82.5 388.96,-71.14 393.52,-58.37 397.25,-47.28\"/>\n<polygon fill=\"black\" stroke=\"black\" points=\"400.54,-48.49 400.35,-37.89 393.89,-46.3 400.54,-48.49\"/>\n<text text-anchor=\"middle\" x=\"420.14\" y=\"-71.1\" font-family=\"Times,serif\" font-size=\"12.00\">0.521</text>\n<text text-anchor=\"middle\" x=\"420.14\" y=\"-56.85\" font-family=\"Times,serif\" font-size=\"12.00\">p&#45;val: 0.00</text>\n</g>\n<!-- P6_4_L -->\n<g id=\"node25\" class=\"node\">\n<title>P6_4_L</title>\n<polygon fill=\"none\" stroke=\"black\" points=\"512.62,-36 453.88,-36 453.88,0 512.62,0 512.62,-36\"/>\n<text text-anchor=\"middle\" x=\"483.25\" y=\"-12.95\" font-family=\"Times,serif\" font-size=\"14.00\">P6_4_L</text>\n</g>\n<!-- L&#45;&gt;P6_4_L -->\n<g id=\"edge24\" class=\"edge\">\n<title>L&#45;&gt;P6_4_L</title>\n<path fill=\"none\" stroke=\"black\" d=\"M382.45,-108.52C387.4,-105.77 392.98,-102.86 398.25,-100.5 420.19,-90.69 431.01,-98.15 449.25,-82.5 460.26,-73.05 468.27,-59.13 473.75,-46.72\"/>\n<polygon fill=\"black\" stroke=\"black\" points=\"476.86,-48.35 477.35,-37.77 470.37,-45.74 476.86,-48.35\"/>\n<text text-anchor=\"middle\" x=\"495.54\" y=\"-71.1\" font-family=\"Times,serif\" font-size=\"12.00\">0.877</text>\n<text text-anchor=\"middle\" x=\"495.54\" y=\"-56.85\" font-family=\"Times,serif\" font-size=\"12.00\">p&#45;val: 0.00</text>\n</g>\n<!-- S&#45;&gt;L -->\n<g id=\"edge4\" class=\"edge\">\n<title>S&#45;&gt;L</title>\n<path fill=\"none\" stroke=\"black\" d=\"M494.34,-215.91C471.71,-212.48 432.54,-203.81 406.25,-183 394.04,-173.34 384.7,-158.74 378.22,-145.97\"/>\n<polygon fill=\"black\" stroke=\"black\" points=\"381.51,-144.75 374.09,-137.19 375.18,-147.73 381.51,-144.75\"/>\n<text text-anchor=\"middle\" x=\"431.75\" y=\"-171.6\" font-family=\"Times,serif\" font-size=\"12.00\">0.660</text>\n<text text-anchor=\"middle\" x=\"431.75\" y=\"-157.35\" font-family=\"Times,serif\" font-size=\"12.00\">p&#45;val: 0.00</text>\n</g>\n<!-- P3_1_S -->\n<g id=\"node18\" class=\"node\">\n<title>P3_1_S</title>\n<polygon fill=\"none\" stroke=\"black\" points=\"465.25,-136.5 407.25,-136.5 407.25,-100.5 465.25,-100.5 465.25,-136.5\"/>\n<text text-anchor=\"middle\" x=\"436.25\" y=\"-113.45\" font-family=\"Times,serif\" font-size=\"14.00\">P3_1_S</text>\n</g>\n<!-- S&#45;&gt;P3_1_S -->\n<g id=\"edge17\" class=\"edge\">\n<title>S&#45;&gt;P3_1_S</title>\n<path fill=\"none\" stroke=\"black\" d=\"M500.42,-205.32C494.49,-198.8 487.3,-190.63 481.25,-183 471.87,-171.17 462.1,-157.58 454.08,-146.01\"/>\n<polygon fill=\"black\" stroke=\"black\" points=\"457.19,-144.36 448.65,-138.09 451.42,-148.32 457.19,-144.36\"/>\n<text text-anchor=\"middle\" x=\"494.75\" y=\"-164.47\" font-family=\"Times,serif\" font-size=\"12.00\">0.882</text>\n</g>\n<!-- P3_2_S -->\n<g id=\"node19\" class=\"node\">\n<title>P3_2_S</title>\n<polygon fill=\"none\" stroke=\"black\" points=\"541.25,-136.5 483.25,-136.5 483.25,-100.5 541.25,-100.5 541.25,-136.5\"/>\n<text text-anchor=\"middle\" x=\"512.25\" y=\"-113.45\" font-family=\"Times,serif\" font-size=\"14.00\">P3_2_S</text>\n</g>\n<!-- S&#45;&gt;P3_2_S -->\n<g id=\"edge18\" class=\"edge\">\n<title>S&#45;&gt;P3_2_S</title>\n<path fill=\"none\" stroke=\"black\" d=\"M512.25,-200.84C512.25,-186.24 512.25,-164.98 512.25,-147.85\"/>\n<polygon fill=\"black\" stroke=\"black\" points=\"515.75,-148.3 512.25,-138.3 508.75,-148.3 515.75,-148.3\"/>\n<text text-anchor=\"middle\" x=\"537.75\" y=\"-171.6\" font-family=\"Times,serif\" font-size=\"12.00\">0.852</text>\n<text text-anchor=\"middle\" x=\"537.75\" y=\"-157.35\" font-family=\"Times,serif\" font-size=\"12.00\">p&#45;val: 0.00</text>\n</g>\n<!-- P3_3_S -->\n<g id=\"node20\" class=\"node\">\n<title>P3_3_S</title>\n<polygon fill=\"none\" stroke=\"black\" points=\"617.25,-136.5 559.25,-136.5 559.25,-100.5 617.25,-100.5 617.25,-136.5\"/>\n<text text-anchor=\"middle\" x=\"588.25\" y=\"-113.45\" font-family=\"Times,serif\" font-size=\"14.00\">P3_3_S</text>\n</g>\n<!-- S&#45;&gt;P3_3_S -->\n<g id=\"edge19\" class=\"edge\">\n<title>S&#45;&gt;P3_3_S</title>\n<path fill=\"none\" stroke=\"black\" d=\"M528.77,-210.91C540.7,-205.02 556.4,-195.58 566.25,-183 574.18,-172.87 579.36,-159.69 582.69,-147.97\"/>\n<polygon fill=\"black\" stroke=\"black\" points=\"586.06,-148.91 585.07,-138.36 579.27,-147.22 586.06,-148.91\"/>\n<text text-anchor=\"middle\" x=\"605.84\" y=\"-171.6\" font-family=\"Times,serif\" font-size=\"12.00\">0.912</text>\n<text text-anchor=\"middle\" x=\"605.84\" y=\"-157.35\" font-family=\"Times,serif\" font-size=\"12.00\">p&#45;val: 0.00</text>\n</g>\n<!-- P3_4_S -->\n<g id=\"node21\" class=\"node\">\n<title>P3_4_S</title>\n<polygon fill=\"none\" stroke=\"black\" points=\"693.25,-136.5 635.25,-136.5 635.25,-100.5 693.25,-100.5 693.25,-136.5\"/>\n<text text-anchor=\"middle\" x=\"664.25\" y=\"-113.45\" font-family=\"Times,serif\" font-size=\"14.00\">P3_4_S</text>\n</g>\n<!-- S&#45;&gt;P3_4_S -->\n<g id=\"edge20\" class=\"edge\">\n<title>S&#45;&gt;P3_4_S</title>\n<path fill=\"none\" stroke=\"black\" d=\"M530.32,-217.46C556.44,-215.77 604.94,-209.04 635.25,-183 645.88,-173.87 652.82,-160.03 657.24,-147.61\"/>\n<polygon fill=\"black\" stroke=\"black\" points=\"660.53,-148.8 660.17,-138.21 653.85,-146.71 660.53,-148.8\"/>\n<text text-anchor=\"middle\" x=\"679.73\" y=\"-171.6\" font-family=\"Times,serif\" font-size=\"12.00\">0.870</text>\n<text text-anchor=\"middle\" x=\"679.73\" y=\"-157.35\" font-family=\"Times,serif\" font-size=\"12.00\">p&#45;val: 0.00</text>\n</g>\n</g>\n</svg>\n",
      "text/plain": [
       "<graphviz.graphs.Digraph at 0x112832a10>"
      ]
     },
     "execution_count": 6,
     "metadata": {},
     "output_type": "execute_result"
    }
   ],
   "execution_count": 6
  },
  {
   "metadata": {},
   "cell_type": "markdown",
   "source": [
    "### R squared\n",
    "Computes $R^2$ for Satisfaction (S) and Loyalty (L) using the standardized betas\n",
    "\n",
    "$R^{2}= \\boldsymbol\\beta^{\\mkern-2mu\\top} \\mathbf R_{XX}\\boldsymbol\\beta$"
   ],
   "id": "a2387786e1f87d99"
  },
  {
   "metadata": {
    "ExecuteTime": {
     "end_time": "2025-07-09T16:02:27.581052Z",
     "start_time": "2025-07-09T16:02:27.567292Z"
    }
   },
   "cell_type": "code",
   "source": [
    "import numpy as np\n",
    "\n",
    "paths = (model.inspect(std_est=True)\n",
    "             .query(\"op == '~'\")\n",
    "             .set_index(['lval','rval']))"
   ],
   "id": "2b1aad805e82e484",
   "outputs": [],
   "execution_count": 7
  },
  {
   "metadata": {
    "ExecuteTime": {
     "end_time": "2025-07-09T16:02:27.622456Z",
     "start_time": "2025-07-09T16:02:27.618708Z"
    }
   },
   "cell_type": "code",
   "source": [
    "def latent_R2(target, predictors, paths, factor_scores):\n",
    "    \"\"\"\n",
    "    Compute R squared for an endogenous latent variable, give n latent predictors.\n",
    "    \"\"\"\n",
    "    beta = paths.loc[(target, predictors), 'Est. Std'].values.astype(float)\n",
    "\n",
    "    R_xx = np.corrcoef(factor_scores[predictors].T)\n",
    "\n",
    "    if np.ndim(R_xx) == 0:\n",
    "        return float(beta[0] ** 2)\n",
    "\n",
    "    return float(beta @ R_xx @ beta)"
   ],
   "id": "ec2dc46649bcdca4",
   "outputs": [],
   "execution_count": 8
  },
  {
   "metadata": {
    "ExecuteTime": {
     "end_time": "2025-07-09T16:02:27.687889Z",
     "start_time": "2025-07-09T16:02:27.676576Z"
    }
   },
   "cell_type": "code",
   "source": [
    "R2_S = latent_R2('S', ['QS', 'QF', 'QT'], paths, factor_scores)\n",
    "R2_S"
   ],
   "id": "672cef7d861eccd9",
   "outputs": [
    {
     "data": {
      "text/plain": [
       "0.5783830648107231"
      ]
     },
     "execution_count": 9,
     "metadata": {},
     "output_type": "execute_result"
    }
   ],
   "execution_count": 9
  },
  {
   "metadata": {
    "ExecuteTime": {
     "end_time": "2025-07-09T16:02:27.743532Z",
     "start_time": "2025-07-09T16:02:27.735906Z"
    }
   },
   "cell_type": "code",
   "source": [
    "R2_L = latent_R2('L', ['S'], paths, factor_scores)\n",
    "R2_L"
   ],
   "id": "4622c4bae77a2890",
   "outputs": [
    {
     "data": {
      "text/plain": [
       "0.4358674480103058"
      ]
     },
     "execution_count": 10,
     "metadata": {},
     "output_type": "execute_result"
    }
   ],
   "execution_count": 10
  },
  {
   "metadata": {},
   "cell_type": "markdown",
   "source": "### Direct Effects",
   "id": "fc98f2ba48f54b78"
  },
  {
   "metadata": {
    "ExecuteTime": {
     "end_time": "2025-07-09T16:02:27.795644Z",
     "start_time": "2025-07-09T16:02:27.777901Z"
    }
   },
   "cell_type": "code",
   "source": [
    "raw_item_estimates = (\n",
    "    model.inspect(std_est=True)\n",
    "         .query(\"op == '~' and not lval.str.startswith('P')\")\n",
    ")\n",
    "direct_effects_df = (\n",
    "    raw_item_estimates\n",
    "    .loc[:, ['lval','rval', 'Est. Std', 'Estimate','p-value', 'z-value']]\n",
    "    .rename(columns={\n",
    "        'lval': 'Outcome',\n",
    "        'rval': 'Predictor',\n",
    "        'Estimate': 'beta',\n",
    "        'Est. Std': 'beta_std',\n",
    "    })\n",
    "    .sort_values(by='beta_std')\n",
    ")\n",
    "direct_effects_df['hypothesis_result'] = direct_effects_df.apply(\n",
    "    lambda row: 'Supported' if row['p-value'] < 0.05 else 'Not Supported',\n",
    "    axis=1\n",
    ")\n",
    "direct_effects_df"
   ],
   "id": "dbfe6ff8f657a5df",
   "outputs": [
    {
     "data": {
      "text/plain": [
       "  Outcome Predictor  beta_std      beta   p-value    z-value hypothesis_result\n",
       "2       S        QT  0.177666  0.191582  0.000178   3.747854         Supported\n",
       "1       S        QF  0.194342  0.263556  0.000152   3.787914         Supported\n",
       "0       S        QS  0.510324  0.477614       0.0  10.199336         Supported\n",
       "3       L         S  0.660203  0.622577       0.0  14.720154         Supported"
      ],
      "text/html": [
       "<div>\n",
       "<style scoped>\n",
       "    .dataframe tbody tr th:only-of-type {\n",
       "        vertical-align: middle;\n",
       "    }\n",
       "\n",
       "    .dataframe tbody tr th {\n",
       "        vertical-align: top;\n",
       "    }\n",
       "\n",
       "    .dataframe thead th {\n",
       "        text-align: right;\n",
       "    }\n",
       "</style>\n",
       "<table border=\"1\" class=\"dataframe\">\n",
       "  <thead>\n",
       "    <tr style=\"text-align: right;\">\n",
       "      <th></th>\n",
       "      <th>Outcome</th>\n",
       "      <th>Predictor</th>\n",
       "      <th>beta_std</th>\n",
       "      <th>beta</th>\n",
       "      <th>p-value</th>\n",
       "      <th>z-value</th>\n",
       "      <th>hypothesis_result</th>\n",
       "    </tr>\n",
       "  </thead>\n",
       "  <tbody>\n",
       "    <tr>\n",
       "      <th>2</th>\n",
       "      <td>S</td>\n",
       "      <td>QT</td>\n",
       "      <td>0.177666</td>\n",
       "      <td>0.191582</td>\n",
       "      <td>0.000178</td>\n",
       "      <td>3.747854</td>\n",
       "      <td>Supported</td>\n",
       "    </tr>\n",
       "    <tr>\n",
       "      <th>1</th>\n",
       "      <td>S</td>\n",
       "      <td>QF</td>\n",
       "      <td>0.194342</td>\n",
       "      <td>0.263556</td>\n",
       "      <td>0.000152</td>\n",
       "      <td>3.787914</td>\n",
       "      <td>Supported</td>\n",
       "    </tr>\n",
       "    <tr>\n",
       "      <th>0</th>\n",
       "      <td>S</td>\n",
       "      <td>QS</td>\n",
       "      <td>0.510324</td>\n",
       "      <td>0.477614</td>\n",
       "      <td>0.0</td>\n",
       "      <td>10.199336</td>\n",
       "      <td>Supported</td>\n",
       "    </tr>\n",
       "    <tr>\n",
       "      <th>3</th>\n",
       "      <td>L</td>\n",
       "      <td>S</td>\n",
       "      <td>0.660203</td>\n",
       "      <td>0.622577</td>\n",
       "      <td>0.0</td>\n",
       "      <td>14.720154</td>\n",
       "      <td>Supported</td>\n",
       "    </tr>\n",
       "  </tbody>\n",
       "</table>\n",
       "</div>"
      ]
     },
     "execution_count": 11,
     "metadata": {},
     "output_type": "execute_result"
    }
   ],
   "execution_count": 11
  },
  {
   "metadata": {},
   "cell_type": "markdown",
   "source": "### Indirect Effects",
   "id": "d687aac292c0f01f"
  },
  {
   "metadata": {
    "ExecuteTime": {
     "end_time": "2025-07-09T16:02:27.902400Z",
     "start_time": "2025-07-09T16:02:27.841194Z"
    }
   },
   "cell_type": "code",
   "source": [
    "paths = (\n",
    "    model.inspect(std_est=True, se_robust=True)\n",
    "         .query(\"op == '~'\")\n",
    "         .set_index(['lval', 'rval'])\n",
    ")"
   ],
   "id": "4f354832aa57c81c",
   "outputs": [],
   "execution_count": 12
  },
  {
   "metadata": {},
   "cell_type": "markdown",
   "source": "#### Mediator-to-outcome path (M -> Y)",
   "id": "5b3d76f3860157e9"
  },
  {
   "metadata": {
    "ExecuteTime": {
     "end_time": "2025-07-09T16:02:27.940286Z",
     "start_time": "2025-07-09T16:02:27.936566Z"
    }
   },
   "cell_type": "code",
   "source": [
    "b_path_coefficient = float(\n",
    "    paths.loc[('L', 'S'), 'Estimate']\n",
    ")\n",
    "b_path_standardized_coefficient = float(\n",
    "    paths.loc[('L', 'S'), 'Est. Std']\n",
    ")\n",
    "b_path_standard_error = float(\n",
    "    paths.loc[('L', 'S'), 'Std. Err']\n",
    ")"
   ],
   "id": "ae9edb91f7dadef",
   "outputs": [],
   "execution_count": 13
  },
  {
   "metadata": {},
   "cell_type": "markdown",
   "source": [
    "#### Predictor-to-mediator paths (X -> M)\n",
    "\n",
    "Sobel's z test for mediation is calculated as:\n",
    "\n",
    "$Z = \\frac{a \\cdot b}{SE_{ab}}\n",
    "= \\frac{a \\cdot b}{\\sqrt{b^2 \\cdot SE_a^2 + a^2 \\cdot SE_b^2}}$\n",
    "\n",
    "Where:\n",
    "- a = path coefficient from X -> M\n",
    "- b = path coefficient from M -> Y\n",
    "- $SE_a$ = standard error of a\n",
    "- $SE_b$ = standard error of b\n",
    "\n",
    "Abu-Bader, S., & Jones, T. V. (2021). Statistical mediation analysis using the Sobel test and Hayes SPSS Process Macro. International Journal of Quantitative and Qualitative Research Methods, 9(1), 42–61."
   ],
   "id": "9fd2c668d8e2be8d"
  },
  {
   "metadata": {
    "ExecuteTime": {
     "end_time": "2025-07-09T16:02:27.993798Z",
     "start_time": "2025-07-09T16:02:27.986959Z"
    }
   },
   "cell_type": "code",
   "source": [
    "import math\n",
    "from scipy.stats import norm\n",
    "\n",
    "def standardize_beta(beta, x_sigma, y_sigma):\n",
    "    \"\"\"Standardize a beta coefficient given the standard deviations of the predictor and outcome according to Bring (1994).\"\"\"\n",
    "    return beta * (x_sigma / y_sigma)\n",
    "\n",
    "results = []\n",
    "for predictor in ['QS', 'QF', 'QT']:\n",
    "    a_path_coefficient = float(\n",
    "        paths.loc[('S', predictor), 'Estimate']\n",
    "    )\n",
    "    a_standardized_path_coefficient = float(\n",
    "        paths.loc[('S', predictor), 'Est. Std']\n",
    "    )\n",
    "    a_path_standard_error = float(\n",
    "        paths.loc[('S', predictor), 'Std. Err']\n",
    "    )\n",
    "\n",
    "    # Indirect effect = a * b\n",
    "    indirect_effect = a_path_coefficient * b_path_coefficient\n",
    "    standardized_indirect_effect = (\n",
    "        a_standardized_path_coefficient * b_path_standardized_coefficient\n",
    "    )\n",
    "\n",
    "    # Sobel standard error: sqrt(b^2 * SE_a^2 + a^2 * SE_b^2)\n",
    "    indirect_se = math.sqrt(\n",
    "        (b_path_coefficient ** 2) * (a_path_standard_error ** 2) +\n",
    "        (a_path_coefficient ** 2) * (b_path_standard_error ** 2)\n",
    "    )\n",
    "\n",
    "    z_value = indirect_effect / indirect_se\n",
    "    p_value = 2 * (1 - norm.cdf(abs(z_value)))\n",
    "\n",
    "    results.append({\n",
    "        'Path': f'{predictor} -> L (via S)',\n",
    "        'Indirect Effect': round(indirect_effect, 3),\n",
    "        'Std. Indirect Effect': round(standardized_indirect_effect, 3),\n",
    "        'Standard Error':  round(indirect_se, 3),\n",
    "        'z-value':         round(z_value, 2),\n",
    "        'p-value':         round(p_value, 4)\n",
    "    })"
   ],
   "id": "df700ae8d203492e",
   "outputs": [],
   "execution_count": 14
  },
  {
   "metadata": {
    "ExecuteTime": {
     "end_time": "2025-07-09T16:02:28.045993Z",
     "start_time": "2025-07-09T16:02:28.039340Z"
    }
   },
   "cell_type": "code",
   "source": [
    "indirect_effects_df = pd.DataFrame(results)\n",
    "indirect_effects_df"
   ],
   "id": "f19c2530b4691973",
   "outputs": [
    {
     "data": {
      "text/plain": [
       "              Path  Indirect Effect  Std. Indirect Effect  Standard Error  \\\n",
       "0  QS -> L (via S)            0.297                 0.337           0.042   \n",
       "1  QF -> L (via S)            0.164                 0.128           0.055   \n",
       "2  QT -> L (via S)            0.119                 0.117           0.035   \n",
       "\n",
       "   z-value  p-value  \n",
       "0     7.01   0.0000  \n",
       "1     2.96   0.0031  \n",
       "2     3.42   0.0006  "
      ],
      "text/html": [
       "<div>\n",
       "<style scoped>\n",
       "    .dataframe tbody tr th:only-of-type {\n",
       "        vertical-align: middle;\n",
       "    }\n",
       "\n",
       "    .dataframe tbody tr th {\n",
       "        vertical-align: top;\n",
       "    }\n",
       "\n",
       "    .dataframe thead th {\n",
       "        text-align: right;\n",
       "    }\n",
       "</style>\n",
       "<table border=\"1\" class=\"dataframe\">\n",
       "  <thead>\n",
       "    <tr style=\"text-align: right;\">\n",
       "      <th></th>\n",
       "      <th>Path</th>\n",
       "      <th>Indirect Effect</th>\n",
       "      <th>Std. Indirect Effect</th>\n",
       "      <th>Standard Error</th>\n",
       "      <th>z-value</th>\n",
       "      <th>p-value</th>\n",
       "    </tr>\n",
       "  </thead>\n",
       "  <tbody>\n",
       "    <tr>\n",
       "      <th>0</th>\n",
       "      <td>QS -&gt; L (via S)</td>\n",
       "      <td>0.297</td>\n",
       "      <td>0.337</td>\n",
       "      <td>0.042</td>\n",
       "      <td>7.01</td>\n",
       "      <td>0.0000</td>\n",
       "    </tr>\n",
       "    <tr>\n",
       "      <th>1</th>\n",
       "      <td>QF -&gt; L (via S)</td>\n",
       "      <td>0.164</td>\n",
       "      <td>0.128</td>\n",
       "      <td>0.055</td>\n",
       "      <td>2.96</td>\n",
       "      <td>0.0031</td>\n",
       "    </tr>\n",
       "    <tr>\n",
       "      <th>2</th>\n",
       "      <td>QT -&gt; L (via S)</td>\n",
       "      <td>0.119</td>\n",
       "      <td>0.117</td>\n",
       "      <td>0.035</td>\n",
       "      <td>3.42</td>\n",
       "      <td>0.0006</td>\n",
       "    </tr>\n",
       "  </tbody>\n",
       "</table>\n",
       "</div>"
      ]
     },
     "execution_count": 15,
     "metadata": {},
     "output_type": "execute_result"
    }
   ],
   "execution_count": 15
  },
  {
   "metadata": {},
   "cell_type": "markdown",
   "source": "# Final Analysis",
   "id": "ddb1d1d79d3048e3"
  },
  {
   "metadata": {
    "ExecuteTime": {
     "end_time": "2025-07-09T16:02:28.110989Z",
     "start_time": "2025-07-09T16:02:28.103368Z"
    }
   },
   "cell_type": "code",
   "source": "direct_effects_df",
   "id": "f6fc68406e9932c3",
   "outputs": [
    {
     "data": {
      "text/plain": [
       "  Outcome Predictor  beta_std      beta   p-value    z-value hypothesis_result\n",
       "2       S        QT  0.177666  0.191582  0.000178   3.747854         Supported\n",
       "1       S        QF  0.194342  0.263556  0.000152   3.787914         Supported\n",
       "0       S        QS  0.510324  0.477614       0.0  10.199336         Supported\n",
       "3       L         S  0.660203  0.622577       0.0  14.720154         Supported"
      ],
      "text/html": [
       "<div>\n",
       "<style scoped>\n",
       "    .dataframe tbody tr th:only-of-type {\n",
       "        vertical-align: middle;\n",
       "    }\n",
       "\n",
       "    .dataframe tbody tr th {\n",
       "        vertical-align: top;\n",
       "    }\n",
       "\n",
       "    .dataframe thead th {\n",
       "        text-align: right;\n",
       "    }\n",
       "</style>\n",
       "<table border=\"1\" class=\"dataframe\">\n",
       "  <thead>\n",
       "    <tr style=\"text-align: right;\">\n",
       "      <th></th>\n",
       "      <th>Outcome</th>\n",
       "      <th>Predictor</th>\n",
       "      <th>beta_std</th>\n",
       "      <th>beta</th>\n",
       "      <th>p-value</th>\n",
       "      <th>z-value</th>\n",
       "      <th>hypothesis_result</th>\n",
       "    </tr>\n",
       "  </thead>\n",
       "  <tbody>\n",
       "    <tr>\n",
       "      <th>2</th>\n",
       "      <td>S</td>\n",
       "      <td>QT</td>\n",
       "      <td>0.177666</td>\n",
       "      <td>0.191582</td>\n",
       "      <td>0.000178</td>\n",
       "      <td>3.747854</td>\n",
       "      <td>Supported</td>\n",
       "    </tr>\n",
       "    <tr>\n",
       "      <th>1</th>\n",
       "      <td>S</td>\n",
       "      <td>QF</td>\n",
       "      <td>0.194342</td>\n",
       "      <td>0.263556</td>\n",
       "      <td>0.000152</td>\n",
       "      <td>3.787914</td>\n",
       "      <td>Supported</td>\n",
       "    </tr>\n",
       "    <tr>\n",
       "      <th>0</th>\n",
       "      <td>S</td>\n",
       "      <td>QS</td>\n",
       "      <td>0.510324</td>\n",
       "      <td>0.477614</td>\n",
       "      <td>0.0</td>\n",
       "      <td>10.199336</td>\n",
       "      <td>Supported</td>\n",
       "    </tr>\n",
       "    <tr>\n",
       "      <th>3</th>\n",
       "      <td>L</td>\n",
       "      <td>S</td>\n",
       "      <td>0.660203</td>\n",
       "      <td>0.622577</td>\n",
       "      <td>0.0</td>\n",
       "      <td>14.720154</td>\n",
       "      <td>Supported</td>\n",
       "    </tr>\n",
       "  </tbody>\n",
       "</table>\n",
       "</div>"
      ]
     },
     "execution_count": 16,
     "metadata": {},
     "output_type": "execute_result"
    }
   ],
   "execution_count": 16
  },
  {
   "metadata": {
    "ExecuteTime": {
     "end_time": "2025-07-09T16:02:28.212025Z",
     "start_time": "2025-07-09T16:02:28.206717Z"
    }
   },
   "cell_type": "code",
   "source": "indirect_effects_df",
   "id": "a86883846e4e9363",
   "outputs": [
    {
     "data": {
      "text/plain": [
       "              Path  Indirect Effect  Std. Indirect Effect  Standard Error  \\\n",
       "0  QS -> L (via S)            0.297                 0.337           0.042   \n",
       "1  QF -> L (via S)            0.164                 0.128           0.055   \n",
       "2  QT -> L (via S)            0.119                 0.117           0.035   \n",
       "\n",
       "   z-value  p-value  \n",
       "0     7.01   0.0000  \n",
       "1     2.96   0.0031  \n",
       "2     3.42   0.0006  "
      ],
      "text/html": [
       "<div>\n",
       "<style scoped>\n",
       "    .dataframe tbody tr th:only-of-type {\n",
       "        vertical-align: middle;\n",
       "    }\n",
       "\n",
       "    .dataframe tbody tr th {\n",
       "        vertical-align: top;\n",
       "    }\n",
       "\n",
       "    .dataframe thead th {\n",
       "        text-align: right;\n",
       "    }\n",
       "</style>\n",
       "<table border=\"1\" class=\"dataframe\">\n",
       "  <thead>\n",
       "    <tr style=\"text-align: right;\">\n",
       "      <th></th>\n",
       "      <th>Path</th>\n",
       "      <th>Indirect Effect</th>\n",
       "      <th>Std. Indirect Effect</th>\n",
       "      <th>Standard Error</th>\n",
       "      <th>z-value</th>\n",
       "      <th>p-value</th>\n",
       "    </tr>\n",
       "  </thead>\n",
       "  <tbody>\n",
       "    <tr>\n",
       "      <th>0</th>\n",
       "      <td>QS -&gt; L (via S)</td>\n",
       "      <td>0.297</td>\n",
       "      <td>0.337</td>\n",
       "      <td>0.042</td>\n",
       "      <td>7.01</td>\n",
       "      <td>0.0000</td>\n",
       "    </tr>\n",
       "    <tr>\n",
       "      <th>1</th>\n",
       "      <td>QF -&gt; L (via S)</td>\n",
       "      <td>0.164</td>\n",
       "      <td>0.128</td>\n",
       "      <td>0.055</td>\n",
       "      <td>2.96</td>\n",
       "      <td>0.0031</td>\n",
       "    </tr>\n",
       "    <tr>\n",
       "      <th>2</th>\n",
       "      <td>QT -&gt; L (via S)</td>\n",
       "      <td>0.119</td>\n",
       "      <td>0.117</td>\n",
       "      <td>0.035</td>\n",
       "      <td>3.42</td>\n",
       "      <td>0.0006</td>\n",
       "    </tr>\n",
       "  </tbody>\n",
       "</table>\n",
       "</div>"
      ]
     },
     "execution_count": 17,
     "metadata": {},
     "output_type": "execute_result"
    }
   ],
   "execution_count": 17
  },
  {
   "metadata": {
    "ExecuteTime": {
     "end_time": "2025-07-09T16:02:28.309964Z",
     "start_time": "2025-07-09T16:02:28.307350Z"
    }
   },
   "cell_type": "code",
   "source": [
    "print(f\"R^2(S) = {R2_S:.3f}\")\n",
    "print(f\"R^2(L) = {R2_L:.3f}\")"
   ],
   "id": "33b9a1e886436e2c",
   "outputs": [
    {
     "name": "stdout",
     "output_type": "stream",
     "text": [
      "R^2(S) = 0.578\n",
      "R^2(L) = 0.436\n"
     ]
    }
   ],
   "execution_count": 18
  },
  {
   "metadata": {},
   "cell_type": "markdown",
   "source": [
    "1. H1 - Customer Service Quality (QS) positively influences Satisfaction (S)\n",
    "   1.  Supported: $\\beta = 0.510$, $p < 0.001$\n",
    "2. H2 - Financial Quality (QF) positively influences Satisfaction (S)\n",
    "   1.  Supported: $\\beta = 0.194$, $p < 0.001$\n",
    "3. H3 - Technical quality (QT) positively influences Satisfaction (S)\n",
    "   1.  Supported: $\\beta = 0.178$, $p < 0.001$\n",
    "4. H4 - Satisfaction (S) positively influences Loyalty (L)\n",
    "   1.  Supported: $\\beta = 0.660$, $p < 0.001$\n",
    "\n",
    "Model fit: $\\chi^2$/df = 3.76; CFI = .928; GFI = .904; TLI = .916; RMSEA = .075.\n",
    "All indices meet the conventional good‐fit thresholds (Hu & Bentler, 1999).\n",
    "\n",
    "Explained variance: $R^2$(S) = .578, $R^2$(L) = .436\n",
    "\n",
    "Direct effects:\n",
    "All three quality dimensions (QS, QF, QT) significantly positively influence Satisfaction ($\\beta = 0.510$, $p < 0.001$; $\\beta = 0.194$, $p < 0.001$; $\\beta = 0.178$, $p < 0.001$ respectively), together explaining almost 58 % of its variance, thus H1 - H3 are supported.\n",
    "(QS) is the dominant driver ($\\beta$ = 0.510), well above the medium-effect benchmark of .30 suggested by Cohen (1988).\n",
    "Satisfaction, in turn, strongly predicts Loyalty (L) ($\\beta$  = 0.660), accounting for 44 % of loyalty variance\n",
    "\n",
    "Indirect effects:\n",
    "QS, QF, and QT all have significant indirect effects on Loyalty through Satisfaction, with the strongest being from QS ($\\beta$ = 0.337, $p < 0.001$), followed by QF ($\\beta$ = 0.128, $p < 0.05$) and QT ($\\beta$ = 0.117, $p < 0.001$)."
   ],
   "id": "8c3e85c036152c4a"
  }
 ],
 "metadata": {
  "kernelspec": {
   "display_name": "Python 3 (ipykernel)",
   "language": "python",
   "name": "python3"
  },
  "language_info": {
   "codemirror_mode": {
    "name": "ipython",
    "version": 3
   },
   "file_extension": ".py",
   "mimetype": "text/x-python",
   "name": "python",
   "nbconvert_exporter": "python",
   "pygments_lexer": "ipython3",
   "version": "3.10.11"
  }
 },
 "nbformat": 4,
 "nbformat_minor": 5
}
