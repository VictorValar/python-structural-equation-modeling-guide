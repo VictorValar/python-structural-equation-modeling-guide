{
 "cells": [
  {
   "cell_type": "markdown",
   "id": "2686fb3a4fefcb90",
   "metadata": {},
   "source": [
    "# Practice 2: Structural Model\n",
    "\n",
    "## Objetives:\n",
    "1. Test the hypothesized model\n",
    "    1. H1 - Customer service quality(QS) positively influences Satisfaction (S)\n",
    "    2. H2 - Financial quality (QF) positively influences Satisfaction (S)\n",
    "    3. H3 - Technical quality (QT) positively influences Satisfaction (S)\n",
    "    4. H4 - Satisfaction (S) positively influences Loyalty (L)\n",
    "2. Report direct and indirect effects"
   ]
  },
  {
   "metadata": {},
   "cell_type": "markdown",
   "source": "## Data Preparation",
   "id": "ff629a8b552f2630"
  },
  {
   "metadata": {
    "ExecuteTime": {
     "end_time": "2025-07-07T11:16:16.862721Z",
     "start_time": "2025-07-07T11:16:16.548811Z"
    }
   },
   "cell_type": "code",
   "source": [
    "import pandas as pd\n",
    "import pyreadstat\n",
    "from pandas.core.interchange.dataframe_protocol import DataFrame\n",
    "\n",
    "raw_data_df, meta = pyreadstat.read_sav(\"../data/EXERCICIO_2025.sav\")\n",
    "raw_data_df.head()"
   ],
   "id": "f76fd2c9f0a24fd4",
   "outputs": [
    {
     "data": {
      "text/plain": [
       "   CASO   f1   f2   f3   f4   f5    f6    f7  P1.1_QA  P1.2_QA  ...   P7  P14  \\\n",
       "0   NaN  1.0  3.0  6.0  1.0  1.0  50.0  18.0      8.0      6.0  ...  3.0  2.0   \n",
       "1   NaN  1.0  1.0  5.0  1.0  1.0  36.0  35.0      8.0      7.0  ...  1.0  1.0   \n",
       "2   NaN  1.0  3.0  5.0  1.0  1.0  72.0  73.0     10.0     10.0  ...  2.0  2.0   \n",
       "3   NaN  1.0  3.0  9.0  1.0  1.0  24.0  27.0      6.0      6.0  ...  1.0  2.0   \n",
       "4   NaN  1.0  4.0  9.0  1.0  1.0  72.0  24.0      2.0      5.0  ...  2.0  1.0   \n",
       "\n",
       "     ltv2  tempo  clsocial  SATIS  LEAL  ATEND        FIN   TEC  \n",
       "0  1373.0   61.0       5.0   6.50   6.2    7.2   9.333333  8.50  \n",
       "1  1002.0   47.0       5.0   5.50   4.4    6.8   6.666667  8.00  \n",
       "2  2097.0   83.0       5.0   7.50   8.0    9.6  10.000000  8.00  \n",
       "3   802.0   35.0       4.0   6.25   6.2    6.4   7.666667  6.50  \n",
       "4  4835.0   78.0       4.0   5.25   4.4    4.4   5.666667  5.75  \n",
       "\n",
       "[5 rows x 45 columns]"
      ],
      "text/html": [
       "<div>\n",
       "<style scoped>\n",
       "    .dataframe tbody tr th:only-of-type {\n",
       "        vertical-align: middle;\n",
       "    }\n",
       "\n",
       "    .dataframe tbody tr th {\n",
       "        vertical-align: top;\n",
       "    }\n",
       "\n",
       "    .dataframe thead th {\n",
       "        text-align: right;\n",
       "    }\n",
       "</style>\n",
       "<table border=\"1\" class=\"dataframe\">\n",
       "  <thead>\n",
       "    <tr style=\"text-align: right;\">\n",
       "      <th></th>\n",
       "      <th>CASO</th>\n",
       "      <th>f1</th>\n",
       "      <th>f2</th>\n",
       "      <th>f3</th>\n",
       "      <th>f4</th>\n",
       "      <th>f5</th>\n",
       "      <th>f6</th>\n",
       "      <th>f7</th>\n",
       "      <th>P1.1_QA</th>\n",
       "      <th>P1.2_QA</th>\n",
       "      <th>...</th>\n",
       "      <th>P7</th>\n",
       "      <th>P14</th>\n",
       "      <th>ltv2</th>\n",
       "      <th>tempo</th>\n",
       "      <th>clsocial</th>\n",
       "      <th>SATIS</th>\n",
       "      <th>LEAL</th>\n",
       "      <th>ATEND</th>\n",
       "      <th>FIN</th>\n",
       "      <th>TEC</th>\n",
       "    </tr>\n",
       "  </thead>\n",
       "  <tbody>\n",
       "    <tr>\n",
       "      <th>0</th>\n",
       "      <td>NaN</td>\n",
       "      <td>1.0</td>\n",
       "      <td>3.0</td>\n",
       "      <td>6.0</td>\n",
       "      <td>1.0</td>\n",
       "      <td>1.0</td>\n",
       "      <td>50.0</td>\n",
       "      <td>18.0</td>\n",
       "      <td>8.0</td>\n",
       "      <td>6.0</td>\n",
       "      <td>...</td>\n",
       "      <td>3.0</td>\n",
       "      <td>2.0</td>\n",
       "      <td>1373.0</td>\n",
       "      <td>61.0</td>\n",
       "      <td>5.0</td>\n",
       "      <td>6.50</td>\n",
       "      <td>6.2</td>\n",
       "      <td>7.2</td>\n",
       "      <td>9.333333</td>\n",
       "      <td>8.50</td>\n",
       "    </tr>\n",
       "    <tr>\n",
       "      <th>1</th>\n",
       "      <td>NaN</td>\n",
       "      <td>1.0</td>\n",
       "      <td>1.0</td>\n",
       "      <td>5.0</td>\n",
       "      <td>1.0</td>\n",
       "      <td>1.0</td>\n",
       "      <td>36.0</td>\n",
       "      <td>35.0</td>\n",
       "      <td>8.0</td>\n",
       "      <td>7.0</td>\n",
       "      <td>...</td>\n",
       "      <td>1.0</td>\n",
       "      <td>1.0</td>\n",
       "      <td>1002.0</td>\n",
       "      <td>47.0</td>\n",
       "      <td>5.0</td>\n",
       "      <td>5.50</td>\n",
       "      <td>4.4</td>\n",
       "      <td>6.8</td>\n",
       "      <td>6.666667</td>\n",
       "      <td>8.00</td>\n",
       "    </tr>\n",
       "    <tr>\n",
       "      <th>2</th>\n",
       "      <td>NaN</td>\n",
       "      <td>1.0</td>\n",
       "      <td>3.0</td>\n",
       "      <td>5.0</td>\n",
       "      <td>1.0</td>\n",
       "      <td>1.0</td>\n",
       "      <td>72.0</td>\n",
       "      <td>73.0</td>\n",
       "      <td>10.0</td>\n",
       "      <td>10.0</td>\n",
       "      <td>...</td>\n",
       "      <td>2.0</td>\n",
       "      <td>2.0</td>\n",
       "      <td>2097.0</td>\n",
       "      <td>83.0</td>\n",
       "      <td>5.0</td>\n",
       "      <td>7.50</td>\n",
       "      <td>8.0</td>\n",
       "      <td>9.6</td>\n",
       "      <td>10.000000</td>\n",
       "      <td>8.00</td>\n",
       "    </tr>\n",
       "    <tr>\n",
       "      <th>3</th>\n",
       "      <td>NaN</td>\n",
       "      <td>1.0</td>\n",
       "      <td>3.0</td>\n",
       "      <td>9.0</td>\n",
       "      <td>1.0</td>\n",
       "      <td>1.0</td>\n",
       "      <td>24.0</td>\n",
       "      <td>27.0</td>\n",
       "      <td>6.0</td>\n",
       "      <td>6.0</td>\n",
       "      <td>...</td>\n",
       "      <td>1.0</td>\n",
       "      <td>2.0</td>\n",
       "      <td>802.0</td>\n",
       "      <td>35.0</td>\n",
       "      <td>4.0</td>\n",
       "      <td>6.25</td>\n",
       "      <td>6.2</td>\n",
       "      <td>6.4</td>\n",
       "      <td>7.666667</td>\n",
       "      <td>6.50</td>\n",
       "    </tr>\n",
       "    <tr>\n",
       "      <th>4</th>\n",
       "      <td>NaN</td>\n",
       "      <td>1.0</td>\n",
       "      <td>4.0</td>\n",
       "      <td>9.0</td>\n",
       "      <td>1.0</td>\n",
       "      <td>1.0</td>\n",
       "      <td>72.0</td>\n",
       "      <td>24.0</td>\n",
       "      <td>2.0</td>\n",
       "      <td>5.0</td>\n",
       "      <td>...</td>\n",
       "      <td>2.0</td>\n",
       "      <td>1.0</td>\n",
       "      <td>4835.0</td>\n",
       "      <td>78.0</td>\n",
       "      <td>4.0</td>\n",
       "      <td>5.25</td>\n",
       "      <td>4.4</td>\n",
       "      <td>4.4</td>\n",
       "      <td>5.666667</td>\n",
       "      <td>5.75</td>\n",
       "    </tr>\n",
       "  </tbody>\n",
       "</table>\n",
       "<p>5 rows × 45 columns</p>\n",
       "</div>"
      ]
     },
     "execution_count": 1,
     "metadata": {},
     "output_type": "execute_result"
    }
   ],
   "execution_count": 1
  },
  {
   "cell_type": "code",
   "id": "17ed44e012385cbc",
   "metadata": {
    "ExecuteTime": {
     "end_time": "2025-07-07T11:16:17.070907Z",
     "start_time": "2025-07-07T11:16:17.065881Z"
    }
   },
   "source": [
    "columns_to_filter = [\n",
    "    'P1.1_QA', 'P1.2_QA', 'P1.3_QA', 'P1.4_QA', 'P1.5_QA', 'P1.15_QA', 'P1.16_QA', 'P1.17_QA',\n",
    "    'P1.6_QC', 'P1.7_QC', 'P1.8_QC', 'P1.9_QC',\n",
    "    'P1.10_QT', 'P1.11_QT', 'P1.12_QT', 'P1.13_QT', 'P1.14_QT',\n",
    "    'P3.1_S', 'P3.2_S', 'P3.3_S', 'P3.4_S',\n",
    "    'P6.1_L', 'P6.2_L', 'P6.3_L', 'P6.4_L', 'P6.5_L', 'P6.6_L'\n",
    "]\n",
    "\n",
    "clean_df = raw_data_df[columns_to_filter].copy()\n",
    "\n",
    "clean_df.rename(columns=lambda c: c.replace('.', '_'), inplace=True)\n",
    "clean_df.rename(columns=lambda c: c.replace('C', 'F'), inplace=True)\n",
    "clean_df.rename(columns=lambda c: c.replace('A', 'S'), inplace=True)\n",
    "print(raw_data_df.shape)\n",
    "print(clean_df.shape)\n",
    "print(clean_df.isnull().sum())"
   ],
   "outputs": [
    {
     "name": "stdout",
     "output_type": "stream",
     "text": [
      "(493, 45)\n",
      "(493, 27)\n",
      "P1_1_QS     0\n",
      "P1_2_QS     0\n",
      "P1_3_QS     0\n",
      "P1_4_QS     0\n",
      "P1_5_QS     0\n",
      "P1_15_QS    0\n",
      "P1_16_QS    0\n",
      "P1_17_QS    0\n",
      "P1_6_QF     0\n",
      "P1_7_QF     0\n",
      "P1_8_QF     0\n",
      "P1_9_QF     0\n",
      "P1_10_QT    0\n",
      "P1_11_QT    0\n",
      "P1_12_QT    0\n",
      "P1_13_QT    0\n",
      "P1_14_QT    0\n",
      "P3_1_S      0\n",
      "P3_2_S      0\n",
      "P3_3_S      0\n",
      "P3_4_S      0\n",
      "P6_1_L      0\n",
      "P6_2_L      0\n",
      "P6_3_L      0\n",
      "P6_4_L      0\n",
      "P6_5_L      0\n",
      "P6_6_L      0\n",
      "dtype: int64\n"
     ]
    }
   ],
   "execution_count": 2
  },
  {
   "metadata": {},
   "cell_type": "markdown",
   "source": "## Refined Model",
   "id": "8fe1806356a370cb"
  },
  {
   "metadata": {},
   "cell_type": "markdown",
   "source": "### Modeling",
   "id": "6200a811b77c579"
  },
  {
   "metadata": {
    "ExecuteTime": {
     "end_time": "2025-07-07T11:16:18.173756Z",
     "start_time": "2025-07-07T11:16:17.108535Z"
    }
   },
   "cell_type": "code",
   "source": [
    "from semopy import Model\n",
    "model_description = \"\"\"\n",
    "QS =~ P1_1_QS + P1_2_QS + P1_4_QS + P1_5_QS + P1_16_QS\n",
    "QF =~ P1_6_QF + P1_7_QF + P1_8_QF\n",
    "QT =~ P1_10_QT + P1_11_QT + P1_12_QT + P1_13_QT\n",
    "S =~ P3_1_S + P3_2_S + P3_3_S + P3_4_S\n",
    "L =~ P6_1_L + P6_2_L + P6_3_L + P6_4_L\n",
    "\n",
    "S ~ QS + QF + QT\n",
    "L ~ S\n",
    "\"\"\"\n",
    "\n",
    "model = Model(model_description)\n",
    "print(model.fit(clean_df))"
   ],
   "id": "d5c61aafd873685a",
   "outputs": [
    {
     "name": "stdout",
     "output_type": "stream",
     "text": [
      "Name of objective: MLW\n",
      "Optimization method: SLSQP\n",
      "Optimization successful.\n",
      "Optimization terminated successfully\n",
      "Objective value: 1.244\n",
      "Number of iterations: 46\n",
      "Params: 0.831 1.133 1.116 0.721 1.433 1.266 1.223 1.026 0.988 0.862 1.040 1.049 1.109 0.679 0.961 0.478 0.264 0.192 0.623 1.210 2.412 0.742 1.042 1.589 2.382 1.378 1.787 2.317 1.750 1.686 1.163 3.135 0.686 0.679 0.528 0.852 0.741 1.246 2.662 0.593 1.312 0.921 2.754 2.074 0.836 1.148 1.090\n"
     ]
    }
   ],
   "execution_count": 3
  },
  {
   "metadata": {},
   "cell_type": "markdown",
   "source": [
    "### Model Fit\n",
    "$\\chi^{2} / df < 5$\n",
    "\n",
    "CFI, GFI, TLI > 0.9\n",
    "\n",
    "RMSEA < 0,08"
   ],
   "id": "11d3ed3a7efd0c5a"
  },
  {
   "metadata": {
    "ExecuteTime": {
     "end_time": "2025-07-07T11:16:18.206181Z",
     "start_time": "2025-07-07T11:16:18.194326Z"
    }
   },
   "cell_type": "code",
   "source": [
    "from semopy import calc_stats\n",
    "\n",
    "refined_model_stats = calc_stats(model)\n",
    "refined_model_stats.T.loc[refined_model_stats.T.index.isin(['CFI', 'GFI', 'TLI', 'RMSEA'])]"
   ],
   "id": "4515c1b247104a77",
   "outputs": [
    {
     "data": {
      "text/plain": [
       "          Value\n",
       "CFI    0.927604\n",
       "GFI    0.904315\n",
       "TLI    0.915612\n",
       "RMSEA  0.074924"
      ],
      "text/html": [
       "<div>\n",
       "<style scoped>\n",
       "    .dataframe tbody tr th:only-of-type {\n",
       "        vertical-align: middle;\n",
       "    }\n",
       "\n",
       "    .dataframe tbody tr th {\n",
       "        vertical-align: top;\n",
       "    }\n",
       "\n",
       "    .dataframe thead th {\n",
       "        text-align: right;\n",
       "    }\n",
       "</style>\n",
       "<table border=\"1\" class=\"dataframe\">\n",
       "  <thead>\n",
       "    <tr style=\"text-align: right;\">\n",
       "      <th></th>\n",
       "      <th>Value</th>\n",
       "    </tr>\n",
       "  </thead>\n",
       "  <tbody>\n",
       "    <tr>\n",
       "      <th>CFI</th>\n",
       "      <td>0.927604</td>\n",
       "    </tr>\n",
       "    <tr>\n",
       "      <th>GFI</th>\n",
       "      <td>0.904315</td>\n",
       "    </tr>\n",
       "    <tr>\n",
       "      <th>TLI</th>\n",
       "      <td>0.915612</td>\n",
       "    </tr>\n",
       "    <tr>\n",
       "      <th>RMSEA</th>\n",
       "      <td>0.074924</td>\n",
       "    </tr>\n",
       "  </tbody>\n",
       "</table>\n",
       "</div>"
      ]
     },
     "execution_count": 4,
     "metadata": {},
     "output_type": "execute_result"
    }
   ],
   "execution_count": 4
  },
  {
   "metadata": {
    "ExecuteTime": {
     "end_time": "2025-07-07T11:16:18.282944Z",
     "start_time": "2025-07-07T11:16:18.279467Z"
    }
   },
   "cell_type": "code",
   "source": "print(f\"chi squared/degrees of freedom: {(refined_model_stats['chi2'] / refined_model_stats['DoF']).item():.6f}\")",
   "id": "ce0b01b4e6088e6f",
   "outputs": [
    {
     "name": "stdout",
     "output_type": "stream",
     "text": [
      "chi squared/degrees of freedom: 3.761902\n"
     ]
    }
   ],
   "execution_count": 5
  },
  {
   "metadata": {},
   "cell_type": "markdown",
   "source": "All cutoff criteria are satisfied, indicating a good fit of the model to the data.",
   "id": "a017eae91d120f65"
  },
  {
   "metadata": {},
   "cell_type": "markdown",
   "source": "### Standardized Path Coefficients",
   "id": "fc98f2ba48f54b78"
  },
  {
   "metadata": {
    "ExecuteTime": {
     "end_time": "2025-07-07T11:16:18.336437Z",
     "start_time": "2025-07-07T11:16:18.322344Z"
    }
   },
   "cell_type": "code",
   "source": [
    "raw_item_estimates = (\n",
    "    model.inspect(std_est=True)\n",
    "         .query(\"op == '~' and not lval.str.startswith('P')\")\n",
    ")\n",
    "direct_effects_df = (\n",
    "    raw_item_estimates\n",
    "    .loc[:, ['lval','rval', 'Est. Std','p-value', 'z-value']]\n",
    "    .rename(columns={\n",
    "        'lval': 'Outcome',\n",
    "        'rval': 'Predictor',\n",
    "        'Est. Std': 'beta',\n",
    "        'p-value': 'p-value',\n",
    "        'z-value': 't-value'\n",
    "    })\n",
    "    .sort_values(by='beta')\n",
    ")\n",
    "direct_effects_df['hypothesis_result'] = direct_effects_df.apply(\n",
    "    lambda row: 'Supported' if row['p-value'] < 0.05 else 'Not Supported',\n",
    "    axis=1\n",
    ")\n",
    "direct_effects_df"
   ],
   "id": "dbfe6ff8f657a5df",
   "outputs": [
    {
     "data": {
      "text/plain": [
       "  Outcome Predictor      beta   p-value    t-value hypothesis_result\n",
       "2       S        QT  0.177666  0.000178   3.747854         Supported\n",
       "1       S        QF  0.194342  0.000152   3.787914         Supported\n",
       "0       S        QS  0.510324       0.0  10.199336         Supported\n",
       "3       L         S  0.660203       0.0  14.720154         Supported"
      ],
      "text/html": [
       "<div>\n",
       "<style scoped>\n",
       "    .dataframe tbody tr th:only-of-type {\n",
       "        vertical-align: middle;\n",
       "    }\n",
       "\n",
       "    .dataframe tbody tr th {\n",
       "        vertical-align: top;\n",
       "    }\n",
       "\n",
       "    .dataframe thead th {\n",
       "        text-align: right;\n",
       "    }\n",
       "</style>\n",
       "<table border=\"1\" class=\"dataframe\">\n",
       "  <thead>\n",
       "    <tr style=\"text-align: right;\">\n",
       "      <th></th>\n",
       "      <th>Outcome</th>\n",
       "      <th>Predictor</th>\n",
       "      <th>beta</th>\n",
       "      <th>p-value</th>\n",
       "      <th>t-value</th>\n",
       "      <th>hypothesis_result</th>\n",
       "    </tr>\n",
       "  </thead>\n",
       "  <tbody>\n",
       "    <tr>\n",
       "      <th>2</th>\n",
       "      <td>S</td>\n",
       "      <td>QT</td>\n",
       "      <td>0.177666</td>\n",
       "      <td>0.000178</td>\n",
       "      <td>3.747854</td>\n",
       "      <td>Supported</td>\n",
       "    </tr>\n",
       "    <tr>\n",
       "      <th>1</th>\n",
       "      <td>S</td>\n",
       "      <td>QF</td>\n",
       "      <td>0.194342</td>\n",
       "      <td>0.000152</td>\n",
       "      <td>3.787914</td>\n",
       "      <td>Supported</td>\n",
       "    </tr>\n",
       "    <tr>\n",
       "      <th>0</th>\n",
       "      <td>S</td>\n",
       "      <td>QS</td>\n",
       "      <td>0.510324</td>\n",
       "      <td>0.0</td>\n",
       "      <td>10.199336</td>\n",
       "      <td>Supported</td>\n",
       "    </tr>\n",
       "    <tr>\n",
       "      <th>3</th>\n",
       "      <td>L</td>\n",
       "      <td>S</td>\n",
       "      <td>0.660203</td>\n",
       "      <td>0.0</td>\n",
       "      <td>14.720154</td>\n",
       "      <td>Supported</td>\n",
       "    </tr>\n",
       "  </tbody>\n",
       "</table>\n",
       "</div>"
      ]
     },
     "execution_count": 6,
     "metadata": {},
     "output_type": "execute_result"
    }
   ],
   "execution_count": 6
  },
  {
   "metadata": {},
   "cell_type": "markdown",
   "source": "### Model Graph",
   "id": "cb658f405caa8005"
  },
  {
   "metadata": {
    "ExecuteTime": {
     "end_time": "2025-07-07T11:16:18.686708Z",
     "start_time": "2025-07-07T11:16:18.387975Z"
    }
   },
   "cell_type": "code",
   "source": [
    "from semopy import semplot\n",
    "semplot(model, \"../practice 2/model.png\", std_ests=True, plot_covs=True)"
   ],
   "id": "177324ef4ec92e6f",
   "outputs": [
    {
     "data": {
      "image/svg+xml": "<?xml version=\"1.0\" encoding=\"UTF-8\" standalone=\"no\"?>\n<!DOCTYPE svg PUBLIC \"-//W3C//DTD SVG 1.1//EN\"\n \"http://www.w3.org/Graphics/SVG/1.1/DTD/svg11.dtd\">\n<!-- Generated by graphviz version 12.2.1 (20241206.2353)\n -->\n<!-- Title: G Pages: 1 -->\n<svg width=\"1187pt\" height=\"576pt\"\n viewBox=\"0.00 0.00 1187.25 575.66\" xmlns=\"http://www.w3.org/2000/svg\" xmlns:xlink=\"http://www.w3.org/1999/xlink\">\n<g id=\"graph0\" class=\"graph\" transform=\"scale(1 1) rotate(0) translate(4 571.66)\">\n<title>G</title>\n<polygon fill=\"white\" stroke=\"none\" points=\"-4,4 -4,-571.66 1183.25,-571.66 1183.25,4 -4,4\"/>\n<!-- QF -->\n<g id=\"node1\" class=\"node\">\n<title>QF</title>\n<ellipse fill=\"#cae6df\" stroke=\"black\" cx=\"515.38\" cy=\"-435.09\" rx=\"22.69\" ry=\"22.69\"/>\n<text text-anchor=\"middle\" x=\"515.38\" y=\"-430.04\" font-family=\"Times,serif\" font-size=\"14.00\">QF</text>\n</g>\n<!-- S -->\n<g id=\"node3\" class=\"node\">\n<title>S</title>\n<ellipse fill=\"#cae6df\" stroke=\"black\" cx=\"289.38\" cy=\"-219\" rx=\"18\" ry=\"18\"/>\n<text text-anchor=\"middle\" x=\"289.38\" y=\"-213.95\" font-family=\"Times,serif\" font-size=\"14.00\">S</text>\n</g>\n<!-- QF&#45;&gt;S -->\n<g id=\"edge2\" class=\"edge\">\n<title>QF&#45;&gt;S</title>\n<path fill=\"none\" stroke=\"black\" d=\"M492.57,-432.66C446.99,-428.44 345.06,-411.94 298.38,-347.9 277.26,-318.94 279.15,-275.82 283.45,-247.8\"/>\n<polygon fill=\"black\" stroke=\"black\" points=\"286.84,-248.75 285.12,-238.3 279.94,-247.54 286.84,-248.75\"/>\n<text text-anchor=\"middle\" x=\"323.88\" y=\"-327.55\" font-family=\"Times,serif\" font-size=\"12.00\">0.194</text>\n<text text-anchor=\"middle\" x=\"323.88\" y=\"-313.3\" font-family=\"Times,serif\" font-size=\"12.00\">p&#45;val: 0.00</text>\n</g>\n<!-- QT -->\n<g id=\"node5\" class=\"node\">\n<title>QT</title>\n<ellipse fill=\"#cae6df\" stroke=\"black\" cx=\"639.38\" cy=\"-324.7\" rx=\"23.2\" ry=\"23.2\"/>\n<text text-anchor=\"middle\" x=\"639.38\" y=\"-319.65\" font-family=\"Times,serif\" font-size=\"14.00\">QT</text>\n</g>\n<!-- QF&#45;&gt;QT -->\n<g id=\"edge26\" class=\"edge\">\n<title>QF&#45;&gt;QT</title>\n<path fill=\"none\" stroke=\"black\" stroke-dasharray=\"5,2\" d=\"M548.09,-424.23C565.18,-417.83 585.55,-408.09 600.38,-394.4 611.47,-384.15 620.24,-370 626.63,-357.21\"/>\n<polygon fill=\"black\" stroke=\"black\" points=\"547.14,-420.85 538.85,-427.46 549.45,-427.46 547.14,-420.85\"/>\n<polygon fill=\"black\" stroke=\"black\" points=\"629.75,-358.81 630.8,-348.27 623.4,-355.85 629.75,-358.81\"/>\n<text text-anchor=\"middle\" x=\"646.75\" y=\"-383\" font-family=\"Times,serif\" font-size=\"12.00\">0.507</text>\n<text text-anchor=\"middle\" x=\"646.75\" y=\"-368.75\" font-family=\"Times,serif\" font-size=\"12.00\">p&#45;val: 0.00</text>\n</g>\n<!-- P1_6_QF -->\n<g id=\"node15\" class=\"node\">\n<title>P1_6_QF</title>\n<polygon fill=\"none\" stroke=\"black\" points=\"426.25,-342.7 358.5,-342.7 358.5,-306.7 426.25,-306.7 426.25,-342.7\"/>\n<text text-anchor=\"middle\" x=\"392.38\" y=\"-319.65\" font-family=\"Times,serif\" font-size=\"14.00\">P1_6_QF</text>\n</g>\n<!-- QF&#45;&gt;P1_6_QF -->\n<g id=\"edge10\" class=\"edge\">\n<title>QF&#45;&gt;P1_6_QF</title>\n<path fill=\"none\" stroke=\"black\" d=\"M494.34,-425.42C479.12,-418.49 458.64,-407.74 443.38,-394.4 429.69,-382.45 417.44,-366.24 408.38,-352.56\"/>\n<polygon fill=\"black\" stroke=\"black\" points=\"411.51,-350.97 403.18,-344.43 405.62,-354.74 411.51,-350.97\"/>\n<text text-anchor=\"middle\" x=\"456.88\" y=\"-375.88\" font-family=\"Times,serif\" font-size=\"12.00\">0.661</text>\n</g>\n<!-- P1_7_QF -->\n<g id=\"node16\" class=\"node\">\n<title>P1_7_QF</title>\n<polygon fill=\"none\" stroke=\"black\" points=\"512.25,-342.7 444.5,-342.7 444.5,-306.7 512.25,-306.7 512.25,-342.7\"/>\n<text text-anchor=\"middle\" x=\"478.38\" y=\"-319.65\" font-family=\"Times,serif\" font-size=\"14.00\">P1_7_QF</text>\n</g>\n<!-- QF&#45;&gt;P1_7_QF -->\n<g id=\"edge11\" class=\"edge\">\n<title>QF&#45;&gt;P1_7_QF</title>\n<path fill=\"none\" stroke=\"black\" d=\"M498.02,-420.11C490.83,-413.22 483.27,-404.27 479.38,-394.4 474.43,-381.87 473.66,-367.03 474.33,-354.35\"/>\n<polygon fill=\"black\" stroke=\"black\" points=\"477.81,-354.79 475.2,-344.52 470.83,-354.17 477.81,-354.79\"/>\n<text text-anchor=\"middle\" x=\"504.88\" y=\"-383\" font-family=\"Times,serif\" font-size=\"12.00\">0.836</text>\n<text text-anchor=\"middle\" x=\"504.88\" y=\"-368.75\" font-family=\"Times,serif\" font-size=\"12.00\">p&#45;val: 0.00</text>\n</g>\n<!-- P1_8_QF -->\n<g id=\"node17\" class=\"node\">\n<title>P1_8_QF</title>\n<polygon fill=\"none\" stroke=\"black\" points=\"598.25,-342.7 530.5,-342.7 530.5,-306.7 598.25,-306.7 598.25,-342.7\"/>\n<text text-anchor=\"middle\" x=\"564.38\" y=\"-319.65\" font-family=\"Times,serif\" font-size=\"14.00\">P1_8_QF</text>\n</g>\n<!-- QF&#45;&gt;P1_8_QF -->\n<g id=\"edge12\" class=\"edge\">\n<title>QF&#45;&gt;P1_8_QF</title>\n<path fill=\"none\" stroke=\"black\" d=\"M524.48,-413.96C532.2,-396.87 543.37,-372.17 551.92,-353.25\"/>\n<polygon fill=\"black\" stroke=\"black\" points=\"555.06,-354.81 555.99,-344.25 548.68,-351.92 555.06,-354.81\"/>\n<text text-anchor=\"middle\" x=\"571.2\" y=\"-383\" font-family=\"Times,serif\" font-size=\"12.00\">0.634</text>\n<text text-anchor=\"middle\" x=\"571.2\" y=\"-368.75\" font-family=\"Times,serif\" font-size=\"12.00\">p&#45;val: 0.00</text>\n</g>\n<!-- L -->\n<g id=\"node2\" class=\"node\">\n<title>L</title>\n<ellipse fill=\"#cae6df\" stroke=\"black\" cx=\"144.38\" cy=\"-118.5\" rx=\"18\" ry=\"18\"/>\n<text text-anchor=\"middle\" x=\"144.38\" y=\"-113.45\" font-family=\"Times,serif\" font-size=\"14.00\">L</text>\n</g>\n<!-- P6_1_L -->\n<g id=\"node22\" class=\"node\">\n<title>P6_1_L</title>\n<polygon fill=\"none\" stroke=\"black\" points=\"58.75,-36 0,-36 0,0 58.75,0 58.75,-36\"/>\n<text text-anchor=\"middle\" x=\"29.38\" y=\"-12.95\" font-family=\"Times,serif\" font-size=\"14.00\">P6_1_L</text>\n</g>\n<!-- L&#45;&gt;P6_1_L -->\n<g id=\"edge21\" class=\"edge\">\n<title>L&#45;&gt;P6_1_L</title>\n<path fill=\"none\" stroke=\"black\" d=\"M127.18,-111.84C111.84,-106.18 89.41,-96.32 73.38,-82.5 61.63,-72.37 51.52,-58.44 43.96,-46.21\"/>\n<polygon fill=\"black\" stroke=\"black\" points=\"47.08,-44.61 39,-37.75 41.04,-48.15 47.08,-44.61\"/>\n<text text-anchor=\"middle\" x=\"86.88\" y=\"-63.98\" font-family=\"Times,serif\" font-size=\"12.00\">0.862</text>\n</g>\n<!-- P6_2_L -->\n<g id=\"node23\" class=\"node\">\n<title>P6_2_L</title>\n<polygon fill=\"none\" stroke=\"black\" points=\"135.75,-36 77,-36 77,0 135.75,0 135.75,-36\"/>\n<text text-anchor=\"middle\" x=\"106.38\" y=\"-12.95\" font-family=\"Times,serif\" font-size=\"14.00\">P6_2_L</text>\n</g>\n<!-- L&#45;&gt;P6_2_L -->\n<g id=\"edge22\" class=\"edge\">\n<title>L&#45;&gt;P6_2_L</title>\n<path fill=\"none\" stroke=\"black\" d=\"M130.32,-107.14C123,-100.89 114.7,-92.26 110.38,-82.5 105.64,-71.82 104.14,-59.13 104,-47.91\"/>\n<polygon fill=\"black\" stroke=\"black\" points=\"107.5,-48.08 104.26,-37.99 100.5,-47.89 107.5,-48.08\"/>\n<text text-anchor=\"middle\" x=\"135.88\" y=\"-71.1\" font-family=\"Times,serif\" font-size=\"12.00\">0.824</text>\n<text text-anchor=\"middle\" x=\"135.88\" y=\"-56.85\" font-family=\"Times,serif\" font-size=\"12.00\">p&#45;val: 0.00</text>\n</g>\n<!-- P6_3_L -->\n<g id=\"node24\" class=\"node\">\n<title>P6_3_L</title>\n<polygon fill=\"none\" stroke=\"black\" points=\"212.75,-36 154,-36 154,0 212.75,0 212.75,-36\"/>\n<text text-anchor=\"middle\" x=\"183.38\" y=\"-12.95\" font-family=\"Times,serif\" font-size=\"14.00\">P6_3_L</text>\n</g>\n<!-- L&#45;&gt;P6_3_L -->\n<g id=\"edge23\" class=\"edge\">\n<title>L&#45;&gt;P6_3_L</title>\n<path fill=\"none\" stroke=\"black\" d=\"M152.39,-102C155.38,-95.98 158.69,-88.99 161.38,-82.5 166.08,-71.14 170.64,-58.37 174.38,-47.28\"/>\n<polygon fill=\"black\" stroke=\"black\" points=\"177.67,-48.49 177.47,-37.89 171.02,-46.3 177.67,-48.49\"/>\n<text text-anchor=\"middle\" x=\"197.27\" y=\"-71.1\" font-family=\"Times,serif\" font-size=\"12.00\">0.521</text>\n<text text-anchor=\"middle\" x=\"197.27\" y=\"-56.85\" font-family=\"Times,serif\" font-size=\"12.00\">p&#45;val: 0.00</text>\n</g>\n<!-- P6_4_L -->\n<g id=\"node25\" class=\"node\">\n<title>P6_4_L</title>\n<polygon fill=\"none\" stroke=\"black\" points=\"289.75,-36 231,-36 231,0 289.75,0 289.75,-36\"/>\n<text text-anchor=\"middle\" x=\"260.38\" y=\"-12.95\" font-family=\"Times,serif\" font-size=\"14.00\">P6_4_L</text>\n</g>\n<!-- L&#45;&gt;P6_4_L -->\n<g id=\"edge24\" class=\"edge\">\n<title>L&#45;&gt;P6_4_L</title>\n<path fill=\"none\" stroke=\"black\" d=\"M159.58,-108.52C164.53,-105.77 170.11,-102.86 175.38,-100.5 197.32,-90.69 208.13,-98.15 226.38,-82.5 237.38,-73.05 245.4,-59.13 250.87,-46.72\"/>\n<polygon fill=\"black\" stroke=\"black\" points=\"253.99,-48.35 254.47,-37.77 247.49,-45.74 253.99,-48.35\"/>\n<text text-anchor=\"middle\" x=\"272.67\" y=\"-71.1\" font-family=\"Times,serif\" font-size=\"12.00\">0.877</text>\n<text text-anchor=\"middle\" x=\"272.67\" y=\"-56.85\" font-family=\"Times,serif\" font-size=\"12.00\">p&#45;val: 0.00</text>\n</g>\n<!-- S&#45;&gt;L -->\n<g id=\"edge4\" class=\"edge\">\n<title>S&#45;&gt;L</title>\n<path fill=\"none\" stroke=\"black\" d=\"M271.46,-215.91C248.83,-212.48 209.67,-203.81 183.38,-183 171.17,-173.34 161.82,-158.74 155.34,-145.97\"/>\n<polygon fill=\"black\" stroke=\"black\" points=\"158.64,-144.75 151.22,-137.19 152.3,-147.73 158.64,-144.75\"/>\n<text text-anchor=\"middle\" x=\"208.88\" y=\"-171.6\" font-family=\"Times,serif\" font-size=\"12.00\">0.660</text>\n<text text-anchor=\"middle\" x=\"208.88\" y=\"-157.35\" font-family=\"Times,serif\" font-size=\"12.00\">p&#45;val: 0.00</text>\n</g>\n<!-- P3_1_S -->\n<g id=\"node18\" class=\"node\">\n<title>P3_1_S</title>\n<polygon fill=\"none\" stroke=\"black\" points=\"242.38,-136.5 184.38,-136.5 184.38,-100.5 242.38,-100.5 242.38,-136.5\"/>\n<text text-anchor=\"middle\" x=\"213.38\" y=\"-113.45\" font-family=\"Times,serif\" font-size=\"14.00\">P3_1_S</text>\n</g>\n<!-- S&#45;&gt;P3_1_S -->\n<g id=\"edge17\" class=\"edge\">\n<title>S&#45;&gt;P3_1_S</title>\n<path fill=\"none\" stroke=\"black\" d=\"M277.55,-205.32C271.62,-198.8 264.43,-190.63 258.38,-183 248.99,-171.17 239.23,-157.58 231.2,-146.01\"/>\n<polygon fill=\"black\" stroke=\"black\" points=\"234.32,-144.36 225.77,-138.09 228.55,-148.32 234.32,-144.36\"/>\n<text text-anchor=\"middle\" x=\"271.88\" y=\"-164.47\" font-family=\"Times,serif\" font-size=\"12.00\">0.882</text>\n</g>\n<!-- P3_2_S -->\n<g id=\"node19\" class=\"node\">\n<title>P3_2_S</title>\n<polygon fill=\"none\" stroke=\"black\" points=\"318.38,-136.5 260.38,-136.5 260.38,-100.5 318.38,-100.5 318.38,-136.5\"/>\n<text text-anchor=\"middle\" x=\"289.38\" y=\"-113.45\" font-family=\"Times,serif\" font-size=\"14.00\">P3_2_S</text>\n</g>\n<!-- S&#45;&gt;P3_2_S -->\n<g id=\"edge18\" class=\"edge\">\n<title>S&#45;&gt;P3_2_S</title>\n<path fill=\"none\" stroke=\"black\" d=\"M289.38,-200.84C289.38,-186.24 289.38,-164.98 289.38,-147.85\"/>\n<polygon fill=\"black\" stroke=\"black\" points=\"292.88,-148.3 289.38,-138.3 285.88,-148.3 292.88,-148.3\"/>\n<text text-anchor=\"middle\" x=\"314.88\" y=\"-171.6\" font-family=\"Times,serif\" font-size=\"12.00\">0.852</text>\n<text text-anchor=\"middle\" x=\"314.88\" y=\"-157.35\" font-family=\"Times,serif\" font-size=\"12.00\">p&#45;val: 0.00</text>\n</g>\n<!-- P3_3_S -->\n<g id=\"node20\" class=\"node\">\n<title>P3_3_S</title>\n<polygon fill=\"none\" stroke=\"black\" points=\"394.38,-136.5 336.38,-136.5 336.38,-100.5 394.38,-100.5 394.38,-136.5\"/>\n<text text-anchor=\"middle\" x=\"365.38\" y=\"-113.45\" font-family=\"Times,serif\" font-size=\"14.00\">P3_3_S</text>\n</g>\n<!-- S&#45;&gt;P3_3_S -->\n<g id=\"edge19\" class=\"edge\">\n<title>S&#45;&gt;P3_3_S</title>\n<path fill=\"none\" stroke=\"black\" d=\"M305.89,-210.91C317.83,-205.02 333.52,-195.58 343.38,-183 351.31,-172.87 356.49,-159.69 359.82,-147.97\"/>\n<polygon fill=\"black\" stroke=\"black\" points=\"363.19,-148.91 362.2,-138.36 356.39,-147.22 363.19,-148.91\"/>\n<text text-anchor=\"middle\" x=\"382.96\" y=\"-171.6\" font-family=\"Times,serif\" font-size=\"12.00\">0.912</text>\n<text text-anchor=\"middle\" x=\"382.96\" y=\"-157.35\" font-family=\"Times,serif\" font-size=\"12.00\">p&#45;val: 0.00</text>\n</g>\n<!-- P3_4_S -->\n<g id=\"node21\" class=\"node\">\n<title>P3_4_S</title>\n<polygon fill=\"none\" stroke=\"black\" points=\"470.38,-136.5 412.38,-136.5 412.38,-100.5 470.38,-100.5 470.38,-136.5\"/>\n<text text-anchor=\"middle\" x=\"441.38\" y=\"-113.45\" font-family=\"Times,serif\" font-size=\"14.00\">P3_4_S</text>\n</g>\n<!-- S&#45;&gt;P3_4_S -->\n<g id=\"edge20\" class=\"edge\">\n<title>S&#45;&gt;P3_4_S</title>\n<path fill=\"none\" stroke=\"black\" d=\"M307.45,-217.46C333.57,-215.77 382.06,-209.04 412.38,-183 423,-173.87 429.95,-160.03 434.36,-147.61\"/>\n<polygon fill=\"black\" stroke=\"black\" points=\"437.66,-148.8 437.3,-138.21 430.98,-146.71 437.66,-148.8\"/>\n<text text-anchor=\"middle\" x=\"456.85\" y=\"-171.6\" font-family=\"Times,serif\" font-size=\"12.00\">0.870</text>\n<text text-anchor=\"middle\" x=\"456.85\" y=\"-157.35\" font-family=\"Times,serif\" font-size=\"12.00\">p&#45;val: 0.00</text>\n</g>\n<!-- QS -->\n<g id=\"node4\" class=\"node\">\n<title>QS</title>\n<ellipse fill=\"#cae6df\" stroke=\"black\" cx=\"842.38\" cy=\"-544.97\" rx=\"22.69\" ry=\"22.69\"/>\n<text text-anchor=\"middle\" x=\"842.38\" y=\"-539.92\" font-family=\"Times,serif\" font-size=\"14.00\">QS</text>\n</g>\n<!-- QS&#45;&gt;QF -->\n<g id=\"edge25\" class=\"edge\">\n<title>QS&#45;&gt;QF</title>\n<path fill=\"none\" stroke=\"black\" stroke-dasharray=\"5,2\" d=\"M808.05,-541.5C764.72,-537.52 688.47,-527.61 627.38,-504.28 596.21,-492.38 564.02,-471.76 542.19,-456.3\"/>\n<polygon fill=\"black\" stroke=\"black\" points=\"807.59,-544.97 817.85,-542.34 808.19,-538 807.59,-544.97\"/>\n<polygon fill=\"black\" stroke=\"black\" points=\"544.32,-453.52 534.16,-450.5 540.22,-459.19 544.32,-453.52\"/>\n<text text-anchor=\"middle\" x=\"652.88\" y=\"-492.88\" font-family=\"Times,serif\" font-size=\"12.00\">0.485</text>\n<text text-anchor=\"middle\" x=\"652.88\" y=\"-478.63\" font-family=\"Times,serif\" font-size=\"12.00\">p&#45;val: 0.00</text>\n</g>\n<!-- QS&#45;&gt;S -->\n<g id=\"edge1\" class=\"edge\">\n<title>QS&#45;&gt;S</title>\n<path fill=\"none\" stroke=\"black\" d=\"M819.5,-541.93C719.97,-532.53 326.68,-489.67 259.38,-394.4 227.27,-348.96 255.61,-280.52 274.94,-244.37\"/>\n<polygon fill=\"black\" stroke=\"black\" points=\"277.8,-246.43 279.59,-235.98 271.68,-243.03 277.8,-246.43\"/>\n<text text-anchor=\"middle\" x=\"284.88\" y=\"-383\" font-family=\"Times,serif\" font-size=\"12.00\">0.510</text>\n<text text-anchor=\"middle\" x=\"284.88\" y=\"-368.75\" font-family=\"Times,serif\" font-size=\"12.00\">p&#45;val: 0.00</text>\n</g>\n<!-- QS&#45;&gt;QT -->\n<g id=\"edge27\" class=\"edge\">\n<title>QS&#45;&gt;QT</title>\n<path fill=\"none\" stroke=\"black\" stroke-dasharray=\"5,2\" d=\"M810.27,-532.55C778,-519.43 729.18,-494.83 701.38,-457.78 675.97,-423.94 696.84,-402.95 676.38,-365.9 673.08,-359.95 668.73,-354.17 664.17,-348.94\"/>\n<polygon fill=\"black\" stroke=\"black\" points=\"808.93,-535.79 819.52,-536.16 811.48,-529.27 808.93,-535.79\"/>\n<polygon fill=\"black\" stroke=\"black\" points=\"666.88,-346.72 657.48,-341.83 661.78,-351.51 666.88,-346.72\"/>\n<text text-anchor=\"middle\" x=\"726.88\" y=\"-437.94\" font-family=\"Times,serif\" font-size=\"12.00\">0.480</text>\n<text text-anchor=\"middle\" x=\"726.88\" y=\"-423.69\" font-family=\"Times,serif\" font-size=\"12.00\">p&#45;val: 0.00</text>\n</g>\n<!-- P1_16_QS -->\n<g id=\"node10\" class=\"node\">\n<title>P1_16_QS</title>\n<polygon fill=\"none\" stroke=\"black\" points=\"835.62,-453.09 761.12,-453.09 761.12,-417.09 835.62,-417.09 835.62,-453.09\"/>\n<text text-anchor=\"middle\" x=\"798.38\" y=\"-430.04\" font-family=\"Times,serif\" font-size=\"14.00\">P1_16_QS</text>\n</g>\n<!-- QS&#45;&gt;P1_16_QS -->\n<g id=\"edge9\" class=\"edge\">\n<title>QS&#45;&gt;P1_16_QS</title>\n<path fill=\"none\" stroke=\"black\" d=\"M828.29,-527.07C823.27,-520.33 817.97,-512.28 814.38,-504.28 808.78,-491.84 805.02,-477.22 802.56,-464.71\"/>\n<polygon fill=\"black\" stroke=\"black\" points=\"806.03,-464.23 800.84,-454.99 799.13,-465.45 806.03,-464.23\"/>\n<text text-anchor=\"middle\" x=\"839.88\" y=\"-492.88\" font-family=\"Times,serif\" font-size=\"12.00\">0.613</text>\n<text text-anchor=\"middle\" x=\"839.88\" y=\"-478.63\" font-family=\"Times,serif\" font-size=\"12.00\">p&#45;val: 0.00</text>\n</g>\n<!-- P1_1_QS -->\n<g id=\"node11\" class=\"node\">\n<title>P1_1_QS</title>\n<polygon fill=\"none\" stroke=\"black\" points=\"921.25,-453.09 853.5,-453.09 853.5,-417.09 921.25,-417.09 921.25,-453.09\"/>\n<text text-anchor=\"middle\" x=\"887.38\" y=\"-430.04\" font-family=\"Times,serif\" font-size=\"14.00\">P1_1_QS</text>\n</g>\n<!-- QS&#45;&gt;P1_1_QS -->\n<g id=\"edge5\" class=\"edge\">\n<title>QS&#45;&gt;P1_1_QS</title>\n<path fill=\"none\" stroke=\"black\" d=\"M854.22,-525.43C858.09,-518.9 862.2,-511.41 865.38,-504.28 871.07,-491.49 876.01,-476.77 879.75,-464.28\"/>\n<polygon fill=\"black\" stroke=\"black\" points=\"883.02,-465.6 882.43,-455.02 876.29,-463.66 883.02,-465.6\"/>\n<text text-anchor=\"middle\" x=\"889.34\" y=\"-485.76\" font-family=\"Times,serif\" font-size=\"12.00\">0.816</text>\n</g>\n<!-- P1_2_QS -->\n<g id=\"node12\" class=\"node\">\n<title>P1_2_QS</title>\n<polygon fill=\"none\" stroke=\"black\" points=\"1007.25,-453.09 939.5,-453.09 939.5,-417.09 1007.25,-417.09 1007.25,-453.09\"/>\n<text text-anchor=\"middle\" x=\"973.38\" y=\"-430.04\" font-family=\"Times,serif\" font-size=\"14.00\">P1_2_QS</text>\n</g>\n<!-- QS&#45;&gt;P1_2_QS -->\n<g id=\"edge6\" class=\"edge\">\n<title>QS&#45;&gt;P1_2_QS</title>\n<path fill=\"none\" stroke=\"black\" d=\"M862.23,-533.31C875.29,-525.9 892.49,-515.39 906.38,-504.28 922.32,-491.53 938.42,-475.28 950.84,-461.85\"/>\n<polygon fill=\"black\" stroke=\"black\" points=\"953.28,-464.36 957.41,-454.61 948.09,-459.66 953.28,-464.36\"/>\n<text text-anchor=\"middle\" x=\"962.8\" y=\"-492.88\" font-family=\"Times,serif\" font-size=\"12.00\">0.718</text>\n<text text-anchor=\"middle\" x=\"962.8\" y=\"-478.63\" font-family=\"Times,serif\" font-size=\"12.00\">p&#45;val: 0.00</text>\n</g>\n<!-- P1_4_QS -->\n<g id=\"node13\" class=\"node\">\n<title>P1_4_QS</title>\n<polygon fill=\"none\" stroke=\"black\" points=\"1093.25,-453.09 1025.5,-453.09 1025.5,-417.09 1093.25,-417.09 1093.25,-453.09\"/>\n<text text-anchor=\"middle\" x=\"1059.38\" y=\"-430.04\" font-family=\"Times,serif\" font-size=\"14.00\">P1_4_QS</text>\n</g>\n<!-- QS&#45;&gt;P1_4_QS -->\n<g id=\"edge7\" class=\"edge\">\n<title>QS&#45;&gt;P1_4_QS</title>\n<path fill=\"none\" stroke=\"black\" d=\"M865.16,-541.75C895.86,-537.93 951.38,-528.11 992.38,-504.28 1010.79,-493.58 1027.59,-476.47 1039.75,-462.06\"/>\n<polygon fill=\"black\" stroke=\"black\" points=\"1042.15,-464.66 1045.75,-454.7 1036.72,-460.24 1042.15,-464.66\"/>\n<text text-anchor=\"middle\" x=\"1052.17\" y=\"-492.88\" font-family=\"Times,serif\" font-size=\"12.00\">0.777</text>\n<text text-anchor=\"middle\" x=\"1052.17\" y=\"-478.63\" font-family=\"Times,serif\" font-size=\"12.00\">p&#45;val: 0.00</text>\n</g>\n<!-- P1_5_QS -->\n<g id=\"node14\" class=\"node\">\n<title>P1_5_QS</title>\n<polygon fill=\"none\" stroke=\"black\" points=\"1179.25,-453.09 1111.5,-453.09 1111.5,-417.09 1179.25,-417.09 1179.25,-453.09\"/>\n<text text-anchor=\"middle\" x=\"1145.38\" y=\"-430.04\" font-family=\"Times,serif\" font-size=\"14.00\">P1_5_QS</text>\n</g>\n<!-- QS&#45;&gt;P1_5_QS -->\n<g id=\"edge8\" class=\"edge\">\n<title>QS&#45;&gt;P1_5_QS</title>\n<path fill=\"none\" stroke=\"black\" d=\"M865.18,-542.06C917.39,-537.38 1044,-524.26 1081.38,-504.28 1099.82,-494.43 1115.9,-477.23 1127.33,-462.57\"/>\n<polygon fill=\"black\" stroke=\"black\" points=\"1130.08,-464.74 1133.25,-454.62 1124.47,-460.56 1130.08,-464.74\"/>\n<text text-anchor=\"middle\" x=\"1140.33\" y=\"-492.88\" font-family=\"Times,serif\" font-size=\"12.00\">0.814</text>\n<text text-anchor=\"middle\" x=\"1140.33\" y=\"-478.63\" font-family=\"Times,serif\" font-size=\"12.00\">p&#45;val: 0.00</text>\n</g>\n<!-- QT&#45;&gt;S -->\n<g id=\"edge3\" class=\"edge\">\n<title>QT&#45;&gt;S</title>\n<path fill=\"none\" stroke=\"black\" d=\"M621.62,-309.16C617.2,-306.18 612.3,-303.38 607.38,-301.5 546.29,-278.19 524.91,-298.92 461.38,-283.5 408.29,-270.61 349.09,-246.47 315.82,-231.95\"/>\n<polygon fill=\"black\" stroke=\"black\" points=\"317.53,-228.88 306.97,-228.04 314.7,-235.28 317.53,-228.88\"/>\n<text text-anchor=\"middle\" x=\"486.88\" y=\"-272.1\" font-family=\"Times,serif\" font-size=\"12.00\">0.178</text>\n<text text-anchor=\"middle\" x=\"486.88\" y=\"-257.85\" font-family=\"Times,serif\" font-size=\"12.00\">p&#45;val: 0.00</text>\n</g>\n<!-- P1_10_QT -->\n<g id=\"node6\" class=\"node\">\n<title>P1_10_QT</title>\n<polygon fill=\"none\" stroke=\"black\" points=\"816,-237 740.75,-237 740.75,-201 816,-201 816,-237\"/>\n<text text-anchor=\"middle\" x=\"778.38\" y=\"-213.95\" font-family=\"Times,serif\" font-size=\"14.00\">P1_10_QT</text>\n</g>\n<!-- QT&#45;&gt;P1_10_QT -->\n<g id=\"edge13\" class=\"edge\">\n<title>QT&#45;&gt;P1_10_QT</title>\n<path fill=\"none\" stroke=\"black\" d=\"M661.39,-316.26C679.44,-309.49 705.07,-298.3 724.38,-283.5 737.92,-273.12 750.45,-258.82 760.02,-246.43\"/>\n<polygon fill=\"black\" stroke=\"black\" points=\"762.66,-248.74 765.82,-238.63 757.05,-244.56 762.66,-248.74\"/>\n<text text-anchor=\"middle\" x=\"765.42\" y=\"-264.98\" font-family=\"Times,serif\" font-size=\"12.00\">0.680</text>\n</g>\n<!-- P1_11_QT -->\n<g id=\"node7\" class=\"node\">\n<title>P1_11_QT</title>\n<polygon fill=\"none\" stroke=\"black\" points=\"537,-237 461.75,-237 461.75,-201 537,-201 537,-237\"/>\n<text text-anchor=\"middle\" x=\"499.38\" y=\"-213.95\" font-family=\"Times,serif\" font-size=\"14.00\">P1_11_QT</text>\n</g>\n<!-- QT&#45;&gt;P1_11_QT -->\n<g id=\"edge14\" class=\"edge\">\n<title>QT&#45;&gt;P1_11_QT</title>\n<path fill=\"none\" stroke=\"black\" d=\"M621.42,-309.65C617,-306.65 612.16,-303.72 607.38,-301.5 579.41,-288.52 565.29,-301.66 540.38,-283.5 527.87,-274.38 518.18,-260.18 511.37,-247.52\"/>\n<polygon fill=\"black\" stroke=\"black\" points=\"514.59,-246.14 507,-238.75 508.33,-249.26 514.59,-246.14\"/>\n<text text-anchor=\"middle\" x=\"565.88\" y=\"-272.1\" font-family=\"Times,serif\" font-size=\"12.00\">0.898</text>\n<text text-anchor=\"middle\" x=\"565.88\" y=\"-257.85\" font-family=\"Times,serif\" font-size=\"12.00\">p&#45;val: 0.00</text>\n</g>\n<!-- P1_12_QT -->\n<g id=\"node8\" class=\"node\">\n<title>P1_12_QT</title>\n<polygon fill=\"none\" stroke=\"black\" points=\"630,-237 554.75,-237 554.75,-201 630,-201 630,-237\"/>\n<text text-anchor=\"middle\" x=\"592.38\" y=\"-213.95\" font-family=\"Times,serif\" font-size=\"14.00\">P1_12_QT</text>\n</g>\n<!-- QT&#45;&gt;P1_12_QT -->\n<g id=\"edge15\" class=\"edge\">\n<title>QT&#45;&gt;P1_12_QT</title>\n<path fill=\"none\" stroke=\"black\" d=\"M622.36,-308.82C615.41,-301.82 607.95,-292.94 603.38,-283.5 598.13,-272.66 595.35,-259.72 593.89,-248.35\"/>\n<polygon fill=\"black\" stroke=\"black\" points=\"597.41,-248.34 592.95,-238.73 590.44,-249.03 597.41,-248.34\"/>\n<text text-anchor=\"middle\" x=\"628.88\" y=\"-272.1\" font-family=\"Times,serif\" font-size=\"12.00\">0.823</text>\n<text text-anchor=\"middle\" x=\"628.88\" y=\"-257.85\" font-family=\"Times,serif\" font-size=\"12.00\">p&#45;val: 0.00</text>\n</g>\n<!-- P1_13_QT -->\n<g id=\"node9\" class=\"node\">\n<title>P1_13_QT</title>\n<polygon fill=\"none\" stroke=\"black\" points=\"723,-237 647.75,-237 647.75,-201 723,-201 723,-237\"/>\n<text text-anchor=\"middle\" x=\"685.38\" y=\"-213.95\" font-family=\"Times,serif\" font-size=\"14.00\">P1_13_QT</text>\n</g>\n<!-- QT&#45;&gt;P1_13_QT -->\n<g id=\"edge16\" class=\"edge\">\n<title>QT&#45;&gt;P1_13_QT</title>\n<path fill=\"none\" stroke=\"black\" d=\"M648.46,-303.21C655.53,-287.28 665.41,-265.01 673.17,-247.52\"/>\n<polygon fill=\"black\" stroke=\"black\" points=\"676.21,-249.29 677.07,-238.73 669.81,-246.45 676.21,-249.29\"/>\n<text text-anchor=\"middle\" x=\"694.68\" y=\"-272.1\" font-family=\"Times,serif\" font-size=\"12.00\">0.748</text>\n<text text-anchor=\"middle\" x=\"694.68\" y=\"-257.85\" font-family=\"Times,serif\" font-size=\"12.00\">p&#45;val: 0.00</text>\n</g>\n</g>\n</svg>\n",
      "text/plain": [
       "<graphviz.graphs.Digraph at 0x120c57700>"
      ]
     },
     "execution_count": 7,
     "metadata": {},
     "output_type": "execute_result"
    }
   ],
   "execution_count": 7
  },
  {
   "metadata": {},
   "cell_type": "markdown",
   "source": [
    "### R squared\n",
    "Computes $R^2$ for Satisfaction (S) and Loyalty (L) using the standardized betas\n",
    "\n",
    "$R^{2}= \\boldsymbol\\beta^{\\mkern-2mu\\top} \\mathbf R_{XX}\\boldsymbol\\beta$"
   ],
   "id": "a2387786e1f87d99"
  },
  {
   "metadata": {
    "ExecuteTime": {
     "end_time": "2025-07-07T11:16:18.750594Z",
     "start_time": "2025-07-07T11:16:18.738950Z"
    }
   },
   "cell_type": "code",
   "source": [
    "import numpy as np\n",
    "\n",
    "paths = (model.inspect(std_est=True)\n",
    "             .query(\"op == '~'\")\n",
    "             .set_index(['lval','rval']))\n",
    "\n",
    "factor_scores = model.predict_factors(clean_df)"
   ],
   "id": "2b1aad805e82e484",
   "outputs": [],
   "execution_count": 8
  },
  {
   "metadata": {
    "ExecuteTime": {
     "end_time": "2025-07-07T11:16:18.792280Z",
     "start_time": "2025-07-07T11:16:18.789328Z"
    }
   },
   "cell_type": "code",
   "source": [
    "def latent_R2(target, predictors, paths, factor_scores):\n",
    "    \"\"\"\n",
    "    Compute R squared for an endogenous latent variable, give n latent predictors.\n",
    "    \"\"\"\n",
    "    beta = paths.loc[(target, predictors), 'Est. Std'].values.astype(float)\n",
    "\n",
    "    R_xx = np.corrcoef(factor_scores[predictors].T)\n",
    "\n",
    "    if np.ndim(R_xx) == 0:\n",
    "        return float(beta[0] ** 2)\n",
    "\n",
    "    return float(beta @ R_xx @ beta)"
   ],
   "id": "ec2dc46649bcdca4",
   "outputs": [],
   "execution_count": 9
  },
  {
   "metadata": {
    "ExecuteTime": {
     "end_time": "2025-07-07T11:16:18.821424Z",
     "start_time": "2025-07-07T11:16:18.816936Z"
    }
   },
   "cell_type": "code",
   "source": [
    "R2_S = latent_R2('S', ['QS', 'QF', 'QT'], paths, factor_scores)\n",
    "R2_S"
   ],
   "id": "672cef7d861eccd9",
   "outputs": [
    {
     "data": {
      "text/plain": [
       "0.5783830648107229"
      ]
     },
     "execution_count": 10,
     "metadata": {},
     "output_type": "execute_result"
    }
   ],
   "execution_count": 10
  },
  {
   "metadata": {
    "ExecuteTime": {
     "end_time": "2025-07-07T11:16:18.850998Z",
     "start_time": "2025-07-07T11:16:18.847069Z"
    }
   },
   "cell_type": "code",
   "source": [
    "R2_L = latent_R2('L', ['S'], paths, factor_scores)\n",
    "R2_L"
   ],
   "id": "4622c4bae77a2890",
   "outputs": [
    {
     "data": {
      "text/plain": [
       "0.43586744801030547"
      ]
     },
     "execution_count": 11,
     "metadata": {},
     "output_type": "execute_result"
    }
   ],
   "execution_count": 11
  },
  {
   "metadata": {},
   "cell_type": "markdown",
   "source": [
    "### Indirect Effects\n",
    "QA -> L, QF -> L, QT -> L through S"
   ],
   "id": "d687aac292c0f01f"
  },
  {
   "metadata": {
    "ExecuteTime": {
     "end_time": "2025-07-07T11:16:18.925543Z",
     "start_time": "2025-07-07T11:16:18.878943Z"
    }
   },
   "cell_type": "code",
   "source": [
    "standardised_paths = (\n",
    "    model.inspect(std_est=True, se_robust=True)\n",
    "         .query(\"op == '~'\")\n",
    "         .set_index(['lval', 'rval'])\n",
    ")"
   ],
   "id": "4f354832aa57c81c",
   "outputs": [],
   "execution_count": 12
  },
  {
   "metadata": {},
   "cell_type": "markdown",
   "source": "#### Mediator-to-outcome path  (S -> L)",
   "id": "5b3d76f3860157e9"
  },
  {
   "metadata": {
    "ExecuteTime": {
     "end_time": "2025-07-07T11:16:18.944759Z",
     "start_time": "2025-07-07T11:16:18.941696Z"
    }
   },
   "cell_type": "code",
   "source": [
    "b_path_coefficient = float(\n",
    "    standardised_paths.loc[('L', 'S'), 'Est. Std']\n",
    ")\n",
    "b_path_standard_error = float(\n",
    "    standardised_paths.loc[('L', 'S'), 'Std. Err']\n",
    ")"
   ],
   "id": "ae9edb91f7dadef",
   "outputs": [],
   "execution_count": 13
  },
  {
   "metadata": {},
   "cell_type": "markdown",
   "source": "#### Loop over each quality dimension (predictor-to-mediator paths)",
   "id": "9fd2c668d8e2be8d"
  },
  {
   "metadata": {
    "ExecuteTime": {
     "end_time": "2025-07-07T11:16:18.981594Z",
     "start_time": "2025-07-07T11:16:18.978491Z"
    }
   },
   "cell_type": "code",
   "source": [
    "import math\n",
    "results = []\n",
    "for predictor in ['QS', 'QF', 'QT']:\n",
    "    a_path_coefficient = float(\n",
    "        standardised_paths.loc[('S', predictor), 'Est. Std']\n",
    "    )\n",
    "    a_path_standard_error = float(\n",
    "        standardised_paths.loc[('S', predictor), 'Std. Err']\n",
    "    )\n",
    "\n",
    "    # Indirect effect = a * b\n",
    "    indirect_effect = a_path_coefficient * b_path_coefficient\n",
    "\n",
    "    # Sobel standard error: sqrt(b^2 * SE_a^2 + a^2 * SE_b^2)\n",
    "    indirect_se = math.sqrt(\n",
    "        (b_path_coefficient ** 2) * (a_path_standard_error ** 2) +\n",
    "        (a_path_coefficient ** 2) * (b_path_standard_error ** 2)\n",
    "    )\n",
    "\n",
    "    z_value = indirect_effect / indirect_se\n",
    "    # Two-tailed p-value from z\n",
    "    p_value = math.erfc(abs(z_value) / math.sqrt(2))\n",
    "\n",
    "    results.append({\n",
    "        'Path': f'{predictor} -> L (via S)',\n",
    "        'Indirect Effect': round(indirect_effect, 3),\n",
    "        'Standard Error':  round(indirect_se, 3),\n",
    "        'z-value':         round(z_value, 2),\n",
    "        'p-value':         round(p_value, 4)\n",
    "    })"
   ],
   "id": "df700ae8d203492e",
   "outputs": [],
   "execution_count": 14
  },
  {
   "metadata": {
    "ExecuteTime": {
     "end_time": "2025-07-07T11:16:19.012102Z",
     "start_time": "2025-07-07T11:16:19.007149Z"
    }
   },
   "cell_type": "code",
   "source": [
    "indirect_effects_df = pd.DataFrame(results)\n",
    "indirect_effects_df"
   ],
   "id": "f19c2530b4691973",
   "outputs": [
    {
     "data": {
      "text/plain": [
       "              Path  Indirect Effect  Standard Error  z-value  p-value\n",
       "0  QS -> L (via S)            0.337           0.045     7.47   0.0000\n",
       "1  QF -> L (via S)            0.128           0.058     2.22   0.0265\n",
       "2  QT -> L (via S)            0.117           0.037     3.20   0.0014"
      ],
      "text/html": [
       "<div>\n",
       "<style scoped>\n",
       "    .dataframe tbody tr th:only-of-type {\n",
       "        vertical-align: middle;\n",
       "    }\n",
       "\n",
       "    .dataframe tbody tr th {\n",
       "        vertical-align: top;\n",
       "    }\n",
       "\n",
       "    .dataframe thead th {\n",
       "        text-align: right;\n",
       "    }\n",
       "</style>\n",
       "<table border=\"1\" class=\"dataframe\">\n",
       "  <thead>\n",
       "    <tr style=\"text-align: right;\">\n",
       "      <th></th>\n",
       "      <th>Path</th>\n",
       "      <th>Indirect Effect</th>\n",
       "      <th>Standard Error</th>\n",
       "      <th>z-value</th>\n",
       "      <th>p-value</th>\n",
       "    </tr>\n",
       "  </thead>\n",
       "  <tbody>\n",
       "    <tr>\n",
       "      <th>0</th>\n",
       "      <td>QS -&gt; L (via S)</td>\n",
       "      <td>0.337</td>\n",
       "      <td>0.045</td>\n",
       "      <td>7.47</td>\n",
       "      <td>0.0000</td>\n",
       "    </tr>\n",
       "    <tr>\n",
       "      <th>1</th>\n",
       "      <td>QF -&gt; L (via S)</td>\n",
       "      <td>0.128</td>\n",
       "      <td>0.058</td>\n",
       "      <td>2.22</td>\n",
       "      <td>0.0265</td>\n",
       "    </tr>\n",
       "    <tr>\n",
       "      <th>2</th>\n",
       "      <td>QT -&gt; L (via S)</td>\n",
       "      <td>0.117</td>\n",
       "      <td>0.037</td>\n",
       "      <td>3.20</td>\n",
       "      <td>0.0014</td>\n",
       "    </tr>\n",
       "  </tbody>\n",
       "</table>\n",
       "</div>"
      ]
     },
     "execution_count": 15,
     "metadata": {},
     "output_type": "execute_result"
    }
   ],
   "execution_count": 15
  },
  {
   "metadata": {},
   "cell_type": "markdown",
   "source": "#### Predictors of L (S -> L)",
   "id": "83d81a43ec4dddfb"
  },
  {
   "metadata": {},
   "cell_type": "markdown",
   "source": "# Final Analysis",
   "id": "ddb1d1d79d3048e3"
  },
  {
   "metadata": {
    "ExecuteTime": {
     "end_time": "2025-07-07T11:16:19.048252Z",
     "start_time": "2025-07-07T11:16:19.043498Z"
    }
   },
   "cell_type": "code",
   "source": "direct_effects_df",
   "id": "f6fc68406e9932c3",
   "outputs": [
    {
     "data": {
      "text/plain": [
       "  Outcome Predictor      beta   p-value    t-value hypothesis_result\n",
       "2       S        QT  0.177666  0.000178   3.747854         Supported\n",
       "1       S        QF  0.194342  0.000152   3.787914         Supported\n",
       "0       S        QS  0.510324       0.0  10.199336         Supported\n",
       "3       L         S  0.660203       0.0  14.720154         Supported"
      ],
      "text/html": [
       "<div>\n",
       "<style scoped>\n",
       "    .dataframe tbody tr th:only-of-type {\n",
       "        vertical-align: middle;\n",
       "    }\n",
       "\n",
       "    .dataframe tbody tr th {\n",
       "        vertical-align: top;\n",
       "    }\n",
       "\n",
       "    .dataframe thead th {\n",
       "        text-align: right;\n",
       "    }\n",
       "</style>\n",
       "<table border=\"1\" class=\"dataframe\">\n",
       "  <thead>\n",
       "    <tr style=\"text-align: right;\">\n",
       "      <th></th>\n",
       "      <th>Outcome</th>\n",
       "      <th>Predictor</th>\n",
       "      <th>beta</th>\n",
       "      <th>p-value</th>\n",
       "      <th>t-value</th>\n",
       "      <th>hypothesis_result</th>\n",
       "    </tr>\n",
       "  </thead>\n",
       "  <tbody>\n",
       "    <tr>\n",
       "      <th>2</th>\n",
       "      <td>S</td>\n",
       "      <td>QT</td>\n",
       "      <td>0.177666</td>\n",
       "      <td>0.000178</td>\n",
       "      <td>3.747854</td>\n",
       "      <td>Supported</td>\n",
       "    </tr>\n",
       "    <tr>\n",
       "      <th>1</th>\n",
       "      <td>S</td>\n",
       "      <td>QF</td>\n",
       "      <td>0.194342</td>\n",
       "      <td>0.000152</td>\n",
       "      <td>3.787914</td>\n",
       "      <td>Supported</td>\n",
       "    </tr>\n",
       "    <tr>\n",
       "      <th>0</th>\n",
       "      <td>S</td>\n",
       "      <td>QS</td>\n",
       "      <td>0.510324</td>\n",
       "      <td>0.0</td>\n",
       "      <td>10.199336</td>\n",
       "      <td>Supported</td>\n",
       "    </tr>\n",
       "    <tr>\n",
       "      <th>3</th>\n",
       "      <td>L</td>\n",
       "      <td>S</td>\n",
       "      <td>0.660203</td>\n",
       "      <td>0.0</td>\n",
       "      <td>14.720154</td>\n",
       "      <td>Supported</td>\n",
       "    </tr>\n",
       "  </tbody>\n",
       "</table>\n",
       "</div>"
      ]
     },
     "execution_count": 16,
     "metadata": {},
     "output_type": "execute_result"
    }
   ],
   "execution_count": 16
  },
  {
   "metadata": {
    "ExecuteTime": {
     "end_time": "2025-07-07T11:16:19.137320Z",
     "start_time": "2025-07-07T11:16:19.131475Z"
    }
   },
   "cell_type": "code",
   "source": "indirect_effects_df",
   "id": "a86883846e4e9363",
   "outputs": [
    {
     "data": {
      "text/plain": [
       "              Path  Indirect Effect  Standard Error  z-value  p-value\n",
       "0  QS -> L (via S)            0.337           0.045     7.47   0.0000\n",
       "1  QF -> L (via S)            0.128           0.058     2.22   0.0265\n",
       "2  QT -> L (via S)            0.117           0.037     3.20   0.0014"
      ],
      "text/html": [
       "<div>\n",
       "<style scoped>\n",
       "    .dataframe tbody tr th:only-of-type {\n",
       "        vertical-align: middle;\n",
       "    }\n",
       "\n",
       "    .dataframe tbody tr th {\n",
       "        vertical-align: top;\n",
       "    }\n",
       "\n",
       "    .dataframe thead th {\n",
       "        text-align: right;\n",
       "    }\n",
       "</style>\n",
       "<table border=\"1\" class=\"dataframe\">\n",
       "  <thead>\n",
       "    <tr style=\"text-align: right;\">\n",
       "      <th></th>\n",
       "      <th>Path</th>\n",
       "      <th>Indirect Effect</th>\n",
       "      <th>Standard Error</th>\n",
       "      <th>z-value</th>\n",
       "      <th>p-value</th>\n",
       "    </tr>\n",
       "  </thead>\n",
       "  <tbody>\n",
       "    <tr>\n",
       "      <th>0</th>\n",
       "      <td>QS -&gt; L (via S)</td>\n",
       "      <td>0.337</td>\n",
       "      <td>0.045</td>\n",
       "      <td>7.47</td>\n",
       "      <td>0.0000</td>\n",
       "    </tr>\n",
       "    <tr>\n",
       "      <th>1</th>\n",
       "      <td>QF -&gt; L (via S)</td>\n",
       "      <td>0.128</td>\n",
       "      <td>0.058</td>\n",
       "      <td>2.22</td>\n",
       "      <td>0.0265</td>\n",
       "    </tr>\n",
       "    <tr>\n",
       "      <th>2</th>\n",
       "      <td>QT -&gt; L (via S)</td>\n",
       "      <td>0.117</td>\n",
       "      <td>0.037</td>\n",
       "      <td>3.20</td>\n",
       "      <td>0.0014</td>\n",
       "    </tr>\n",
       "  </tbody>\n",
       "</table>\n",
       "</div>"
      ]
     },
     "execution_count": 17,
     "metadata": {},
     "output_type": "execute_result"
    }
   ],
   "execution_count": 17
  },
  {
   "metadata": {
    "ExecuteTime": {
     "end_time": "2025-07-07T11:16:19.217537Z",
     "start_time": "2025-07-07T11:16:19.215137Z"
    }
   },
   "cell_type": "code",
   "source": [
    "print(f\"R^2(S) = {R2_S:.3f}\")\n",
    "print(f\"R^2(L) = {R2_L:.3f}\")"
   ],
   "id": "33b9a1e886436e2c",
   "outputs": [
    {
     "name": "stdout",
     "output_type": "stream",
     "text": [
      "R^2(S) = 0.578\n",
      "R^2(L) = 0.436\n"
     ]
    }
   ],
   "execution_count": 18
  },
  {
   "metadata": {},
   "cell_type": "markdown",
   "source": [
    "1. H1 - Customer Service Quality (QS) positively influences Satisfaction (S)\n",
    "   1.  Supported: $\\beta = 0.510$, $p < 0.001$\n",
    "2. H2 - Financial Quality (QF) positively influences Satisfaction (S)\n",
    "   1.  Supported: $\\beta = 0.194$, $p < 0.001$\n",
    "3. H3 - Technical quality (QT) positively influences Satisfaction (S)\n",
    "   1.  Supported: $\\beta = 0.178$, $p < 0.001$\n",
    "4. H4 - Satisfaction (S) positively influences Loyalty (L)\n",
    "   1.  Supported: $\\beta = 0.660$, $p < 0.001$\n",
    "\n",
    "Model fit: $\\chi^2$/df = 3.76; CFI = .928; GFI = .904; TLI = .916; RMSEA = .075.\n",
    "All indices meet the conventional good‐fit thresholds (Hu & Bentler, 1999).\n",
    "\n",
    "Explained variance: $R^2$(S) = .578, $R^2$(L) = .436\n",
    "\n",
    "Direct effects:\n",
    "All three quality dimensions (QS, QF, QT) significantly positively influence Satisfaction ($\\beta = 0.510$, $p < 0.001$; $\\beta = 0.194$, $p < 0.001$; $\\beta = 0.178$, $p < 0.001$ respectively), together explaining almost 58 % of its variance, thus H1 - H3 are supported.\n",
    "(QS) is the dominant driver ($\\beta$ = 0.510), well above the medium-effect benchmark of .30 suggested by Cohen (1988).\n",
    "Satisfaction, in turn, strongly predicts Loyalty (L) ($\\beta$  = 0.660), accounting for 44 % of loyalty variance\n",
    "\n",
    "Indirect effects:\n",
    "QS, QF, and QT all have significant indirect effects on Loyalty through Satisfaction, with the strongest being from QS ($\\beta$ = 0.337, $p < 0.001$), followed by QF ($\\beta$ = 0.128, $p < 0.05$) and QT ($\\beta$ = 0.117, $p < 0.001$).\n",
    "\n"
   ],
   "id": "8c3e85c036152c4a"
  }
 ],
 "metadata": {
  "kernelspec": {
   "display_name": "Python 3 (ipykernel)",
   "language": "python",
   "name": "python3"
  },
  "language_info": {
   "codemirror_mode": {
    "name": "ipython",
    "version": 3
   },
   "file_extension": ".py",
   "mimetype": "text/x-python",
   "name": "python",
   "nbconvert_exporter": "python",
   "pygments_lexer": "ipython3",
   "version": "3.10.11"
  }
 },
 "nbformat": 4,
 "nbformat_minor": 5
}
