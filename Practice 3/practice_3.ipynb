{
 "cells": [
  {
   "cell_type": "markdown",
   "id": "2686fb3a4fefcb90",
   "metadata": {},
   "source": [
    "# Practice 3: Group Analysis\n",
    "\n",
    "## Objetives:\n",
    "1. Group analysis by gender and contract type\n",
    "2. Report moderation hypotheses tests and report direct and indirect effects\n",
    "    1. Gender Hypotheses:\n",
    "        1. H5a: The influence of technical quality on satisfaction is more positive among women than among men\n",
    "        2. H5b: The influence of financial quality on satisfaction is more positive among women than among men.\n",
    "        3. H5c: The influence of service quality on satisfaction is more positive among women than among men.\n",
    "\t    4. H5d: The influence of satisfaction on loyalty is more positive among women than among men.\n",
    "    2. Contract Type Hypotheses:\n",
    "        1. H6a: The influence of technical quality on satisfaction is more positive among consumers who use postpaid plans than those who use prepaid plans.\n",
    "\t    2. H6b: The influence of financial quality on satisfaction is more positive among consumers who use postpaid plans than those who use prepaid plans.\n",
    "\t    3. H6c: The influence of service quality on satisfaction is more positive among consumers who use postpaid plans than those who use prepaid plans.\n",
    "\t    4. H6d: The influence of satisfaction on loyalty is more positive among consumers who use postpaid plans than those who use prepaid plans.\n"
   ]
  },
  {
   "metadata": {},
   "cell_type": "markdown",
   "source": "## Data Preparation",
   "id": "ff629a8b552f2630"
  },
  {
   "metadata": {
    "ExecuteTime": {
     "end_time": "2025-07-10T13:53:50.695437Z",
     "start_time": "2025-07-10T13:53:50.673814Z"
    }
   },
   "cell_type": "code",
   "source": [
    "import pandas as pd\n",
    "import pyreadstat\n",
    "\n",
    "raw_data_df, meta = pyreadstat.read_sav(\"../data/EXERCICIO_2025.sav\")\n",
    "raw_data_df.head()"
   ],
   "id": "f76fd2c9f0a24fd4",
   "outputs": [
    {
     "data": {
      "text/plain": [
       "   CASO   f1   f2   f3   f4   f5    f6    f7  P1.1_QA  P1.2_QA  ...   P7  P14  \\\n",
       "0   NaN  1.0  3.0  6.0  1.0  1.0  50.0  18.0      8.0      6.0  ...  3.0  2.0   \n",
       "1   NaN  1.0  1.0  5.0  1.0  1.0  36.0  35.0      8.0      7.0  ...  1.0  1.0   \n",
       "2   NaN  1.0  3.0  5.0  1.0  1.0  72.0  73.0     10.0     10.0  ...  2.0  2.0   \n",
       "3   NaN  1.0  3.0  9.0  1.0  1.0  24.0  27.0      6.0      6.0  ...  1.0  2.0   \n",
       "4   NaN  1.0  4.0  9.0  1.0  1.0  72.0  24.0      2.0      5.0  ...  2.0  1.0   \n",
       "\n",
       "     ltv2  tempo  clsocial  SATIS  LEAL  ATEND        FIN   TEC  \n",
       "0  1373.0   61.0       5.0   6.50   6.2    7.2   9.333333  8.50  \n",
       "1  1002.0   47.0       5.0   5.50   4.4    6.8   6.666667  8.00  \n",
       "2  2097.0   83.0       5.0   7.50   8.0    9.6  10.000000  8.00  \n",
       "3   802.0   35.0       4.0   6.25   6.2    6.4   7.666667  6.50  \n",
       "4  4835.0   78.0       4.0   5.25   4.4    4.4   5.666667  5.75  \n",
       "\n",
       "[5 rows x 45 columns]"
      ],
      "text/html": [
       "<div>\n",
       "<style scoped>\n",
       "    .dataframe tbody tr th:only-of-type {\n",
       "        vertical-align: middle;\n",
       "    }\n",
       "\n",
       "    .dataframe tbody tr th {\n",
       "        vertical-align: top;\n",
       "    }\n",
       "\n",
       "    .dataframe thead th {\n",
       "        text-align: right;\n",
       "    }\n",
       "</style>\n",
       "<table border=\"1\" class=\"dataframe\">\n",
       "  <thead>\n",
       "    <tr style=\"text-align: right;\">\n",
       "      <th></th>\n",
       "      <th>CASO</th>\n",
       "      <th>f1</th>\n",
       "      <th>f2</th>\n",
       "      <th>f3</th>\n",
       "      <th>f4</th>\n",
       "      <th>f5</th>\n",
       "      <th>f6</th>\n",
       "      <th>f7</th>\n",
       "      <th>P1.1_QA</th>\n",
       "      <th>P1.2_QA</th>\n",
       "      <th>...</th>\n",
       "      <th>P7</th>\n",
       "      <th>P14</th>\n",
       "      <th>ltv2</th>\n",
       "      <th>tempo</th>\n",
       "      <th>clsocial</th>\n",
       "      <th>SATIS</th>\n",
       "      <th>LEAL</th>\n",
       "      <th>ATEND</th>\n",
       "      <th>FIN</th>\n",
       "      <th>TEC</th>\n",
       "    </tr>\n",
       "  </thead>\n",
       "  <tbody>\n",
       "    <tr>\n",
       "      <th>0</th>\n",
       "      <td>NaN</td>\n",
       "      <td>1.0</td>\n",
       "      <td>3.0</td>\n",
       "      <td>6.0</td>\n",
       "      <td>1.0</td>\n",
       "      <td>1.0</td>\n",
       "      <td>50.0</td>\n",
       "      <td>18.0</td>\n",
       "      <td>8.0</td>\n",
       "      <td>6.0</td>\n",
       "      <td>...</td>\n",
       "      <td>3.0</td>\n",
       "      <td>2.0</td>\n",
       "      <td>1373.0</td>\n",
       "      <td>61.0</td>\n",
       "      <td>5.0</td>\n",
       "      <td>6.50</td>\n",
       "      <td>6.2</td>\n",
       "      <td>7.2</td>\n",
       "      <td>9.333333</td>\n",
       "      <td>8.50</td>\n",
       "    </tr>\n",
       "    <tr>\n",
       "      <th>1</th>\n",
       "      <td>NaN</td>\n",
       "      <td>1.0</td>\n",
       "      <td>1.0</td>\n",
       "      <td>5.0</td>\n",
       "      <td>1.0</td>\n",
       "      <td>1.0</td>\n",
       "      <td>36.0</td>\n",
       "      <td>35.0</td>\n",
       "      <td>8.0</td>\n",
       "      <td>7.0</td>\n",
       "      <td>...</td>\n",
       "      <td>1.0</td>\n",
       "      <td>1.0</td>\n",
       "      <td>1002.0</td>\n",
       "      <td>47.0</td>\n",
       "      <td>5.0</td>\n",
       "      <td>5.50</td>\n",
       "      <td>4.4</td>\n",
       "      <td>6.8</td>\n",
       "      <td>6.666667</td>\n",
       "      <td>8.00</td>\n",
       "    </tr>\n",
       "    <tr>\n",
       "      <th>2</th>\n",
       "      <td>NaN</td>\n",
       "      <td>1.0</td>\n",
       "      <td>3.0</td>\n",
       "      <td>5.0</td>\n",
       "      <td>1.0</td>\n",
       "      <td>1.0</td>\n",
       "      <td>72.0</td>\n",
       "      <td>73.0</td>\n",
       "      <td>10.0</td>\n",
       "      <td>10.0</td>\n",
       "      <td>...</td>\n",
       "      <td>2.0</td>\n",
       "      <td>2.0</td>\n",
       "      <td>2097.0</td>\n",
       "      <td>83.0</td>\n",
       "      <td>5.0</td>\n",
       "      <td>7.50</td>\n",
       "      <td>8.0</td>\n",
       "      <td>9.6</td>\n",
       "      <td>10.000000</td>\n",
       "      <td>8.00</td>\n",
       "    </tr>\n",
       "    <tr>\n",
       "      <th>3</th>\n",
       "      <td>NaN</td>\n",
       "      <td>1.0</td>\n",
       "      <td>3.0</td>\n",
       "      <td>9.0</td>\n",
       "      <td>1.0</td>\n",
       "      <td>1.0</td>\n",
       "      <td>24.0</td>\n",
       "      <td>27.0</td>\n",
       "      <td>6.0</td>\n",
       "      <td>6.0</td>\n",
       "      <td>...</td>\n",
       "      <td>1.0</td>\n",
       "      <td>2.0</td>\n",
       "      <td>802.0</td>\n",
       "      <td>35.0</td>\n",
       "      <td>4.0</td>\n",
       "      <td>6.25</td>\n",
       "      <td>6.2</td>\n",
       "      <td>6.4</td>\n",
       "      <td>7.666667</td>\n",
       "      <td>6.50</td>\n",
       "    </tr>\n",
       "    <tr>\n",
       "      <th>4</th>\n",
       "      <td>NaN</td>\n",
       "      <td>1.0</td>\n",
       "      <td>4.0</td>\n",
       "      <td>9.0</td>\n",
       "      <td>1.0</td>\n",
       "      <td>1.0</td>\n",
       "      <td>72.0</td>\n",
       "      <td>24.0</td>\n",
       "      <td>2.0</td>\n",
       "      <td>5.0</td>\n",
       "      <td>...</td>\n",
       "      <td>2.0</td>\n",
       "      <td>1.0</td>\n",
       "      <td>4835.0</td>\n",
       "      <td>78.0</td>\n",
       "      <td>4.0</td>\n",
       "      <td>5.25</td>\n",
       "      <td>4.4</td>\n",
       "      <td>4.4</td>\n",
       "      <td>5.666667</td>\n",
       "      <td>5.75</td>\n",
       "    </tr>\n",
       "  </tbody>\n",
       "</table>\n",
       "<p>5 rows × 45 columns</p>\n",
       "</div>"
      ]
     },
     "execution_count": 29,
     "metadata": {},
     "output_type": "execute_result"
    }
   ],
   "execution_count": 29
  },
  {
   "metadata": {
    "ExecuteTime": {
     "end_time": "2025-07-10T13:53:50.765651Z",
     "start_time": "2025-07-10T13:53:50.760439Z"
    }
   },
   "cell_type": "code",
   "source": [
    "columns_to_filter = [\n",
    "    'P1.1_QA', 'P1.2_QA', 'P1.3_QA', 'P1.4_QA', 'P1.5_QA', 'P1.15_QA', 'P1.16_QA', 'P1.17_QA',\n",
    "    'P1.6_QC', 'P1.7_QC', 'P1.8_QC', 'P1.9_QC',\n",
    "    'P1.10_QT', 'P1.11_QT', 'P1.12_QT', 'P1.13_QT', 'P1.14_QT',\n",
    "    'P3.1_S', 'P3.2_S', 'P3.3_S', 'P3.4_S',\n",
    "    'P6.1_L', 'P6.2_L', 'P6.3_L', 'P6.4_L', 'P6.5_L', 'P6.6_L',\n",
    "    'P14', 'f4'\n",
    "]\n",
    "\n",
    "clean_df = raw_data_df[columns_to_filter].copy()\n",
    "\n",
    "clean_df.rename(columns=lambda c: c.replace('.', '_'), inplace=True)\n",
    "clean_df.rename(columns=lambda c: c.replace('C', 'F'), inplace=True)\n",
    "clean_df.rename(columns=lambda c: c.replace('A', 'S'), inplace=True)\n",
    "print(raw_data_df.shape)\n",
    "print(clean_df.shape)\n",
    "print(clean_df.isnull().sum())"
   ],
   "id": "1bb9e3c9041730a5",
   "outputs": [
    {
     "name": "stdout",
     "output_type": "stream",
     "text": [
      "(493, 45)\n",
      "(493, 29)\n",
      "P1_1_QS     0\n",
      "P1_2_QS     0\n",
      "P1_3_QS     0\n",
      "P1_4_QS     0\n",
      "P1_5_QS     0\n",
      "P1_15_QS    0\n",
      "P1_16_QS    0\n",
      "P1_17_QS    0\n",
      "P1_6_QF     0\n",
      "P1_7_QF     0\n",
      "P1_8_QF     0\n",
      "P1_9_QF     0\n",
      "P1_10_QT    0\n",
      "P1_11_QT    0\n",
      "P1_12_QT    0\n",
      "P1_13_QT    0\n",
      "P1_14_QT    0\n",
      "P3_1_S      0\n",
      "P3_2_S      0\n",
      "P3_3_S      0\n",
      "P3_4_S      0\n",
      "P6_1_L      0\n",
      "P6_2_L      0\n",
      "P6_3_L      0\n",
      "P6_4_L      0\n",
      "P6_5_L      0\n",
      "P6_6_L      0\n",
      "P14         0\n",
      "f4          0\n",
      "dtype: int64\n"
     ]
    }
   ],
   "execution_count": 30
  },
  {
   "metadata": {
    "ExecuteTime": {
     "end_time": "2025-07-10T13:53:50.826277Z",
     "start_time": "2025-07-10T13:53:50.823575Z"
    }
   },
   "cell_type": "code",
   "source": [
    "male_df = clean_df[clean_df['P14'] == 2].copy()\n",
    "female_df = clean_df[clean_df['P14'] == 1].copy()\n",
    "print(male_df.shape)\n",
    "print(female_df.shape)"
   ],
   "id": "9b8749b7dc038829",
   "outputs": [
    {
     "name": "stdout",
     "output_type": "stream",
     "text": [
      "(232, 29)\n",
      "(261, 29)\n"
     ]
    }
   ],
   "execution_count": 31
  },
  {
   "metadata": {
    "ExecuteTime": {
     "end_time": "2025-07-10T13:53:50.890884Z",
     "start_time": "2025-07-10T13:53:50.888177Z"
    }
   },
   "cell_type": "code",
   "source": [
    "prepaid_df = clean_df[clean_df['f4'] == 1].copy()\n",
    "postpaid_df = clean_df[clean_df['f4'] == 2].copy()\n",
    "print(prepaid_df.shape)\n",
    "print(postpaid_df.shape)"
   ],
   "id": "fa01f79a456d3a89",
   "outputs": [
    {
     "name": "stdout",
     "output_type": "stream",
     "text": [
      "(288, 29)\n",
      "(205, 29)\n"
     ]
    }
   ],
   "execution_count": 32
  },
  {
   "metadata": {},
   "cell_type": "markdown",
   "source": "## Gender Models",
   "id": "8fe1806356a370cb"
  },
  {
   "metadata": {},
   "cell_type": "markdown",
   "source": "### Modeling",
   "id": "6200a811b77c579"
  },
  {
   "metadata": {
    "ExecuteTime": {
     "end_time": "2025-07-10T13:53:50.929901Z",
     "start_time": "2025-07-10T13:53:50.928315Z"
    }
   },
   "cell_type": "code",
   "source": [
    "model_description = \"\"\"\n",
    "QS =~ P1_1_QS + P1_2_QS + P1_4_QS + P1_5_QS + P1_16_QS\n",
    "QF =~ P1_6_QF + P1_7_QF + P1_8_QF\n",
    "QT =~ P1_10_QT + P1_11_QT + P1_12_QT + P1_13_QT\n",
    "S =~ P3_1_S + P3_2_S + P3_3_S + P3_4_S\n",
    "L =~ P6_1_L + P6_2_L + P6_3_L + P6_4_L\n",
    "\n",
    "S ~ QS + QF + QT\n",
    "L ~ S\n",
    "\"\"\""
   ],
   "id": "17ed44e012385cbc",
   "outputs": [],
   "execution_count": 33
  },
  {
   "metadata": {},
   "cell_type": "markdown",
   "source": "#### Male",
   "id": "2bd3187bd17c74a6"
  },
  {
   "metadata": {
    "ExecuteTime": {
     "end_time": "2025-07-10T13:53:50.996209Z",
     "start_time": "2025-07-10T13:53:50.969627Z"
    }
   },
   "cell_type": "code",
   "source": [
    "from semopy import Model\n",
    "male_model = Model(model_description)\n",
    "print(male_model.fit(male_df))"
   ],
   "id": "7b065465f9969a94",
   "outputs": [
    {
     "name": "stdout",
     "output_type": "stream",
     "text": [
      "Name of objective: MLW\n",
      "Optimization method: SLSQP\n",
      "Optimization successful.\n",
      "Optimization terminated successfully\n",
      "Objective value: 1.807\n",
      "Number of iterations: 50\n",
      "Params: 0.793 1.123 1.085 0.776 1.642 1.666 1.278 1.042 1.067 0.832 0.996 0.987 1.138 0.704 0.984 0.637 0.024 0.262 0.610 0.906 2.063 0.545 0.859 1.661 2.422 1.547 1.971 2.571 2.084 1.730 1.198 2.791 0.564 0.631 0.536 0.919 0.846 1.294 2.462 0.570 0.892 0.830 0.675 2.588 2.074 1.108 1.087\n"
     ]
    }
   ],
   "execution_count": 34
  },
  {
   "metadata": {},
   "cell_type": "markdown",
   "source": "#### Female",
   "id": "7245d3a605d729bb"
  },
  {
   "metadata": {
    "ExecuteTime": {
     "end_time": "2025-07-10T13:53:51.025630Z",
     "start_time": "2025-07-10T13:53:51.000803Z"
    }
   },
   "cell_type": "code",
   "source": [
    "female_model = Model(model_description)\n",
    "print(female_model.fit(female_df))"
   ],
   "id": "12487f728d5746f6",
   "outputs": [
    {
     "name": "stdout",
     "output_type": "stream",
     "text": [
      "Name of objective: MLW\n",
      "Optimization method: SLSQP\n",
      "Optimization successful.\n",
      "Optimization terminated successfully\n",
      "Objective value: 1.508\n",
      "Number of iterations: 46\n",
      "Params: 0.856 1.116 1.141 0.677 1.221 1.011 1.166 1.016 0.902 0.906 1.085 1.105 1.087 0.679 0.955 0.373 0.379 0.102 0.626 1.463 2.726 0.930 1.172 1.498 2.293 1.207 1.634 2.128 1.444 1.530 1.367 3.359 0.787 0.699 0.508 0.797 0.672 1.158 2.807 0.609 1.797 1.048 1.050 2.894 2.074 1.186 0.987\n"
     ]
    }
   ],
   "execution_count": 35
  },
  {
   "metadata": {},
   "cell_type": "markdown",
   "source": "### Direct Effects",
   "id": "fc98f2ba48f54b78"
  },
  {
   "metadata": {},
   "cell_type": "markdown",
   "source": "#### Male",
   "id": "8fc7bd7ee36f52d1"
  },
  {
   "metadata": {
    "ExecuteTime": {
     "end_time": "2025-07-10T13:53:51.107652Z",
     "start_time": "2025-07-10T13:53:51.094870Z"
    }
   },
   "cell_type": "code",
   "source": [
    "male_raw_item_estimates = (\n",
    "    male_model.inspect(std_est=True)\n",
    "         .query(\"op == '~' and not lval.str.startswith('P')\")\n",
    ")\n",
    "male_direct_effects_df = (\n",
    "    male_raw_item_estimates\n",
    "    .loc[:, ['lval','rval', 'Est. Std', 'Estimate','p-value', 'z-value', 'Std. Err']]\n",
    "    .rename(columns={\n",
    "        'lval': 'Outcome',\n",
    "        'rval': 'Predictor',\n",
    "        'Estimate': 'beta',\n",
    "        'Est. Std': 'beta_std',\n",
    "        'Std. Err': 'SE'\n",
    "    })\n",
    "    .sort_values(by='beta')\n",
    ")\n",
    "male_direct_effects_df['hypothesis_result'] = male_direct_effects_df.apply(\n",
    "    lambda row: 'Supported' if row['p-value'] < 0.05 else 'Not Supported',\n",
    "    axis=1\n",
    ")\n",
    "male_direct_effects_df\n"
   ],
   "id": "dbfe6ff8f657a5df",
   "outputs": [
    {
     "data": {
      "text/plain": [
       "  Outcome Predictor  beta_std      beta   p-value    z-value        SE  \\\n",
       "1       S        QF  0.014011  0.024302  0.851981   0.186591   0.13024   \n",
       "2       S        QT  0.230126  0.261745  0.000436   3.517361  0.074415   \n",
       "3       L         S  0.724064  0.610031       0.0  11.173243  0.054598   \n",
       "0       S        QS  0.625403  0.636660       0.0   7.914545  0.080442   \n",
       "\n",
       "  hypothesis_result  \n",
       "1     Not Supported  \n",
       "2         Supported  \n",
       "3         Supported  \n",
       "0         Supported  "
      ],
      "text/html": [
       "<div>\n",
       "<style scoped>\n",
       "    .dataframe tbody tr th:only-of-type {\n",
       "        vertical-align: middle;\n",
       "    }\n",
       "\n",
       "    .dataframe tbody tr th {\n",
       "        vertical-align: top;\n",
       "    }\n",
       "\n",
       "    .dataframe thead th {\n",
       "        text-align: right;\n",
       "    }\n",
       "</style>\n",
       "<table border=\"1\" class=\"dataframe\">\n",
       "  <thead>\n",
       "    <tr style=\"text-align: right;\">\n",
       "      <th></th>\n",
       "      <th>Outcome</th>\n",
       "      <th>Predictor</th>\n",
       "      <th>beta_std</th>\n",
       "      <th>beta</th>\n",
       "      <th>p-value</th>\n",
       "      <th>z-value</th>\n",
       "      <th>SE</th>\n",
       "      <th>hypothesis_result</th>\n",
       "    </tr>\n",
       "  </thead>\n",
       "  <tbody>\n",
       "    <tr>\n",
       "      <th>1</th>\n",
       "      <td>S</td>\n",
       "      <td>QF</td>\n",
       "      <td>0.014011</td>\n",
       "      <td>0.024302</td>\n",
       "      <td>0.851981</td>\n",
       "      <td>0.186591</td>\n",
       "      <td>0.13024</td>\n",
       "      <td>Not Supported</td>\n",
       "    </tr>\n",
       "    <tr>\n",
       "      <th>2</th>\n",
       "      <td>S</td>\n",
       "      <td>QT</td>\n",
       "      <td>0.230126</td>\n",
       "      <td>0.261745</td>\n",
       "      <td>0.000436</td>\n",
       "      <td>3.517361</td>\n",
       "      <td>0.074415</td>\n",
       "      <td>Supported</td>\n",
       "    </tr>\n",
       "    <tr>\n",
       "      <th>3</th>\n",
       "      <td>L</td>\n",
       "      <td>S</td>\n",
       "      <td>0.724064</td>\n",
       "      <td>0.610031</td>\n",
       "      <td>0.0</td>\n",
       "      <td>11.173243</td>\n",
       "      <td>0.054598</td>\n",
       "      <td>Supported</td>\n",
       "    </tr>\n",
       "    <tr>\n",
       "      <th>0</th>\n",
       "      <td>S</td>\n",
       "      <td>QS</td>\n",
       "      <td>0.625403</td>\n",
       "      <td>0.636660</td>\n",
       "      <td>0.0</td>\n",
       "      <td>7.914545</td>\n",
       "      <td>0.080442</td>\n",
       "      <td>Supported</td>\n",
       "    </tr>\n",
       "  </tbody>\n",
       "</table>\n",
       "</div>"
      ]
     },
     "execution_count": 36,
     "metadata": {},
     "output_type": "execute_result"
    }
   ],
   "execution_count": 36
  },
  {
   "metadata": {},
   "cell_type": "markdown",
   "source": "#### Female",
   "id": "e8edef5b4143539f"
  },
  {
   "metadata": {
    "ExecuteTime": {
     "end_time": "2025-07-10T13:53:51.188555Z",
     "start_time": "2025-07-10T13:53:51.177521Z"
    }
   },
   "cell_type": "code",
   "source": [
    "female_raw_item_estimates = (\n",
    "    female_model.inspect(std_est=True)\n",
    "         .query(\"op == '~' and not lval.str.startswith('P')\")\n",
    ")\n",
    "female_direct_effects_df = (\n",
    "    female_raw_item_estimates\n",
    "    .loc[:, ['lval','rval', 'Est. Std', 'Estimate','p-value', 'z-value', 'Std. Err']]\n",
    "    .rename(columns={\n",
    "        'lval': 'Outcome',\n",
    "        'rval': 'Predictor',\n",
    "        'Estimate': 'beta',\n",
    "        'Est. Std': 'beta_std',\n",
    "        'Std. Err': 'SE'\n",
    "    })\n",
    "    .sort_values(by='beta')\n",
    ")\n",
    "female_direct_effects_df['hypothesis_result'] = female_direct_effects_df.apply(\n",
    "    lambda row: 'Supported' if row['p-value'] < 0.05 else 'Not Supported',\n",
    "    axis=1\n",
    ")\n",
    "female_direct_effects_df\n"
   ],
   "id": "b024d587bf8f1649",
   "outputs": [
    {
     "data": {
      "text/plain": [
       "  Outcome Predictor  beta_std      beta   p-value   z-value        SE  \\\n",
       "2       S        QT  0.100431  0.101959  0.147797  1.447358  0.070445   \n",
       "0       S        QS  0.433928  0.372888       0.0  6.542589  0.056994   \n",
       "1       S        QF  0.347743  0.379274  0.000005  4.583658  0.082745   \n",
       "3       L         S  0.603152  0.625585       0.0  9.603669   0.06514   \n",
       "\n",
       "  hypothesis_result  \n",
       "2     Not Supported  \n",
       "0         Supported  \n",
       "1         Supported  \n",
       "3         Supported  "
      ],
      "text/html": [
       "<div>\n",
       "<style scoped>\n",
       "    .dataframe tbody tr th:only-of-type {\n",
       "        vertical-align: middle;\n",
       "    }\n",
       "\n",
       "    .dataframe tbody tr th {\n",
       "        vertical-align: top;\n",
       "    }\n",
       "\n",
       "    .dataframe thead th {\n",
       "        text-align: right;\n",
       "    }\n",
       "</style>\n",
       "<table border=\"1\" class=\"dataframe\">\n",
       "  <thead>\n",
       "    <tr style=\"text-align: right;\">\n",
       "      <th></th>\n",
       "      <th>Outcome</th>\n",
       "      <th>Predictor</th>\n",
       "      <th>beta_std</th>\n",
       "      <th>beta</th>\n",
       "      <th>p-value</th>\n",
       "      <th>z-value</th>\n",
       "      <th>SE</th>\n",
       "      <th>hypothesis_result</th>\n",
       "    </tr>\n",
       "  </thead>\n",
       "  <tbody>\n",
       "    <tr>\n",
       "      <th>2</th>\n",
       "      <td>S</td>\n",
       "      <td>QT</td>\n",
       "      <td>0.100431</td>\n",
       "      <td>0.101959</td>\n",
       "      <td>0.147797</td>\n",
       "      <td>1.447358</td>\n",
       "      <td>0.070445</td>\n",
       "      <td>Not Supported</td>\n",
       "    </tr>\n",
       "    <tr>\n",
       "      <th>0</th>\n",
       "      <td>S</td>\n",
       "      <td>QS</td>\n",
       "      <td>0.433928</td>\n",
       "      <td>0.372888</td>\n",
       "      <td>0.0</td>\n",
       "      <td>6.542589</td>\n",
       "      <td>0.056994</td>\n",
       "      <td>Supported</td>\n",
       "    </tr>\n",
       "    <tr>\n",
       "      <th>1</th>\n",
       "      <td>S</td>\n",
       "      <td>QF</td>\n",
       "      <td>0.347743</td>\n",
       "      <td>0.379274</td>\n",
       "      <td>0.000005</td>\n",
       "      <td>4.583658</td>\n",
       "      <td>0.082745</td>\n",
       "      <td>Supported</td>\n",
       "    </tr>\n",
       "    <tr>\n",
       "      <th>3</th>\n",
       "      <td>L</td>\n",
       "      <td>S</td>\n",
       "      <td>0.603152</td>\n",
       "      <td>0.625585</td>\n",
       "      <td>0.0</td>\n",
       "      <td>9.603669</td>\n",
       "      <td>0.06514</td>\n",
       "      <td>Supported</td>\n",
       "    </tr>\n",
       "  </tbody>\n",
       "</table>\n",
       "</div>"
      ]
     },
     "execution_count": 37,
     "metadata": {},
     "output_type": "execute_result"
    }
   ],
   "execution_count": 37
  },
  {
   "metadata": {},
   "cell_type": "markdown",
   "source": [
    "#### Wald's Test for Group Differences\n",
    "\n",
    "$Z = \\frac{\\beta_1 - \\beta_2}{\\sqrt{SE_1^2 + SE_2^2}}$\n",
    "\n",
    "Clogg, C. C., Petkova, E., & Haritou, A. (1995). Statistical methods for comparing regression coefficients between models. American Journal of Sociology, 100(5), 1261–1293. https://doi.org/10.1086/230638\n",
    "\n",
    "Please refer to [Wald test](https://en.wikipedia.org/wiki/Wald_test) and [Testing equality of coefficients from two different regressions](https://stats.stackexchange.com/questions/93540/testing-equality-of-coefficients-from-two-different-regressions?utm_source=chatgpt.com) for more information."
   ],
   "id": "8f23330797e4897e"
  },
  {
   "metadata": {
    "ExecuteTime": {
     "end_time": "2025-07-10T13:53:51.272135Z",
     "start_time": "2025-07-10T13:53:51.269684Z"
    }
   },
   "cell_type": "code",
   "source": [
    "from scipy.stats import norm\n",
    "\n",
    "def direct_wald_test(beta1, se1, beta2, se2):\n",
    "    z = (beta1 - beta2) / ((se1**2 + se2**2)**0.5)\n",
    "    p = 2 * (1 - norm.cdf(abs(z)))\n",
    "    return z, p"
   ],
   "id": "e8421868aebd6753",
   "outputs": [],
   "execution_count": 38
  },
  {
   "metadata": {
    "ExecuteTime": {
     "end_time": "2025-07-10T13:53:51.365752Z",
     "start_time": "2025-07-10T13:53:51.361925Z"
    }
   },
   "cell_type": "code",
   "source": [
    "female_df = female_direct_effects_df.copy()\n",
    "male_df = male_direct_effects_df.copy()\n",
    "\n",
    "female_df = female_df.rename(columns={\n",
    "    'beta': 'beta_female',\n",
    "    'beta_std': 'beta_std_female',\n",
    "    't-value': 't_beta_female',\n",
    "    'p-value': 'p_beta_female',\n",
    "    'SE': 'SE_beta_female'\n",
    "})\n",
    "\n",
    "male_df = male_df.rename(columns={\n",
    "    'beta': 'beta_male',\n",
    "    'beta_std': 'beta_std_male',\n",
    "    't-value': 't_male',\n",
    "    'p-value': 'p_male',\n",
    "    'SE': 'SE_male'\n",
    "})"
   ],
   "id": "b40917d33513fd93",
   "outputs": [],
   "execution_count": 39
  },
  {
   "metadata": {
    "ExecuteTime": {
     "end_time": "2025-07-10T13:53:51.426625Z",
     "start_time": "2025-07-10T13:53:51.422835Z"
    }
   },
   "cell_type": "code",
   "source": [
    "gender_merged_df = pd.merge(\n",
    "    female_df[[\n",
    "        'Outcome',\n",
    "        'Predictor',\n",
    "        'beta_female',\n",
    "        'beta_std_female',\n",
    "        'SE_beta_female'\n",
    "    ]],\n",
    "    male_df[[\n",
    "        'Outcome',\n",
    "        'Predictor',\n",
    "        'beta_male',\n",
    "        'beta_std_male',\n",
    "        'SE_male'\n",
    "    ]],\n",
    "    on=['Outcome', 'Predictor']\n",
    ")"
   ],
   "id": "dee5136d598e44d3",
   "outputs": [],
   "execution_count": 40
  },
  {
   "metadata": {
    "ExecuteTime": {
     "end_time": "2025-07-10T13:53:51.464016Z",
     "start_time": "2025-07-10T13:53:51.460342Z"
    }
   },
   "cell_type": "code",
   "source": [
    "gender_merged_df[['z_wald', 'p_wald']] = gender_merged_df.apply(\n",
    "    lambda row: direct_wald_test(\n",
    "        row['beta_female'],\n",
    "        row['SE_beta_female'],\n",
    "        row['beta_male'],\n",
    "        row['SE_male']\n",
    "    ),\n",
    "    axis=1, result_type='expand'\n",
    ")"
   ],
   "id": "b6b5307e56c18396",
   "outputs": [],
   "execution_count": 41
  },
  {
   "metadata": {
    "ExecuteTime": {
     "end_time": "2025-07-10T13:53:51.507502Z",
     "start_time": "2025-07-10T13:53:51.502453Z"
    }
   },
   "cell_type": "code",
   "source": [
    "gender_merged_df['difference_significant'] = gender_merged_df['p_wald'].apply(lambda p: 'Yes' if p < 0.05 else 'No')\n",
    "gender_merged_df"
   ],
   "id": "f317faff34729c6f",
   "outputs": [
    {
     "data": {
      "text/plain": [
       "  Outcome Predictor  beta_female  beta_std_female SE_beta_female  beta_male  \\\n",
       "0       S        QT     0.101959         0.100431       0.070445   0.261745   \n",
       "1       S        QS     0.372888         0.433928       0.056994   0.636660   \n",
       "2       S        QF     0.379274         0.347743       0.082745   0.024302   \n",
       "3       L         S     0.625585         0.603152        0.06514   0.610031   \n",
       "\n",
       "   beta_std_male   SE_male    z_wald    p_wald difference_significant  \n",
       "0       0.230126  0.074415 -1.559346  0.118915                     No  \n",
       "1       0.625403  0.080442 -2.675557  0.007461                    Yes  \n",
       "2       0.014011   0.13024  2.300505  0.021420                    Yes  \n",
       "3       0.724064  0.054598  0.182989  0.854807                     No  "
      ],
      "text/html": [
       "<div>\n",
       "<style scoped>\n",
       "    .dataframe tbody tr th:only-of-type {\n",
       "        vertical-align: middle;\n",
       "    }\n",
       "\n",
       "    .dataframe tbody tr th {\n",
       "        vertical-align: top;\n",
       "    }\n",
       "\n",
       "    .dataframe thead th {\n",
       "        text-align: right;\n",
       "    }\n",
       "</style>\n",
       "<table border=\"1\" class=\"dataframe\">\n",
       "  <thead>\n",
       "    <tr style=\"text-align: right;\">\n",
       "      <th></th>\n",
       "      <th>Outcome</th>\n",
       "      <th>Predictor</th>\n",
       "      <th>beta_female</th>\n",
       "      <th>beta_std_female</th>\n",
       "      <th>SE_beta_female</th>\n",
       "      <th>beta_male</th>\n",
       "      <th>beta_std_male</th>\n",
       "      <th>SE_male</th>\n",
       "      <th>z_wald</th>\n",
       "      <th>p_wald</th>\n",
       "      <th>difference_significant</th>\n",
       "    </tr>\n",
       "  </thead>\n",
       "  <tbody>\n",
       "    <tr>\n",
       "      <th>0</th>\n",
       "      <td>S</td>\n",
       "      <td>QT</td>\n",
       "      <td>0.101959</td>\n",
       "      <td>0.100431</td>\n",
       "      <td>0.070445</td>\n",
       "      <td>0.261745</td>\n",
       "      <td>0.230126</td>\n",
       "      <td>0.074415</td>\n",
       "      <td>-1.559346</td>\n",
       "      <td>0.118915</td>\n",
       "      <td>No</td>\n",
       "    </tr>\n",
       "    <tr>\n",
       "      <th>1</th>\n",
       "      <td>S</td>\n",
       "      <td>QS</td>\n",
       "      <td>0.372888</td>\n",
       "      <td>0.433928</td>\n",
       "      <td>0.056994</td>\n",
       "      <td>0.636660</td>\n",
       "      <td>0.625403</td>\n",
       "      <td>0.080442</td>\n",
       "      <td>-2.675557</td>\n",
       "      <td>0.007461</td>\n",
       "      <td>Yes</td>\n",
       "    </tr>\n",
       "    <tr>\n",
       "      <th>2</th>\n",
       "      <td>S</td>\n",
       "      <td>QF</td>\n",
       "      <td>0.379274</td>\n",
       "      <td>0.347743</td>\n",
       "      <td>0.082745</td>\n",
       "      <td>0.024302</td>\n",
       "      <td>0.014011</td>\n",
       "      <td>0.13024</td>\n",
       "      <td>2.300505</td>\n",
       "      <td>0.021420</td>\n",
       "      <td>Yes</td>\n",
       "    </tr>\n",
       "    <tr>\n",
       "      <th>3</th>\n",
       "      <td>L</td>\n",
       "      <td>S</td>\n",
       "      <td>0.625585</td>\n",
       "      <td>0.603152</td>\n",
       "      <td>0.06514</td>\n",
       "      <td>0.610031</td>\n",
       "      <td>0.724064</td>\n",
       "      <td>0.054598</td>\n",
       "      <td>0.182989</td>\n",
       "      <td>0.854807</td>\n",
       "      <td>No</td>\n",
       "    </tr>\n",
       "  </tbody>\n",
       "</table>\n",
       "</div>"
      ]
     },
     "execution_count": 42,
     "metadata": {},
     "output_type": "execute_result"
    }
   ],
   "execution_count": 42
  },
  {
   "metadata": {},
   "cell_type": "markdown",
   "source": "### Indirect Effects",
   "id": "71cdc468ac154665"
  },
  {
   "metadata": {},
   "cell_type": "markdown",
   "source": "#### Male",
   "id": "9c7426330741a6ea"
  },
  {
   "metadata": {
    "ExecuteTime": {
     "end_time": "2025-07-10T13:53:51.599729Z",
     "start_time": "2025-07-10T13:53:51.570664Z"
    }
   },
   "cell_type": "code",
   "source": [
    "male_paths = (\n",
    "    male_model.inspect(std_est=True, se_robust=True)\n",
    "         .query(\"op == '~'\")\n",
    "         .set_index(['lval', 'rval'])\n",
    ")"
   ],
   "id": "4f354832aa57c81c",
   "outputs": [],
   "execution_count": 43
  },
  {
   "metadata": {},
   "cell_type": "markdown",
   "source": "##### Mediator-to-outcome path  (M -> Y)",
   "id": "5b3d76f3860157e9"
  },
  {
   "metadata": {
    "ExecuteTime": {
     "end_time": "2025-07-10T13:53:51.652846Z",
     "start_time": "2025-07-10T13:53:51.650555Z"
    }
   },
   "cell_type": "code",
   "source": [
    "male_b_path_coefficient = float(\n",
    "    male_paths.loc[('L', 'S'), 'Estimate']\n",
    ")\n",
    "male_b_path_standardized_coefficient = float(\n",
    "    male_paths.loc[('L', 'S'), 'Est. Std']\n",
    ")\n",
    "male_b_path_standard_error = float(\n",
    "    male_paths.loc[('L', 'S'), 'Std. Err']\n",
    ")"
   ],
   "id": "ae9edb91f7dadef",
   "outputs": [],
   "execution_count": 44
  },
  {
   "metadata": {},
   "cell_type": "markdown",
   "source": [
    "##### Predictor-to-mediator paths (X -> M)\n",
    "\n",
    "Sobel's z test for mediation is calculated as:\n",
    "\n",
    "$Z = \\frac{a \\cdot b}{SE_{ab}}\n",
    "= \\frac{a \\cdot b}{\\sqrt{b^2 \\cdot SE_a^2 + a^2 \\cdot SE_b^2}}$\n",
    "\n",
    "Where:\n",
    "- a = path coefficient from X -> M\n",
    "- b = path coefficient from M -> Y\n",
    "- $SE_a$ = standard error of a\n",
    "- $SE_b$ = standard error of b\n",
    "\n",
    "Abu-Bader, S., & Jones, T. V. (2021). Statistical mediation analysis using the Sobel test and Hayes SPSS Process Macro. International Journal of Quantitative and Qualitative Research Methods, 9(1), 42–61."
   ],
   "id": "9fd2c668d8e2be8d"
  },
  {
   "metadata": {
    "ExecuteTime": {
     "end_time": "2025-07-10T13:53:51.717758Z",
     "start_time": "2025-07-10T13:53:51.713206Z"
    }
   },
   "cell_type": "code",
   "source": [
    "import math\n",
    "male_results = []\n",
    "for predictor in ['QS', 'QF', 'QT']:\n",
    "    male_a_path_coefficient = float(\n",
    "        male_paths.loc[('S', predictor), 'Estimate']\n",
    "    )\n",
    "    male_a_standardized_path_coefficient = float(\n",
    "        male_paths.loc[('S', predictor), 'Est. Std']\n",
    "    )\n",
    "    male_a_path_standard_error = float(\n",
    "        male_paths.loc[('S', predictor), 'Std. Err']\n",
    "    )\n",
    "\n",
    "    # Indirect effect = a * b\n",
    "    male_indirect_effect = (\n",
    "        male_a_path_coefficient * male_b_path_coefficient\n",
    "    )\n",
    "    male_standardized_indirect_effect = (\n",
    "        male_a_standardized_path_coefficient * male_b_path_standardized_coefficient\n",
    "    )\n",
    "\n",
    "    # Sobel standard error: sqrt(b^2 * SE_a^2 + a^2 * SE_b^2)\n",
    "    male_indirect_se = math.sqrt(\n",
    "        (male_b_path_coefficient ** 2) * (male_a_path_standard_error ** 2) +\n",
    "        (male_a_path_coefficient ** 2) * (male_b_path_standard_error ** 2)\n",
    "    )\n",
    "    male_standardized_indirect_effect = (\n",
    "        male_a_standardized_path_coefficient * male_b_path_standardized_coefficient\n",
    "    )\n",
    "\n",
    "    male_z_value = male_indirect_effect / male_indirect_se\n",
    "    male_p_value = 2 * (1 - norm.cdf(abs(male_z_value)))\n",
    "\n",
    "    male_results.append({\n",
    "        'Path': f'{predictor} -> L (via S)',\n",
    "        'Indirect Effect': round(male_indirect_effect, 3),\n",
    "        'Std. Indirect Effect': round(male_standardized_indirect_effect, 3),\n",
    "        'Standard Error':  round(male_indirect_se, 3),\n",
    "        'z-value':         round(male_z_value, 2),\n",
    "        'p-value':         round(male_p_value, 4)\n",
    "    })"
   ],
   "id": "df700ae8d203492e",
   "outputs": [],
   "execution_count": 45
  },
  {
   "metadata": {
    "ExecuteTime": {
     "end_time": "2025-07-10T13:53:51.766607Z",
     "start_time": "2025-07-10T13:53:51.760784Z"
    }
   },
   "cell_type": "code",
   "source": [
    "male_indirect_effects_df = pd.DataFrame(male_results)\n",
    "male_indirect_effects_df"
   ],
   "id": "f19c2530b4691973",
   "outputs": [
    {
     "data": {
      "text/plain": [
       "              Path  Indirect Effect  Std. Indirect Effect  Standard Error  \\\n",
       "0  QS -> L (via S)            0.388                 0.453           0.069   \n",
       "1  QF -> L (via S)            0.015                 0.010           0.093   \n",
       "2  QT -> L (via S)            0.160                 0.167           0.051   \n",
       "\n",
       "   z-value  p-value  \n",
       "0     5.65   0.0000  \n",
       "1     0.16   0.8737  \n",
       "2     3.15   0.0016  "
      ],
      "text/html": [
       "<div>\n",
       "<style scoped>\n",
       "    .dataframe tbody tr th:only-of-type {\n",
       "        vertical-align: middle;\n",
       "    }\n",
       "\n",
       "    .dataframe tbody tr th {\n",
       "        vertical-align: top;\n",
       "    }\n",
       "\n",
       "    .dataframe thead th {\n",
       "        text-align: right;\n",
       "    }\n",
       "</style>\n",
       "<table border=\"1\" class=\"dataframe\">\n",
       "  <thead>\n",
       "    <tr style=\"text-align: right;\">\n",
       "      <th></th>\n",
       "      <th>Path</th>\n",
       "      <th>Indirect Effect</th>\n",
       "      <th>Std. Indirect Effect</th>\n",
       "      <th>Standard Error</th>\n",
       "      <th>z-value</th>\n",
       "      <th>p-value</th>\n",
       "    </tr>\n",
       "  </thead>\n",
       "  <tbody>\n",
       "    <tr>\n",
       "      <th>0</th>\n",
       "      <td>QS -&gt; L (via S)</td>\n",
       "      <td>0.388</td>\n",
       "      <td>0.453</td>\n",
       "      <td>0.069</td>\n",
       "      <td>5.65</td>\n",
       "      <td>0.0000</td>\n",
       "    </tr>\n",
       "    <tr>\n",
       "      <th>1</th>\n",
       "      <td>QF -&gt; L (via S)</td>\n",
       "      <td>0.015</td>\n",
       "      <td>0.010</td>\n",
       "      <td>0.093</td>\n",
       "      <td>0.16</td>\n",
       "      <td>0.8737</td>\n",
       "    </tr>\n",
       "    <tr>\n",
       "      <th>2</th>\n",
       "      <td>QT -&gt; L (via S)</td>\n",
       "      <td>0.160</td>\n",
       "      <td>0.167</td>\n",
       "      <td>0.051</td>\n",
       "      <td>3.15</td>\n",
       "      <td>0.0016</td>\n",
       "    </tr>\n",
       "  </tbody>\n",
       "</table>\n",
       "</div>"
      ]
     },
     "execution_count": 46,
     "metadata": {},
     "output_type": "execute_result"
    }
   ],
   "execution_count": 46
  },
  {
   "metadata": {},
   "cell_type": "markdown",
   "source": "#### Female",
   "id": "350baf95420664af"
  },
  {
   "metadata": {
    "ExecuteTime": {
     "end_time": "2025-07-10T13:53:51.855320Z",
     "start_time": "2025-07-10T13:53:51.826863Z"
    }
   },
   "cell_type": "code",
   "source": [
    "female_paths = (\n",
    "    female_model.inspect(std_est=True, se_robust=True)\n",
    "         .query(\"op == '~'\")\n",
    "         .set_index(['lval', 'rval'])\n",
    ")"
   ],
   "id": "1dbf3974dcafc352",
   "outputs": [],
   "execution_count": 47
  },
  {
   "metadata": {},
   "cell_type": "markdown",
   "source": "##### Mediator-to-outcome path  (M -> Y)",
   "id": "e71e7e63af17a654"
  },
  {
   "metadata": {
    "ExecuteTime": {
     "end_time": "2025-07-10T13:53:51.908513Z",
     "start_time": "2025-07-10T13:53:51.905788Z"
    }
   },
   "cell_type": "code",
   "source": [
    "female_b_path_coefficient = float(\n",
    "    female_paths.loc[('L', 'S'), 'Est. Std']\n",
    ")\n",
    "female_b_path_standardized_coefficient = float(\n",
    "    male_paths.loc[('L', 'S'), 'Est. Std']\n",
    ")\n",
    "female_b_path_standard_error = float(\n",
    "    female_paths.loc[('L', 'S'), 'Std. Err']\n",
    ")"
   ],
   "id": "31d6270da24327af",
   "outputs": [],
   "execution_count": 48
  },
  {
   "metadata": {},
   "cell_type": "markdown",
   "source": [
    "##### Predictor-to-mediator paths (X -> M)\n",
    "\n",
    "Sobel's z test for mediation is calculated as:\n",
    "\n",
    "$Z = \\frac{a \\cdot b}{SE_{ab}}\n",
    "= \\frac{a \\cdot b}{\\sqrt{b^2 \\cdot SE_a^2 + a^2 \\cdot SE_b^2}}$\n",
    "\n",
    "Where:\n",
    "- a = path coefficient from X -> M\n",
    "- b = path coefficient from M -> Y\n",
    "- $SE_a$ = standard error of a\n",
    "- $SE_b$ = standard error of b\n",
    "\n",
    "Abu-Bader, S., & Jones, T. V. (2021). Statistical mediation analysis using the Sobel test and Hayes SPSS Process Macro. International Journal of Quantitative and Qualitative Research Methods, 9(1), 42–61."
   ],
   "id": "a7308ad772fcc6d1"
  },
  {
   "metadata": {
    "ExecuteTime": {
     "end_time": "2025-07-10T13:53:51.968114Z",
     "start_time": "2025-07-10T13:53:51.964551Z"
    }
   },
   "cell_type": "code",
   "source": [
    "import math\n",
    "female_results = []\n",
    "for predictor in ['QS', 'QF', 'QT']:\n",
    "    female_a_path_coefficient = float(\n",
    "        female_paths.loc[('S', predictor), 'Estimate']\n",
    "    )\n",
    "    female_a_standardized_path_coefficient = float(\n",
    "        female_paths.loc[('S', predictor), 'Est. Std']\n",
    "    )\n",
    "    female_a_path_standard_error = float(\n",
    "        female_paths.loc[('S', predictor), 'Std. Err']\n",
    "    )\n",
    "\n",
    "    # Indirect effect = a * b\n",
    "    female_indirect_effect = (\n",
    "        female_a_path_coefficient * female_b_path_coefficient\n",
    "    )\n",
    "    female_standardized_indirect_effect = (\n",
    "        female_a_standardized_path_coefficient * female_b_path_standardized_coefficient\n",
    "    )\n",
    "\n",
    "    # Sobel standard error: sqrt(b^2 * SE_a^2 + a^2 * SE_b^2)\n",
    "    female_indirect_se = math.sqrt(\n",
    "        (female_b_path_coefficient ** 2) * (female_a_path_standard_error ** 2) +\n",
    "        (female_a_path_coefficient ** 2) * (female_b_path_standard_error ** 2)\n",
    "    )\n",
    "    female_standardized_indirect_effect = (\n",
    "        female_a_standardized_path_coefficient * female_b_path_standardized_coefficient\n",
    "    )\n",
    "\n",
    "    female_z_value = female_indirect_effect / female_indirect_se\n",
    "    female_p_value = 2 * (1 - norm.cdf(abs(female_z_value)))\n",
    "\n",
    "    female_results.append({\n",
    "        'Path': f'{predictor} -> L (via S)',\n",
    "        'Indirect Effect': round(female_indirect_effect, 3),\n",
    "        'Std. Indirect Effect': round(female_standardized_indirect_effect, 3),\n",
    "        'Standard Error':  round(female_indirect_se, 3),\n",
    "        'z-value':         round(female_z_value, 2),\n",
    "        'p-value':         round(female_p_value, 4)\n",
    "    })"
   ],
   "id": "900c0e2d632127e0",
   "outputs": [],
   "execution_count": 49
  },
  {
   "metadata": {
    "ExecuteTime": {
     "end_time": "2025-07-10T13:53:52.009099Z",
     "start_time": "2025-07-10T13:53:52.004625Z"
    }
   },
   "cell_type": "code",
   "source": [
    "female_indirect_effects_df = pd.DataFrame(female_results)\n",
    "female_indirect_effects_df"
   ],
   "id": "9a4a818da2e69496",
   "outputs": [
    {
     "data": {
      "text/plain": [
       "              Path  Indirect Effect  Std. Indirect Effect  Standard Error  \\\n",
       "0  QS -> L (via S)            0.225                 0.314           0.051   \n",
       "1  QF -> L (via S)            0.229                 0.252           0.069   \n",
       "2  QT -> L (via S)            0.061                 0.073           0.045   \n",
       "\n",
       "   z-value  p-value  \n",
       "0     4.42   0.0000  \n",
       "1     3.33   0.0009  \n",
       "2     1.38   0.1689  "
      ],
      "text/html": [
       "<div>\n",
       "<style scoped>\n",
       "    .dataframe tbody tr th:only-of-type {\n",
       "        vertical-align: middle;\n",
       "    }\n",
       "\n",
       "    .dataframe tbody tr th {\n",
       "        vertical-align: top;\n",
       "    }\n",
       "\n",
       "    .dataframe thead th {\n",
       "        text-align: right;\n",
       "    }\n",
       "</style>\n",
       "<table border=\"1\" class=\"dataframe\">\n",
       "  <thead>\n",
       "    <tr style=\"text-align: right;\">\n",
       "      <th></th>\n",
       "      <th>Path</th>\n",
       "      <th>Indirect Effect</th>\n",
       "      <th>Std. Indirect Effect</th>\n",
       "      <th>Standard Error</th>\n",
       "      <th>z-value</th>\n",
       "      <th>p-value</th>\n",
       "    </tr>\n",
       "  </thead>\n",
       "  <tbody>\n",
       "    <tr>\n",
       "      <th>0</th>\n",
       "      <td>QS -&gt; L (via S)</td>\n",
       "      <td>0.225</td>\n",
       "      <td>0.314</td>\n",
       "      <td>0.051</td>\n",
       "      <td>4.42</td>\n",
       "      <td>0.0000</td>\n",
       "    </tr>\n",
       "    <tr>\n",
       "      <th>1</th>\n",
       "      <td>QF -&gt; L (via S)</td>\n",
       "      <td>0.229</td>\n",
       "      <td>0.252</td>\n",
       "      <td>0.069</td>\n",
       "      <td>3.33</td>\n",
       "      <td>0.0009</td>\n",
       "    </tr>\n",
       "    <tr>\n",
       "      <th>2</th>\n",
       "      <td>QT -&gt; L (via S)</td>\n",
       "      <td>0.061</td>\n",
       "      <td>0.073</td>\n",
       "      <td>0.045</td>\n",
       "      <td>1.38</td>\n",
       "      <td>0.1689</td>\n",
       "    </tr>\n",
       "  </tbody>\n",
       "</table>\n",
       "</div>"
      ]
     },
     "execution_count": 50,
     "metadata": {},
     "output_type": "execute_result"
    }
   ],
   "execution_count": 50
  },
  {
   "metadata": {},
   "cell_type": "markdown",
   "source": "## Contract Type Models",
   "id": "feda0f636678bef6"
  },
  {
   "metadata": {},
   "cell_type": "markdown",
   "source": "### Modeling",
   "id": "6b446f7b5b8acf74"
  },
  {
   "metadata": {},
   "cell_type": "markdown",
   "source": "#### Prepaid",
   "id": "50d3fa171b8cc140"
  },
  {
   "metadata": {
    "ExecuteTime": {
     "end_time": "2025-07-10T13:53:52.097946Z",
     "start_time": "2025-07-10T13:53:52.070775Z"
    }
   },
   "cell_type": "code",
   "source": [
    "pre_model = Model(model_description)\n",
    "print(pre_model.fit(prepaid_df))"
   ],
   "id": "39e192c1b6688a17",
   "outputs": [
    {
     "name": "stdout",
     "output_type": "stream",
     "text": [
      "Name of objective: MLW\n",
      "Optimization method: SLSQP\n",
      "Optimization successful.\n",
      "Optimization terminated successfully\n",
      "Objective value: 1.641\n",
      "Number of iterations: 47\n",
      "Params: 0.761 0.970 0.974 0.731 0.996 0.720 1.145 1.071 0.875 0.855 1.036 1.048 1.223 0.748 1.009 0.486 0.209 0.175 0.560 1.103 2.498 0.975 1.052 0.774 2.526 0.995 1.756 2.401 1.840 1.065 0.353 4.420 0.687 0.750 0.522 0.914 0.865 1.141 2.648 0.697 2.122 0.897 1.042 3.039 2.289 1.220 1.048\n"
     ]
    }
   ],
   "execution_count": 51
  },
  {
   "metadata": {},
   "cell_type": "markdown",
   "source": "#### Postpaid",
   "id": "34c847e19626e1ba"
  },
  {
   "metadata": {
    "ExecuteTime": {
     "end_time": "2025-07-10T13:53:52.195187Z",
     "start_time": "2025-07-10T13:53:52.165066Z"
    }
   },
   "cell_type": "code",
   "source": [
    "post_model = Model(model_description)\n",
    "print(post_model.fit(postpaid_df))"
   ],
   "id": "156ac9edcec1652b",
   "outputs": [
    {
     "name": "stdout",
     "output_type": "stream",
     "text": [
      "Name of objective: MLW\n",
      "Optimization method: SLSQP\n",
      "Optimization successful.\n",
      "Optimization terminated successfully\n",
      "Objective value: 1.843\n",
      "Number of iterations: 51\n",
      "Params: 0.942 1.361 1.309 0.714 2.322 2.202 1.342 1.042 1.254 0.868 1.039 1.047 1.006 0.596 0.913 0.469 0.388 0.230 0.704 1.285 2.287 0.629 0.743 1.822 1.887 1.832 1.776 2.171 1.633 2.041 0.929 1.589 0.669 0.588 0.546 0.764 0.537 1.313 2.633 0.447 0.658 0.702 0.493 2.427 1.682 1.035 1.161\n"
     ]
    }
   ],
   "execution_count": 52
  },
  {
   "metadata": {},
   "cell_type": "markdown",
   "source": "### Direct Effects",
   "id": "54623b980ad0e3b7"
  },
  {
   "metadata": {},
   "cell_type": "markdown",
   "source": "#### Prepaid",
   "id": "a2723a2bd051fd6b"
  },
  {
   "metadata": {
    "ExecuteTime": {
     "end_time": "2025-07-10T13:53:52.276514Z",
     "start_time": "2025-07-10T13:53:52.264325Z"
    }
   },
   "cell_type": "code",
   "source": [
    "pre_raw_item_estimates = (\n",
    "    pre_model.inspect(std_est=True)\n",
    "         .query(\"op == '~' and not lval.str.startswith('P')\")\n",
    ")\n",
    "pre_direct_effects_df = (\n",
    "    pre_raw_item_estimates\n",
    "    .loc[:, ['lval','rval', 'Est. Std', 'Estimate','p-value', 'z-value', 'Std. Err']]\n",
    "    .rename(columns={\n",
    "        'lval': 'Outcome',\n",
    "        'rval': 'Predictor',\n",
    "        'Estimate': 'beta',\n",
    "        'Est. Std': 'beta_std',\n",
    "        'Std. Err': 'SE'\n",
    "    })\n",
    "    .sort_values(by='beta')\n",
    ")\n",
    "pre_direct_effects_df['hypothesis_result'] = pre_direct_effects_df.apply(\n",
    "    lambda row: 'Supported' if row['p-value'] < 0.05 else 'Not Supported',\n",
    "    axis=1\n",
    ")\n",
    "pre_direct_effects_df"
   ],
   "id": "d92af8908ff8abb1",
   "outputs": [
    {
     "data": {
      "text/plain": [
       "  Outcome Predictor  beta_std      beta   p-value    z-value        SE  \\\n",
       "2       S        QT  0.171215  0.175113  0.004432   2.845689  0.061536   \n",
       "1       S        QF  0.196393  0.208615  0.000468   3.498597  0.059628   \n",
       "0       S        QS  0.547677  0.486139       0.0   9.056507  0.053678   \n",
       "3       L         S  0.636721  0.560365       0.0  10.403632  0.053862   \n",
       "\n",
       "  hypothesis_result  \n",
       "2         Supported  \n",
       "1         Supported  \n",
       "0         Supported  \n",
       "3         Supported  "
      ],
      "text/html": [
       "<div>\n",
       "<style scoped>\n",
       "    .dataframe tbody tr th:only-of-type {\n",
       "        vertical-align: middle;\n",
       "    }\n",
       "\n",
       "    .dataframe tbody tr th {\n",
       "        vertical-align: top;\n",
       "    }\n",
       "\n",
       "    .dataframe thead th {\n",
       "        text-align: right;\n",
       "    }\n",
       "</style>\n",
       "<table border=\"1\" class=\"dataframe\">\n",
       "  <thead>\n",
       "    <tr style=\"text-align: right;\">\n",
       "      <th></th>\n",
       "      <th>Outcome</th>\n",
       "      <th>Predictor</th>\n",
       "      <th>beta_std</th>\n",
       "      <th>beta</th>\n",
       "      <th>p-value</th>\n",
       "      <th>z-value</th>\n",
       "      <th>SE</th>\n",
       "      <th>hypothesis_result</th>\n",
       "    </tr>\n",
       "  </thead>\n",
       "  <tbody>\n",
       "    <tr>\n",
       "      <th>2</th>\n",
       "      <td>S</td>\n",
       "      <td>QT</td>\n",
       "      <td>0.171215</td>\n",
       "      <td>0.175113</td>\n",
       "      <td>0.004432</td>\n",
       "      <td>2.845689</td>\n",
       "      <td>0.061536</td>\n",
       "      <td>Supported</td>\n",
       "    </tr>\n",
       "    <tr>\n",
       "      <th>1</th>\n",
       "      <td>S</td>\n",
       "      <td>QF</td>\n",
       "      <td>0.196393</td>\n",
       "      <td>0.208615</td>\n",
       "      <td>0.000468</td>\n",
       "      <td>3.498597</td>\n",
       "      <td>0.059628</td>\n",
       "      <td>Supported</td>\n",
       "    </tr>\n",
       "    <tr>\n",
       "      <th>0</th>\n",
       "      <td>S</td>\n",
       "      <td>QS</td>\n",
       "      <td>0.547677</td>\n",
       "      <td>0.486139</td>\n",
       "      <td>0.0</td>\n",
       "      <td>9.056507</td>\n",
       "      <td>0.053678</td>\n",
       "      <td>Supported</td>\n",
       "    </tr>\n",
       "    <tr>\n",
       "      <th>3</th>\n",
       "      <td>L</td>\n",
       "      <td>S</td>\n",
       "      <td>0.636721</td>\n",
       "      <td>0.560365</td>\n",
       "      <td>0.0</td>\n",
       "      <td>10.403632</td>\n",
       "      <td>0.053862</td>\n",
       "      <td>Supported</td>\n",
       "    </tr>\n",
       "  </tbody>\n",
       "</table>\n",
       "</div>"
      ]
     },
     "execution_count": 53,
     "metadata": {},
     "output_type": "execute_result"
    }
   ],
   "execution_count": 53
  },
  {
   "metadata": {},
   "cell_type": "markdown",
   "source": "#### Postpaid",
   "id": "98cb12868f287ae"
  },
  {
   "metadata": {
    "ExecuteTime": {
     "end_time": "2025-07-10T13:53:52.348093Z",
     "start_time": "2025-07-10T13:53:52.335777Z"
    }
   },
   "cell_type": "code",
   "source": [
    "post_raw_item_estimates = (\n",
    "    post_model.inspect(std_est=True)\n",
    "         .query(\"op == '~' and not lval.str.startswith('P')\")\n",
    ")\n",
    "post_direct_effects_df = (\n",
    "    post_raw_item_estimates\n",
    "    .loc[:, ['lval','rval', 'Est. Std', 'Estimate','p-value', 'z-value', 'Std. Err']]\n",
    "    .rename(columns={\n",
    "        'lval': 'Outcome',\n",
    "        'rval': 'Predictor',\n",
    "        'Estimate': 'beta',\n",
    "        'Est. Std': 'beta_std',\n",
    "        'Std. Err': 'SE'\n",
    "    })\n",
    "    .sort_values(by='beta')\n",
    ")\n",
    "post_direct_effects_df['hypothesis_result'] = post_direct_effects_df.apply(\n",
    "    lambda row: 'Supported' if row['p-value'] < 0.05 else 'Not Supported',\n",
    "    axis=1\n",
    ")\n",
    "post_direct_effects_df\n"
   ],
   "id": "b4fa7a5455782bae",
   "outputs": [
    {
     "data": {
      "text/plain": [
       "  Outcome Predictor  beta_std      beta   p-value    z-value        SE  \\\n",
       "2       S        QT  0.190922  0.230413  0.007908   2.655984  0.086752   \n",
       "1       S        QF  0.200919  0.387640  0.011879   2.515713  0.154088   \n",
       "0       S        QS  0.466579  0.468712       0.0   5.606618    0.0836   \n",
       "3       L         S  0.697067  0.704154       0.0  10.719871  0.065687   \n",
       "\n",
       "  hypothesis_result  \n",
       "2         Supported  \n",
       "1         Supported  \n",
       "0         Supported  \n",
       "3         Supported  "
      ],
      "text/html": [
       "<div>\n",
       "<style scoped>\n",
       "    .dataframe tbody tr th:only-of-type {\n",
       "        vertical-align: middle;\n",
       "    }\n",
       "\n",
       "    .dataframe tbody tr th {\n",
       "        vertical-align: top;\n",
       "    }\n",
       "\n",
       "    .dataframe thead th {\n",
       "        text-align: right;\n",
       "    }\n",
       "</style>\n",
       "<table border=\"1\" class=\"dataframe\">\n",
       "  <thead>\n",
       "    <tr style=\"text-align: right;\">\n",
       "      <th></th>\n",
       "      <th>Outcome</th>\n",
       "      <th>Predictor</th>\n",
       "      <th>beta_std</th>\n",
       "      <th>beta</th>\n",
       "      <th>p-value</th>\n",
       "      <th>z-value</th>\n",
       "      <th>SE</th>\n",
       "      <th>hypothesis_result</th>\n",
       "    </tr>\n",
       "  </thead>\n",
       "  <tbody>\n",
       "    <tr>\n",
       "      <th>2</th>\n",
       "      <td>S</td>\n",
       "      <td>QT</td>\n",
       "      <td>0.190922</td>\n",
       "      <td>0.230413</td>\n",
       "      <td>0.007908</td>\n",
       "      <td>2.655984</td>\n",
       "      <td>0.086752</td>\n",
       "      <td>Supported</td>\n",
       "    </tr>\n",
       "    <tr>\n",
       "      <th>1</th>\n",
       "      <td>S</td>\n",
       "      <td>QF</td>\n",
       "      <td>0.200919</td>\n",
       "      <td>0.387640</td>\n",
       "      <td>0.011879</td>\n",
       "      <td>2.515713</td>\n",
       "      <td>0.154088</td>\n",
       "      <td>Supported</td>\n",
       "    </tr>\n",
       "    <tr>\n",
       "      <th>0</th>\n",
       "      <td>S</td>\n",
       "      <td>QS</td>\n",
       "      <td>0.466579</td>\n",
       "      <td>0.468712</td>\n",
       "      <td>0.0</td>\n",
       "      <td>5.606618</td>\n",
       "      <td>0.0836</td>\n",
       "      <td>Supported</td>\n",
       "    </tr>\n",
       "    <tr>\n",
       "      <th>3</th>\n",
       "      <td>L</td>\n",
       "      <td>S</td>\n",
       "      <td>0.697067</td>\n",
       "      <td>0.704154</td>\n",
       "      <td>0.0</td>\n",
       "      <td>10.719871</td>\n",
       "      <td>0.065687</td>\n",
       "      <td>Supported</td>\n",
       "    </tr>\n",
       "  </tbody>\n",
       "</table>\n",
       "</div>"
      ]
     },
     "execution_count": 54,
     "metadata": {},
     "output_type": "execute_result"
    }
   ],
   "execution_count": 54
  },
  {
   "metadata": {},
   "cell_type": "markdown",
   "source": [
    "#### Wald's Test for Group Differences\n",
    "\n",
    "$Z = \\frac{\\beta_1 - \\beta_2}{\\sqrt{SE_1^2 + SE_2^2}}$\n",
    "\n",
    "Clogg, C. C., Petkova, E., & Haritou, A. (1995). Statistical methods for comparing regression coefficients between models. American Journal of Sociology, 100(5), 1261–1293. https://doi.org/10.1086/230638\n",
    "\n",
    "Please refer to [Wald test](https://en.wikipedia.org/wiki/Wald_test) and [Testing equality of coefficients from two different regressions](https://stats.stackexchange.com/questions/93540/testing-equality-of-coefficients-from-two-different-regressions?utm_source=chatgpt.com) for more information."
   ],
   "id": "a59fd193d70115d2"
  },
  {
   "metadata": {
    "ExecuteTime": {
     "end_time": "2025-07-10T13:53:52.493561Z",
     "start_time": "2025-07-10T13:53:52.490433Z"
    }
   },
   "cell_type": "code",
   "source": [
    "pre_df = pre_direct_effects_df.copy()\n",
    "post_df = post_direct_effects_df.copy()\n",
    "\n",
    "pre_df = pre_df.rename(columns={\n",
    "    'beta': 'beta_pre',\n",
    "    'beta_std': 'beta_std_pre',\n",
    "    't-value': 't_pre',\n",
    "    'p-value': 'p_pre',\n",
    "    'SE': 'SE_pre'\n",
    "})\n",
    "\n",
    "post_df = post_df.rename(columns={\n",
    "    'beta': 'beta_post',\n",
    "    'beta_std': 'beta_std_post',\n",
    "    't-value': 't_post',\n",
    "    'p-value': 'p_post',\n",
    "    'SE': 'SE_post'\n",
    "})"
   ],
   "id": "e195d1df84ca2cd4",
   "outputs": [],
   "execution_count": 55
  },
  {
   "metadata": {
    "ExecuteTime": {
     "end_time": "2025-07-10T13:53:52.574436Z",
     "start_time": "2025-07-10T13:53:52.571262Z"
    }
   },
   "cell_type": "code",
   "source": [
    "plan_type_merged_df = pd.merge(\n",
    "    pre_df[[\n",
    "        'Outcome',\n",
    "        'Predictor',\n",
    "        'beta_pre',\n",
    "        'beta_std_pre',\n",
    "        'SE_pre'\n",
    "    ]],\n",
    "    post_df[[\n",
    "        'Outcome',\n",
    "        'Predictor',\n",
    "        'beta_post',\n",
    "        'beta_std_post',\n",
    "        'SE_post'\n",
    "    ]],\n",
    "    on=['Outcome', 'Predictor']\n",
    ")"
   ],
   "id": "897847c6578a2e97",
   "outputs": [],
   "execution_count": 56
  },
  {
   "metadata": {
    "ExecuteTime": {
     "end_time": "2025-07-10T13:53:52.644311Z",
     "start_time": "2025-07-10T13:53:52.641335Z"
    }
   },
   "cell_type": "code",
   "source": [
    "plan_type_merged_df[['z_wald', 'p_wald']] = plan_type_merged_df.apply(\n",
    "    lambda row: direct_wald_test(\n",
    "        row['beta_pre'],\n",
    "        row['SE_pre'],\n",
    "        row['beta_post'],\n",
    "        row['SE_post']\n",
    "    ),\n",
    "    axis=1, result_type='expand'\n",
    ")"
   ],
   "id": "d603a514d45f6d3a",
   "outputs": [],
   "execution_count": 57
  },
  {
   "metadata": {
    "ExecuteTime": {
     "end_time": "2025-07-10T13:53:52.683103Z",
     "start_time": "2025-07-10T13:53:52.677839Z"
    }
   },
   "cell_type": "code",
   "source": [
    "plan_type_merged_df['difference_significant'] = plan_type_merged_df['p_wald'].apply(lambda p: 'Yes' if p < 0.05 else 'No')\n",
    "plan_type_merged_df"
   ],
   "id": "c1d686d606c7b9cc",
   "outputs": [
    {
     "data": {
      "text/plain": [
       "  Outcome Predictor  beta_pre  beta_std_pre    SE_pre  beta_post  \\\n",
       "0       S        QT  0.175113      0.171215  0.061536   0.230413   \n",
       "1       S        QF  0.208615      0.196393  0.059628   0.387640   \n",
       "2       S        QS  0.486139      0.547677  0.053678   0.468712   \n",
       "3       L         S  0.560365      0.636721  0.053862   0.704154   \n",
       "\n",
       "   beta_std_post   SE_post    z_wald    p_wald difference_significant  \n",
       "0       0.190922  0.086752 -0.519919  0.603120                     No  \n",
       "1       0.200919  0.154088 -1.083539  0.278569                     No  \n",
       "2       0.466579    0.0836  0.175406  0.860761                     No  \n",
       "3       0.697067  0.065687 -1.692695  0.090514                     No  "
      ],
      "text/html": [
       "<div>\n",
       "<style scoped>\n",
       "    .dataframe tbody tr th:only-of-type {\n",
       "        vertical-align: middle;\n",
       "    }\n",
       "\n",
       "    .dataframe tbody tr th {\n",
       "        vertical-align: top;\n",
       "    }\n",
       "\n",
       "    .dataframe thead th {\n",
       "        text-align: right;\n",
       "    }\n",
       "</style>\n",
       "<table border=\"1\" class=\"dataframe\">\n",
       "  <thead>\n",
       "    <tr style=\"text-align: right;\">\n",
       "      <th></th>\n",
       "      <th>Outcome</th>\n",
       "      <th>Predictor</th>\n",
       "      <th>beta_pre</th>\n",
       "      <th>beta_std_pre</th>\n",
       "      <th>SE_pre</th>\n",
       "      <th>beta_post</th>\n",
       "      <th>beta_std_post</th>\n",
       "      <th>SE_post</th>\n",
       "      <th>z_wald</th>\n",
       "      <th>p_wald</th>\n",
       "      <th>difference_significant</th>\n",
       "    </tr>\n",
       "  </thead>\n",
       "  <tbody>\n",
       "    <tr>\n",
       "      <th>0</th>\n",
       "      <td>S</td>\n",
       "      <td>QT</td>\n",
       "      <td>0.175113</td>\n",
       "      <td>0.171215</td>\n",
       "      <td>0.061536</td>\n",
       "      <td>0.230413</td>\n",
       "      <td>0.190922</td>\n",
       "      <td>0.086752</td>\n",
       "      <td>-0.519919</td>\n",
       "      <td>0.603120</td>\n",
       "      <td>No</td>\n",
       "    </tr>\n",
       "    <tr>\n",
       "      <th>1</th>\n",
       "      <td>S</td>\n",
       "      <td>QF</td>\n",
       "      <td>0.208615</td>\n",
       "      <td>0.196393</td>\n",
       "      <td>0.059628</td>\n",
       "      <td>0.387640</td>\n",
       "      <td>0.200919</td>\n",
       "      <td>0.154088</td>\n",
       "      <td>-1.083539</td>\n",
       "      <td>0.278569</td>\n",
       "      <td>No</td>\n",
       "    </tr>\n",
       "    <tr>\n",
       "      <th>2</th>\n",
       "      <td>S</td>\n",
       "      <td>QS</td>\n",
       "      <td>0.486139</td>\n",
       "      <td>0.547677</td>\n",
       "      <td>0.053678</td>\n",
       "      <td>0.468712</td>\n",
       "      <td>0.466579</td>\n",
       "      <td>0.0836</td>\n",
       "      <td>0.175406</td>\n",
       "      <td>0.860761</td>\n",
       "      <td>No</td>\n",
       "    </tr>\n",
       "    <tr>\n",
       "      <th>3</th>\n",
       "      <td>L</td>\n",
       "      <td>S</td>\n",
       "      <td>0.560365</td>\n",
       "      <td>0.636721</td>\n",
       "      <td>0.053862</td>\n",
       "      <td>0.704154</td>\n",
       "      <td>0.697067</td>\n",
       "      <td>0.065687</td>\n",
       "      <td>-1.692695</td>\n",
       "      <td>0.090514</td>\n",
       "      <td>No</td>\n",
       "    </tr>\n",
       "  </tbody>\n",
       "</table>\n",
       "</div>"
      ]
     },
     "execution_count": 58,
     "metadata": {},
     "output_type": "execute_result"
    }
   ],
   "execution_count": 58
  },
  {
   "metadata": {},
   "cell_type": "markdown",
   "source": "### Indirect Effects",
   "id": "71613e0bcf6bd17e"
  },
  {
   "metadata": {},
   "cell_type": "markdown",
   "source": "#### Prepaid",
   "id": "d3d89c8c3860b59b"
  },
  {
   "metadata": {
    "ExecuteTime": {
     "end_time": "2025-07-10T13:53:52.776025Z",
     "start_time": "2025-07-10T13:53:52.745284Z"
    }
   },
   "cell_type": "code",
   "source": [
    "pre_paths = (\n",
    "    pre_model.inspect(std_est=True, se_robust=True)\n",
    "         .query(\"op == '~'\")\n",
    "         .set_index(['lval', 'rval'])\n",
    ")"
   ],
   "id": "1009df3e37a0d35",
   "outputs": [],
   "execution_count": 59
  },
  {
   "metadata": {},
   "cell_type": "markdown",
   "source": "##### Mediator-to-outcome path  (M -> Y)",
   "id": "7224722b6bddafd6"
  },
  {
   "metadata": {
    "ExecuteTime": {
     "end_time": "2025-07-10T13:53:52.833478Z",
     "start_time": "2025-07-10T13:53:52.830768Z"
    }
   },
   "cell_type": "code",
   "source": [
    "pre_b_path_coefficient = float(\n",
    "    pre_paths.loc[('L', 'S'), 'Estimate']\n",
    ")\n",
    "pre_b_path_standardized_coefficient = float(\n",
    "    pre_paths.loc[('L', 'S'), 'Est. Std']\n",
    ")\n",
    "pre_b_path_standard_error = float(\n",
    "    male_paths.loc[('L', 'S'), 'Std. Err']\n",
    ")"
   ],
   "id": "fa0a3f427fe143fd",
   "outputs": [],
   "execution_count": 60
  },
  {
   "metadata": {},
   "cell_type": "markdown",
   "source": [
    "##### Predictor-to-mediator paths (X -> M)\n",
    "\n",
    "Sobel's z test for mediation is calculated as:\n",
    "\n",
    "$Z = \\frac{a \\cdot b}{SE_{ab}}\n",
    "= \\frac{a \\cdot b}{\\sqrt{b^2 \\cdot SE_a^2 + a^2 \\cdot SE_b^2}}$\n",
    "\n",
    "Where:\n",
    "- a = path coefficient from X -> M\n",
    "- b = path coefficient from M -> Y\n",
    "- $SE_a$ = standard error of a\n",
    "- $SE_b$ = standard error of b\n",
    "\n",
    "Abu-Bader, S., & Jones, T. V. (2021). Statistical mediation analysis using the Sobel test and Hayes SPSS Process Macro. International Journal of Quantitative and Qualitative Research Methods, 9(1), 42–61."
   ],
   "id": "1bd47e5ef801ecff"
  },
  {
   "metadata": {
    "ExecuteTime": {
     "end_time": "2025-07-10T13:53:52.897661Z",
     "start_time": "2025-07-10T13:53:52.893904Z"
    }
   },
   "cell_type": "code",
   "source": [
    "pre_results = []\n",
    "for predictor in ['QS', 'QF', 'QT']:\n",
    "    pre_a_path_coefficient = float(\n",
    "        pre_paths.loc[('S', predictor), 'Estimate']\n",
    "    )\n",
    "    pre_a_standardized_path_coefficient = float(\n",
    "        pre_paths.loc[('S', predictor), 'Est. Std']\n",
    "    )\n",
    "    pre_a_path_standard_error = float(\n",
    "        pre_paths.loc[('S', predictor), 'Std. Err']\n",
    "    )\n",
    "\n",
    "    # Indirect effect = a * b\n",
    "    pre_indirect_effect = (\n",
    "        pre_a_path_coefficient * pre_b_path_coefficient\n",
    "    )\n",
    "    pre_standardized_indirect_effect = (\n",
    "        pre_a_standardized_path_coefficient * pre_b_path_standardized_coefficient\n",
    "    )\n",
    "\n",
    "    # Sobel standard error: sqrt(b^2 * SE_a^2 + a^2 * SE_b^2)\n",
    "    pre_indirect_se = math.sqrt(\n",
    "        (pre_b_path_coefficient ** 2) * (pre_a_path_standard_error ** 2) +\n",
    "        (pre_a_path_coefficient ** 2) * (pre_b_path_standard_error ** 2)\n",
    "    )\n",
    "    pre_standardized_indirect_effect = (\n",
    "        pre_a_standardized_path_coefficient * pre_b_path_standardized_coefficient\n",
    "    )\n",
    "\n",
    "    pre_z_value = pre_indirect_effect / pre_indirect_se\n",
    "    pre_p_value = 2 * (1 - norm.cdf(abs(pre_z_value)))\n",
    "\n",
    "    pre_results.append({\n",
    "        'Path': f'{predictor} -> L (via S)',\n",
    "        'Indirect Effect': round(pre_indirect_effect, 3),\n",
    "        'Std. Indirect Effect': round(pre_standardized_indirect_effect, 3),\n",
    "        'Standard Error':  round(pre_indirect_se, 3),\n",
    "        'z-value':         round(pre_z_value, 2),\n",
    "        'p-value':         round(pre_p_value, 4)\n",
    "    })"
   ],
   "id": "b9726e4825f7f4b6",
   "outputs": [],
   "execution_count": 61
  },
  {
   "metadata": {
    "ExecuteTime": {
     "end_time": "2025-07-10T13:53:52.938072Z",
     "start_time": "2025-07-10T13:53:52.933375Z"
    }
   },
   "cell_type": "code",
   "source": [
    "pre_indirect_effects_df = pd.DataFrame(pre_results)\n",
    "pre_indirect_effects_df"
   ],
   "id": "dc44fe63e49f8fb1",
   "outputs": [
    {
     "data": {
      "text/plain": [
       "              Path  Indirect Effect  Std. Indirect Effect  Standard Error  \\\n",
       "0  QS -> L (via S)            0.272                 0.349           0.049   \n",
       "1  QF -> L (via S)            0.117                 0.125           0.039   \n",
       "2  QT -> L (via S)            0.098                 0.109           0.034   \n",
       "\n",
       "   z-value  p-value  \n",
       "0     5.55   0.0000  \n",
       "1     3.02   0.0025  \n",
       "2     2.91   0.0036  "
      ],
      "text/html": [
       "<div>\n",
       "<style scoped>\n",
       "    .dataframe tbody tr th:only-of-type {\n",
       "        vertical-align: middle;\n",
       "    }\n",
       "\n",
       "    .dataframe tbody tr th {\n",
       "        vertical-align: top;\n",
       "    }\n",
       "\n",
       "    .dataframe thead th {\n",
       "        text-align: right;\n",
       "    }\n",
       "</style>\n",
       "<table border=\"1\" class=\"dataframe\">\n",
       "  <thead>\n",
       "    <tr style=\"text-align: right;\">\n",
       "      <th></th>\n",
       "      <th>Path</th>\n",
       "      <th>Indirect Effect</th>\n",
       "      <th>Std. Indirect Effect</th>\n",
       "      <th>Standard Error</th>\n",
       "      <th>z-value</th>\n",
       "      <th>p-value</th>\n",
       "    </tr>\n",
       "  </thead>\n",
       "  <tbody>\n",
       "    <tr>\n",
       "      <th>0</th>\n",
       "      <td>QS -&gt; L (via S)</td>\n",
       "      <td>0.272</td>\n",
       "      <td>0.349</td>\n",
       "      <td>0.049</td>\n",
       "      <td>5.55</td>\n",
       "      <td>0.0000</td>\n",
       "    </tr>\n",
       "    <tr>\n",
       "      <th>1</th>\n",
       "      <td>QF -&gt; L (via S)</td>\n",
       "      <td>0.117</td>\n",
       "      <td>0.125</td>\n",
       "      <td>0.039</td>\n",
       "      <td>3.02</td>\n",
       "      <td>0.0025</td>\n",
       "    </tr>\n",
       "    <tr>\n",
       "      <th>2</th>\n",
       "      <td>QT -&gt; L (via S)</td>\n",
       "      <td>0.098</td>\n",
       "      <td>0.109</td>\n",
       "      <td>0.034</td>\n",
       "      <td>2.91</td>\n",
       "      <td>0.0036</td>\n",
       "    </tr>\n",
       "  </tbody>\n",
       "</table>\n",
       "</div>"
      ]
     },
     "execution_count": 62,
     "metadata": {},
     "output_type": "execute_result"
    }
   ],
   "execution_count": 62
  },
  {
   "metadata": {},
   "cell_type": "markdown",
   "source": "#### Postpaid",
   "id": "c6dcdcc02202fb6f"
  },
  {
   "metadata": {
    "ExecuteTime": {
     "end_time": "2025-07-10T13:53:53.022287Z",
     "start_time": "2025-07-10T13:53:52.995812Z"
    }
   },
   "cell_type": "code",
   "source": [
    "post_paths = (\n",
    "    post_model.inspect(std_est=True, se_robust=True)\n",
    "         .query(\"op == '~'\")\n",
    "         .set_index(['lval', 'rval'])\n",
    ")"
   ],
   "id": "2ef967918343ca28",
   "outputs": [],
   "execution_count": 63
  },
  {
   "metadata": {},
   "cell_type": "markdown",
   "source": "##### Mediator-to-outcome path  (M -> Y)",
   "id": "a8c2272251ebe0ab"
  },
  {
   "metadata": {
    "ExecuteTime": {
     "end_time": "2025-07-10T13:53:53.089984Z",
     "start_time": "2025-07-10T13:53:53.087626Z"
    }
   },
   "cell_type": "code",
   "source": [
    "post_b_path_coefficient = float(\n",
    "    post_paths.loc[('L', 'S'), 'Estimate']\n",
    ")\n",
    "post_b_path_standardized_coefficient = float(\n",
    "    post_paths.loc[('L', 'S'), 'Est. Std']\n",
    ")\n",
    "post_b_path_standard_error = float(\n",
    "    male_paths.loc[('L', 'S'), 'Std. Err']\n",
    ")"
   ],
   "id": "cc7b0efaccf4a73b",
   "outputs": [],
   "execution_count": 64
  },
  {
   "metadata": {},
   "cell_type": "markdown",
   "source": [
    "##### Predictor-to-mediator paths (X -> M)\n",
    "\n",
    "Sobel's z test for mediation is calculated as:\n",
    "\n",
    "$Z = \\frac{a \\cdot b}{SE_{ab}}\n",
    "= \\frac{a \\cdot b}{\\sqrt{b^2 \\cdot SE_a^2 + a^2 \\cdot SE_b^2}}$\n",
    "\n",
    "Where:\n",
    "- a = path coefficient from X -> M\n",
    "- b = path coefficient from M -> Y\n",
    "- $SE_a$ = standard error of a\n",
    "- $SE_b$ = standard error of b\n",
    "\n",
    "Abu-Bader, S., & Jones, T. V. (2021). Statistical mediation analysis using the Sobel test and Hayes SPSS Process Macro. International Journal of Quantitative and Qualitative Research Methods, 9(1), 42–61."
   ],
   "id": "81a50eecf148be5d"
  },
  {
   "metadata": {
    "ExecuteTime": {
     "end_time": "2025-07-10T13:53:53.158734Z",
     "start_time": "2025-07-10T13:53:53.154955Z"
    }
   },
   "cell_type": "code",
   "source": [
    "post_results = []\n",
    "for predictor in ['QS', 'QF', 'QT']:\n",
    "    post_a_path_coefficient = float(\n",
    "        post_paths.loc[('S', predictor), 'Estimate']\n",
    "    )\n",
    "    post_a_standardized_path_coefficient = float(\n",
    "        post_paths.loc[('S', predictor), 'Est. Std']\n",
    "    )\n",
    "    post_a_path_standard_error = float(\n",
    "        post_paths.loc[('S', predictor), 'Std. Err']\n",
    "    )\n",
    "\n",
    "    # Indirect effect = a * b\n",
    "    post_indirect_effect = (\n",
    "        post_a_path_coefficient * post_b_path_coefficient\n",
    "    )\n",
    "    post_standardized_indirect_effect = (\n",
    "        post_a_standardized_path_coefficient * post_b_path_standardized_coefficient\n",
    "    )\n",
    "\n",
    "    # Sobel standard error: sqrt(b^2 * SE_a^2 + a^2 * SE_b^2)\n",
    "    post_indirect_se = math.sqrt(\n",
    "        (post_b_path_coefficient ** 2) * (post_a_path_standard_error ** 2) +\n",
    "        (post_a_path_coefficient ** 2) * (post_b_path_standard_error ** 2)\n",
    "    )\n",
    "    post_standardized_indirect_effect = (\n",
    "        post_a_standardized_path_coefficient * post_b_path_standardized_coefficient\n",
    "    )\n",
    "\n",
    "    post_z_value = post_indirect_effect / post_indirect_se\n",
    "    post_p_value = 2 * (1 - norm.cdf(abs(post_z_value)))\n",
    "\n",
    "    post_results.append({\n",
    "        'Path': f'{predictor} -> L (via S)',\n",
    "        'Indirect Effect': round(post_indirect_effect, 3),\n",
    "        'Std. Indirect Effect': round(post_standardized_indirect_effect, 3),\n",
    "        'Standard Error':  round(post_indirect_se, 3),\n",
    "        'z-value':         round(post_z_value, 2),\n",
    "        'p-value':         round(post_p_value, 4)\n",
    "    })"
   ],
   "id": "8219355abb8cae39",
   "outputs": [],
   "execution_count": 65
  },
  {
   "metadata": {
    "ExecuteTime": {
     "end_time": "2025-07-10T13:53:53.197788Z",
     "start_time": "2025-07-10T13:53:53.193514Z"
    }
   },
   "cell_type": "code",
   "source": [
    "post_indirect_effects_df = pd.DataFrame(post_results)\n",
    "post_indirect_effects_df"
   ],
   "id": "7a6403fae001529b",
   "outputs": [
    {
     "data": {
      "text/plain": [
       "              Path  Indirect Effect  Std. Indirect Effect  Standard Error  \\\n",
       "0  QS -> L (via S)            0.330                 0.325           0.071   \n",
       "1  QF -> L (via S)            0.273                 0.140           0.145   \n",
       "2  QT -> L (via S)            0.162                 0.133           0.074   \n",
       "\n",
       "   z-value  p-value  \n",
       "0     4.65   0.0000  \n",
       "1     1.88   0.0596  \n",
       "2     2.20   0.0278  "
      ],
      "text/html": [
       "<div>\n",
       "<style scoped>\n",
       "    .dataframe tbody tr th:only-of-type {\n",
       "        vertical-align: middle;\n",
       "    }\n",
       "\n",
       "    .dataframe tbody tr th {\n",
       "        vertical-align: top;\n",
       "    }\n",
       "\n",
       "    .dataframe thead th {\n",
       "        text-align: right;\n",
       "    }\n",
       "</style>\n",
       "<table border=\"1\" class=\"dataframe\">\n",
       "  <thead>\n",
       "    <tr style=\"text-align: right;\">\n",
       "      <th></th>\n",
       "      <th>Path</th>\n",
       "      <th>Indirect Effect</th>\n",
       "      <th>Std. Indirect Effect</th>\n",
       "      <th>Standard Error</th>\n",
       "      <th>z-value</th>\n",
       "      <th>p-value</th>\n",
       "    </tr>\n",
       "  </thead>\n",
       "  <tbody>\n",
       "    <tr>\n",
       "      <th>0</th>\n",
       "      <td>QS -&gt; L (via S)</td>\n",
       "      <td>0.330</td>\n",
       "      <td>0.325</td>\n",
       "      <td>0.071</td>\n",
       "      <td>4.65</td>\n",
       "      <td>0.0000</td>\n",
       "    </tr>\n",
       "    <tr>\n",
       "      <th>1</th>\n",
       "      <td>QF -&gt; L (via S)</td>\n",
       "      <td>0.273</td>\n",
       "      <td>0.140</td>\n",
       "      <td>0.145</td>\n",
       "      <td>1.88</td>\n",
       "      <td>0.0596</td>\n",
       "    </tr>\n",
       "    <tr>\n",
       "      <th>2</th>\n",
       "      <td>QT -&gt; L (via S)</td>\n",
       "      <td>0.162</td>\n",
       "      <td>0.133</td>\n",
       "      <td>0.074</td>\n",
       "      <td>2.20</td>\n",
       "      <td>0.0278</td>\n",
       "    </tr>\n",
       "  </tbody>\n",
       "</table>\n",
       "</div>"
      ]
     },
     "execution_count": 66,
     "metadata": {},
     "output_type": "execute_result"
    }
   ],
   "execution_count": 66
  },
  {
   "metadata": {},
   "cell_type": "markdown",
   "source": "## Final Analysis",
   "id": "859af65548cd82ca"
  }
 ],
 "metadata": {
  "kernelspec": {
   "display_name": "Python 3 (ipykernel)",
   "language": "python",
   "name": "python3"
  },
  "language_info": {
   "codemirror_mode": {
    "name": "ipython",
    "version": 3
   },
   "file_extension": ".py",
   "mimetype": "text/x-python",
   "name": "python",
   "nbconvert_exporter": "python",
   "pygments_lexer": "ipython3",
   "version": "3.10.11"
  }
 },
 "nbformat": 4,
 "nbformat_minor": 5
}
