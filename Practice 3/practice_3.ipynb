{
 "cells": [
  {
   "cell_type": "markdown",
   "id": "2686fb3a4fefcb90",
   "metadata": {},
   "source": [
    "# Practice 3: Group Analysis\n",
    "\n",
    "## Objetives:\n",
    "1. Group analysis by gender and contract type\n",
    "2. Report moderation hypotheses tests and report direct and indirect effects\n",
    "    1. Gender Hypotheses:\n",
    "        1. H5a: The influence of technical quality on satisfaction is more positive among women than among men\n",
    "        2. H5b: The influence of financial quality on satisfaction is more positive among women than among men.\n",
    "        3. H5c: The influence of service quality on satisfaction is more positive among women than among men.\n",
    "\t    4. H5d: The influence of satisfaction on loyalty is more positive among women than among men.\n",
    "    2. Contract Type Hypotheses:\n",
    "        1. H6a: The influence of technical quality on satisfaction is more positive among consumers who use postpaid plans than those who use prepaid plans.\n",
    "\t    2. H6b: The influence of financial quality on satisfaction is more positive among consumers who use postpaid plans than those who use prepaid plans.\n",
    "\t    3. H6c: The influence of service quality on satisfaction is more positive among consumers who use postpaid plans than those who use prepaid plans.\n",
    "\t    4. H6d: The influence of satisfaction on loyalty is more positive among consumers who use postpaid plans than those who use prepaid plans.\n"
   ]
  },
  {
   "metadata": {},
   "cell_type": "markdown",
   "source": "## Data Preparation",
   "id": "ff629a8b552f2630"
  },
  {
   "metadata": {
    "ExecuteTime": {
     "end_time": "2025-07-09T11:53:20.417440Z",
     "start_time": "2025-07-09T11:53:20.382835Z"
    }
   },
   "cell_type": "code",
   "source": [
    "import pandas as pd\n",
    "import pyreadstat\n",
    "\n",
    "raw_data_df, meta = pyreadstat.read_sav(\"../data/EXERCICIO_2025.sav\")\n",
    "raw_data_df.head()"
   ],
   "id": "f76fd2c9f0a24fd4",
   "outputs": [
    {
     "data": {
      "text/plain": [
       "   CASO   f1   f2   f3   f4   f5    f6    f7  P1.1_QA  P1.2_QA  ...   P7  P14  \\\n",
       "0   NaN  1.0  3.0  6.0  1.0  1.0  50.0  18.0      8.0      6.0  ...  3.0  2.0   \n",
       "1   NaN  1.0  1.0  5.0  1.0  1.0  36.0  35.0      8.0      7.0  ...  1.0  1.0   \n",
       "2   NaN  1.0  3.0  5.0  1.0  1.0  72.0  73.0     10.0     10.0  ...  2.0  2.0   \n",
       "3   NaN  1.0  3.0  9.0  1.0  1.0  24.0  27.0      6.0      6.0  ...  1.0  2.0   \n",
       "4   NaN  1.0  4.0  9.0  1.0  1.0  72.0  24.0      2.0      5.0  ...  2.0  1.0   \n",
       "\n",
       "     ltv2  tempo  clsocial  SATIS  LEAL  ATEND        FIN   TEC  \n",
       "0  1373.0   61.0       5.0   6.50   6.2    7.2   9.333333  8.50  \n",
       "1  1002.0   47.0       5.0   5.50   4.4    6.8   6.666667  8.00  \n",
       "2  2097.0   83.0       5.0   7.50   8.0    9.6  10.000000  8.00  \n",
       "3   802.0   35.0       4.0   6.25   6.2    6.4   7.666667  6.50  \n",
       "4  4835.0   78.0       4.0   5.25   4.4    4.4   5.666667  5.75  \n",
       "\n",
       "[5 rows x 45 columns]"
      ],
      "text/html": [
       "<div>\n",
       "<style scoped>\n",
       "    .dataframe tbody tr th:only-of-type {\n",
       "        vertical-align: middle;\n",
       "    }\n",
       "\n",
       "    .dataframe tbody tr th {\n",
       "        vertical-align: top;\n",
       "    }\n",
       "\n",
       "    .dataframe thead th {\n",
       "        text-align: right;\n",
       "    }\n",
       "</style>\n",
       "<table border=\"1\" class=\"dataframe\">\n",
       "  <thead>\n",
       "    <tr style=\"text-align: right;\">\n",
       "      <th></th>\n",
       "      <th>CASO</th>\n",
       "      <th>f1</th>\n",
       "      <th>f2</th>\n",
       "      <th>f3</th>\n",
       "      <th>f4</th>\n",
       "      <th>f5</th>\n",
       "      <th>f6</th>\n",
       "      <th>f7</th>\n",
       "      <th>P1.1_QA</th>\n",
       "      <th>P1.2_QA</th>\n",
       "      <th>...</th>\n",
       "      <th>P7</th>\n",
       "      <th>P14</th>\n",
       "      <th>ltv2</th>\n",
       "      <th>tempo</th>\n",
       "      <th>clsocial</th>\n",
       "      <th>SATIS</th>\n",
       "      <th>LEAL</th>\n",
       "      <th>ATEND</th>\n",
       "      <th>FIN</th>\n",
       "      <th>TEC</th>\n",
       "    </tr>\n",
       "  </thead>\n",
       "  <tbody>\n",
       "    <tr>\n",
       "      <th>0</th>\n",
       "      <td>NaN</td>\n",
       "      <td>1.0</td>\n",
       "      <td>3.0</td>\n",
       "      <td>6.0</td>\n",
       "      <td>1.0</td>\n",
       "      <td>1.0</td>\n",
       "      <td>50.0</td>\n",
       "      <td>18.0</td>\n",
       "      <td>8.0</td>\n",
       "      <td>6.0</td>\n",
       "      <td>...</td>\n",
       "      <td>3.0</td>\n",
       "      <td>2.0</td>\n",
       "      <td>1373.0</td>\n",
       "      <td>61.0</td>\n",
       "      <td>5.0</td>\n",
       "      <td>6.50</td>\n",
       "      <td>6.2</td>\n",
       "      <td>7.2</td>\n",
       "      <td>9.333333</td>\n",
       "      <td>8.50</td>\n",
       "    </tr>\n",
       "    <tr>\n",
       "      <th>1</th>\n",
       "      <td>NaN</td>\n",
       "      <td>1.0</td>\n",
       "      <td>1.0</td>\n",
       "      <td>5.0</td>\n",
       "      <td>1.0</td>\n",
       "      <td>1.0</td>\n",
       "      <td>36.0</td>\n",
       "      <td>35.0</td>\n",
       "      <td>8.0</td>\n",
       "      <td>7.0</td>\n",
       "      <td>...</td>\n",
       "      <td>1.0</td>\n",
       "      <td>1.0</td>\n",
       "      <td>1002.0</td>\n",
       "      <td>47.0</td>\n",
       "      <td>5.0</td>\n",
       "      <td>5.50</td>\n",
       "      <td>4.4</td>\n",
       "      <td>6.8</td>\n",
       "      <td>6.666667</td>\n",
       "      <td>8.00</td>\n",
       "    </tr>\n",
       "    <tr>\n",
       "      <th>2</th>\n",
       "      <td>NaN</td>\n",
       "      <td>1.0</td>\n",
       "      <td>3.0</td>\n",
       "      <td>5.0</td>\n",
       "      <td>1.0</td>\n",
       "      <td>1.0</td>\n",
       "      <td>72.0</td>\n",
       "      <td>73.0</td>\n",
       "      <td>10.0</td>\n",
       "      <td>10.0</td>\n",
       "      <td>...</td>\n",
       "      <td>2.0</td>\n",
       "      <td>2.0</td>\n",
       "      <td>2097.0</td>\n",
       "      <td>83.0</td>\n",
       "      <td>5.0</td>\n",
       "      <td>7.50</td>\n",
       "      <td>8.0</td>\n",
       "      <td>9.6</td>\n",
       "      <td>10.000000</td>\n",
       "      <td>8.00</td>\n",
       "    </tr>\n",
       "    <tr>\n",
       "      <th>3</th>\n",
       "      <td>NaN</td>\n",
       "      <td>1.0</td>\n",
       "      <td>3.0</td>\n",
       "      <td>9.0</td>\n",
       "      <td>1.0</td>\n",
       "      <td>1.0</td>\n",
       "      <td>24.0</td>\n",
       "      <td>27.0</td>\n",
       "      <td>6.0</td>\n",
       "      <td>6.0</td>\n",
       "      <td>...</td>\n",
       "      <td>1.0</td>\n",
       "      <td>2.0</td>\n",
       "      <td>802.0</td>\n",
       "      <td>35.0</td>\n",
       "      <td>4.0</td>\n",
       "      <td>6.25</td>\n",
       "      <td>6.2</td>\n",
       "      <td>6.4</td>\n",
       "      <td>7.666667</td>\n",
       "      <td>6.50</td>\n",
       "    </tr>\n",
       "    <tr>\n",
       "      <th>4</th>\n",
       "      <td>NaN</td>\n",
       "      <td>1.0</td>\n",
       "      <td>4.0</td>\n",
       "      <td>9.0</td>\n",
       "      <td>1.0</td>\n",
       "      <td>1.0</td>\n",
       "      <td>72.0</td>\n",
       "      <td>24.0</td>\n",
       "      <td>2.0</td>\n",
       "      <td>5.0</td>\n",
       "      <td>...</td>\n",
       "      <td>2.0</td>\n",
       "      <td>1.0</td>\n",
       "      <td>4835.0</td>\n",
       "      <td>78.0</td>\n",
       "      <td>4.0</td>\n",
       "      <td>5.25</td>\n",
       "      <td>4.4</td>\n",
       "      <td>4.4</td>\n",
       "      <td>5.666667</td>\n",
       "      <td>5.75</td>\n",
       "    </tr>\n",
       "  </tbody>\n",
       "</table>\n",
       "<p>5 rows × 45 columns</p>\n",
       "</div>"
      ]
     },
     "execution_count": 22,
     "metadata": {},
     "output_type": "execute_result"
    }
   ],
   "execution_count": 22
  },
  {
   "metadata": {
    "ExecuteTime": {
     "end_time": "2025-07-09T11:53:20.531414Z",
     "start_time": "2025-07-09T11:53:20.515660Z"
    }
   },
   "cell_type": "code",
   "source": [
    "columns_to_filter = [\n",
    "    'P1.1_QA', 'P1.2_QA', 'P1.3_QA', 'P1.4_QA', 'P1.5_QA', 'P1.15_QA', 'P1.16_QA', 'P1.17_QA',\n",
    "    'P1.6_QC', 'P1.7_QC', 'P1.8_QC', 'P1.9_QC',\n",
    "    'P1.10_QT', 'P1.11_QT', 'P1.12_QT', 'P1.13_QT', 'P1.14_QT',\n",
    "    'P3.1_S', 'P3.2_S', 'P3.3_S', 'P3.4_S',\n",
    "    'P6.1_L', 'P6.2_L', 'P6.3_L', 'P6.4_L', 'P6.5_L', 'P6.6_L',\n",
    "    'P14'\n",
    "]\n",
    "\n",
    "clean_df = raw_data_df[columns_to_filter].copy()\n",
    "\n",
    "clean_df.rename(columns=lambda c: c.replace('.', '_'), inplace=True)\n",
    "clean_df.rename(columns=lambda c: c.replace('C', 'F'), inplace=True)\n",
    "clean_df.rename(columns=lambda c: c.replace('A', 'S'), inplace=True)\n",
    "print(raw_data_df.shape)\n",
    "print(clean_df.shape)\n",
    "print(clean_df.isnull().sum())"
   ],
   "id": "1bb9e3c9041730a5",
   "outputs": [
    {
     "name": "stdout",
     "output_type": "stream",
     "text": [
      "(493, 45)\n",
      "(493, 28)\n",
      "P1_1_QS     0\n",
      "P1_2_QS     0\n",
      "P1_3_QS     0\n",
      "P1_4_QS     0\n",
      "P1_5_QS     0\n",
      "P1_15_QS    0\n",
      "P1_16_QS    0\n",
      "P1_17_QS    0\n",
      "P1_6_QF     0\n",
      "P1_7_QF     0\n",
      "P1_8_QF     0\n",
      "P1_9_QF     0\n",
      "P1_10_QT    0\n",
      "P1_11_QT    0\n",
      "P1_12_QT    0\n",
      "P1_13_QT    0\n",
      "P1_14_QT    0\n",
      "P3_1_S      0\n",
      "P3_2_S      0\n",
      "P3_3_S      0\n",
      "P3_4_S      0\n",
      "P6_1_L      0\n",
      "P6_2_L      0\n",
      "P6_3_L      0\n",
      "P6_4_L      0\n",
      "P6_5_L      0\n",
      "P6_6_L      0\n",
      "P14         0\n",
      "dtype: int64\n"
     ]
    }
   ],
   "execution_count": 23
  },
  {
   "metadata": {
    "ExecuteTime": {
     "end_time": "2025-07-09T11:53:20.624567Z",
     "start_time": "2025-07-09T11:53:20.616676Z"
    }
   },
   "cell_type": "code",
   "source": [
    "male_df = clean_df[clean_df['P14'] == 2].copy()\n",
    "female_df = clean_df[clean_df['P14'] == 1].copy()\n",
    "print(male_df.shape)\n",
    "print(female_df.shape)"
   ],
   "id": "9b8749b7dc038829",
   "outputs": [
    {
     "name": "stdout",
     "output_type": "stream",
     "text": [
      "(232, 28)\n",
      "(261, 28)\n"
     ]
    }
   ],
   "execution_count": 24
  },
  {
   "metadata": {},
   "cell_type": "markdown",
   "source": "## Gender Models",
   "id": "8fe1806356a370cb"
  },
  {
   "metadata": {
    "ExecuteTime": {
     "end_time": "2025-07-09T11:53:20.696282Z",
     "start_time": "2025-07-09T11:53:20.693837Z"
    }
   },
   "cell_type": "code",
   "source": [
    "# from semopy.multigroup import multigroup\n",
    "# model_description =  \"\"\"\n",
    "# QS =~ P1_1_QS + P1_2_QS + P1_4_QS + P1_5_QS + P1_16_QS\n",
    "# QF =~ P1_6_QF + P1_7_QF + P1_8_QF\n",
    "# QT =~ P1_10_QT + P1_11_QT + P1_12_QT + P1_13_QT\n",
    "# S =~ P3_1_S + P3_2_S + P3_3_S + P3_4_S\n",
    "# L =~ P6_1_L + P6_2_L + P6_3_L + P6_4_L\n",
    "#\n",
    "# S ~ QS + QF + QT\n",
    "# L ~ S\n",
    "# \"\"\"\n",
    "# res = multigroup(\n",
    "#     model_description,\n",
    "#     clean_df,\n",
    "#     group='Gender',\n",
    "# )\n",
    "# print(res)"
   ],
   "id": "d5c61aafd873685a",
   "outputs": [],
   "execution_count": 25
  },
  {
   "metadata": {},
   "cell_type": "markdown",
   "source": "### Modeling",
   "id": "6200a811b77c579"
  },
  {
   "metadata": {
    "ExecuteTime": {
     "end_time": "2025-07-09T11:53:20.737641Z",
     "start_time": "2025-07-09T11:53:20.734072Z"
    }
   },
   "cell_type": "code",
   "source": [
    "model_description = \"\"\"\n",
    "QS =~ P1_1_QS + P1_2_QS + P1_4_QS + P1_5_QS + P1_16_QS\n",
    "QF =~ P1_6_QF + P1_7_QF + P1_8_QF\n",
    "QT =~ P1_10_QT + P1_11_QT + P1_12_QT + P1_13_QT\n",
    "S =~ P3_1_S + P3_2_S + P3_3_S + P3_4_S\n",
    "L =~ P6_1_L + P6_2_L + P6_3_L + P6_4_L\n",
    "\n",
    "S ~ QS + QF + QT\n",
    "L ~ S\n",
    "\"\"\""
   ],
   "id": "17ed44e012385cbc",
   "outputs": [],
   "execution_count": 26
  },
  {
   "metadata": {},
   "cell_type": "markdown",
   "source": "#### Male",
   "id": "2bd3187bd17c74a6"
  },
  {
   "metadata": {
    "ExecuteTime": {
     "end_time": "2025-07-09T11:53:20.834359Z",
     "start_time": "2025-07-09T11:53:20.781970Z"
    }
   },
   "cell_type": "code",
   "source": [
    "from semopy import Model\n",
    "male_model = Model(model_description)\n",
    "print(male_model.fit(male_df))"
   ],
   "id": "7b065465f9969a94",
   "outputs": [
    {
     "name": "stdout",
     "output_type": "stream",
     "text": [
      "Name of objective: MLW\n",
      "Optimization method: SLSQP\n",
      "Optimization successful.\n",
      "Optimization terminated successfully\n",
      "Objective value: 1.807\n",
      "Number of iterations: 50\n",
      "Params: 0.793 1.123 1.085 0.776 1.642 1.666 1.278 1.042 1.067 0.832 0.996 0.987 1.138 0.704 0.984 0.637 0.024 0.262 0.610 0.906 2.063 0.545 0.859 1.661 2.422 1.547 1.971 2.571 2.084 1.730 1.198 2.791 0.564 0.631 0.536 0.919 0.846 1.294 2.462 0.570 0.892 0.675 2.588 0.830 1.108 2.074 1.087\n"
     ]
    }
   ],
   "execution_count": 27
  },
  {
   "metadata": {},
   "cell_type": "markdown",
   "source": "#### Female",
   "id": "7245d3a605d729bb"
  },
  {
   "metadata": {
    "ExecuteTime": {
     "end_time": "2025-07-09T11:53:20.920275Z",
     "start_time": "2025-07-09T11:53:20.881168Z"
    }
   },
   "cell_type": "code",
   "source": [
    "female_model = Model(model_description)\n",
    "print(female_model.fit(female_df))"
   ],
   "id": "12487f728d5746f6",
   "outputs": [
    {
     "name": "stdout",
     "output_type": "stream",
     "text": [
      "Name of objective: MLW\n",
      "Optimization method: SLSQP\n",
      "Optimization successful.\n",
      "Optimization terminated successfully\n",
      "Objective value: 1.508\n",
      "Number of iterations: 46\n",
      "Params: 0.856 1.116 1.141 0.677 1.221 1.011 1.166 1.016 0.902 0.906 1.085 1.105 1.087 0.679 0.955 0.373 0.379 0.102 0.626 1.463 2.726 0.930 1.172 1.498 2.293 1.207 1.634 2.128 1.444 1.530 1.367 3.359 0.787 0.699 0.508 0.797 0.672 1.158 2.807 0.609 1.797 1.050 2.894 1.048 1.186 2.074 0.987\n"
     ]
    }
   ],
   "execution_count": 28
  },
  {
   "metadata": {},
   "cell_type": "markdown",
   "source": "### Direct Effects",
   "id": "fc98f2ba48f54b78"
  },
  {
   "metadata": {},
   "cell_type": "markdown",
   "source": "#### Male",
   "id": "8fc7bd7ee36f52d1"
  },
  {
   "metadata": {
    "ExecuteTime": {
     "end_time": "2025-07-09T11:53:20.985276Z",
     "start_time": "2025-07-09T11:53:20.955491Z"
    }
   },
   "cell_type": "code",
   "source": [
    "male_raw_item_estimates = (\n",
    "    male_model.inspect(std_est=True)\n",
    "         .query(\"op == '~' and not lval.str.startswith('P')\")\n",
    ")\n",
    "male_direct_effects_df = (\n",
    "    male_raw_item_estimates\n",
    "    .loc[:, ['lval','rval', 'Estimate','Std. Err', 'p-value', 'z-value']]\n",
    "    .rename(columns={\n",
    "        'lval': 'Outcome',\n",
    "        'rval': 'Predictor',\n",
    "        'Estimate': 'beta',\n",
    "        'Std. Err': 'SE',\n",
    "        'p-value': 'p-value',\n",
    "        'z-value': 't-value'\n",
    "    })\n",
    "    .sort_values(by='beta')\n",
    ")\n",
    "male_direct_effects_df['hypothesis_result'] = male_direct_effects_df.apply(\n",
    "    lambda row: 'Supported' if row['p-value'] < 0.05 else 'Not Supported',\n",
    "    axis=1\n",
    ")\n",
    "male_direct_effects_df\n"
   ],
   "id": "dbfe6ff8f657a5df",
   "outputs": [
    {
     "data": {
      "text/plain": [
       "  Outcome Predictor      beta        SE   p-value    t-value hypothesis_result\n",
       "1       S        QF  0.024302   0.13024  0.851981   0.186591     Not Supported\n",
       "2       S        QT  0.261745  0.074415  0.000436   3.517361         Supported\n",
       "3       L         S  0.610031  0.054598       0.0  11.173243         Supported\n",
       "0       S        QS  0.636660  0.080442       0.0   7.914545         Supported"
      ],
      "text/html": [
       "<div>\n",
       "<style scoped>\n",
       "    .dataframe tbody tr th:only-of-type {\n",
       "        vertical-align: middle;\n",
       "    }\n",
       "\n",
       "    .dataframe tbody tr th {\n",
       "        vertical-align: top;\n",
       "    }\n",
       "\n",
       "    .dataframe thead th {\n",
       "        text-align: right;\n",
       "    }\n",
       "</style>\n",
       "<table border=\"1\" class=\"dataframe\">\n",
       "  <thead>\n",
       "    <tr style=\"text-align: right;\">\n",
       "      <th></th>\n",
       "      <th>Outcome</th>\n",
       "      <th>Predictor</th>\n",
       "      <th>beta</th>\n",
       "      <th>SE</th>\n",
       "      <th>p-value</th>\n",
       "      <th>t-value</th>\n",
       "      <th>hypothesis_result</th>\n",
       "    </tr>\n",
       "  </thead>\n",
       "  <tbody>\n",
       "    <tr>\n",
       "      <th>1</th>\n",
       "      <td>S</td>\n",
       "      <td>QF</td>\n",
       "      <td>0.024302</td>\n",
       "      <td>0.13024</td>\n",
       "      <td>0.851981</td>\n",
       "      <td>0.186591</td>\n",
       "      <td>Not Supported</td>\n",
       "    </tr>\n",
       "    <tr>\n",
       "      <th>2</th>\n",
       "      <td>S</td>\n",
       "      <td>QT</td>\n",
       "      <td>0.261745</td>\n",
       "      <td>0.074415</td>\n",
       "      <td>0.000436</td>\n",
       "      <td>3.517361</td>\n",
       "      <td>Supported</td>\n",
       "    </tr>\n",
       "    <tr>\n",
       "      <th>3</th>\n",
       "      <td>L</td>\n",
       "      <td>S</td>\n",
       "      <td>0.610031</td>\n",
       "      <td>0.054598</td>\n",
       "      <td>0.0</td>\n",
       "      <td>11.173243</td>\n",
       "      <td>Supported</td>\n",
       "    </tr>\n",
       "    <tr>\n",
       "      <th>0</th>\n",
       "      <td>S</td>\n",
       "      <td>QS</td>\n",
       "      <td>0.636660</td>\n",
       "      <td>0.080442</td>\n",
       "      <td>0.0</td>\n",
       "      <td>7.914545</td>\n",
       "      <td>Supported</td>\n",
       "    </tr>\n",
       "  </tbody>\n",
       "</table>\n",
       "</div>"
      ]
     },
     "execution_count": 29,
     "metadata": {},
     "output_type": "execute_result"
    }
   ],
   "execution_count": 29
  },
  {
   "metadata": {},
   "cell_type": "markdown",
   "source": "#### Female",
   "id": "e8edef5b4143539f"
  },
  {
   "metadata": {
    "ExecuteTime": {
     "end_time": "2025-07-09T11:53:21.070539Z",
     "start_time": "2025-07-09T11:53:21.054395Z"
    }
   },
   "cell_type": "code",
   "source": [
    "female_raw_item_estimates = (\n",
    "    female_model.inspect(std_est=True)\n",
    "         .query(\"op == '~' and not lval.str.startswith('P')\")\n",
    ")\n",
    "female_direct_effects_df = (\n",
    "    female_raw_item_estimates\n",
    "    .loc[:, ['lval','rval', 'Estimate', 'Std. Err', 'p-value', 'z-value']]\n",
    "    .rename(columns={\n",
    "        'lval': 'Outcome',\n",
    "        'rval': 'Predictor',\n",
    "        'Estimate': 'beta',\n",
    "        'Std. Err': 'SE',\n",
    "        'p-value': 'p-value',\n",
    "        'z-value': 't-value'\n",
    "    })\n",
    "    .sort_values(by='beta')\n",
    ")\n",
    "female_direct_effects_df['hypothesis_result'] = female_direct_effects_df.apply(\n",
    "    lambda row: 'Supported' if row['p-value'] < 0.05 else 'Not Supported',\n",
    "    axis=1\n",
    ")\n",
    "female_direct_effects_df\n"
   ],
   "id": "b024d587bf8f1649",
   "outputs": [
    {
     "data": {
      "text/plain": [
       "  Outcome Predictor      beta        SE   p-value   t-value hypothesis_result\n",
       "2       S        QT  0.101959  0.070445  0.147797  1.447358     Not Supported\n",
       "0       S        QS  0.372888  0.056994       0.0  6.542589         Supported\n",
       "1       S        QF  0.379274  0.082745  0.000005  4.583658         Supported\n",
       "3       L         S  0.625585   0.06514       0.0  9.603669         Supported"
      ],
      "text/html": [
       "<div>\n",
       "<style scoped>\n",
       "    .dataframe tbody tr th:only-of-type {\n",
       "        vertical-align: middle;\n",
       "    }\n",
       "\n",
       "    .dataframe tbody tr th {\n",
       "        vertical-align: top;\n",
       "    }\n",
       "\n",
       "    .dataframe thead th {\n",
       "        text-align: right;\n",
       "    }\n",
       "</style>\n",
       "<table border=\"1\" class=\"dataframe\">\n",
       "  <thead>\n",
       "    <tr style=\"text-align: right;\">\n",
       "      <th></th>\n",
       "      <th>Outcome</th>\n",
       "      <th>Predictor</th>\n",
       "      <th>beta</th>\n",
       "      <th>SE</th>\n",
       "      <th>p-value</th>\n",
       "      <th>t-value</th>\n",
       "      <th>hypothesis_result</th>\n",
       "    </tr>\n",
       "  </thead>\n",
       "  <tbody>\n",
       "    <tr>\n",
       "      <th>2</th>\n",
       "      <td>S</td>\n",
       "      <td>QT</td>\n",
       "      <td>0.101959</td>\n",
       "      <td>0.070445</td>\n",
       "      <td>0.147797</td>\n",
       "      <td>1.447358</td>\n",
       "      <td>Not Supported</td>\n",
       "    </tr>\n",
       "    <tr>\n",
       "      <th>0</th>\n",
       "      <td>S</td>\n",
       "      <td>QS</td>\n",
       "      <td>0.372888</td>\n",
       "      <td>0.056994</td>\n",
       "      <td>0.0</td>\n",
       "      <td>6.542589</td>\n",
       "      <td>Supported</td>\n",
       "    </tr>\n",
       "    <tr>\n",
       "      <th>1</th>\n",
       "      <td>S</td>\n",
       "      <td>QF</td>\n",
       "      <td>0.379274</td>\n",
       "      <td>0.082745</td>\n",
       "      <td>0.000005</td>\n",
       "      <td>4.583658</td>\n",
       "      <td>Supported</td>\n",
       "    </tr>\n",
       "    <tr>\n",
       "      <th>3</th>\n",
       "      <td>L</td>\n",
       "      <td>S</td>\n",
       "      <td>0.625585</td>\n",
       "      <td>0.06514</td>\n",
       "      <td>0.0</td>\n",
       "      <td>9.603669</td>\n",
       "      <td>Supported</td>\n",
       "    </tr>\n",
       "  </tbody>\n",
       "</table>\n",
       "</div>"
      ]
     },
     "execution_count": 30,
     "metadata": {},
     "output_type": "execute_result"
    }
   ],
   "execution_count": 30
  },
  {
   "metadata": {},
   "cell_type": "markdown",
   "source": [
    "#### Wald statistic\n",
    "\n",
    "$Z = \\frac{\\beta_1 - \\beta_2}{\\sqrt{SE_1^2 + SE_2^2}}$\n",
    "Clogg, C. C., Petkova, E., & Haritou, A. (1995). Statistical methods for comparing regression coefficients between models. American Journal of Sociology, 100(5), 1261–1293. https://doi.org/10.1086/230638\n",
    "\n",
    "Please refer to [Wald test](https://en.wikipedia.org/wiki/Wald_test) and [Testing equality of coefficients from two different regressions](https://stats.stackexchange.com/questions/93540/testing-equality-of-coefficients-from-two-different-regressions?utm_source=chatgpt.com) for more information."
   ],
   "id": "8f23330797e4897e"
  },
  {
   "metadata": {
    "ExecuteTime": {
     "end_time": "2025-07-09T11:53:21.131496Z",
     "start_time": "2025-07-09T11:53:21.129219Z"
    }
   },
   "cell_type": "code",
   "source": [
    "from scipy.stats import norm\n",
    "\n",
    "def direct_wald_test(beta1, se1, beta2, se2):\n",
    "    z = (beta1 - beta2) / ((se1**2 + se2**2)**0.5)\n",
    "    p = 2 * (1 - norm.cdf(abs(z)))\n",
    "    return z, p"
   ],
   "id": "e8421868aebd6753",
   "outputs": [],
   "execution_count": 31
  },
  {
   "metadata": {
    "ExecuteTime": {
     "end_time": "2025-07-09T11:53:21.279243Z",
     "start_time": "2025-07-09T11:53:21.272193Z"
    }
   },
   "cell_type": "code",
   "source": [
    "female_df = female_direct_effects_df.copy()\n",
    "male_df = male_direct_effects_df.copy()\n",
    "\n",
    "female_df = female_df.rename(columns={\n",
    "    'beta': 'beta_f',\n",
    "    't-value': 't_f',\n",
    "    'p-value': 'p_f',\n",
    "    'SE': 'se_f'\n",
    "})\n",
    "\n",
    "male_df = male_df.rename(columns={\n",
    "    'beta': 'beta_m',\n",
    "    't-value': 't_m',\n",
    "    'p-value': 'p_m',\n",
    "    'SE': 'se_m'\n",
    "})"
   ],
   "id": "b40917d33513fd93",
   "outputs": [],
   "execution_count": 32
  },
  {
   "metadata": {
    "ExecuteTime": {
     "end_time": "2025-07-09T11:53:21.362105Z",
     "start_time": "2025-07-09T11:53:21.352593Z"
    }
   },
   "cell_type": "code",
   "source": [
    "merged_df = pd.merge(\n",
    "    female_df[['Outcome', 'Predictor', 'beta_f', 'se_f']],\n",
    "    male_df[['Outcome', 'Predictor', 'beta_m', 'se_m']],\n",
    "    on=['Outcome', 'Predictor']\n",
    ")"
   ],
   "id": "dee5136d598e44d3",
   "outputs": [],
   "execution_count": 33
  },
  {
   "metadata": {
    "ExecuteTime": {
     "end_time": "2025-07-09T11:53:21.416495Z",
     "start_time": "2025-07-09T11:53:21.412364Z"
    }
   },
   "cell_type": "code",
   "source": [
    "merged_df[['z_wald', 'p_wald']] = merged_df.apply(\n",
    "    lambda row: direct_wald_test(\n",
    "        row['beta_f'], row['se_f'], row['beta_m'], row['se_m']\n",
    "    ),\n",
    "    axis=1, result_type='expand'\n",
    ")"
   ],
   "id": "b6b5307e56c18396",
   "outputs": [],
   "execution_count": 34
  },
  {
   "metadata": {
    "ExecuteTime": {
     "end_time": "2025-07-09T11:53:21.472729Z",
     "start_time": "2025-07-09T11:53:21.461793Z"
    }
   },
   "cell_type": "code",
   "source": [
    "merged_df['difference_significant'] = merged_df['p_wald'].apply(lambda p: 'Yes' if p < 0.05 else 'No')\n",
    "merged_df"
   ],
   "id": "f317faff34729c6f",
   "outputs": [
    {
     "data": {
      "text/plain": [
       "  Outcome Predictor    beta_f      se_f    beta_m      se_m    z_wald  \\\n",
       "0       S        QT  0.101959  0.070445  0.261745  0.074415 -1.559346   \n",
       "1       S        QS  0.372888  0.056994  0.636660  0.080442 -2.675557   \n",
       "2       S        QF  0.379274  0.082745  0.024302   0.13024  2.300505   \n",
       "3       L         S  0.625585   0.06514  0.610031  0.054598  0.182989   \n",
       "\n",
       "     p_wald difference_significant  \n",
       "0  0.118915                     No  \n",
       "1  0.007461                    Yes  \n",
       "2  0.021420                    Yes  \n",
       "3  0.854807                     No  "
      ],
      "text/html": [
       "<div>\n",
       "<style scoped>\n",
       "    .dataframe tbody tr th:only-of-type {\n",
       "        vertical-align: middle;\n",
       "    }\n",
       "\n",
       "    .dataframe tbody tr th {\n",
       "        vertical-align: top;\n",
       "    }\n",
       "\n",
       "    .dataframe thead th {\n",
       "        text-align: right;\n",
       "    }\n",
       "</style>\n",
       "<table border=\"1\" class=\"dataframe\">\n",
       "  <thead>\n",
       "    <tr style=\"text-align: right;\">\n",
       "      <th></th>\n",
       "      <th>Outcome</th>\n",
       "      <th>Predictor</th>\n",
       "      <th>beta_f</th>\n",
       "      <th>se_f</th>\n",
       "      <th>beta_m</th>\n",
       "      <th>se_m</th>\n",
       "      <th>z_wald</th>\n",
       "      <th>p_wald</th>\n",
       "      <th>difference_significant</th>\n",
       "    </tr>\n",
       "  </thead>\n",
       "  <tbody>\n",
       "    <tr>\n",
       "      <th>0</th>\n",
       "      <td>S</td>\n",
       "      <td>QT</td>\n",
       "      <td>0.101959</td>\n",
       "      <td>0.070445</td>\n",
       "      <td>0.261745</td>\n",
       "      <td>0.074415</td>\n",
       "      <td>-1.559346</td>\n",
       "      <td>0.118915</td>\n",
       "      <td>No</td>\n",
       "    </tr>\n",
       "    <tr>\n",
       "      <th>1</th>\n",
       "      <td>S</td>\n",
       "      <td>QS</td>\n",
       "      <td>0.372888</td>\n",
       "      <td>0.056994</td>\n",
       "      <td>0.636660</td>\n",
       "      <td>0.080442</td>\n",
       "      <td>-2.675557</td>\n",
       "      <td>0.007461</td>\n",
       "      <td>Yes</td>\n",
       "    </tr>\n",
       "    <tr>\n",
       "      <th>2</th>\n",
       "      <td>S</td>\n",
       "      <td>QF</td>\n",
       "      <td>0.379274</td>\n",
       "      <td>0.082745</td>\n",
       "      <td>0.024302</td>\n",
       "      <td>0.13024</td>\n",
       "      <td>2.300505</td>\n",
       "      <td>0.021420</td>\n",
       "      <td>Yes</td>\n",
       "    </tr>\n",
       "    <tr>\n",
       "      <th>3</th>\n",
       "      <td>L</td>\n",
       "      <td>S</td>\n",
       "      <td>0.625585</td>\n",
       "      <td>0.06514</td>\n",
       "      <td>0.610031</td>\n",
       "      <td>0.054598</td>\n",
       "      <td>0.182989</td>\n",
       "      <td>0.854807</td>\n",
       "      <td>No</td>\n",
       "    </tr>\n",
       "  </tbody>\n",
       "</table>\n",
       "</div>"
      ]
     },
     "execution_count": 35,
     "metadata": {},
     "output_type": "execute_result"
    }
   ],
   "execution_count": 35
  },
  {
   "metadata": {},
   "cell_type": "markdown",
   "source": "### Indirect Effects",
   "id": "71cdc468ac154665"
  },
  {
   "metadata": {},
   "cell_type": "markdown",
   "source": "#### Male",
   "id": "9c7426330741a6ea"
  },
  {
   "metadata": {},
   "cell_type": "markdown",
   "source": "##### QA -> L, QF -> L, QT -> L through S",
   "id": "6fd7230f7c7444a1"
  },
  {
   "metadata": {
    "ExecuteTime": {
     "end_time": "2025-07-09T11:53:21.597480Z",
     "start_time": "2025-07-09T11:53:21.547933Z"
    }
   },
   "cell_type": "code",
   "source": [
    "male_standardised_paths = (\n",
    "    male_model.inspect(std_est=True, se_robust=True)\n",
    "         .query(\"op == '~'\")\n",
    "         .set_index(['lval', 'rval'])\n",
    ")"
   ],
   "id": "4f354832aa57c81c",
   "outputs": [],
   "execution_count": 36
  },
  {
   "metadata": {},
   "cell_type": "markdown",
   "source": "##### Mediator-to-outcome path  (S -> L)",
   "id": "5b3d76f3860157e9"
  },
  {
   "metadata": {
    "ExecuteTime": {
     "end_time": "2025-07-09T11:53:21.670718Z",
     "start_time": "2025-07-09T11:53:21.666559Z"
    }
   },
   "cell_type": "code",
   "source": [
    "male_b_path_coefficient = float(\n",
    "    male_standardised_paths.loc[('L', 'S'), 'Est. Std']\n",
    ")\n",
    "male_b_path_standard_error = float(\n",
    "    male_standardised_paths.loc[('L', 'S'), 'Std. Err']\n",
    ")"
   ],
   "id": "ae9edb91f7dadef",
   "outputs": [],
   "execution_count": 37
  },
  {
   "metadata": {},
   "cell_type": "markdown",
   "source": "##### Loop over each quality dimension (predictor-to-mediator paths)",
   "id": "9fd2c668d8e2be8d"
  },
  {
   "metadata": {
    "ExecuteTime": {
     "end_time": "2025-07-09T11:53:21.739963Z",
     "start_time": "2025-07-09T11:53:21.735283Z"
    }
   },
   "cell_type": "code",
   "source": [
    "import math\n",
    "male_results = []\n",
    "for predictor in ['QS', 'QF', 'QT']:\n",
    "    male_a_path_coefficient = float(\n",
    "        male_standardised_paths.loc[('S', predictor), 'Est. Std']\n",
    "    )\n",
    "    male_a_path_standard_error = float(\n",
    "        male_standardised_paths.loc[('S', predictor), 'Std. Err']\n",
    "    )\n",
    "\n",
    "    # Indirect effect = a * b\n",
    "    male_indirect_effect = male_a_path_coefficient * male_b_path_coefficient\n",
    "\n",
    "    # Sobel standard error: sqrt(b^2 * SE_a^2 + a^2 * SE_b^2)\n",
    "    male_indirect_se = math.sqrt(\n",
    "        (male_b_path_coefficient ** 2) * (male_a_path_standard_error ** 2) +\n",
    "        (male_a_path_coefficient ** 2) * (male_b_path_standard_error ** 2)\n",
    "    )\n",
    "\n",
    "    male_z_value = male_indirect_effect / male_indirect_se\n",
    "    # Two-tailed p-value from z\n",
    "    male_p_value = math.erfc(abs(male_z_value) / math.sqrt(2))\n",
    "\n",
    "    male_results.append({\n",
    "        'Path': f'{predictor} -> L (via S)',\n",
    "        'Indirect Effect': round(male_indirect_effect, 3),\n",
    "        'Standard Error':  round(male_indirect_se, 3),\n",
    "        'z-value':         round(male_z_value, 2),\n",
    "        'p-value':         round(male_p_value, 4)\n",
    "    })"
   ],
   "id": "df700ae8d203492e",
   "outputs": [],
   "execution_count": 38
  },
  {
   "metadata": {
    "ExecuteTime": {
     "end_time": "2025-07-09T11:53:21.801445Z",
     "start_time": "2025-07-09T11:53:21.783165Z"
    }
   },
   "cell_type": "code",
   "source": [
    "male_indirect_effects_df = pd.DataFrame(male_results)\n",
    "male_indirect_effects_df"
   ],
   "id": "f19c2530b4691973",
   "outputs": [
    {
     "data": {
      "text/plain": [
       "              Path  Indirect Effect  Standard Error  z-value  p-value\n",
       "0  QS -> L (via S)            0.453           0.076     5.94   0.0000\n",
       "1  QF -> L (via S)            0.010           0.111     0.09   0.9270\n",
       "2  QT -> L (via S)            0.167           0.058     2.85   0.0043"
      ],
      "text/html": [
       "<div>\n",
       "<style scoped>\n",
       "    .dataframe tbody tr th:only-of-type {\n",
       "        vertical-align: middle;\n",
       "    }\n",
       "\n",
       "    .dataframe tbody tr th {\n",
       "        vertical-align: top;\n",
       "    }\n",
       "\n",
       "    .dataframe thead th {\n",
       "        text-align: right;\n",
       "    }\n",
       "</style>\n",
       "<table border=\"1\" class=\"dataframe\">\n",
       "  <thead>\n",
       "    <tr style=\"text-align: right;\">\n",
       "      <th></th>\n",
       "      <th>Path</th>\n",
       "      <th>Indirect Effect</th>\n",
       "      <th>Standard Error</th>\n",
       "      <th>z-value</th>\n",
       "      <th>p-value</th>\n",
       "    </tr>\n",
       "  </thead>\n",
       "  <tbody>\n",
       "    <tr>\n",
       "      <th>0</th>\n",
       "      <td>QS -&gt; L (via S)</td>\n",
       "      <td>0.453</td>\n",
       "      <td>0.076</td>\n",
       "      <td>5.94</td>\n",
       "      <td>0.0000</td>\n",
       "    </tr>\n",
       "    <tr>\n",
       "      <th>1</th>\n",
       "      <td>QF -&gt; L (via S)</td>\n",
       "      <td>0.010</td>\n",
       "      <td>0.111</td>\n",
       "      <td>0.09</td>\n",
       "      <td>0.9270</td>\n",
       "    </tr>\n",
       "    <tr>\n",
       "      <th>2</th>\n",
       "      <td>QT -&gt; L (via S)</td>\n",
       "      <td>0.167</td>\n",
       "      <td>0.058</td>\n",
       "      <td>2.85</td>\n",
       "      <td>0.0043</td>\n",
       "    </tr>\n",
       "  </tbody>\n",
       "</table>\n",
       "</div>"
      ]
     },
     "execution_count": 39,
     "metadata": {},
     "output_type": "execute_result"
    }
   ],
   "execution_count": 39
  },
  {
   "metadata": {},
   "cell_type": "markdown",
   "source": "#### Female",
   "id": "350baf95420664af"
  },
  {
   "metadata": {},
   "cell_type": "markdown",
   "source": "##### QA -> L, QF -> L, QT -> L through S",
   "id": "331c84cee722b48f"
  },
  {
   "metadata": {
    "ExecuteTime": {
     "end_time": "2025-07-09T11:53:21.912153Z",
     "start_time": "2025-07-09T11:53:21.870068Z"
    }
   },
   "cell_type": "code",
   "source": [
    "female_standardised_paths = (\n",
    "    female_model.inspect(std_est=True, se_robust=True)\n",
    "         .query(\"op == '~'\")\n",
    "         .set_index(['lval', 'rval'])\n",
    ")"
   ],
   "id": "1dbf3974dcafc352",
   "outputs": [],
   "execution_count": 40
  },
  {
   "metadata": {},
   "cell_type": "markdown",
   "source": "##### Mediator-to-outcome path  (S -> L)",
   "id": "e71e7e63af17a654"
  },
  {
   "metadata": {
    "ExecuteTime": {
     "end_time": "2025-07-09T11:53:22.067081Z",
     "start_time": "2025-07-09T11:53:22.063164Z"
    }
   },
   "cell_type": "code",
   "source": [
    "female_b_path_coefficient = float(\n",
    "    female_standardised_paths.loc[('L', 'S'), 'Est. Std']\n",
    ")\n",
    "female_b_path_standard_error = float(\n",
    "    female_standardised_paths.loc[('L', 'S'), 'Std. Err']\n",
    ")"
   ],
   "id": "31d6270da24327af",
   "outputs": [],
   "execution_count": 41
  },
  {
   "metadata": {},
   "cell_type": "markdown",
   "source": "##### Loop over each quality dimension (predictor-to-mediator paths)",
   "id": "a7308ad772fcc6d1"
  },
  {
   "metadata": {
    "ExecuteTime": {
     "end_time": "2025-07-09T11:53:22.123683Z",
     "start_time": "2025-07-09T11:53:22.119739Z"
    }
   },
   "cell_type": "code",
   "source": [
    "import math\n",
    "female_results = []\n",
    "for predictor in ['QS', 'QF', 'QT']:\n",
    "    female_a_path_coefficient = float(\n",
    "        female_standardised_paths.loc[('S', predictor), 'Est. Std']\n",
    "    )\n",
    "    female_a_path_standard_error = float(\n",
    "        female_standardised_paths.loc[('S', predictor), 'Std. Err']\n",
    "    )\n",
    "\n",
    "    # Indirect effect = a * b\n",
    "    female_indirect_effect = female_a_path_coefficient * female_b_path_coefficient\n",
    "\n",
    "    # Sobel standard error: sqrt(b^2 * SE_a^2 + a^2 * SE_b^2)\n",
    "    female_indirect_se = math.sqrt(\n",
    "        (female_b_path_coefficient ** 2) * (female_a_path_standard_error ** 2) +\n",
    "        (female_a_path_coefficient ** 2) * (female_b_path_standard_error ** 2)\n",
    "    )\n",
    "\n",
    "    female_z_value = female_indirect_effect / female_indirect_se\n",
    "    # Two-tailed p-value from z\n",
    "    female_p_value = math.erfc(abs(female_z_value) / math.sqrt(2))\n",
    "\n",
    "    female_results.append({\n",
    "        'Path': f'{predictor} -> L (via S)',\n",
    "        'Indirect Effect': round(female_indirect_effect, 3),\n",
    "        'Standard Error':  round(female_indirect_se, 3),\n",
    "        'z-value':         round(female_z_value, 2),\n",
    "        'p-value':         round(female_p_value, 4)\n",
    "    })"
   ],
   "id": "900c0e2d632127e0",
   "outputs": [],
   "execution_count": 42
  },
  {
   "metadata": {
    "ExecuteTime": {
     "end_time": "2025-07-09T11:53:22.165224Z",
     "start_time": "2025-07-09T11:53:22.157778Z"
    }
   },
   "cell_type": "code",
   "source": [
    "female_indirect_effects_df = pd.DataFrame(female_results)\n",
    "female_indirect_effects_df"
   ],
   "id": "9a4a818da2e69496",
   "outputs": [
    {
     "data": {
      "text/plain": [
       "              Path  Indirect Effect  Standard Error  z-value  p-value\n",
       "0  QS -> L (via S)            0.262           0.054     4.83   0.0000\n",
       "1  QF -> L (via S)            0.210           0.067     3.11   0.0019\n",
       "2  QT -> L (via S)            0.061           0.045     1.36   0.1751"
      ],
      "text/html": [
       "<div>\n",
       "<style scoped>\n",
       "    .dataframe tbody tr th:only-of-type {\n",
       "        vertical-align: middle;\n",
       "    }\n",
       "\n",
       "    .dataframe tbody tr th {\n",
       "        vertical-align: top;\n",
       "    }\n",
       "\n",
       "    .dataframe thead th {\n",
       "        text-align: right;\n",
       "    }\n",
       "</style>\n",
       "<table border=\"1\" class=\"dataframe\">\n",
       "  <thead>\n",
       "    <tr style=\"text-align: right;\">\n",
       "      <th></th>\n",
       "      <th>Path</th>\n",
       "      <th>Indirect Effect</th>\n",
       "      <th>Standard Error</th>\n",
       "      <th>z-value</th>\n",
       "      <th>p-value</th>\n",
       "    </tr>\n",
       "  </thead>\n",
       "  <tbody>\n",
       "    <tr>\n",
       "      <th>0</th>\n",
       "      <td>QS -&gt; L (via S)</td>\n",
       "      <td>0.262</td>\n",
       "      <td>0.054</td>\n",
       "      <td>4.83</td>\n",
       "      <td>0.0000</td>\n",
       "    </tr>\n",
       "    <tr>\n",
       "      <th>1</th>\n",
       "      <td>QF -&gt; L (via S)</td>\n",
       "      <td>0.210</td>\n",
       "      <td>0.067</td>\n",
       "      <td>3.11</td>\n",
       "      <td>0.0019</td>\n",
       "    </tr>\n",
       "    <tr>\n",
       "      <th>2</th>\n",
       "      <td>QT -&gt; L (via S)</td>\n",
       "      <td>0.061</td>\n",
       "      <td>0.045</td>\n",
       "      <td>1.36</td>\n",
       "      <td>0.1751</td>\n",
       "    </tr>\n",
       "  </tbody>\n",
       "</table>\n",
       "</div>"
      ]
     },
     "execution_count": 43,
     "metadata": {},
     "output_type": "execute_result"
    }
   ],
   "execution_count": 43
  }
 ],
 "metadata": {
  "kernelspec": {
   "display_name": "Python 3 (ipykernel)",
   "language": "python",
   "name": "python3"
  },
  "language_info": {
   "codemirror_mode": {
    "name": "ipython",
    "version": 3
   },
   "file_extension": ".py",
   "mimetype": "text/x-python",
   "name": "python",
   "nbconvert_exporter": "python",
   "pygments_lexer": "ipython3",
   "version": "3.10.11"
  }
 },
 "nbformat": 4,
 "nbformat_minor": 5
}
