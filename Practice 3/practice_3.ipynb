{
 "cells": [
  {
   "cell_type": "markdown",
   "id": "2686fb3a4fefcb90",
   "metadata": {},
   "source": [
    "# Practice 3: Multi-Group Analysis\n",
    "\n",
    "## Objetives:\n",
    "1. Multi-Group analysis by gender and contract type\n",
    "2. Report moderation hypotheses tests, direct and indirect effects\n",
    "    1. Gender Hypotheses:\n",
    "        1. H5a: The influence of technical quality (QT) on satisfaction is more positive among women than among men\n",
    "        2. H5b: The influence of financial quality (QF) on satisfaction is more positive among women than among men.\n",
    "        3. H5c: The influence of service quality (QS) on satisfaction is more positive among women than among men.\n",
    "\t    4. H5d: The influence of satisfaction on loyalty is more positive among women than among men.\n",
    "    2. Contract Type Hypotheses:\n",
    "        1. H6a: The influence of technical quality (QT) on satisfaction is more positive among consumers who use postpaid plans than those who use prepaid plans.\n",
    "\t    2. H6b: The influence of financial quality (QF) on satisfaction is more positive among consumers who use postpaid plans than those who use prepaid plans.\n",
    "\t    3. H6c: The influence of service quality (QS) on satisfaction is more positive among consumers who use postpaid plans than those who use prepaid plans.\n",
    "\t    4. H6d: The influence of satisfaction on loyalty is more positive among consumers who use postpaid plans than those who use prepaid plans.\n"
   ]
  },
  {
   "metadata": {},
   "cell_type": "markdown",
   "source": "## Data Preparation",
   "id": "ff629a8b552f2630"
  },
  {
   "metadata": {
    "ExecuteTime": {
     "end_time": "2025-07-10T18:31:03.638076Z",
     "start_time": "2025-07-10T18:31:03.241519Z"
    }
   },
   "cell_type": "code",
   "source": [
    "import pandas as pd\n",
    "import pyreadstat\n",
    "\n",
    "raw_data_df, meta = pyreadstat.read_sav(\"../data/EXERCICIO_2025.sav\")\n",
    "raw_data_df.head()"
   ],
   "id": "f76fd2c9f0a24fd4",
   "outputs": [
    {
     "data": {
      "text/plain": [
       "   CASO   f1   f2   f3   f4   f5    f6    f7  P1.1_QA  P1.2_QA  ...   P7  P14  \\\n",
       "0   NaN  1.0  3.0  6.0  1.0  1.0  50.0  18.0      8.0      6.0  ...  3.0  2.0   \n",
       "1   NaN  1.0  1.0  5.0  1.0  1.0  36.0  35.0      8.0      7.0  ...  1.0  1.0   \n",
       "2   NaN  1.0  3.0  5.0  1.0  1.0  72.0  73.0     10.0     10.0  ...  2.0  2.0   \n",
       "3   NaN  1.0  3.0  9.0  1.0  1.0  24.0  27.0      6.0      6.0  ...  1.0  2.0   \n",
       "4   NaN  1.0  4.0  9.0  1.0  1.0  72.0  24.0      2.0      5.0  ...  2.0  1.0   \n",
       "\n",
       "     ltv2  tempo  clsocial  SATIS  LEAL  ATEND        FIN   TEC  \n",
       "0  1373.0   61.0       5.0   6.50   6.2    7.2   9.333333  8.50  \n",
       "1  1002.0   47.0       5.0   5.50   4.4    6.8   6.666667  8.00  \n",
       "2  2097.0   83.0       5.0   7.50   8.0    9.6  10.000000  8.00  \n",
       "3   802.0   35.0       4.0   6.25   6.2    6.4   7.666667  6.50  \n",
       "4  4835.0   78.0       4.0   5.25   4.4    4.4   5.666667  5.75  \n",
       "\n",
       "[5 rows x 45 columns]"
      ],
      "text/html": [
       "<div>\n",
       "<style scoped>\n",
       "    .dataframe tbody tr th:only-of-type {\n",
       "        vertical-align: middle;\n",
       "    }\n",
       "\n",
       "    .dataframe tbody tr th {\n",
       "        vertical-align: top;\n",
       "    }\n",
       "\n",
       "    .dataframe thead th {\n",
       "        text-align: right;\n",
       "    }\n",
       "</style>\n",
       "<table border=\"1\" class=\"dataframe\">\n",
       "  <thead>\n",
       "    <tr style=\"text-align: right;\">\n",
       "      <th></th>\n",
       "      <th>CASO</th>\n",
       "      <th>f1</th>\n",
       "      <th>f2</th>\n",
       "      <th>f3</th>\n",
       "      <th>f4</th>\n",
       "      <th>f5</th>\n",
       "      <th>f6</th>\n",
       "      <th>f7</th>\n",
       "      <th>P1.1_QA</th>\n",
       "      <th>P1.2_QA</th>\n",
       "      <th>...</th>\n",
       "      <th>P7</th>\n",
       "      <th>P14</th>\n",
       "      <th>ltv2</th>\n",
       "      <th>tempo</th>\n",
       "      <th>clsocial</th>\n",
       "      <th>SATIS</th>\n",
       "      <th>LEAL</th>\n",
       "      <th>ATEND</th>\n",
       "      <th>FIN</th>\n",
       "      <th>TEC</th>\n",
       "    </tr>\n",
       "  </thead>\n",
       "  <tbody>\n",
       "    <tr>\n",
       "      <th>0</th>\n",
       "      <td>NaN</td>\n",
       "      <td>1.0</td>\n",
       "      <td>3.0</td>\n",
       "      <td>6.0</td>\n",
       "      <td>1.0</td>\n",
       "      <td>1.0</td>\n",
       "      <td>50.0</td>\n",
       "      <td>18.0</td>\n",
       "      <td>8.0</td>\n",
       "      <td>6.0</td>\n",
       "      <td>...</td>\n",
       "      <td>3.0</td>\n",
       "      <td>2.0</td>\n",
       "      <td>1373.0</td>\n",
       "      <td>61.0</td>\n",
       "      <td>5.0</td>\n",
       "      <td>6.50</td>\n",
       "      <td>6.2</td>\n",
       "      <td>7.2</td>\n",
       "      <td>9.333333</td>\n",
       "      <td>8.50</td>\n",
       "    </tr>\n",
       "    <tr>\n",
       "      <th>1</th>\n",
       "      <td>NaN</td>\n",
       "      <td>1.0</td>\n",
       "      <td>1.0</td>\n",
       "      <td>5.0</td>\n",
       "      <td>1.0</td>\n",
       "      <td>1.0</td>\n",
       "      <td>36.0</td>\n",
       "      <td>35.0</td>\n",
       "      <td>8.0</td>\n",
       "      <td>7.0</td>\n",
       "      <td>...</td>\n",
       "      <td>1.0</td>\n",
       "      <td>1.0</td>\n",
       "      <td>1002.0</td>\n",
       "      <td>47.0</td>\n",
       "      <td>5.0</td>\n",
       "      <td>5.50</td>\n",
       "      <td>4.4</td>\n",
       "      <td>6.8</td>\n",
       "      <td>6.666667</td>\n",
       "      <td>8.00</td>\n",
       "    </tr>\n",
       "    <tr>\n",
       "      <th>2</th>\n",
       "      <td>NaN</td>\n",
       "      <td>1.0</td>\n",
       "      <td>3.0</td>\n",
       "      <td>5.0</td>\n",
       "      <td>1.0</td>\n",
       "      <td>1.0</td>\n",
       "      <td>72.0</td>\n",
       "      <td>73.0</td>\n",
       "      <td>10.0</td>\n",
       "      <td>10.0</td>\n",
       "      <td>...</td>\n",
       "      <td>2.0</td>\n",
       "      <td>2.0</td>\n",
       "      <td>2097.0</td>\n",
       "      <td>83.0</td>\n",
       "      <td>5.0</td>\n",
       "      <td>7.50</td>\n",
       "      <td>8.0</td>\n",
       "      <td>9.6</td>\n",
       "      <td>10.000000</td>\n",
       "      <td>8.00</td>\n",
       "    </tr>\n",
       "    <tr>\n",
       "      <th>3</th>\n",
       "      <td>NaN</td>\n",
       "      <td>1.0</td>\n",
       "      <td>3.0</td>\n",
       "      <td>9.0</td>\n",
       "      <td>1.0</td>\n",
       "      <td>1.0</td>\n",
       "      <td>24.0</td>\n",
       "      <td>27.0</td>\n",
       "      <td>6.0</td>\n",
       "      <td>6.0</td>\n",
       "      <td>...</td>\n",
       "      <td>1.0</td>\n",
       "      <td>2.0</td>\n",
       "      <td>802.0</td>\n",
       "      <td>35.0</td>\n",
       "      <td>4.0</td>\n",
       "      <td>6.25</td>\n",
       "      <td>6.2</td>\n",
       "      <td>6.4</td>\n",
       "      <td>7.666667</td>\n",
       "      <td>6.50</td>\n",
       "    </tr>\n",
       "    <tr>\n",
       "      <th>4</th>\n",
       "      <td>NaN</td>\n",
       "      <td>1.0</td>\n",
       "      <td>4.0</td>\n",
       "      <td>9.0</td>\n",
       "      <td>1.0</td>\n",
       "      <td>1.0</td>\n",
       "      <td>72.0</td>\n",
       "      <td>24.0</td>\n",
       "      <td>2.0</td>\n",
       "      <td>5.0</td>\n",
       "      <td>...</td>\n",
       "      <td>2.0</td>\n",
       "      <td>1.0</td>\n",
       "      <td>4835.0</td>\n",
       "      <td>78.0</td>\n",
       "      <td>4.0</td>\n",
       "      <td>5.25</td>\n",
       "      <td>4.4</td>\n",
       "      <td>4.4</td>\n",
       "      <td>5.666667</td>\n",
       "      <td>5.75</td>\n",
       "    </tr>\n",
       "  </tbody>\n",
       "</table>\n",
       "<p>5 rows × 45 columns</p>\n",
       "</div>"
      ]
     },
     "execution_count": 1,
     "metadata": {},
     "output_type": "execute_result"
    }
   ],
   "execution_count": 1
  },
  {
   "metadata": {
    "ExecuteTime": {
     "end_time": "2025-07-10T18:31:03.847697Z",
     "start_time": "2025-07-10T18:31:03.842142Z"
    }
   },
   "cell_type": "code",
   "source": [
    "columns_to_filter = [\n",
    "    'P1.1_QA', 'P1.2_QA', 'P1.3_QA', 'P1.4_QA', 'P1.5_QA', 'P1.15_QA', 'P1.16_QA', 'P1.17_QA',\n",
    "    'P1.6_QC', 'P1.7_QC', 'P1.8_QC', 'P1.9_QC',\n",
    "    'P1.10_QT', 'P1.11_QT', 'P1.12_QT', 'P1.13_QT', 'P1.14_QT',\n",
    "    'P3.1_S', 'P3.2_S', 'P3.3_S', 'P3.4_S',\n",
    "    'P6.1_L', 'P6.2_L', 'P6.3_L', 'P6.4_L', 'P6.5_L', 'P6.6_L',\n",
    "    'P14', 'f4'\n",
    "]\n",
    "\n",
    "clean_df = raw_data_df[columns_to_filter].copy()\n",
    "\n",
    "clean_df.rename(columns=lambda c: c.replace('.', '_'), inplace=True)\n",
    "clean_df.rename(columns=lambda c: c.replace('C', 'F'), inplace=True)\n",
    "clean_df.rename(columns=lambda c: c.replace('A', 'S'), inplace=True)\n",
    "print(raw_data_df.shape)\n",
    "print(clean_df.shape)\n",
    "print(clean_df.isnull().sum())"
   ],
   "id": "1bb9e3c9041730a5",
   "outputs": [
    {
     "name": "stdout",
     "output_type": "stream",
     "text": [
      "(493, 45)\n",
      "(493, 29)\n",
      "P1_1_QS     0\n",
      "P1_2_QS     0\n",
      "P1_3_QS     0\n",
      "P1_4_QS     0\n",
      "P1_5_QS     0\n",
      "P1_15_QS    0\n",
      "P1_16_QS    0\n",
      "P1_17_QS    0\n",
      "P1_6_QF     0\n",
      "P1_7_QF     0\n",
      "P1_8_QF     0\n",
      "P1_9_QF     0\n",
      "P1_10_QT    0\n",
      "P1_11_QT    0\n",
      "P1_12_QT    0\n",
      "P1_13_QT    0\n",
      "P1_14_QT    0\n",
      "P3_1_S      0\n",
      "P3_2_S      0\n",
      "P3_3_S      0\n",
      "P3_4_S      0\n",
      "P6_1_L      0\n",
      "P6_2_L      0\n",
      "P6_3_L      0\n",
      "P6_4_L      0\n",
      "P6_5_L      0\n",
      "P6_6_L      0\n",
      "P14         0\n",
      "f4          0\n",
      "dtype: int64\n"
     ]
    }
   ],
   "execution_count": 2
  },
  {
   "metadata": {
    "ExecuteTime": {
     "end_time": "2025-07-10T18:31:03.893631Z",
     "start_time": "2025-07-10T18:31:03.890135Z"
    }
   },
   "cell_type": "code",
   "source": [
    "male_df = clean_df[clean_df['P14'] == 2].copy()\n",
    "female_df = clean_df[clean_df['P14'] == 1].copy()\n",
    "print(male_df.shape)\n",
    "print(female_df.shape)"
   ],
   "id": "9b8749b7dc038829",
   "outputs": [
    {
     "name": "stdout",
     "output_type": "stream",
     "text": [
      "(232, 29)\n",
      "(261, 29)\n"
     ]
    }
   ],
   "execution_count": 3
  },
  {
   "metadata": {
    "ExecuteTime": {
     "end_time": "2025-07-10T18:31:03.945608Z",
     "start_time": "2025-07-10T18:31:03.942131Z"
    }
   },
   "cell_type": "code",
   "source": [
    "prepaid_df = clean_df[clean_df['f4'] == 1].copy()\n",
    "postpaid_df = clean_df[clean_df['f4'] == 2].copy()\n",
    "print(prepaid_df.shape)\n",
    "print(postpaid_df.shape)"
   ],
   "id": "fa01f79a456d3a89",
   "outputs": [
    {
     "name": "stdout",
     "output_type": "stream",
     "text": [
      "(288, 29)\n",
      "(205, 29)\n"
     ]
    }
   ],
   "execution_count": 4
  },
  {
   "metadata": {},
   "cell_type": "markdown",
   "source": "## Gender Models",
   "id": "8fe1806356a370cb"
  },
  {
   "metadata": {},
   "cell_type": "markdown",
   "source": "### Modeling",
   "id": "6200a811b77c579"
  },
  {
   "metadata": {
    "ExecuteTime": {
     "end_time": "2025-07-10T18:31:04.001313Z",
     "start_time": "2025-07-10T18:31:03.997998Z"
    }
   },
   "cell_type": "code",
   "source": [
    "model_description = \"\"\"\n",
    "QS =~ P1_1_QS + P1_2_QS + P1_4_QS + P1_5_QS + P1_16_QS\n",
    "QF =~ P1_6_QF + P1_7_QF + P1_8_QF\n",
    "QT =~ P1_10_QT + P1_11_QT + P1_12_QT + P1_13_QT\n",
    "S =~ P3_1_S + P3_2_S + P3_3_S + P3_4_S\n",
    "L =~ P6_1_L + P6_2_L + P6_3_L + P6_4_L\n",
    "\n",
    "S ~ QS + QF + QT\n",
    "L ~ S\n",
    "\"\"\""
   ],
   "id": "17ed44e012385cbc",
   "outputs": [],
   "execution_count": 5
  },
  {
   "metadata": {},
   "cell_type": "markdown",
   "source": "#### Male",
   "id": "2bd3187bd17c74a6"
  },
  {
   "metadata": {
    "ExecuteTime": {
     "end_time": "2025-07-10T18:31:05.283379Z",
     "start_time": "2025-07-10T18:31:04.036244Z"
    }
   },
   "cell_type": "code",
   "source": [
    "from semopy import Model\n",
    "male_model = Model(model_description)\n",
    "print(male_model.fit(male_df))"
   ],
   "id": "7b065465f9969a94",
   "outputs": [
    {
     "name": "stdout",
     "output_type": "stream",
     "text": [
      "Name of objective: MLW\n",
      "Optimization method: SLSQP\n",
      "Optimization successful.\n",
      "Optimization terminated successfully\n",
      "Objective value: 1.807\n",
      "Number of iterations: 50\n",
      "Params: 0.793 1.123 1.085 0.776 1.642 1.666 1.278 1.042 1.067 0.832 0.996 0.987 1.138 0.704 0.984 0.637 0.024 0.262 0.610 0.906 2.063 0.545 0.859 1.661 2.422 1.547 1.971 2.571 2.084 1.730 1.198 2.791 0.564 0.631 0.536 0.919 0.846 1.294 2.462 0.570 0.892 2.588 0.830 1.108 2.074 0.675 1.087\n"
     ]
    }
   ],
   "execution_count": 6
  },
  {
   "metadata": {},
   "cell_type": "markdown",
   "source": "#### Female",
   "id": "7245d3a605d729bb"
  },
  {
   "metadata": {
    "ExecuteTime": {
     "end_time": "2025-07-10T18:31:05.335749Z",
     "start_time": "2025-07-10T18:31:05.309449Z"
    }
   },
   "cell_type": "code",
   "source": [
    "female_model = Model(model_description)\n",
    "print(female_model.fit(female_df))"
   ],
   "id": "12487f728d5746f6",
   "outputs": [
    {
     "name": "stdout",
     "output_type": "stream",
     "text": [
      "Name of objective: MLW\n",
      "Optimization method: SLSQP\n",
      "Optimization successful.\n",
      "Optimization terminated successfully\n",
      "Objective value: 1.508\n",
      "Number of iterations: 46\n",
      "Params: 0.856 1.116 1.141 0.677 1.221 1.011 1.166 1.016 0.902 0.906 1.085 1.105 1.087 0.679 0.955 0.373 0.379 0.102 0.626 1.463 2.726 0.930 1.172 1.498 2.293 1.207 1.634 2.128 1.444 1.530 1.367 3.359 0.787 0.699 0.508 0.797 0.672 1.158 2.807 0.609 1.797 2.894 1.048 1.186 2.074 1.050 0.987\n"
     ]
    }
   ],
   "execution_count": 7
  },
  {
   "metadata": {},
   "cell_type": "markdown",
   "source": "### Direct Effects",
   "id": "fc98f2ba48f54b78"
  },
  {
   "metadata": {},
   "cell_type": "markdown",
   "source": "#### Male",
   "id": "8fc7bd7ee36f52d1"
  },
  {
   "metadata": {
    "ExecuteTime": {
     "end_time": "2025-07-10T18:31:05.388664Z",
     "start_time": "2025-07-10T18:31:05.374784Z"
    }
   },
   "cell_type": "code",
   "source": [
    "male_raw_item_estimates = (\n",
    "    male_model.inspect(std_est=True)\n",
    "         .query(\"op == '~' and not lval.str.startswith('P')\")\n",
    ")\n",
    "male_direct_effects_df = (\n",
    "    male_raw_item_estimates\n",
    "    .loc[:, ['lval','rval', 'Est. Std', 'Estimate','p-value', 'z-value', 'Std. Err']]\n",
    "    .rename(columns={\n",
    "        'lval': 'Outcome',\n",
    "        'rval': 'Predictor',\n",
    "        'Estimate': 'beta',\n",
    "        'Est. Std': 'beta_std',\n",
    "        'Std. Err': 'SE'\n",
    "    })\n",
    "    .sort_values(by='beta')\n",
    ")\n",
    "male_direct_effects_df['hypothesis_result'] = male_direct_effects_df.apply(\n",
    "    lambda row: 'Supported' if row['p-value'] < 0.05 else 'Not Supported',\n",
    "    axis=1\n",
    ")\n",
    "male_direct_effects_df\n"
   ],
   "id": "dbfe6ff8f657a5df",
   "outputs": [
    {
     "data": {
      "text/plain": [
       "  Outcome Predictor  beta_std      beta   p-value    z-value        SE  \\\n",
       "1       S        QF  0.014011  0.024302  0.851981   0.186591   0.13024   \n",
       "2       S        QT  0.230126  0.261745  0.000436   3.517361  0.074415   \n",
       "3       L         S  0.724064  0.610031       0.0  11.173243  0.054598   \n",
       "0       S        QS  0.625403  0.636660       0.0   7.914545  0.080442   \n",
       "\n",
       "  hypothesis_result  \n",
       "1     Not Supported  \n",
       "2         Supported  \n",
       "3         Supported  \n",
       "0         Supported  "
      ],
      "text/html": [
       "<div>\n",
       "<style scoped>\n",
       "    .dataframe tbody tr th:only-of-type {\n",
       "        vertical-align: middle;\n",
       "    }\n",
       "\n",
       "    .dataframe tbody tr th {\n",
       "        vertical-align: top;\n",
       "    }\n",
       "\n",
       "    .dataframe thead th {\n",
       "        text-align: right;\n",
       "    }\n",
       "</style>\n",
       "<table border=\"1\" class=\"dataframe\">\n",
       "  <thead>\n",
       "    <tr style=\"text-align: right;\">\n",
       "      <th></th>\n",
       "      <th>Outcome</th>\n",
       "      <th>Predictor</th>\n",
       "      <th>beta_std</th>\n",
       "      <th>beta</th>\n",
       "      <th>p-value</th>\n",
       "      <th>z-value</th>\n",
       "      <th>SE</th>\n",
       "      <th>hypothesis_result</th>\n",
       "    </tr>\n",
       "  </thead>\n",
       "  <tbody>\n",
       "    <tr>\n",
       "      <th>1</th>\n",
       "      <td>S</td>\n",
       "      <td>QF</td>\n",
       "      <td>0.014011</td>\n",
       "      <td>0.024302</td>\n",
       "      <td>0.851981</td>\n",
       "      <td>0.186591</td>\n",
       "      <td>0.13024</td>\n",
       "      <td>Not Supported</td>\n",
       "    </tr>\n",
       "    <tr>\n",
       "      <th>2</th>\n",
       "      <td>S</td>\n",
       "      <td>QT</td>\n",
       "      <td>0.230126</td>\n",
       "      <td>0.261745</td>\n",
       "      <td>0.000436</td>\n",
       "      <td>3.517361</td>\n",
       "      <td>0.074415</td>\n",
       "      <td>Supported</td>\n",
       "    </tr>\n",
       "    <tr>\n",
       "      <th>3</th>\n",
       "      <td>L</td>\n",
       "      <td>S</td>\n",
       "      <td>0.724064</td>\n",
       "      <td>0.610031</td>\n",
       "      <td>0.0</td>\n",
       "      <td>11.173243</td>\n",
       "      <td>0.054598</td>\n",
       "      <td>Supported</td>\n",
       "    </tr>\n",
       "    <tr>\n",
       "      <th>0</th>\n",
       "      <td>S</td>\n",
       "      <td>QS</td>\n",
       "      <td>0.625403</td>\n",
       "      <td>0.636660</td>\n",
       "      <td>0.0</td>\n",
       "      <td>7.914545</td>\n",
       "      <td>0.080442</td>\n",
       "      <td>Supported</td>\n",
       "    </tr>\n",
       "  </tbody>\n",
       "</table>\n",
       "</div>"
      ]
     },
     "execution_count": 8,
     "metadata": {},
     "output_type": "execute_result"
    }
   ],
   "execution_count": 8
  },
  {
   "metadata": {},
   "cell_type": "markdown",
   "source": "#### Female",
   "id": "e8edef5b4143539f"
  },
  {
   "metadata": {
    "ExecuteTime": {
     "end_time": "2025-07-10T18:31:05.496285Z",
     "start_time": "2025-07-10T18:31:05.482878Z"
    }
   },
   "cell_type": "code",
   "source": [
    "female_raw_item_estimates = (\n",
    "    female_model.inspect(std_est=True)\n",
    "         .query(\"op == '~' and not lval.str.startswith('P')\")\n",
    ")\n",
    "female_direct_effects_df = (\n",
    "    female_raw_item_estimates\n",
    "    .loc[:, ['lval','rval', 'Est. Std', 'Estimate','p-value', 'z-value', 'Std. Err']]\n",
    "    .rename(columns={\n",
    "        'lval': 'Outcome',\n",
    "        'rval': 'Predictor',\n",
    "        'Estimate': 'beta',\n",
    "        'Est. Std': 'beta_std',\n",
    "        'Std. Err': 'SE'\n",
    "    })\n",
    "    .sort_values(by='beta')\n",
    ")\n",
    "female_direct_effects_df['hypothesis_result'] = female_direct_effects_df.apply(\n",
    "    lambda row: 'Supported' if row['p-value'] < 0.05 else 'Not Supported',\n",
    "    axis=1\n",
    ")\n",
    "female_direct_effects_df\n"
   ],
   "id": "b024d587bf8f1649",
   "outputs": [
    {
     "data": {
      "text/plain": [
       "  Outcome Predictor  beta_std      beta   p-value   z-value        SE  \\\n",
       "2       S        QT  0.100431  0.101959  0.147797  1.447358  0.070445   \n",
       "0       S        QS  0.433928  0.372888       0.0  6.542589  0.056994   \n",
       "1       S        QF  0.347743  0.379274  0.000005  4.583658  0.082745   \n",
       "3       L         S  0.603152  0.625585       0.0  9.603669   0.06514   \n",
       "\n",
       "  hypothesis_result  \n",
       "2     Not Supported  \n",
       "0         Supported  \n",
       "1         Supported  \n",
       "3         Supported  "
      ],
      "text/html": [
       "<div>\n",
       "<style scoped>\n",
       "    .dataframe tbody tr th:only-of-type {\n",
       "        vertical-align: middle;\n",
       "    }\n",
       "\n",
       "    .dataframe tbody tr th {\n",
       "        vertical-align: top;\n",
       "    }\n",
       "\n",
       "    .dataframe thead th {\n",
       "        text-align: right;\n",
       "    }\n",
       "</style>\n",
       "<table border=\"1\" class=\"dataframe\">\n",
       "  <thead>\n",
       "    <tr style=\"text-align: right;\">\n",
       "      <th></th>\n",
       "      <th>Outcome</th>\n",
       "      <th>Predictor</th>\n",
       "      <th>beta_std</th>\n",
       "      <th>beta</th>\n",
       "      <th>p-value</th>\n",
       "      <th>z-value</th>\n",
       "      <th>SE</th>\n",
       "      <th>hypothesis_result</th>\n",
       "    </tr>\n",
       "  </thead>\n",
       "  <tbody>\n",
       "    <tr>\n",
       "      <th>2</th>\n",
       "      <td>S</td>\n",
       "      <td>QT</td>\n",
       "      <td>0.100431</td>\n",
       "      <td>0.101959</td>\n",
       "      <td>0.147797</td>\n",
       "      <td>1.447358</td>\n",
       "      <td>0.070445</td>\n",
       "      <td>Not Supported</td>\n",
       "    </tr>\n",
       "    <tr>\n",
       "      <th>0</th>\n",
       "      <td>S</td>\n",
       "      <td>QS</td>\n",
       "      <td>0.433928</td>\n",
       "      <td>0.372888</td>\n",
       "      <td>0.0</td>\n",
       "      <td>6.542589</td>\n",
       "      <td>0.056994</td>\n",
       "      <td>Supported</td>\n",
       "    </tr>\n",
       "    <tr>\n",
       "      <th>1</th>\n",
       "      <td>S</td>\n",
       "      <td>QF</td>\n",
       "      <td>0.347743</td>\n",
       "      <td>0.379274</td>\n",
       "      <td>0.000005</td>\n",
       "      <td>4.583658</td>\n",
       "      <td>0.082745</td>\n",
       "      <td>Supported</td>\n",
       "    </tr>\n",
       "    <tr>\n",
       "      <th>3</th>\n",
       "      <td>L</td>\n",
       "      <td>S</td>\n",
       "      <td>0.603152</td>\n",
       "      <td>0.625585</td>\n",
       "      <td>0.0</td>\n",
       "      <td>9.603669</td>\n",
       "      <td>0.06514</td>\n",
       "      <td>Supported</td>\n",
       "    </tr>\n",
       "  </tbody>\n",
       "</table>\n",
       "</div>"
      ]
     },
     "execution_count": 9,
     "metadata": {},
     "output_type": "execute_result"
    }
   ],
   "execution_count": 9
  },
  {
   "metadata": {},
   "cell_type": "markdown",
   "source": [
    "#### Wald's Test for Group Differences\n",
    "\n",
    "$Z = \\frac{\\beta_1 - \\beta_2}{\\sqrt{SE_1^2 + SE_2^2}}$\n",
    "\n",
    "Clogg, C. C., Petkova, E., & Haritou, A. (1995). Statistical methods for comparing regression coefficients between models. American Journal of Sociology, 100(5), 1261–1293. https://doi.org/10.1086/230638\n",
    "\n",
    "Please refer to [Wald test](https://en.wikipedia.org/wiki/Wald_test) and [Testing equality of coefficients from two different regressions](https://stats.stackexchange.com/questions/93540/testing-equality-of-coefficients-from-two-different-regressions?utm_source=chatgpt.com) for more information."
   ],
   "id": "8f23330797e4897e"
  },
  {
   "metadata": {
    "ExecuteTime": {
     "end_time": "2025-07-10T18:31:05.576133Z",
     "start_time": "2025-07-10T18:31:05.572499Z"
    }
   },
   "cell_type": "code",
   "source": [
    "from scipy.stats import norm\n",
    "\n",
    "def direct_wald_test(beta1, se1, beta2, se2):\n",
    "    z = (beta1 - beta2) / ((se1**2 + se2**2)**0.5)\n",
    "    p = 2 * (1 - norm.cdf(abs(z)))\n",
    "    return z, p"
   ],
   "id": "e8421868aebd6753",
   "outputs": [],
   "execution_count": 10
  },
  {
   "metadata": {
    "ExecuteTime": {
     "end_time": "2025-07-10T18:31:05.653776Z",
     "start_time": "2025-07-10T18:31:05.650684Z"
    }
   },
   "cell_type": "code",
   "source": [
    "female_df = female_direct_effects_df.copy()\n",
    "male_df = male_direct_effects_df.copy()\n",
    "\n",
    "female_df = female_df.rename(columns={\n",
    "    'beta': 'beta_female',\n",
    "    'beta_std': 'beta_std_female',\n",
    "    'p-value': 'p_female',\n",
    "    'SE': 'SE_female'\n",
    "})\n",
    "\n",
    "male_df = male_df.rename(columns={\n",
    "    'beta': 'beta_male',\n",
    "    'beta_std': 'beta_std_male',\n",
    "    'p-value': 'p_male',\n",
    "    'SE': 'SE_male'\n",
    "})"
   ],
   "id": "b40917d33513fd93",
   "outputs": [],
   "execution_count": 11
  },
  {
   "metadata": {
    "ExecuteTime": {
     "end_time": "2025-07-10T18:31:05.700391Z",
     "start_time": "2025-07-10T18:31:05.696699Z"
    }
   },
   "cell_type": "code",
   "source": [
    "gender_direct_effects_df = pd.merge(\n",
    "    female_df[[\n",
    "        'Outcome',\n",
    "        'Predictor',\n",
    "        'beta_female',\n",
    "        'beta_std_female',\n",
    "        'SE_female'\n",
    "    ]],\n",
    "    male_df[[\n",
    "        'Outcome',\n",
    "        'Predictor',\n",
    "        'beta_male',\n",
    "        'beta_std_male',\n",
    "        'SE_male'\n",
    "    ]],\n",
    "    on=['Outcome', 'Predictor']\n",
    ")"
   ],
   "id": "dee5136d598e44d3",
   "outputs": [],
   "execution_count": 12
  },
  {
   "metadata": {
    "ExecuteTime": {
     "end_time": "2025-07-10T18:31:05.737285Z",
     "start_time": "2025-07-10T18:31:05.733798Z"
    }
   },
   "cell_type": "code",
   "source": [
    "gender_direct_effects_df[['z_wald', 'p_wald']] = gender_direct_effects_df.apply(\n",
    "    lambda row: direct_wald_test(\n",
    "        row['beta_female'],\n",
    "        row['SE_female'],\n",
    "        row['beta_male'],\n",
    "        row['SE_male']\n",
    "    ),\n",
    "    axis=1, result_type='expand'\n",
    ")"
   ],
   "id": "b6b5307e56c18396",
   "outputs": [],
   "execution_count": 13
  },
  {
   "metadata": {
    "ExecuteTime": {
     "end_time": "2025-07-10T18:31:05.768198Z",
     "start_time": "2025-07-10T18:31:05.765213Z"
    }
   },
   "cell_type": "code",
   "source": [
    "gender_direct_effects_df['difference_significant'] = (\n",
    "    gender_direct_effects_df['p_wald']\n",
    "    .apply(lambda p: 'Yes' if p < 0.05 else 'No')\n",
    ")"
   ],
   "id": "cbcf3141070bdc09",
   "outputs": [],
   "execution_count": 14
  },
  {
   "metadata": {
    "ExecuteTime": {
     "end_time": "2025-07-10T18:31:05.809911Z",
     "start_time": "2025-07-10T18:31:05.802424Z"
    }
   },
   "cell_type": "code",
   "source": [
    "gender_direct_effects_df['SE_female'] = (\n",
    "    gender_direct_effects_df['SE_female'].astype(float)\n",
    ")\n",
    "gender_direct_effects_df['SE_male'] = gender_direct_effects_df['SE_male'].astype(float)\n",
    "gender_direct_effects_df = gender_direct_effects_df.round(3)\n",
    "gender_direct_effects_df"
   ],
   "id": "f317faff34729c6f",
   "outputs": [
    {
     "data": {
      "text/plain": [
       "  Outcome Predictor  beta_female  beta_std_female  SE_female  beta_male  \\\n",
       "0       S        QT        0.102            0.100      0.070      0.262   \n",
       "1       S        QS        0.373            0.434      0.057      0.637   \n",
       "2       S        QF        0.379            0.348      0.083      0.024   \n",
       "3       L         S        0.626            0.603      0.065      0.610   \n",
       "\n",
       "   beta_std_male  SE_male  z_wald  p_wald difference_significant  \n",
       "0          0.230    0.074  -1.559   0.119                     No  \n",
       "1          0.625    0.080  -2.676   0.007                    Yes  \n",
       "2          0.014    0.130   2.301   0.021                    Yes  \n",
       "3          0.724    0.055   0.183   0.855                     No  "
      ],
      "text/html": [
       "<div>\n",
       "<style scoped>\n",
       "    .dataframe tbody tr th:only-of-type {\n",
       "        vertical-align: middle;\n",
       "    }\n",
       "\n",
       "    .dataframe tbody tr th {\n",
       "        vertical-align: top;\n",
       "    }\n",
       "\n",
       "    .dataframe thead th {\n",
       "        text-align: right;\n",
       "    }\n",
       "</style>\n",
       "<table border=\"1\" class=\"dataframe\">\n",
       "  <thead>\n",
       "    <tr style=\"text-align: right;\">\n",
       "      <th></th>\n",
       "      <th>Outcome</th>\n",
       "      <th>Predictor</th>\n",
       "      <th>beta_female</th>\n",
       "      <th>beta_std_female</th>\n",
       "      <th>SE_female</th>\n",
       "      <th>beta_male</th>\n",
       "      <th>beta_std_male</th>\n",
       "      <th>SE_male</th>\n",
       "      <th>z_wald</th>\n",
       "      <th>p_wald</th>\n",
       "      <th>difference_significant</th>\n",
       "    </tr>\n",
       "  </thead>\n",
       "  <tbody>\n",
       "    <tr>\n",
       "      <th>0</th>\n",
       "      <td>S</td>\n",
       "      <td>QT</td>\n",
       "      <td>0.102</td>\n",
       "      <td>0.100</td>\n",
       "      <td>0.070</td>\n",
       "      <td>0.262</td>\n",
       "      <td>0.230</td>\n",
       "      <td>0.074</td>\n",
       "      <td>-1.559</td>\n",
       "      <td>0.119</td>\n",
       "      <td>No</td>\n",
       "    </tr>\n",
       "    <tr>\n",
       "      <th>1</th>\n",
       "      <td>S</td>\n",
       "      <td>QS</td>\n",
       "      <td>0.373</td>\n",
       "      <td>0.434</td>\n",
       "      <td>0.057</td>\n",
       "      <td>0.637</td>\n",
       "      <td>0.625</td>\n",
       "      <td>0.080</td>\n",
       "      <td>-2.676</td>\n",
       "      <td>0.007</td>\n",
       "      <td>Yes</td>\n",
       "    </tr>\n",
       "    <tr>\n",
       "      <th>2</th>\n",
       "      <td>S</td>\n",
       "      <td>QF</td>\n",
       "      <td>0.379</td>\n",
       "      <td>0.348</td>\n",
       "      <td>0.083</td>\n",
       "      <td>0.024</td>\n",
       "      <td>0.014</td>\n",
       "      <td>0.130</td>\n",
       "      <td>2.301</td>\n",
       "      <td>0.021</td>\n",
       "      <td>Yes</td>\n",
       "    </tr>\n",
       "    <tr>\n",
       "      <th>3</th>\n",
       "      <td>L</td>\n",
       "      <td>S</td>\n",
       "      <td>0.626</td>\n",
       "      <td>0.603</td>\n",
       "      <td>0.065</td>\n",
       "      <td>0.610</td>\n",
       "      <td>0.724</td>\n",
       "      <td>0.055</td>\n",
       "      <td>0.183</td>\n",
       "      <td>0.855</td>\n",
       "      <td>No</td>\n",
       "    </tr>\n",
       "  </tbody>\n",
       "</table>\n",
       "</div>"
      ]
     },
     "execution_count": 15,
     "metadata": {},
     "output_type": "execute_result"
    }
   ],
   "execution_count": 15
  },
  {
   "metadata": {},
   "cell_type": "markdown",
   "source": "### Indirect Effects",
   "id": "71cdc468ac154665"
  },
  {
   "metadata": {},
   "cell_type": "markdown",
   "source": "#### Male",
   "id": "9c7426330741a6ea"
  },
  {
   "metadata": {
    "ExecuteTime": {
     "end_time": "2025-07-10T18:31:05.903619Z",
     "start_time": "2025-07-10T18:31:05.869417Z"
    }
   },
   "cell_type": "code",
   "source": [
    "male_paths = (\n",
    "    male_model.inspect(std_est=True, se_robust=True)\n",
    "         .query(\"op == '~'\")\n",
    "         .set_index(['lval', 'rval'])\n",
    ")"
   ],
   "id": "4f354832aa57c81c",
   "outputs": [],
   "execution_count": 16
  },
  {
   "metadata": {},
   "cell_type": "markdown",
   "source": "##### Mediator-to-outcome path  (M -> Y)",
   "id": "5b3d76f3860157e9"
  },
  {
   "metadata": {
    "ExecuteTime": {
     "end_time": "2025-07-10T18:31:05.950876Z",
     "start_time": "2025-07-10T18:31:05.948148Z"
    }
   },
   "cell_type": "code",
   "source": [
    "male_b_path_coefficient = float(\n",
    "    male_paths.loc[('L', 'S'), 'Estimate']\n",
    ")\n",
    "male_b_path_standardized_coefficient = float(\n",
    "    male_paths.loc[('L', 'S'), 'Est. Std']\n",
    ")\n",
    "male_b_path_standard_error = float(\n",
    "    male_paths.loc[('L', 'S'), 'Std. Err']\n",
    ")"
   ],
   "id": "ae9edb91f7dadef",
   "outputs": [],
   "execution_count": 17
  },
  {
   "metadata": {},
   "cell_type": "markdown",
   "source": [
    "##### Predictor-to-mediator paths (X -> M)\n",
    "\n",
    "Sobel's z test for mediation is calculated as:\n",
    "\n",
    "$Z = \\frac{a \\cdot b}{SE_{ab}}\n",
    "= \\frac{a \\cdot b}{\\sqrt{b^2 \\cdot SE_a^2 + a^2 \\cdot SE_b^2}}$\n",
    "\n",
    "Where:\n",
    "- a = path coefficient from X -> M\n",
    "- b = path coefficient from M -> Y\n",
    "- $SE_a$ = standard error of a\n",
    "- $SE_b$ = standard error of b\n",
    "\n",
    "Abu-Bader, S., & Jones, T. V. (2021). Statistical mediation analysis using the Sobel test and Hayes SPSS Process Macro. International Journal of Quantitative and Qualitative Research Methods, 9(1), 42–61."
   ],
   "id": "9fd2c668d8e2be8d"
  },
  {
   "metadata": {
    "ExecuteTime": {
     "end_time": "2025-07-10T18:31:06.001648Z",
     "start_time": "2025-07-10T18:31:05.997755Z"
    }
   },
   "cell_type": "code",
   "source": [
    "import math\n",
    "male_results = []\n",
    "for predictor in ['QS', 'QF', 'QT']:\n",
    "    male_a_path_coefficient = float(\n",
    "        male_paths.loc[('S', predictor), 'Estimate']\n",
    "    )\n",
    "    male_a_standardized_path_coefficient = float(\n",
    "        male_paths.loc[('S', predictor), 'Est. Std']\n",
    "    )\n",
    "    male_a_path_standard_error = float(\n",
    "        male_paths.loc[('S', predictor), 'Std. Err']\n",
    "    )\n",
    "\n",
    "    # Indirect effect = a * b\n",
    "    male_indirect_effect = (\n",
    "        male_a_path_coefficient * male_b_path_coefficient\n",
    "    )\n",
    "    male_standardized_indirect_effect = (\n",
    "        male_a_standardized_path_coefficient * male_b_path_standardized_coefficient\n",
    "    )\n",
    "\n",
    "    # Sobel standard error: sqrt(b^2 * SE_a^2 + a^2 * SE_b^2)\n",
    "    male_indirect_se = math.sqrt(\n",
    "        (male_b_path_coefficient ** 2) * (male_a_path_standard_error ** 2) +\n",
    "        (male_a_path_coefficient ** 2) * (male_b_path_standard_error ** 2)\n",
    "    )\n",
    "    male_standardized_indirect_effect = (\n",
    "        male_a_standardized_path_coefficient * male_b_path_standardized_coefficient\n",
    "    )\n",
    "\n",
    "    male_z_value = male_indirect_effect / male_indirect_se\n",
    "    male_p_value = 2 * (1 - norm.cdf(abs(male_z_value)))\n",
    "\n",
    "    male_results.append({\n",
    "        'Path': f'{predictor} -> L (via S)',\n",
    "        'Indirect Effect': round(male_indirect_effect, 3),\n",
    "        'Std. Indirect Effect': round(male_standardized_indirect_effect, 3),\n",
    "        'Standard Error':  round(male_indirect_se, 3),\n",
    "        'z-value': round(male_z_value, 2),\n",
    "        'p-value': round(male_p_value, 4)\n",
    "    })"
   ],
   "id": "df700ae8d203492e",
   "outputs": [],
   "execution_count": 18
  },
  {
   "metadata": {
    "ExecuteTime": {
     "end_time": "2025-07-10T18:31:06.049638Z",
     "start_time": "2025-07-10T18:31:06.042918Z"
    }
   },
   "cell_type": "code",
   "source": [
    "male_indirect_effects_df = pd.DataFrame(male_results)\n",
    "male_indirect_effects_df = male_indirect_effects_df.round(3)\n",
    "male_indirect_effects_df"
   ],
   "id": "f19c2530b4691973",
   "outputs": [
    {
     "data": {
      "text/plain": [
       "              Path  Indirect Effect  Std. Indirect Effect  Standard Error  \\\n",
       "0  QS -> L (via S)            0.388                 0.453           0.069   \n",
       "1  QF -> L (via S)            0.015                 0.010           0.093   \n",
       "2  QT -> L (via S)            0.160                 0.167           0.051   \n",
       "\n",
       "   z-value  p-value  \n",
       "0     5.65    0.000  \n",
       "1     0.16    0.874  \n",
       "2     3.15    0.002  "
      ],
      "text/html": [
       "<div>\n",
       "<style scoped>\n",
       "    .dataframe tbody tr th:only-of-type {\n",
       "        vertical-align: middle;\n",
       "    }\n",
       "\n",
       "    .dataframe tbody tr th {\n",
       "        vertical-align: top;\n",
       "    }\n",
       "\n",
       "    .dataframe thead th {\n",
       "        text-align: right;\n",
       "    }\n",
       "</style>\n",
       "<table border=\"1\" class=\"dataframe\">\n",
       "  <thead>\n",
       "    <tr style=\"text-align: right;\">\n",
       "      <th></th>\n",
       "      <th>Path</th>\n",
       "      <th>Indirect Effect</th>\n",
       "      <th>Std. Indirect Effect</th>\n",
       "      <th>Standard Error</th>\n",
       "      <th>z-value</th>\n",
       "      <th>p-value</th>\n",
       "    </tr>\n",
       "  </thead>\n",
       "  <tbody>\n",
       "    <tr>\n",
       "      <th>0</th>\n",
       "      <td>QS -&gt; L (via S)</td>\n",
       "      <td>0.388</td>\n",
       "      <td>0.453</td>\n",
       "      <td>0.069</td>\n",
       "      <td>5.65</td>\n",
       "      <td>0.000</td>\n",
       "    </tr>\n",
       "    <tr>\n",
       "      <th>1</th>\n",
       "      <td>QF -&gt; L (via S)</td>\n",
       "      <td>0.015</td>\n",
       "      <td>0.010</td>\n",
       "      <td>0.093</td>\n",
       "      <td>0.16</td>\n",
       "      <td>0.874</td>\n",
       "    </tr>\n",
       "    <tr>\n",
       "      <th>2</th>\n",
       "      <td>QT -&gt; L (via S)</td>\n",
       "      <td>0.160</td>\n",
       "      <td>0.167</td>\n",
       "      <td>0.051</td>\n",
       "      <td>3.15</td>\n",
       "      <td>0.002</td>\n",
       "    </tr>\n",
       "  </tbody>\n",
       "</table>\n",
       "</div>"
      ]
     },
     "execution_count": 19,
     "metadata": {},
     "output_type": "execute_result"
    }
   ],
   "execution_count": 19
  },
  {
   "metadata": {},
   "cell_type": "markdown",
   "source": "#### Female",
   "id": "350baf95420664af"
  },
  {
   "metadata": {
    "ExecuteTime": {
     "end_time": "2025-07-10T18:31:06.141313Z",
     "start_time": "2025-07-10T18:31:06.108735Z"
    }
   },
   "cell_type": "code",
   "source": [
    "female_paths = (\n",
    "    female_model.inspect(std_est=True, se_robust=True)\n",
    "         .query(\"op == '~'\")\n",
    "         .set_index(['lval', 'rval'])\n",
    ")"
   ],
   "id": "1dbf3974dcafc352",
   "outputs": [],
   "execution_count": 20
  },
  {
   "metadata": {},
   "cell_type": "markdown",
   "source": "##### Mediator-to-outcome path  (M -> Y)",
   "id": "e71e7e63af17a654"
  },
  {
   "metadata": {
    "ExecuteTime": {
     "end_time": "2025-07-10T18:31:06.188489Z",
     "start_time": "2025-07-10T18:31:06.185194Z"
    }
   },
   "cell_type": "code",
   "source": [
    "female_b_path_coefficient = float(\n",
    "    female_paths.loc[('L', 'S'), 'Est. Std']\n",
    ")\n",
    "female_b_path_standardized_coefficient = float(\n",
    "    male_paths.loc[('L', 'S'), 'Est. Std']\n",
    ")\n",
    "female_b_path_standard_error = float(\n",
    "    female_paths.loc[('L', 'S'), 'Std. Err']\n",
    ")"
   ],
   "id": "31d6270da24327af",
   "outputs": [],
   "execution_count": 21
  },
  {
   "metadata": {},
   "cell_type": "markdown",
   "source": [
    "##### Predictor-to-mediator paths (X -> M)\n",
    "\n",
    "Sobel's z test for mediation is calculated as:\n",
    "\n",
    "$Z = \\frac{a \\cdot b}{SE_{ab}}\n",
    "= \\frac{a \\cdot b}{\\sqrt{b^2 \\cdot SE_a^2 + a^2 \\cdot SE_b^2}}$\n",
    "\n",
    "Where:\n",
    "- a = path coefficient from X -> M\n",
    "- b = path coefficient from M -> Y\n",
    "- $SE_a$ = standard error of a\n",
    "- $SE_b$ = standard error of b\n",
    "\n",
    "Abu-Bader, S., & Jones, T. V. (2021). Statistical mediation analysis using the Sobel test and Hayes SPSS Process Macro. International Journal of Quantitative and Qualitative Research Methods, 9(1), 42–61."
   ],
   "id": "a7308ad772fcc6d1"
  },
  {
   "metadata": {
    "ExecuteTime": {
     "end_time": "2025-07-10T18:31:06.247202Z",
     "start_time": "2025-07-10T18:31:06.242092Z"
    }
   },
   "cell_type": "code",
   "source": [
    "import math\n",
    "female_results = []\n",
    "for predictor in ['QS', 'QF', 'QT']:\n",
    "    female_a_path_coefficient = float(\n",
    "        female_paths.loc[('S', predictor), 'Estimate']\n",
    "    )\n",
    "    female_a_standardized_path_coefficient = float(\n",
    "        female_paths.loc[('S', predictor), 'Est. Std']\n",
    "    )\n",
    "    female_a_path_standard_error = float(\n",
    "        female_paths.loc[('S', predictor), 'Std. Err']\n",
    "    )\n",
    "\n",
    "    # Indirect effect = a * b\n",
    "    female_indirect_effect = (\n",
    "        female_a_path_coefficient * female_b_path_coefficient\n",
    "    )\n",
    "    female_standardized_indirect_effect = (\n",
    "        female_a_standardized_path_coefficient * female_b_path_standardized_coefficient\n",
    "    )\n",
    "\n",
    "    # Sobel standard error: sqrt(b^2 * SE_a^2 + a^2 * SE_b^2)\n",
    "    female_indirect_se = math.sqrt(\n",
    "        (female_b_path_coefficient ** 2) * (female_a_path_standard_error ** 2) +\n",
    "        (female_a_path_coefficient ** 2) * (female_b_path_standard_error ** 2)\n",
    "    )\n",
    "    female_standardized_indirect_effect = (\n",
    "        female_a_standardized_path_coefficient * female_b_path_standardized_coefficient\n",
    "    )\n",
    "\n",
    "    female_z_value = female_indirect_effect / female_indirect_se\n",
    "    female_p_value = 2 * (1 - norm.cdf(abs(female_z_value)))\n",
    "\n",
    "    female_results.append({\n",
    "        'Path': f'{predictor} -> L (via S)',\n",
    "        'Indirect Effect': round(female_indirect_effect, 3),\n",
    "        'Std. Indirect Effect': round(female_standardized_indirect_effect, 3),\n",
    "        'Standard Error':  round(female_indirect_se, 3),\n",
    "        'z-value': round(female_z_value, 2),\n",
    "        'p-value': round(female_p_value, 4)\n",
    "    })"
   ],
   "id": "900c0e2d632127e0",
   "outputs": [],
   "execution_count": 22
  },
  {
   "metadata": {
    "ExecuteTime": {
     "end_time": "2025-07-10T18:31:06.290891Z",
     "start_time": "2025-07-10T18:31:06.284599Z"
    }
   },
   "cell_type": "code",
   "source": [
    "female_indirect_effects_df = pd.DataFrame(female_results)\n",
    "female_indirect_effects_df = female_indirect_effects_df.round(3)\n",
    "female_indirect_effects_df"
   ],
   "id": "9a4a818da2e69496",
   "outputs": [
    {
     "data": {
      "text/plain": [
       "              Path  Indirect Effect  Std. Indirect Effect  Standard Error  \\\n",
       "0  QS -> L (via S)            0.225                 0.314           0.051   \n",
       "1  QF -> L (via S)            0.229                 0.252           0.069   \n",
       "2  QT -> L (via S)            0.061                 0.073           0.045   \n",
       "\n",
       "   z-value  p-value  \n",
       "0     4.42    0.000  \n",
       "1     3.33    0.001  \n",
       "2     1.38    0.169  "
      ],
      "text/html": [
       "<div>\n",
       "<style scoped>\n",
       "    .dataframe tbody tr th:only-of-type {\n",
       "        vertical-align: middle;\n",
       "    }\n",
       "\n",
       "    .dataframe tbody tr th {\n",
       "        vertical-align: top;\n",
       "    }\n",
       "\n",
       "    .dataframe thead th {\n",
       "        text-align: right;\n",
       "    }\n",
       "</style>\n",
       "<table border=\"1\" class=\"dataframe\">\n",
       "  <thead>\n",
       "    <tr style=\"text-align: right;\">\n",
       "      <th></th>\n",
       "      <th>Path</th>\n",
       "      <th>Indirect Effect</th>\n",
       "      <th>Std. Indirect Effect</th>\n",
       "      <th>Standard Error</th>\n",
       "      <th>z-value</th>\n",
       "      <th>p-value</th>\n",
       "    </tr>\n",
       "  </thead>\n",
       "  <tbody>\n",
       "    <tr>\n",
       "      <th>0</th>\n",
       "      <td>QS -&gt; L (via S)</td>\n",
       "      <td>0.225</td>\n",
       "      <td>0.314</td>\n",
       "      <td>0.051</td>\n",
       "      <td>4.42</td>\n",
       "      <td>0.000</td>\n",
       "    </tr>\n",
       "    <tr>\n",
       "      <th>1</th>\n",
       "      <td>QF -&gt; L (via S)</td>\n",
       "      <td>0.229</td>\n",
       "      <td>0.252</td>\n",
       "      <td>0.069</td>\n",
       "      <td>3.33</td>\n",
       "      <td>0.001</td>\n",
       "    </tr>\n",
       "    <tr>\n",
       "      <th>2</th>\n",
       "      <td>QT -&gt; L (via S)</td>\n",
       "      <td>0.061</td>\n",
       "      <td>0.073</td>\n",
       "      <td>0.045</td>\n",
       "      <td>1.38</td>\n",
       "      <td>0.169</td>\n",
       "    </tr>\n",
       "  </tbody>\n",
       "</table>\n",
       "</div>"
      ]
     },
     "execution_count": 23,
     "metadata": {},
     "output_type": "execute_result"
    }
   ],
   "execution_count": 23
  },
  {
   "metadata": {},
   "cell_type": "markdown",
   "source": "## Contract Type Models",
   "id": "feda0f636678bef6"
  },
  {
   "metadata": {},
   "cell_type": "markdown",
   "source": "### Modeling",
   "id": "6b446f7b5b8acf74"
  },
  {
   "metadata": {},
   "cell_type": "markdown",
   "source": "#### Prepaid",
   "id": "50d3fa171b8cc140"
  },
  {
   "metadata": {
    "ExecuteTime": {
     "end_time": "2025-07-10T18:31:06.378094Z",
     "start_time": "2025-07-10T18:31:06.349505Z"
    }
   },
   "cell_type": "code",
   "source": [
    "pre_model = Model(model_description)\n",
    "print(pre_model.fit(prepaid_df))"
   ],
   "id": "39e192c1b6688a17",
   "outputs": [
    {
     "name": "stdout",
     "output_type": "stream",
     "text": [
      "Name of objective: MLW\n",
      "Optimization method: SLSQP\n",
      "Optimization successful.\n",
      "Optimization terminated successfully\n",
      "Objective value: 1.641\n",
      "Number of iterations: 47\n",
      "Params: 0.761 0.970 0.974 0.731 0.996 0.720 1.145 1.071 0.875 0.855 1.036 1.048 1.223 0.748 1.009 0.486 0.209 0.175 0.560 1.103 2.498 0.975 1.052 0.774 2.526 0.995 1.756 2.401 1.840 1.065 0.353 4.420 0.687 0.750 0.522 0.914 0.865 1.141 2.648 0.697 2.122 3.039 0.897 1.220 2.289 1.042 1.048\n"
     ]
    }
   ],
   "execution_count": 24
  },
  {
   "metadata": {},
   "cell_type": "markdown",
   "source": "#### Postpaid",
   "id": "34c847e19626e1ba"
  },
  {
   "metadata": {
    "ExecuteTime": {
     "end_time": "2025-07-10T18:31:06.464468Z",
     "start_time": "2025-07-10T18:31:06.429398Z"
    }
   },
   "cell_type": "code",
   "source": [
    "post_model = Model(model_description)\n",
    "print(post_model.fit(postpaid_df))"
   ],
   "id": "156ac9edcec1652b",
   "outputs": [
    {
     "name": "stdout",
     "output_type": "stream",
     "text": [
      "Name of objective: MLW\n",
      "Optimization method: SLSQP\n",
      "Optimization successful.\n",
      "Optimization terminated successfully\n",
      "Objective value: 1.843\n",
      "Number of iterations: 51\n",
      "Params: 0.942 1.361 1.309 0.714 2.322 2.202 1.342 1.042 1.254 0.868 1.039 1.047 1.006 0.596 0.913 0.469 0.388 0.230 0.704 1.285 2.287 0.629 0.743 1.822 1.887 1.832 1.776 2.171 1.633 2.041 0.929 1.589 0.669 0.588 0.546 0.764 0.537 1.313 2.633 0.447 0.658 2.427 0.702 1.035 1.682 0.493 1.161\n"
     ]
    }
   ],
   "execution_count": 25
  },
  {
   "metadata": {},
   "cell_type": "markdown",
   "source": "### Direct Effects",
   "id": "54623b980ad0e3b7"
  },
  {
   "metadata": {},
   "cell_type": "markdown",
   "source": "#### Prepaid",
   "id": "a2723a2bd051fd6b"
  },
  {
   "metadata": {
    "ExecuteTime": {
     "end_time": "2025-07-10T18:31:06.527763Z",
     "start_time": "2025-07-10T18:31:06.516346Z"
    }
   },
   "cell_type": "code",
   "source": [
    "pre_raw_item_estimates = (\n",
    "    pre_model.inspect(std_est=True)\n",
    "         .query(\"op == '~' and not lval.str.startswith('P')\")\n",
    ")\n",
    "pre_direct_effects_df = (\n",
    "    pre_raw_item_estimates\n",
    "    .loc[:, ['lval','rval', 'Est. Std', 'Estimate','p-value', 'z-value', 'Std. Err']]\n",
    "    .rename(columns={\n",
    "        'lval': 'Outcome',\n",
    "        'rval': 'Predictor',\n",
    "        'Estimate': 'beta',\n",
    "        'Est. Std': 'beta_std',\n",
    "        'Std. Err': 'SE'\n",
    "    })\n",
    "    .sort_values(by='beta')\n",
    ")\n",
    "pre_direct_effects_df['hypothesis_result'] = pre_direct_effects_df.apply(\n",
    "    lambda row: 'Supported' if row['p-value'] < 0.05 else 'Not Supported',\n",
    "    axis=1\n",
    ")\n",
    "pre_direct_effects_df"
   ],
   "id": "d92af8908ff8abb1",
   "outputs": [
    {
     "data": {
      "text/plain": [
       "  Outcome Predictor  beta_std      beta   p-value    z-value        SE  \\\n",
       "2       S        QT  0.171215  0.175113  0.004432   2.845689  0.061536   \n",
       "1       S        QF  0.196393  0.208615  0.000468   3.498597  0.059628   \n",
       "0       S        QS  0.547677  0.486139       0.0   9.056507  0.053678   \n",
       "3       L         S  0.636721  0.560365       0.0  10.403632  0.053862   \n",
       "\n",
       "  hypothesis_result  \n",
       "2         Supported  \n",
       "1         Supported  \n",
       "0         Supported  \n",
       "3         Supported  "
      ],
      "text/html": [
       "<div>\n",
       "<style scoped>\n",
       "    .dataframe tbody tr th:only-of-type {\n",
       "        vertical-align: middle;\n",
       "    }\n",
       "\n",
       "    .dataframe tbody tr th {\n",
       "        vertical-align: top;\n",
       "    }\n",
       "\n",
       "    .dataframe thead th {\n",
       "        text-align: right;\n",
       "    }\n",
       "</style>\n",
       "<table border=\"1\" class=\"dataframe\">\n",
       "  <thead>\n",
       "    <tr style=\"text-align: right;\">\n",
       "      <th></th>\n",
       "      <th>Outcome</th>\n",
       "      <th>Predictor</th>\n",
       "      <th>beta_std</th>\n",
       "      <th>beta</th>\n",
       "      <th>p-value</th>\n",
       "      <th>z-value</th>\n",
       "      <th>SE</th>\n",
       "      <th>hypothesis_result</th>\n",
       "    </tr>\n",
       "  </thead>\n",
       "  <tbody>\n",
       "    <tr>\n",
       "      <th>2</th>\n",
       "      <td>S</td>\n",
       "      <td>QT</td>\n",
       "      <td>0.171215</td>\n",
       "      <td>0.175113</td>\n",
       "      <td>0.004432</td>\n",
       "      <td>2.845689</td>\n",
       "      <td>0.061536</td>\n",
       "      <td>Supported</td>\n",
       "    </tr>\n",
       "    <tr>\n",
       "      <th>1</th>\n",
       "      <td>S</td>\n",
       "      <td>QF</td>\n",
       "      <td>0.196393</td>\n",
       "      <td>0.208615</td>\n",
       "      <td>0.000468</td>\n",
       "      <td>3.498597</td>\n",
       "      <td>0.059628</td>\n",
       "      <td>Supported</td>\n",
       "    </tr>\n",
       "    <tr>\n",
       "      <th>0</th>\n",
       "      <td>S</td>\n",
       "      <td>QS</td>\n",
       "      <td>0.547677</td>\n",
       "      <td>0.486139</td>\n",
       "      <td>0.0</td>\n",
       "      <td>9.056507</td>\n",
       "      <td>0.053678</td>\n",
       "      <td>Supported</td>\n",
       "    </tr>\n",
       "    <tr>\n",
       "      <th>3</th>\n",
       "      <td>L</td>\n",
       "      <td>S</td>\n",
       "      <td>0.636721</td>\n",
       "      <td>0.560365</td>\n",
       "      <td>0.0</td>\n",
       "      <td>10.403632</td>\n",
       "      <td>0.053862</td>\n",
       "      <td>Supported</td>\n",
       "    </tr>\n",
       "  </tbody>\n",
       "</table>\n",
       "</div>"
      ]
     },
     "execution_count": 26,
     "metadata": {},
     "output_type": "execute_result"
    }
   ],
   "execution_count": 26
  },
  {
   "metadata": {},
   "cell_type": "markdown",
   "source": "#### Postpaid",
   "id": "98cb12868f287ae"
  },
  {
   "metadata": {
    "ExecuteTime": {
     "end_time": "2025-07-10T18:31:06.603955Z",
     "start_time": "2025-07-10T18:31:06.588971Z"
    }
   },
   "cell_type": "code",
   "source": [
    "post_raw_item_estimates = (\n",
    "    post_model.inspect(std_est=True)\n",
    "         .query(\"op == '~' and not lval.str.startswith('P')\")\n",
    ")\n",
    "post_direct_effects_df = (\n",
    "    post_raw_item_estimates\n",
    "    .loc[:, ['lval','rval', 'Est. Std', 'Estimate','p-value', 'z-value', 'Std. Err']]\n",
    "    .rename(columns={\n",
    "        'lval': 'Outcome',\n",
    "        'rval': 'Predictor',\n",
    "        'Estimate': 'beta',\n",
    "        'Est. Std': 'beta_std',\n",
    "        'Std. Err': 'SE'\n",
    "    })\n",
    "    .sort_values(by='beta')\n",
    ")\n",
    "post_direct_effects_df['hypothesis_result'] = post_direct_effects_df.apply(\n",
    "    lambda row: 'Supported' if row['p-value'] < 0.05 else 'Not Supported',\n",
    "    axis=1\n",
    ")\n",
    "post_direct_effects_df\n"
   ],
   "id": "b4fa7a5455782bae",
   "outputs": [
    {
     "data": {
      "text/plain": [
       "  Outcome Predictor  beta_std      beta   p-value    z-value        SE  \\\n",
       "2       S        QT  0.190922  0.230413  0.007908   2.655984  0.086752   \n",
       "1       S        QF  0.200919  0.387640  0.011879   2.515713  0.154088   \n",
       "0       S        QS  0.466579  0.468712       0.0   5.606618    0.0836   \n",
       "3       L         S  0.697067  0.704154       0.0  10.719871  0.065687   \n",
       "\n",
       "  hypothesis_result  \n",
       "2         Supported  \n",
       "1         Supported  \n",
       "0         Supported  \n",
       "3         Supported  "
      ],
      "text/html": [
       "<div>\n",
       "<style scoped>\n",
       "    .dataframe tbody tr th:only-of-type {\n",
       "        vertical-align: middle;\n",
       "    }\n",
       "\n",
       "    .dataframe tbody tr th {\n",
       "        vertical-align: top;\n",
       "    }\n",
       "\n",
       "    .dataframe thead th {\n",
       "        text-align: right;\n",
       "    }\n",
       "</style>\n",
       "<table border=\"1\" class=\"dataframe\">\n",
       "  <thead>\n",
       "    <tr style=\"text-align: right;\">\n",
       "      <th></th>\n",
       "      <th>Outcome</th>\n",
       "      <th>Predictor</th>\n",
       "      <th>beta_std</th>\n",
       "      <th>beta</th>\n",
       "      <th>p-value</th>\n",
       "      <th>z-value</th>\n",
       "      <th>SE</th>\n",
       "      <th>hypothesis_result</th>\n",
       "    </tr>\n",
       "  </thead>\n",
       "  <tbody>\n",
       "    <tr>\n",
       "      <th>2</th>\n",
       "      <td>S</td>\n",
       "      <td>QT</td>\n",
       "      <td>0.190922</td>\n",
       "      <td>0.230413</td>\n",
       "      <td>0.007908</td>\n",
       "      <td>2.655984</td>\n",
       "      <td>0.086752</td>\n",
       "      <td>Supported</td>\n",
       "    </tr>\n",
       "    <tr>\n",
       "      <th>1</th>\n",
       "      <td>S</td>\n",
       "      <td>QF</td>\n",
       "      <td>0.200919</td>\n",
       "      <td>0.387640</td>\n",
       "      <td>0.011879</td>\n",
       "      <td>2.515713</td>\n",
       "      <td>0.154088</td>\n",
       "      <td>Supported</td>\n",
       "    </tr>\n",
       "    <tr>\n",
       "      <th>0</th>\n",
       "      <td>S</td>\n",
       "      <td>QS</td>\n",
       "      <td>0.466579</td>\n",
       "      <td>0.468712</td>\n",
       "      <td>0.0</td>\n",
       "      <td>5.606618</td>\n",
       "      <td>0.0836</td>\n",
       "      <td>Supported</td>\n",
       "    </tr>\n",
       "    <tr>\n",
       "      <th>3</th>\n",
       "      <td>L</td>\n",
       "      <td>S</td>\n",
       "      <td>0.697067</td>\n",
       "      <td>0.704154</td>\n",
       "      <td>0.0</td>\n",
       "      <td>10.719871</td>\n",
       "      <td>0.065687</td>\n",
       "      <td>Supported</td>\n",
       "    </tr>\n",
       "  </tbody>\n",
       "</table>\n",
       "</div>"
      ]
     },
     "execution_count": 27,
     "metadata": {},
     "output_type": "execute_result"
    }
   ],
   "execution_count": 27
  },
  {
   "metadata": {},
   "cell_type": "markdown",
   "source": [
    "#### Wald's Test for Group Differences\n",
    "\n",
    "$Z = \\frac{\\beta_1 - \\beta_2}{\\sqrt{SE_1^2 + SE_2^2}}$\n",
    "\n",
    "Clogg, C. C., Petkova, E., & Haritou, A. (1995). Statistical methods for comparing regression coefficients between models. American Journal of Sociology, 100(5), 1261–1293. https://doi.org/10.1086/230638\n",
    "\n",
    "Please refer to [Wald test](https://en.wikipedia.org/wiki/Wald_test) and [Testing equality of coefficients from two different regressions](https://stats.stackexchange.com/questions/93540/testing-equality-of-coefficients-from-two-different-regressions?utm_source=chatgpt.com) for more information."
   ],
   "id": "a59fd193d70115d2"
  },
  {
   "metadata": {
    "ExecuteTime": {
     "end_time": "2025-07-10T18:31:06.691883Z",
     "start_time": "2025-07-10T18:31:06.688393Z"
    }
   },
   "cell_type": "code",
   "source": [
    "pre_df = pre_direct_effects_df.copy()\n",
    "post_df = post_direct_effects_df.copy()\n",
    "\n",
    "pre_df = pre_df.rename(columns={\n",
    "    'beta': 'beta_pre',\n",
    "    'beta_std': 'beta_std_pre',\n",
    "    'p-value': 'p_pre',\n",
    "    'SE': 'SE_pre'\n",
    "})\n",
    "\n",
    "post_df = post_df.rename(columns={\n",
    "    'beta': 'beta_post',\n",
    "    'beta_std': 'beta_std_post',\n",
    "    'p-value': 'p_post',\n",
    "    'SE': 'SE_post'\n",
    "})"
   ],
   "id": "e195d1df84ca2cd4",
   "outputs": [],
   "execution_count": 28
  },
  {
   "metadata": {
    "ExecuteTime": {
     "end_time": "2025-07-10T18:31:06.780115Z",
     "start_time": "2025-07-10T18:31:06.776167Z"
    }
   },
   "cell_type": "code",
   "source": [
    "plan_type_direct_effects_df = pd.merge(\n",
    "    pre_df[[\n",
    "        'Outcome',\n",
    "        'Predictor',\n",
    "        'beta_pre',\n",
    "        'beta_std_pre',\n",
    "        'SE_pre'\n",
    "    ]],\n",
    "    post_df[[\n",
    "        'Outcome',\n",
    "        'Predictor',\n",
    "        'beta_post',\n",
    "        'beta_std_post',\n",
    "        'SE_post'\n",
    "    ]],\n",
    "    on=['Outcome', 'Predictor']\n",
    ")"
   ],
   "id": "897847c6578a2e97",
   "outputs": [],
   "execution_count": 29
  },
  {
   "metadata": {
    "ExecuteTime": {
     "end_time": "2025-07-10T18:31:06.851402Z",
     "start_time": "2025-07-10T18:31:06.847723Z"
    }
   },
   "cell_type": "code",
   "source": [
    "plan_type_direct_effects_df[['z_wald', 'p_wald']] = plan_type_direct_effects_df.apply(\n",
    "    lambda row: direct_wald_test(\n",
    "        row['beta_pre'],\n",
    "        row['SE_pre'],\n",
    "        row['beta_post'],\n",
    "        row['SE_post']\n",
    "    ),\n",
    "    axis=1, result_type='expand'\n",
    ")"
   ],
   "id": "d603a514d45f6d3a",
   "outputs": [],
   "execution_count": 30
  },
  {
   "metadata": {
    "ExecuteTime": {
     "end_time": "2025-07-10T18:31:06.889943Z",
     "start_time": "2025-07-10T18:31:06.887035Z"
    }
   },
   "cell_type": "code",
   "source": [
    "plan_type_direct_effects_df['significant_difference'] = (\n",
    "    plan_type_direct_effects_df['p_wald']\n",
    "        .apply(lambda p: 'Yes' if p < 0.05 else 'No')\n",
    ")"
   ],
   "id": "62a11a4262fe1dcb",
   "outputs": [],
   "execution_count": 31
  },
  {
   "metadata": {
    "ExecuteTime": {
     "end_time": "2025-07-10T18:31:06.937882Z",
     "start_time": "2025-07-10T18:31:06.930383Z"
    }
   },
   "cell_type": "code",
   "source": [
    "plan_type_direct_effects_df['SE_pre'] = (\n",
    "    plan_type_direct_effects_df['SE_pre'].astype(float)\n",
    ")\n",
    "plan_type_direct_effects_df['SE_post'] = (\n",
    "    plan_type_direct_effects_df['SE_post'].astype(float)\n",
    ")\n",
    "plan_type_direct_effects_df = plan_type_direct_effects_df.round(3)\n",
    "plan_type_direct_effects_df"
   ],
   "id": "c1d686d606c7b9cc",
   "outputs": [
    {
     "data": {
      "text/plain": [
       "  Outcome Predictor  beta_pre  beta_std_pre  SE_pre  beta_post  beta_std_post  \\\n",
       "0       S        QT     0.175         0.171   0.062      0.230          0.191   \n",
       "1       S        QF     0.209         0.196   0.060      0.388          0.201   \n",
       "2       S        QS     0.486         0.548   0.054      0.469          0.467   \n",
       "3       L         S     0.560         0.637   0.054      0.704          0.697   \n",
       "\n",
       "   SE_post  z_wald  p_wald significant_difference  \n",
       "0    0.087  -0.520   0.603                     No  \n",
       "1    0.154  -1.084   0.279                     No  \n",
       "2    0.084   0.175   0.861                     No  \n",
       "3    0.066  -1.693   0.091                     No  "
      ],
      "text/html": [
       "<div>\n",
       "<style scoped>\n",
       "    .dataframe tbody tr th:only-of-type {\n",
       "        vertical-align: middle;\n",
       "    }\n",
       "\n",
       "    .dataframe tbody tr th {\n",
       "        vertical-align: top;\n",
       "    }\n",
       "\n",
       "    .dataframe thead th {\n",
       "        text-align: right;\n",
       "    }\n",
       "</style>\n",
       "<table border=\"1\" class=\"dataframe\">\n",
       "  <thead>\n",
       "    <tr style=\"text-align: right;\">\n",
       "      <th></th>\n",
       "      <th>Outcome</th>\n",
       "      <th>Predictor</th>\n",
       "      <th>beta_pre</th>\n",
       "      <th>beta_std_pre</th>\n",
       "      <th>SE_pre</th>\n",
       "      <th>beta_post</th>\n",
       "      <th>beta_std_post</th>\n",
       "      <th>SE_post</th>\n",
       "      <th>z_wald</th>\n",
       "      <th>p_wald</th>\n",
       "      <th>significant_difference</th>\n",
       "    </tr>\n",
       "  </thead>\n",
       "  <tbody>\n",
       "    <tr>\n",
       "      <th>0</th>\n",
       "      <td>S</td>\n",
       "      <td>QT</td>\n",
       "      <td>0.175</td>\n",
       "      <td>0.171</td>\n",
       "      <td>0.062</td>\n",
       "      <td>0.230</td>\n",
       "      <td>0.191</td>\n",
       "      <td>0.087</td>\n",
       "      <td>-0.520</td>\n",
       "      <td>0.603</td>\n",
       "      <td>No</td>\n",
       "    </tr>\n",
       "    <tr>\n",
       "      <th>1</th>\n",
       "      <td>S</td>\n",
       "      <td>QF</td>\n",
       "      <td>0.209</td>\n",
       "      <td>0.196</td>\n",
       "      <td>0.060</td>\n",
       "      <td>0.388</td>\n",
       "      <td>0.201</td>\n",
       "      <td>0.154</td>\n",
       "      <td>-1.084</td>\n",
       "      <td>0.279</td>\n",
       "      <td>No</td>\n",
       "    </tr>\n",
       "    <tr>\n",
       "      <th>2</th>\n",
       "      <td>S</td>\n",
       "      <td>QS</td>\n",
       "      <td>0.486</td>\n",
       "      <td>0.548</td>\n",
       "      <td>0.054</td>\n",
       "      <td>0.469</td>\n",
       "      <td>0.467</td>\n",
       "      <td>0.084</td>\n",
       "      <td>0.175</td>\n",
       "      <td>0.861</td>\n",
       "      <td>No</td>\n",
       "    </tr>\n",
       "    <tr>\n",
       "      <th>3</th>\n",
       "      <td>L</td>\n",
       "      <td>S</td>\n",
       "      <td>0.560</td>\n",
       "      <td>0.637</td>\n",
       "      <td>0.054</td>\n",
       "      <td>0.704</td>\n",
       "      <td>0.697</td>\n",
       "      <td>0.066</td>\n",
       "      <td>-1.693</td>\n",
       "      <td>0.091</td>\n",
       "      <td>No</td>\n",
       "    </tr>\n",
       "  </tbody>\n",
       "</table>\n",
       "</div>"
      ]
     },
     "execution_count": 32,
     "metadata": {},
     "output_type": "execute_result"
    }
   ],
   "execution_count": 32
  },
  {
   "metadata": {},
   "cell_type": "markdown",
   "source": "### Indirect Effects",
   "id": "71613e0bcf6bd17e"
  },
  {
   "metadata": {},
   "cell_type": "markdown",
   "source": "#### Prepaid",
   "id": "d3d89c8c3860b59b"
  },
  {
   "metadata": {
    "ExecuteTime": {
     "end_time": "2025-07-10T18:31:07.040845Z",
     "start_time": "2025-07-10T18:31:07.009575Z"
    }
   },
   "cell_type": "code",
   "source": [
    "pre_paths = (\n",
    "    pre_model.inspect(std_est=True, se_robust=True)\n",
    "         .query(\"op == '~'\")\n",
    "         .set_index(['lval', 'rval'])\n",
    ")"
   ],
   "id": "1009df3e37a0d35",
   "outputs": [],
   "execution_count": 33
  },
  {
   "metadata": {},
   "cell_type": "markdown",
   "source": "##### Mediator-to-outcome path  (M -> Y)",
   "id": "7224722b6bddafd6"
  },
  {
   "metadata": {
    "ExecuteTime": {
     "end_time": "2025-07-10T18:31:07.103466Z",
     "start_time": "2025-07-10T18:31:07.099738Z"
    }
   },
   "cell_type": "code",
   "source": [
    "pre_b_path_coefficient = float(\n",
    "    pre_paths.loc[('L', 'S'), 'Estimate']\n",
    ")\n",
    "pre_b_path_standardized_coefficient = float(\n",
    "    pre_paths.loc[('L', 'S'), 'Est. Std']\n",
    ")\n",
    "pre_b_path_standard_error = float(\n",
    "    male_paths.loc[('L', 'S'), 'Std. Err']\n",
    ")"
   ],
   "id": "fa0a3f427fe143fd",
   "outputs": [],
   "execution_count": 34
  },
  {
   "metadata": {},
   "cell_type": "markdown",
   "source": [
    "##### Predictor-to-mediator paths (X -> M)\n",
    "\n",
    "Sobel's z test for mediation is calculated as:\n",
    "\n",
    "$Z = \\frac{a \\cdot b}{SE_{ab}}\n",
    "= \\frac{a \\cdot b}{\\sqrt{b^2 \\cdot SE_a^2 + a^2 \\cdot SE_b^2}}$\n",
    "\n",
    "Where:\n",
    "- a = path coefficient from X -> M\n",
    "- b = path coefficient from M -> Y\n",
    "- $SE_a$ = standard error of a\n",
    "- $SE_b$ = standard error of b\n",
    "\n",
    "Abu-Bader, S., & Jones, T. V. (2021). Statistical mediation analysis using the Sobel test and Hayes SPSS Process Macro. International Journal of Quantitative and Qualitative Research Methods, 9(1), 42–61."
   ],
   "id": "1bd47e5ef801ecff"
  },
  {
   "metadata": {
    "ExecuteTime": {
     "end_time": "2025-07-10T18:31:07.210743Z",
     "start_time": "2025-07-10T18:31:07.204220Z"
    }
   },
   "cell_type": "code",
   "source": [
    "pre_results = []\n",
    "for predictor in ['QS', 'QF', 'QT']:\n",
    "    pre_a_path_coefficient = float(\n",
    "        pre_paths.loc[('S', predictor), 'Estimate']\n",
    "    )\n",
    "    pre_a_standardized_path_coefficient = float(\n",
    "        pre_paths.loc[('S', predictor), 'Est. Std']\n",
    "    )\n",
    "    pre_a_path_standard_error = float(\n",
    "        pre_paths.loc[('S', predictor), 'Std. Err']\n",
    "    )\n",
    "\n",
    "    # Indirect effect = a * b\n",
    "    pre_indirect_effect = (\n",
    "        pre_a_path_coefficient * pre_b_path_coefficient\n",
    "    )\n",
    "    pre_standardized_indirect_effect = (\n",
    "        pre_a_standardized_path_coefficient * pre_b_path_standardized_coefficient\n",
    "    )\n",
    "\n",
    "    # Sobel standard error: sqrt(b^2 * SE_a^2 + a^2 * SE_b^2)\n",
    "    pre_indirect_se = math.sqrt(\n",
    "        (pre_b_path_coefficient ** 2) * (pre_a_path_standard_error ** 2) +\n",
    "        (pre_a_path_coefficient ** 2) * (pre_b_path_standard_error ** 2)\n",
    "    )\n",
    "    pre_standardized_indirect_effect = (\n",
    "        pre_a_standardized_path_coefficient * pre_b_path_standardized_coefficient\n",
    "    )\n",
    "\n",
    "    pre_z_value = pre_indirect_effect / pre_indirect_se\n",
    "    pre_p_value = 2 * (1 - norm.cdf(abs(pre_z_value)))\n",
    "\n",
    "    pre_results.append({\n",
    "        'Path': f'{predictor} -> L (via S)',\n",
    "        'Indirect Effect': round(pre_indirect_effect, 3),\n",
    "        'Std. Indirect Effect': round(pre_standardized_indirect_effect, 3),\n",
    "        'Standard Error':  round(pre_indirect_se, 3),\n",
    "        'z-value': round(pre_z_value, 2),\n",
    "        'p-value': round(pre_p_value, 4)\n",
    "    })"
   ],
   "id": "b9726e4825f7f4b6",
   "outputs": [],
   "execution_count": 35
  },
  {
   "metadata": {
    "ExecuteTime": {
     "end_time": "2025-07-10T18:31:07.277986Z",
     "start_time": "2025-07-10T18:31:07.268390Z"
    }
   },
   "cell_type": "code",
   "source": [
    "pre_indirect_effects_df = pd.DataFrame(pre_results)\n",
    "pre_indirect_effects_df = pre_indirect_effects_df.round(3)\n",
    "pre_indirect_effects_df"
   ],
   "id": "dc44fe63e49f8fb1",
   "outputs": [
    {
     "data": {
      "text/plain": [
       "              Path  Indirect Effect  Std. Indirect Effect  Standard Error  \\\n",
       "0  QS -> L (via S)            0.272                 0.349           0.049   \n",
       "1  QF -> L (via S)            0.117                 0.125           0.039   \n",
       "2  QT -> L (via S)            0.098                 0.109           0.034   \n",
       "\n",
       "   z-value  p-value  \n",
       "0     5.55    0.000  \n",
       "1     3.02    0.002  \n",
       "2     2.91    0.004  "
      ],
      "text/html": [
       "<div>\n",
       "<style scoped>\n",
       "    .dataframe tbody tr th:only-of-type {\n",
       "        vertical-align: middle;\n",
       "    }\n",
       "\n",
       "    .dataframe tbody tr th {\n",
       "        vertical-align: top;\n",
       "    }\n",
       "\n",
       "    .dataframe thead th {\n",
       "        text-align: right;\n",
       "    }\n",
       "</style>\n",
       "<table border=\"1\" class=\"dataframe\">\n",
       "  <thead>\n",
       "    <tr style=\"text-align: right;\">\n",
       "      <th></th>\n",
       "      <th>Path</th>\n",
       "      <th>Indirect Effect</th>\n",
       "      <th>Std. Indirect Effect</th>\n",
       "      <th>Standard Error</th>\n",
       "      <th>z-value</th>\n",
       "      <th>p-value</th>\n",
       "    </tr>\n",
       "  </thead>\n",
       "  <tbody>\n",
       "    <tr>\n",
       "      <th>0</th>\n",
       "      <td>QS -&gt; L (via S)</td>\n",
       "      <td>0.272</td>\n",
       "      <td>0.349</td>\n",
       "      <td>0.049</td>\n",
       "      <td>5.55</td>\n",
       "      <td>0.000</td>\n",
       "    </tr>\n",
       "    <tr>\n",
       "      <th>1</th>\n",
       "      <td>QF -&gt; L (via S)</td>\n",
       "      <td>0.117</td>\n",
       "      <td>0.125</td>\n",
       "      <td>0.039</td>\n",
       "      <td>3.02</td>\n",
       "      <td>0.002</td>\n",
       "    </tr>\n",
       "    <tr>\n",
       "      <th>2</th>\n",
       "      <td>QT -&gt; L (via S)</td>\n",
       "      <td>0.098</td>\n",
       "      <td>0.109</td>\n",
       "      <td>0.034</td>\n",
       "      <td>2.91</td>\n",
       "      <td>0.004</td>\n",
       "    </tr>\n",
       "  </tbody>\n",
       "</table>\n",
       "</div>"
      ]
     },
     "execution_count": 36,
     "metadata": {},
     "output_type": "execute_result"
    }
   ],
   "execution_count": 36
  },
  {
   "metadata": {},
   "cell_type": "markdown",
   "source": "#### Postpaid",
   "id": "c6dcdcc02202fb6f"
  },
  {
   "metadata": {
    "ExecuteTime": {
     "end_time": "2025-07-10T18:31:07.398081Z",
     "start_time": "2025-07-10T18:31:07.349158Z"
    }
   },
   "cell_type": "code",
   "source": [
    "post_paths = (\n",
    "    post_model.inspect(std_est=True, se_robust=True)\n",
    "         .query(\"op == '~'\")\n",
    "         .set_index(['lval', 'rval'])\n",
    ")"
   ],
   "id": "2ef967918343ca28",
   "outputs": [],
   "execution_count": 37
  },
  {
   "metadata": {},
   "cell_type": "markdown",
   "source": "##### Mediator-to-outcome path  (M -> Y)",
   "id": "a8c2272251ebe0ab"
  },
  {
   "metadata": {
    "ExecuteTime": {
     "end_time": "2025-07-10T18:31:07.430861Z",
     "start_time": "2025-07-10T18:31:07.426506Z"
    }
   },
   "cell_type": "code",
   "source": [
    "post_b_path_coefficient = float(\n",
    "    post_paths.loc[('L', 'S'), 'Estimate']\n",
    ")\n",
    "post_b_path_standardized_coefficient = float(\n",
    "    post_paths.loc[('L', 'S'), 'Est. Std']\n",
    ")\n",
    "post_b_path_standard_error = float(\n",
    "    male_paths.loc[('L', 'S'), 'Std. Err']\n",
    ")"
   ],
   "id": "cc7b0efaccf4a73b",
   "outputs": [],
   "execution_count": 38
  },
  {
   "metadata": {},
   "cell_type": "markdown",
   "source": [
    "##### Predictor-to-mediator paths (X -> M)\n",
    "\n",
    "Sobel's z test for mediation is calculated as:\n",
    "\n",
    "$Z = \\frac{a \\cdot b}{SE_{ab}}\n",
    "= \\frac{a \\cdot b}{\\sqrt{b^2 \\cdot SE_a^2 + a^2 \\cdot SE_b^2}}$\n",
    "\n",
    "Where:\n",
    "- a = path coefficient from X -> M\n",
    "- b = path coefficient from M -> Y\n",
    "- $SE_a$ = standard error of a\n",
    "- $SE_b$ = standard error of b\n",
    "\n",
    "Abu-Bader, S., & Jones, T. V. (2021). Statistical mediation analysis using the Sobel test and Hayes SPSS Process Macro. International Journal of Quantitative and Qualitative Research Methods, 9(1), 42–61."
   ],
   "id": "81a50eecf148be5d"
  },
  {
   "metadata": {
    "ExecuteTime": {
     "end_time": "2025-07-10T18:31:07.616766Z",
     "start_time": "2025-07-10T18:31:07.609287Z"
    }
   },
   "cell_type": "code",
   "source": [
    "post_results = []\n",
    "for predictor in ['QS', 'QF', 'QT']:\n",
    "    post_a_path_coefficient = float(\n",
    "        post_paths.loc[('S', predictor), 'Estimate']\n",
    "    )\n",
    "    post_a_standardized_path_coefficient = float(\n",
    "        post_paths.loc[('S', predictor), 'Est. Std']\n",
    "    )\n",
    "    post_a_path_standard_error = float(\n",
    "        post_paths.loc[('S', predictor), 'Std. Err']\n",
    "    )\n",
    "\n",
    "    # Indirect effect = a * b\n",
    "    post_indirect_effect = (\n",
    "        post_a_path_coefficient * post_b_path_coefficient\n",
    "    )\n",
    "    post_standardized_indirect_effect = (\n",
    "        post_a_standardized_path_coefficient * post_b_path_standardized_coefficient\n",
    "    )\n",
    "\n",
    "    # Sobel standard error: sqrt(b^2 * SE_a^2 + a^2 * SE_b^2)\n",
    "    post_indirect_se = math.sqrt(\n",
    "        (post_b_path_coefficient ** 2) * (post_a_path_standard_error ** 2) +\n",
    "        (post_a_path_coefficient ** 2) * (post_b_path_standard_error ** 2)\n",
    "    )\n",
    "    post_standardized_indirect_effect = (\n",
    "        post_a_standardized_path_coefficient * post_b_path_standardized_coefficient\n",
    "    )\n",
    "\n",
    "    post_z_value = post_indirect_effect / post_indirect_se\n",
    "    post_p_value = 2 * (1 - norm.cdf(abs(post_z_value)))\n",
    "\n",
    "    post_results.append({\n",
    "        'Path': f'{predictor} -> L (via S)',\n",
    "        'Indirect Effect': round(post_indirect_effect, 3),\n",
    "        'Std. Indirect Effect': round(post_standardized_indirect_effect, 3),\n",
    "        'Standard Error':  round(post_indirect_se, 3),\n",
    "        'z-value': round(post_z_value, 2),\n",
    "        'p-value': round(post_p_value, 4)\n",
    "    })"
   ],
   "id": "8219355abb8cae39",
   "outputs": [],
   "execution_count": 39
  },
  {
   "metadata": {
    "ExecuteTime": {
     "end_time": "2025-07-10T18:31:07.705324Z",
     "start_time": "2025-07-10T18:31:07.697724Z"
    }
   },
   "cell_type": "code",
   "source": [
    "post_indirect_effects_df = pd.DataFrame(post_results)\n",
    "post_indirect_effects_df = post_indirect_effects_df.round(3)\n",
    "post_indirect_effects_df"
   ],
   "id": "7a6403fae001529b",
   "outputs": [
    {
     "data": {
      "text/plain": [
       "              Path  Indirect Effect  Std. Indirect Effect  Standard Error  \\\n",
       "0  QS -> L (via S)            0.330                 0.325           0.071   \n",
       "1  QF -> L (via S)            0.273                 0.140           0.145   \n",
       "2  QT -> L (via S)            0.162                 0.133           0.074   \n",
       "\n",
       "   z-value  p-value  \n",
       "0     4.65    0.000  \n",
       "1     1.88    0.060  \n",
       "2     2.20    0.028  "
      ],
      "text/html": [
       "<div>\n",
       "<style scoped>\n",
       "    .dataframe tbody tr th:only-of-type {\n",
       "        vertical-align: middle;\n",
       "    }\n",
       "\n",
       "    .dataframe tbody tr th {\n",
       "        vertical-align: top;\n",
       "    }\n",
       "\n",
       "    .dataframe thead th {\n",
       "        text-align: right;\n",
       "    }\n",
       "</style>\n",
       "<table border=\"1\" class=\"dataframe\">\n",
       "  <thead>\n",
       "    <tr style=\"text-align: right;\">\n",
       "      <th></th>\n",
       "      <th>Path</th>\n",
       "      <th>Indirect Effect</th>\n",
       "      <th>Std. Indirect Effect</th>\n",
       "      <th>Standard Error</th>\n",
       "      <th>z-value</th>\n",
       "      <th>p-value</th>\n",
       "    </tr>\n",
       "  </thead>\n",
       "  <tbody>\n",
       "    <tr>\n",
       "      <th>0</th>\n",
       "      <td>QS -&gt; L (via S)</td>\n",
       "      <td>0.330</td>\n",
       "      <td>0.325</td>\n",
       "      <td>0.071</td>\n",
       "      <td>4.65</td>\n",
       "      <td>0.000</td>\n",
       "    </tr>\n",
       "    <tr>\n",
       "      <th>1</th>\n",
       "      <td>QF -&gt; L (via S)</td>\n",
       "      <td>0.273</td>\n",
       "      <td>0.140</td>\n",
       "      <td>0.145</td>\n",
       "      <td>1.88</td>\n",
       "      <td>0.060</td>\n",
       "    </tr>\n",
       "    <tr>\n",
       "      <th>2</th>\n",
       "      <td>QT -&gt; L (via S)</td>\n",
       "      <td>0.162</td>\n",
       "      <td>0.133</td>\n",
       "      <td>0.074</td>\n",
       "      <td>2.20</td>\n",
       "      <td>0.028</td>\n",
       "    </tr>\n",
       "  </tbody>\n",
       "</table>\n",
       "</div>"
      ]
     },
     "execution_count": 40,
     "metadata": {},
     "output_type": "execute_result"
    }
   ],
   "execution_count": 40
  },
  {
   "metadata": {},
   "cell_type": "markdown",
   "source": "## Final Analysis",
   "id": "859af65548cd82ca"
  },
  {
   "metadata": {
    "ExecuteTime": {
     "end_time": "2025-07-10T18:31:07.813073Z",
     "start_time": "2025-07-10T18:31:07.805701Z"
    }
   },
   "cell_type": "code",
   "source": "gender_direct_effects_df",
   "id": "1565d1d54c5c0a5f",
   "outputs": [
    {
     "data": {
      "text/plain": [
       "  Outcome Predictor  beta_female  beta_std_female  SE_female  beta_male  \\\n",
       "0       S        QT        0.102            0.100      0.070      0.262   \n",
       "1       S        QS        0.373            0.434      0.057      0.637   \n",
       "2       S        QF        0.379            0.348      0.083      0.024   \n",
       "3       L         S        0.626            0.603      0.065      0.610   \n",
       "\n",
       "   beta_std_male  SE_male  z_wald  p_wald difference_significant  \n",
       "0          0.230    0.074  -1.559   0.119                     No  \n",
       "1          0.625    0.080  -2.676   0.007                    Yes  \n",
       "2          0.014    0.130   2.301   0.021                    Yes  \n",
       "3          0.724    0.055   0.183   0.855                     No  "
      ],
      "text/html": [
       "<div>\n",
       "<style scoped>\n",
       "    .dataframe tbody tr th:only-of-type {\n",
       "        vertical-align: middle;\n",
       "    }\n",
       "\n",
       "    .dataframe tbody tr th {\n",
       "        vertical-align: top;\n",
       "    }\n",
       "\n",
       "    .dataframe thead th {\n",
       "        text-align: right;\n",
       "    }\n",
       "</style>\n",
       "<table border=\"1\" class=\"dataframe\">\n",
       "  <thead>\n",
       "    <tr style=\"text-align: right;\">\n",
       "      <th></th>\n",
       "      <th>Outcome</th>\n",
       "      <th>Predictor</th>\n",
       "      <th>beta_female</th>\n",
       "      <th>beta_std_female</th>\n",
       "      <th>SE_female</th>\n",
       "      <th>beta_male</th>\n",
       "      <th>beta_std_male</th>\n",
       "      <th>SE_male</th>\n",
       "      <th>z_wald</th>\n",
       "      <th>p_wald</th>\n",
       "      <th>difference_significant</th>\n",
       "    </tr>\n",
       "  </thead>\n",
       "  <tbody>\n",
       "    <tr>\n",
       "      <th>0</th>\n",
       "      <td>S</td>\n",
       "      <td>QT</td>\n",
       "      <td>0.102</td>\n",
       "      <td>0.100</td>\n",
       "      <td>0.070</td>\n",
       "      <td>0.262</td>\n",
       "      <td>0.230</td>\n",
       "      <td>0.074</td>\n",
       "      <td>-1.559</td>\n",
       "      <td>0.119</td>\n",
       "      <td>No</td>\n",
       "    </tr>\n",
       "    <tr>\n",
       "      <th>1</th>\n",
       "      <td>S</td>\n",
       "      <td>QS</td>\n",
       "      <td>0.373</td>\n",
       "      <td>0.434</td>\n",
       "      <td>0.057</td>\n",
       "      <td>0.637</td>\n",
       "      <td>0.625</td>\n",
       "      <td>0.080</td>\n",
       "      <td>-2.676</td>\n",
       "      <td>0.007</td>\n",
       "      <td>Yes</td>\n",
       "    </tr>\n",
       "    <tr>\n",
       "      <th>2</th>\n",
       "      <td>S</td>\n",
       "      <td>QF</td>\n",
       "      <td>0.379</td>\n",
       "      <td>0.348</td>\n",
       "      <td>0.083</td>\n",
       "      <td>0.024</td>\n",
       "      <td>0.014</td>\n",
       "      <td>0.130</td>\n",
       "      <td>2.301</td>\n",
       "      <td>0.021</td>\n",
       "      <td>Yes</td>\n",
       "    </tr>\n",
       "    <tr>\n",
       "      <th>3</th>\n",
       "      <td>L</td>\n",
       "      <td>S</td>\n",
       "      <td>0.626</td>\n",
       "      <td>0.603</td>\n",
       "      <td>0.065</td>\n",
       "      <td>0.610</td>\n",
       "      <td>0.724</td>\n",
       "      <td>0.055</td>\n",
       "      <td>0.183</td>\n",
       "      <td>0.855</td>\n",
       "      <td>No</td>\n",
       "    </tr>\n",
       "  </tbody>\n",
       "</table>\n",
       "</div>"
      ]
     },
     "execution_count": 41,
     "metadata": {},
     "output_type": "execute_result"
    }
   ],
   "execution_count": 41
  },
  {
   "metadata": {
    "ExecuteTime": {
     "end_time": "2025-07-10T18:31:07.923861Z",
     "start_time": "2025-07-10T18:31:07.915508Z"
    }
   },
   "cell_type": "code",
   "source": "plan_type_direct_effects_df",
   "id": "4124164dd3a7860a",
   "outputs": [
    {
     "data": {
      "text/plain": [
       "  Outcome Predictor  beta_pre  beta_std_pre  SE_pre  beta_post  beta_std_post  \\\n",
       "0       S        QT     0.175         0.171   0.062      0.230          0.191   \n",
       "1       S        QF     0.209         0.196   0.060      0.388          0.201   \n",
       "2       S        QS     0.486         0.548   0.054      0.469          0.467   \n",
       "3       L         S     0.560         0.637   0.054      0.704          0.697   \n",
       "\n",
       "   SE_post  z_wald  p_wald significant_difference  \n",
       "0    0.087  -0.520   0.603                     No  \n",
       "1    0.154  -1.084   0.279                     No  \n",
       "2    0.084   0.175   0.861                     No  \n",
       "3    0.066  -1.693   0.091                     No  "
      ],
      "text/html": [
       "<div>\n",
       "<style scoped>\n",
       "    .dataframe tbody tr th:only-of-type {\n",
       "        vertical-align: middle;\n",
       "    }\n",
       "\n",
       "    .dataframe tbody tr th {\n",
       "        vertical-align: top;\n",
       "    }\n",
       "\n",
       "    .dataframe thead th {\n",
       "        text-align: right;\n",
       "    }\n",
       "</style>\n",
       "<table border=\"1\" class=\"dataframe\">\n",
       "  <thead>\n",
       "    <tr style=\"text-align: right;\">\n",
       "      <th></th>\n",
       "      <th>Outcome</th>\n",
       "      <th>Predictor</th>\n",
       "      <th>beta_pre</th>\n",
       "      <th>beta_std_pre</th>\n",
       "      <th>SE_pre</th>\n",
       "      <th>beta_post</th>\n",
       "      <th>beta_std_post</th>\n",
       "      <th>SE_post</th>\n",
       "      <th>z_wald</th>\n",
       "      <th>p_wald</th>\n",
       "      <th>significant_difference</th>\n",
       "    </tr>\n",
       "  </thead>\n",
       "  <tbody>\n",
       "    <tr>\n",
       "      <th>0</th>\n",
       "      <td>S</td>\n",
       "      <td>QT</td>\n",
       "      <td>0.175</td>\n",
       "      <td>0.171</td>\n",
       "      <td>0.062</td>\n",
       "      <td>0.230</td>\n",
       "      <td>0.191</td>\n",
       "      <td>0.087</td>\n",
       "      <td>-0.520</td>\n",
       "      <td>0.603</td>\n",
       "      <td>No</td>\n",
       "    </tr>\n",
       "    <tr>\n",
       "      <th>1</th>\n",
       "      <td>S</td>\n",
       "      <td>QF</td>\n",
       "      <td>0.209</td>\n",
       "      <td>0.196</td>\n",
       "      <td>0.060</td>\n",
       "      <td>0.388</td>\n",
       "      <td>0.201</td>\n",
       "      <td>0.154</td>\n",
       "      <td>-1.084</td>\n",
       "      <td>0.279</td>\n",
       "      <td>No</td>\n",
       "    </tr>\n",
       "    <tr>\n",
       "      <th>2</th>\n",
       "      <td>S</td>\n",
       "      <td>QS</td>\n",
       "      <td>0.486</td>\n",
       "      <td>0.548</td>\n",
       "      <td>0.054</td>\n",
       "      <td>0.469</td>\n",
       "      <td>0.467</td>\n",
       "      <td>0.084</td>\n",
       "      <td>0.175</td>\n",
       "      <td>0.861</td>\n",
       "      <td>No</td>\n",
       "    </tr>\n",
       "    <tr>\n",
       "      <th>3</th>\n",
       "      <td>L</td>\n",
       "      <td>S</td>\n",
       "      <td>0.560</td>\n",
       "      <td>0.637</td>\n",
       "      <td>0.054</td>\n",
       "      <td>0.704</td>\n",
       "      <td>0.697</td>\n",
       "      <td>0.066</td>\n",
       "      <td>-1.693</td>\n",
       "      <td>0.091</td>\n",
       "      <td>No</td>\n",
       "    </tr>\n",
       "  </tbody>\n",
       "</table>\n",
       "</div>"
      ]
     },
     "execution_count": 42,
     "metadata": {},
     "output_type": "execute_result"
    }
   ],
   "execution_count": 42
  },
  {
   "metadata": {
    "ExecuteTime": {
     "end_time": "2025-07-10T18:31:08.044735Z",
     "start_time": "2025-07-10T18:31:08.038630Z"
    }
   },
   "cell_type": "code",
   "source": "male_indirect_effects_df",
   "id": "4da67dddf83f0686",
   "outputs": [
    {
     "data": {
      "text/plain": [
       "              Path  Indirect Effect  Std. Indirect Effect  Standard Error  \\\n",
       "0  QS -> L (via S)            0.388                 0.453           0.069   \n",
       "1  QF -> L (via S)            0.015                 0.010           0.093   \n",
       "2  QT -> L (via S)            0.160                 0.167           0.051   \n",
       "\n",
       "   z-value  p-value  \n",
       "0     5.65    0.000  \n",
       "1     0.16    0.874  \n",
       "2     3.15    0.002  "
      ],
      "text/html": [
       "<div>\n",
       "<style scoped>\n",
       "    .dataframe tbody tr th:only-of-type {\n",
       "        vertical-align: middle;\n",
       "    }\n",
       "\n",
       "    .dataframe tbody tr th {\n",
       "        vertical-align: top;\n",
       "    }\n",
       "\n",
       "    .dataframe thead th {\n",
       "        text-align: right;\n",
       "    }\n",
       "</style>\n",
       "<table border=\"1\" class=\"dataframe\">\n",
       "  <thead>\n",
       "    <tr style=\"text-align: right;\">\n",
       "      <th></th>\n",
       "      <th>Path</th>\n",
       "      <th>Indirect Effect</th>\n",
       "      <th>Std. Indirect Effect</th>\n",
       "      <th>Standard Error</th>\n",
       "      <th>z-value</th>\n",
       "      <th>p-value</th>\n",
       "    </tr>\n",
       "  </thead>\n",
       "  <tbody>\n",
       "    <tr>\n",
       "      <th>0</th>\n",
       "      <td>QS -&gt; L (via S)</td>\n",
       "      <td>0.388</td>\n",
       "      <td>0.453</td>\n",
       "      <td>0.069</td>\n",
       "      <td>5.65</td>\n",
       "      <td>0.000</td>\n",
       "    </tr>\n",
       "    <tr>\n",
       "      <th>1</th>\n",
       "      <td>QF -&gt; L (via S)</td>\n",
       "      <td>0.015</td>\n",
       "      <td>0.010</td>\n",
       "      <td>0.093</td>\n",
       "      <td>0.16</td>\n",
       "      <td>0.874</td>\n",
       "    </tr>\n",
       "    <tr>\n",
       "      <th>2</th>\n",
       "      <td>QT -&gt; L (via S)</td>\n",
       "      <td>0.160</td>\n",
       "      <td>0.167</td>\n",
       "      <td>0.051</td>\n",
       "      <td>3.15</td>\n",
       "      <td>0.002</td>\n",
       "    </tr>\n",
       "  </tbody>\n",
       "</table>\n",
       "</div>"
      ]
     },
     "execution_count": 43,
     "metadata": {},
     "output_type": "execute_result"
    }
   ],
   "execution_count": 43
  },
  {
   "metadata": {
    "ExecuteTime": {
     "end_time": "2025-07-10T18:31:08.187560Z",
     "start_time": "2025-07-10T18:31:08.182523Z"
    }
   },
   "cell_type": "code",
   "source": "female_indirect_effects_df",
   "id": "fbc499c6cda26585",
   "outputs": [
    {
     "data": {
      "text/plain": [
       "              Path  Indirect Effect  Std. Indirect Effect  Standard Error  \\\n",
       "0  QS -> L (via S)            0.225                 0.314           0.051   \n",
       "1  QF -> L (via S)            0.229                 0.252           0.069   \n",
       "2  QT -> L (via S)            0.061                 0.073           0.045   \n",
       "\n",
       "   z-value  p-value  \n",
       "0     4.42    0.000  \n",
       "1     3.33    0.001  \n",
       "2     1.38    0.169  "
      ],
      "text/html": [
       "<div>\n",
       "<style scoped>\n",
       "    .dataframe tbody tr th:only-of-type {\n",
       "        vertical-align: middle;\n",
       "    }\n",
       "\n",
       "    .dataframe tbody tr th {\n",
       "        vertical-align: top;\n",
       "    }\n",
       "\n",
       "    .dataframe thead th {\n",
       "        text-align: right;\n",
       "    }\n",
       "</style>\n",
       "<table border=\"1\" class=\"dataframe\">\n",
       "  <thead>\n",
       "    <tr style=\"text-align: right;\">\n",
       "      <th></th>\n",
       "      <th>Path</th>\n",
       "      <th>Indirect Effect</th>\n",
       "      <th>Std. Indirect Effect</th>\n",
       "      <th>Standard Error</th>\n",
       "      <th>z-value</th>\n",
       "      <th>p-value</th>\n",
       "    </tr>\n",
       "  </thead>\n",
       "  <tbody>\n",
       "    <tr>\n",
       "      <th>0</th>\n",
       "      <td>QS -&gt; L (via S)</td>\n",
       "      <td>0.225</td>\n",
       "      <td>0.314</td>\n",
       "      <td>0.051</td>\n",
       "      <td>4.42</td>\n",
       "      <td>0.000</td>\n",
       "    </tr>\n",
       "    <tr>\n",
       "      <th>1</th>\n",
       "      <td>QF -&gt; L (via S)</td>\n",
       "      <td>0.229</td>\n",
       "      <td>0.252</td>\n",
       "      <td>0.069</td>\n",
       "      <td>3.33</td>\n",
       "      <td>0.001</td>\n",
       "    </tr>\n",
       "    <tr>\n",
       "      <th>2</th>\n",
       "      <td>QT -&gt; L (via S)</td>\n",
       "      <td>0.061</td>\n",
       "      <td>0.073</td>\n",
       "      <td>0.045</td>\n",
       "      <td>1.38</td>\n",
       "      <td>0.169</td>\n",
       "    </tr>\n",
       "  </tbody>\n",
       "</table>\n",
       "</div>"
      ]
     },
     "execution_count": 44,
     "metadata": {},
     "output_type": "execute_result"
    }
   ],
   "execution_count": 44
  },
  {
   "metadata": {
    "ExecuteTime": {
     "end_time": "2025-07-10T18:31:08.317919Z",
     "start_time": "2025-07-10T18:31:08.311763Z"
    }
   },
   "cell_type": "code",
   "source": "pre_indirect_effects_df",
   "id": "fc6ddb31dbad688d",
   "outputs": [
    {
     "data": {
      "text/plain": [
       "              Path  Indirect Effect  Std. Indirect Effect  Standard Error  \\\n",
       "0  QS -> L (via S)            0.272                 0.349           0.049   \n",
       "1  QF -> L (via S)            0.117                 0.125           0.039   \n",
       "2  QT -> L (via S)            0.098                 0.109           0.034   \n",
       "\n",
       "   z-value  p-value  \n",
       "0     5.55    0.000  \n",
       "1     3.02    0.002  \n",
       "2     2.91    0.004  "
      ],
      "text/html": [
       "<div>\n",
       "<style scoped>\n",
       "    .dataframe tbody tr th:only-of-type {\n",
       "        vertical-align: middle;\n",
       "    }\n",
       "\n",
       "    .dataframe tbody tr th {\n",
       "        vertical-align: top;\n",
       "    }\n",
       "\n",
       "    .dataframe thead th {\n",
       "        text-align: right;\n",
       "    }\n",
       "</style>\n",
       "<table border=\"1\" class=\"dataframe\">\n",
       "  <thead>\n",
       "    <tr style=\"text-align: right;\">\n",
       "      <th></th>\n",
       "      <th>Path</th>\n",
       "      <th>Indirect Effect</th>\n",
       "      <th>Std. Indirect Effect</th>\n",
       "      <th>Standard Error</th>\n",
       "      <th>z-value</th>\n",
       "      <th>p-value</th>\n",
       "    </tr>\n",
       "  </thead>\n",
       "  <tbody>\n",
       "    <tr>\n",
       "      <th>0</th>\n",
       "      <td>QS -&gt; L (via S)</td>\n",
       "      <td>0.272</td>\n",
       "      <td>0.349</td>\n",
       "      <td>0.049</td>\n",
       "      <td>5.55</td>\n",
       "      <td>0.000</td>\n",
       "    </tr>\n",
       "    <tr>\n",
       "      <th>1</th>\n",
       "      <td>QF -&gt; L (via S)</td>\n",
       "      <td>0.117</td>\n",
       "      <td>0.125</td>\n",
       "      <td>0.039</td>\n",
       "      <td>3.02</td>\n",
       "      <td>0.002</td>\n",
       "    </tr>\n",
       "    <tr>\n",
       "      <th>2</th>\n",
       "      <td>QT -&gt; L (via S)</td>\n",
       "      <td>0.098</td>\n",
       "      <td>0.109</td>\n",
       "      <td>0.034</td>\n",
       "      <td>2.91</td>\n",
       "      <td>0.004</td>\n",
       "    </tr>\n",
       "  </tbody>\n",
       "</table>\n",
       "</div>"
      ]
     },
     "execution_count": 45,
     "metadata": {},
     "output_type": "execute_result"
    }
   ],
   "execution_count": 45
  },
  {
   "metadata": {
    "ExecuteTime": {
     "end_time": "2025-07-10T18:31:08.455765Z",
     "start_time": "2025-07-10T18:31:08.450707Z"
    }
   },
   "cell_type": "code",
   "source": "post_indirect_effects_df",
   "id": "dd2d88746dd45d73",
   "outputs": [
    {
     "data": {
      "text/plain": [
       "              Path  Indirect Effect  Std. Indirect Effect  Standard Error  \\\n",
       "0  QS -> L (via S)            0.330                 0.325           0.071   \n",
       "1  QF -> L (via S)            0.273                 0.140           0.145   \n",
       "2  QT -> L (via S)            0.162                 0.133           0.074   \n",
       "\n",
       "   z-value  p-value  \n",
       "0     4.65    0.000  \n",
       "1     1.88    0.060  \n",
       "2     2.20    0.028  "
      ],
      "text/html": [
       "<div>\n",
       "<style scoped>\n",
       "    .dataframe tbody tr th:only-of-type {\n",
       "        vertical-align: middle;\n",
       "    }\n",
       "\n",
       "    .dataframe tbody tr th {\n",
       "        vertical-align: top;\n",
       "    }\n",
       "\n",
       "    .dataframe thead th {\n",
       "        text-align: right;\n",
       "    }\n",
       "</style>\n",
       "<table border=\"1\" class=\"dataframe\">\n",
       "  <thead>\n",
       "    <tr style=\"text-align: right;\">\n",
       "      <th></th>\n",
       "      <th>Path</th>\n",
       "      <th>Indirect Effect</th>\n",
       "      <th>Std. Indirect Effect</th>\n",
       "      <th>Standard Error</th>\n",
       "      <th>z-value</th>\n",
       "      <th>p-value</th>\n",
       "    </tr>\n",
       "  </thead>\n",
       "  <tbody>\n",
       "    <tr>\n",
       "      <th>0</th>\n",
       "      <td>QS -&gt; L (via S)</td>\n",
       "      <td>0.330</td>\n",
       "      <td>0.325</td>\n",
       "      <td>0.071</td>\n",
       "      <td>4.65</td>\n",
       "      <td>0.000</td>\n",
       "    </tr>\n",
       "    <tr>\n",
       "      <th>1</th>\n",
       "      <td>QF -&gt; L (via S)</td>\n",
       "      <td>0.273</td>\n",
       "      <td>0.140</td>\n",
       "      <td>0.145</td>\n",
       "      <td>1.88</td>\n",
       "      <td>0.060</td>\n",
       "    </tr>\n",
       "    <tr>\n",
       "      <th>2</th>\n",
       "      <td>QT -&gt; L (via S)</td>\n",
       "      <td>0.162</td>\n",
       "      <td>0.133</td>\n",
       "      <td>0.074</td>\n",
       "      <td>2.20</td>\n",
       "      <td>0.028</td>\n",
       "    </tr>\n",
       "  </tbody>\n",
       "</table>\n",
       "</div>"
      ]
     },
     "execution_count": 46,
     "metadata": {},
     "output_type": "execute_result"
    }
   ],
   "execution_count": 46
  },
  {
   "metadata": {},
   "cell_type": "markdown",
   "source": [
    "This analysis aimed at examining whether the structural model relationships differ significantly by gender and contract type.\n",
    "\n",
    "**Moderation by Gender:**\n",
    "\n",
    "Four hypotheses (H5a–H5d) were tested to determine if men and women have different effects of quality on satisfaction and satisfaction on loyalty.\n",
    "According to the Wald tests:\n",
    "\n",
    "1. H5a (QS -> S, effect bigger for women): **Not supported**, the difference between men and women is not significant (p = 0.119)\n",
    "2. H5b (QF -> S, effect bigger for women): **Supported**, the difference is significant (p < 0.05) and the effect is bigger for women than for men ($\\beta^* = .348$ and $\\beta^* = .014$ respectively)\n",
    "3. H5c (QT -> S, effect bigger for women): **Not supported**, although the difference is significant (p < 0.01), the direction of the effect is opposite to what was hypothesized\n",
    "4. H5d (S -> L, effect bigger for women): **Not supported**, the difference is not significant (p = .855)\n",
    "\n",
    "Thus, only H5b was confirmed. This suggests that financial quality plays a more influential role in determining satisfaction for female consumers\n",
    "\n",
    "\n",
    "**Moderation by Contract type:**\n",
    "\n",
    "Similarly to gender, four hypotheses (H6a–H6d) were tested to determine if prepaid and postpaid consumers have different effects of quality on satisfaction and satisfaction on loyalty.\n",
    "\n",
    "None of the hypotheses (H6a–H6d) were supported, contract type does not significantly moderate the hypothesized relationships (p ranging from .091  to 0.861).\n",
    "\n",
    "**Indirect Effects**\n",
    "There was no hypothesized moderation of the indirect effects, but they were calculated for completeness, only 3 of the 12 mediation paths were not significant (according to Sobel's tests), male QF -> L (p=.874), female QT -> L (p=.169) and postpaid QF -> L (p=.060)."
   ],
   "id": "abf94bd0db2efa8"
  }
 ],
 "metadata": {
  "kernelspec": {
   "display_name": "Python 3 (ipykernel)",
   "language": "python",
   "name": "python3"
  },
  "language_info": {
   "codemirror_mode": {
    "name": "ipython",
    "version": 3
   },
   "file_extension": ".py",
   "mimetype": "text/x-python",
   "name": "python",
   "nbconvert_exporter": "python",
   "pygments_lexer": "ipython3",
   "version": "3.10.11"
  }
 },
 "nbformat": 4,
 "nbformat_minor": 5
}
