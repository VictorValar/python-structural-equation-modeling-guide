{
 "cells": [
  {
   "cell_type": "markdown",
   "id": "2686fb3a4fefcb90",
   "metadata": {},
   "source": [
    "# Practice 2: Structural Model\n",
    "\n",
    "## Objetives:\n",
    "1. Test the hypothesized model\n",
    "    1. H1 - Customer service quality(QS) positively influences Satisfaction (S)\n",
    "    2. H2 - Financial quality (QF) positively influences Satisfaction (S)\n",
    "    3. H3 - Technical quality (QT) positively influences Satisfaction (S)\n",
    "    4. H4 - Satisfaction (S) positively influences Loyalty (L)\n",
    "2. Report direct and indirect effects"
   ]
  },
  {
   "metadata": {},
   "cell_type": "markdown",
   "source": "## Data Preparation",
   "id": "ff629a8b552f2630"
  },
  {
   "metadata": {
    "ExecuteTime": {
     "end_time": "2025-07-11T17:00:37.904316Z",
     "start_time": "2025-07-11T17:00:37.559132Z"
    }
   },
   "cell_type": "code",
   "source": [
    "import pandas as pd\n",
    "import pyreadstat\n",
    "from pandas.core.interchange.dataframe_protocol import DataFrame\n",
    "\n",
    "raw_data_df, meta = pyreadstat.read_sav(\"../data/EXERCICIO_2025.sav\")\n",
    "raw_data_df.head()"
   ],
   "id": "f76fd2c9f0a24fd4",
   "outputs": [
    {
     "data": {
      "text/plain": [
       "   CASO   f1   f2   f3   f4   f5    f6    f7  P1.1_QA  P1.2_QA  ...   P7  P14  \\\n",
       "0   NaN  1.0  3.0  6.0  1.0  1.0  50.0  18.0      8.0      6.0  ...  3.0  2.0   \n",
       "1   NaN  1.0  1.0  5.0  1.0  1.0  36.0  35.0      8.0      7.0  ...  1.0  1.0   \n",
       "2   NaN  1.0  3.0  5.0  1.0  1.0  72.0  73.0     10.0     10.0  ...  2.0  2.0   \n",
       "3   NaN  1.0  3.0  9.0  1.0  1.0  24.0  27.0      6.0      6.0  ...  1.0  2.0   \n",
       "4   NaN  1.0  4.0  9.0  1.0  1.0  72.0  24.0      2.0      5.0  ...  2.0  1.0   \n",
       "\n",
       "     ltv2  tempo  clsocial  SATIS  LEAL  ATEND        FIN   TEC  \n",
       "0  1373.0   61.0       5.0   6.50   6.2    7.2   9.333333  8.50  \n",
       "1  1002.0   47.0       5.0   5.50   4.4    6.8   6.666667  8.00  \n",
       "2  2097.0   83.0       5.0   7.50   8.0    9.6  10.000000  8.00  \n",
       "3   802.0   35.0       4.0   6.25   6.2    6.4   7.666667  6.50  \n",
       "4  4835.0   78.0       4.0   5.25   4.4    4.4   5.666667  5.75  \n",
       "\n",
       "[5 rows x 45 columns]"
      ],
      "text/html": [
       "<div>\n",
       "<style scoped>\n",
       "    .dataframe tbody tr th:only-of-type {\n",
       "        vertical-align: middle;\n",
       "    }\n",
       "\n",
       "    .dataframe tbody tr th {\n",
       "        vertical-align: top;\n",
       "    }\n",
       "\n",
       "    .dataframe thead th {\n",
       "        text-align: right;\n",
       "    }\n",
       "</style>\n",
       "<table border=\"1\" class=\"dataframe\">\n",
       "  <thead>\n",
       "    <tr style=\"text-align: right;\">\n",
       "      <th></th>\n",
       "      <th>CASO</th>\n",
       "      <th>f1</th>\n",
       "      <th>f2</th>\n",
       "      <th>f3</th>\n",
       "      <th>f4</th>\n",
       "      <th>f5</th>\n",
       "      <th>f6</th>\n",
       "      <th>f7</th>\n",
       "      <th>P1.1_QA</th>\n",
       "      <th>P1.2_QA</th>\n",
       "      <th>...</th>\n",
       "      <th>P7</th>\n",
       "      <th>P14</th>\n",
       "      <th>ltv2</th>\n",
       "      <th>tempo</th>\n",
       "      <th>clsocial</th>\n",
       "      <th>SATIS</th>\n",
       "      <th>LEAL</th>\n",
       "      <th>ATEND</th>\n",
       "      <th>FIN</th>\n",
       "      <th>TEC</th>\n",
       "    </tr>\n",
       "  </thead>\n",
       "  <tbody>\n",
       "    <tr>\n",
       "      <th>0</th>\n",
       "      <td>NaN</td>\n",
       "      <td>1.0</td>\n",
       "      <td>3.0</td>\n",
       "      <td>6.0</td>\n",
       "      <td>1.0</td>\n",
       "      <td>1.0</td>\n",
       "      <td>50.0</td>\n",
       "      <td>18.0</td>\n",
       "      <td>8.0</td>\n",
       "      <td>6.0</td>\n",
       "      <td>...</td>\n",
       "      <td>3.0</td>\n",
       "      <td>2.0</td>\n",
       "      <td>1373.0</td>\n",
       "      <td>61.0</td>\n",
       "      <td>5.0</td>\n",
       "      <td>6.50</td>\n",
       "      <td>6.2</td>\n",
       "      <td>7.2</td>\n",
       "      <td>9.333333</td>\n",
       "      <td>8.50</td>\n",
       "    </tr>\n",
       "    <tr>\n",
       "      <th>1</th>\n",
       "      <td>NaN</td>\n",
       "      <td>1.0</td>\n",
       "      <td>1.0</td>\n",
       "      <td>5.0</td>\n",
       "      <td>1.0</td>\n",
       "      <td>1.0</td>\n",
       "      <td>36.0</td>\n",
       "      <td>35.0</td>\n",
       "      <td>8.0</td>\n",
       "      <td>7.0</td>\n",
       "      <td>...</td>\n",
       "      <td>1.0</td>\n",
       "      <td>1.0</td>\n",
       "      <td>1002.0</td>\n",
       "      <td>47.0</td>\n",
       "      <td>5.0</td>\n",
       "      <td>5.50</td>\n",
       "      <td>4.4</td>\n",
       "      <td>6.8</td>\n",
       "      <td>6.666667</td>\n",
       "      <td>8.00</td>\n",
       "    </tr>\n",
       "    <tr>\n",
       "      <th>2</th>\n",
       "      <td>NaN</td>\n",
       "      <td>1.0</td>\n",
       "      <td>3.0</td>\n",
       "      <td>5.0</td>\n",
       "      <td>1.0</td>\n",
       "      <td>1.0</td>\n",
       "      <td>72.0</td>\n",
       "      <td>73.0</td>\n",
       "      <td>10.0</td>\n",
       "      <td>10.0</td>\n",
       "      <td>...</td>\n",
       "      <td>2.0</td>\n",
       "      <td>2.0</td>\n",
       "      <td>2097.0</td>\n",
       "      <td>83.0</td>\n",
       "      <td>5.0</td>\n",
       "      <td>7.50</td>\n",
       "      <td>8.0</td>\n",
       "      <td>9.6</td>\n",
       "      <td>10.000000</td>\n",
       "      <td>8.00</td>\n",
       "    </tr>\n",
       "    <tr>\n",
       "      <th>3</th>\n",
       "      <td>NaN</td>\n",
       "      <td>1.0</td>\n",
       "      <td>3.0</td>\n",
       "      <td>9.0</td>\n",
       "      <td>1.0</td>\n",
       "      <td>1.0</td>\n",
       "      <td>24.0</td>\n",
       "      <td>27.0</td>\n",
       "      <td>6.0</td>\n",
       "      <td>6.0</td>\n",
       "      <td>...</td>\n",
       "      <td>1.0</td>\n",
       "      <td>2.0</td>\n",
       "      <td>802.0</td>\n",
       "      <td>35.0</td>\n",
       "      <td>4.0</td>\n",
       "      <td>6.25</td>\n",
       "      <td>6.2</td>\n",
       "      <td>6.4</td>\n",
       "      <td>7.666667</td>\n",
       "      <td>6.50</td>\n",
       "    </tr>\n",
       "    <tr>\n",
       "      <th>4</th>\n",
       "      <td>NaN</td>\n",
       "      <td>1.0</td>\n",
       "      <td>4.0</td>\n",
       "      <td>9.0</td>\n",
       "      <td>1.0</td>\n",
       "      <td>1.0</td>\n",
       "      <td>72.0</td>\n",
       "      <td>24.0</td>\n",
       "      <td>2.0</td>\n",
       "      <td>5.0</td>\n",
       "      <td>...</td>\n",
       "      <td>2.0</td>\n",
       "      <td>1.0</td>\n",
       "      <td>4835.0</td>\n",
       "      <td>78.0</td>\n",
       "      <td>4.0</td>\n",
       "      <td>5.25</td>\n",
       "      <td>4.4</td>\n",
       "      <td>4.4</td>\n",
       "      <td>5.666667</td>\n",
       "      <td>5.75</td>\n",
       "    </tr>\n",
       "  </tbody>\n",
       "</table>\n",
       "<p>5 rows × 45 columns</p>\n",
       "</div>"
      ]
     },
     "execution_count": 1,
     "metadata": {},
     "output_type": "execute_result"
    }
   ],
   "execution_count": 1
  },
  {
   "cell_type": "code",
   "id": "17ed44e012385cbc",
   "metadata": {
    "ExecuteTime": {
     "end_time": "2025-07-11T17:00:38.107822Z",
     "start_time": "2025-07-11T17:00:38.103125Z"
    }
   },
   "source": [
    "columns_to_filter = [\n",
    "    'P1.1_QA', 'P1.2_QA', 'P1.3_QA', 'P1.4_QA', 'P1.5_QA', 'P1.15_QA', 'P1.16_QA', 'P1.17_QA',\n",
    "    'P1.6_QC', 'P1.7_QC', 'P1.8_QC', 'P1.9_QC',\n",
    "    'P1.10_QT', 'P1.11_QT', 'P1.12_QT', 'P1.13_QT', 'P1.14_QT',\n",
    "    'P3.1_S', 'P3.2_S', 'P3.3_S', 'P3.4_S',\n",
    "    'P6.1_L', 'P6.2_L', 'P6.3_L', 'P6.4_L', 'P6.5_L', 'P6.6_L'\n",
    "]\n",
    "\n",
    "clean_df = raw_data_df[columns_to_filter].copy()\n",
    "\n",
    "clean_df.rename(columns=lambda c: c.replace('.', '_'), inplace=True)\n",
    "clean_df.rename(columns=lambda c: c.replace('C', 'F'), inplace=True)\n",
    "clean_df.rename(columns=lambda c: c.replace('A', 'S'), inplace=True)\n",
    "print(raw_data_df.shape)\n",
    "print(clean_df.shape)\n",
    "print(clean_df.isnull().sum())"
   ],
   "outputs": [
    {
     "name": "stdout",
     "output_type": "stream",
     "text": [
      "(493, 45)\n",
      "(493, 27)\n",
      "P1_1_QS     0\n",
      "P1_2_QS     0\n",
      "P1_3_QS     0\n",
      "P1_4_QS     0\n",
      "P1_5_QS     0\n",
      "P1_15_QS    0\n",
      "P1_16_QS    0\n",
      "P1_17_QS    0\n",
      "P1_6_QF     0\n",
      "P1_7_QF     0\n",
      "P1_8_QF     0\n",
      "P1_9_QF     0\n",
      "P1_10_QT    0\n",
      "P1_11_QT    0\n",
      "P1_12_QT    0\n",
      "P1_13_QT    0\n",
      "P1_14_QT    0\n",
      "P3_1_S      0\n",
      "P3_2_S      0\n",
      "P3_3_S      0\n",
      "P3_4_S      0\n",
      "P6_1_L      0\n",
      "P6_2_L      0\n",
      "P6_3_L      0\n",
      "P6_4_L      0\n",
      "P6_5_L      0\n",
      "P6_6_L      0\n",
      "dtype: int64\n"
     ]
    }
   ],
   "execution_count": 2
  },
  {
   "metadata": {},
   "cell_type": "markdown",
   "source": "## Refined Model",
   "id": "8fe1806356a370cb"
  },
  {
   "metadata": {},
   "cell_type": "markdown",
   "source": "### Modeling",
   "id": "6200a811b77c579"
  },
  {
   "metadata": {
    "ExecuteTime": {
     "end_time": "2025-07-11T17:00:39.301595Z",
     "start_time": "2025-07-11T17:00:38.151037Z"
    }
   },
   "cell_type": "code",
   "source": [
    "from semopy import Model\n",
    "model_description = \"\"\"\n",
    "QS =~ P1_1_QS + P1_2_QS + P1_4_QS + P1_5_QS + P1_16_QS\n",
    "QF =~ P1_6_QF + P1_7_QF + P1_8_QF\n",
    "QT =~ P1_10_QT + P1_11_QT + P1_12_QT + P1_13_QT\n",
    "S =~ P3_1_S + P3_2_S + P3_3_S + P3_4_S\n",
    "L =~ P6_1_L + P6_2_L + P6_3_L + P6_4_L\n",
    "\n",
    "S ~ QS + QF + QT\n",
    "L ~ S\n",
    "\"\"\"\n",
    "\n",
    "model = Model(model_description)\n",
    "solver_results = model.fit(clean_df)\n",
    "factor_scores = model.predict_factors(clean_df)\n",
    "print(solver_results)"
   ],
   "id": "d5c61aafd873685a",
   "outputs": [
    {
     "name": "stdout",
     "output_type": "stream",
     "text": [
      "Name of objective: MLW\n",
      "Optimization method: SLSQP\n",
      "Optimization successful.\n",
      "Optimization terminated successfully\n",
      "Objective value: 1.244\n",
      "Number of iterations: 46\n",
      "Params: 0.831 1.133 1.116 0.721 1.433 1.266 1.223 1.026 0.988 0.862 1.040 1.049 1.109 0.679 0.961 0.478 0.264 0.192 0.623 1.210 2.412 0.742 1.042 1.589 2.382 1.378 1.787 2.317 1.750 1.686 1.163 3.135 0.686 0.679 0.528 0.852 0.741 1.246 2.662 0.593 1.312 0.921 2.754 2.074 0.836 1.148 1.090\n"
     ]
    }
   ],
   "execution_count": 3
  },
  {
   "metadata": {},
   "cell_type": "markdown",
   "source": [
    "### Model Fit\n",
    "$\\chi^{2} / df < 5$\n",
    "\n",
    "CFI, GFI, TLI > 0.9\n",
    "\n",
    "RMSEA < 0,08"
   ],
   "id": "11d3ed3a7efd0c5a"
  },
  {
   "metadata": {
    "ExecuteTime": {
     "end_time": "2025-07-11T17:00:39.345535Z",
     "start_time": "2025-07-11T17:00:39.329786Z"
    }
   },
   "cell_type": "code",
   "source": [
    "from semopy import calc_stats\n",
    "\n",
    "refined_model_stats = calc_stats(model)\n",
    "refined_model_stats.T.loc[refined_model_stats.T.index.isin(['CFI', 'GFI', 'TLI', 'RMSEA'])]"
   ],
   "id": "4515c1b247104a77",
   "outputs": [
    {
     "data": {
      "text/plain": [
       "          Value\n",
       "CFI    0.927604\n",
       "GFI    0.904315\n",
       "TLI    0.915612\n",
       "RMSEA  0.074924"
      ],
      "text/html": [
       "<div>\n",
       "<style scoped>\n",
       "    .dataframe tbody tr th:only-of-type {\n",
       "        vertical-align: middle;\n",
       "    }\n",
       "\n",
       "    .dataframe tbody tr th {\n",
       "        vertical-align: top;\n",
       "    }\n",
       "\n",
       "    .dataframe thead th {\n",
       "        text-align: right;\n",
       "    }\n",
       "</style>\n",
       "<table border=\"1\" class=\"dataframe\">\n",
       "  <thead>\n",
       "    <tr style=\"text-align: right;\">\n",
       "      <th></th>\n",
       "      <th>Value</th>\n",
       "    </tr>\n",
       "  </thead>\n",
       "  <tbody>\n",
       "    <tr>\n",
       "      <th>CFI</th>\n",
       "      <td>0.927604</td>\n",
       "    </tr>\n",
       "    <tr>\n",
       "      <th>GFI</th>\n",
       "      <td>0.904315</td>\n",
       "    </tr>\n",
       "    <tr>\n",
       "      <th>TLI</th>\n",
       "      <td>0.915612</td>\n",
       "    </tr>\n",
       "    <tr>\n",
       "      <th>RMSEA</th>\n",
       "      <td>0.074924</td>\n",
       "    </tr>\n",
       "  </tbody>\n",
       "</table>\n",
       "</div>"
      ]
     },
     "execution_count": 4,
     "metadata": {},
     "output_type": "execute_result"
    }
   ],
   "execution_count": 4
  },
  {
   "metadata": {
    "ExecuteTime": {
     "end_time": "2025-07-11T17:00:39.429786Z",
     "start_time": "2025-07-11T17:00:39.427678Z"
    }
   },
   "cell_type": "code",
   "source": "print(f\"chi squared/degrees of freedom: {(refined_model_stats['chi2'] / refined_model_stats['DoF']).item():.6f}\")",
   "id": "ce0b01b4e6088e6f",
   "outputs": [
    {
     "name": "stdout",
     "output_type": "stream",
     "text": [
      "chi squared/degrees of freedom: 3.761902\n"
     ]
    }
   ],
   "execution_count": 5
  },
  {
   "metadata": {},
   "cell_type": "markdown",
   "source": "All cutoff criteria are satisfied, indicating a good fit of the model to the data.",
   "id": "a017eae91d120f65"
  },
  {
   "metadata": {},
   "cell_type": "markdown",
   "source": "### Model Graph",
   "id": "cb658f405caa8005"
  },
  {
   "metadata": {
    "ExecuteTime": {
     "end_time": "2025-07-11T17:00:39.680712Z",
     "start_time": "2025-07-11T17:00:39.473441Z"
    }
   },
   "cell_type": "code",
   "source": [
    "from semopy import semplot\n",
    "graph = semplot(model, \"./model2.png\", std_ests=True, plot_covs=True)"
   ],
   "id": "177324ef4ec92e6f",
   "outputs": [],
   "execution_count": 6
  },
  {
   "metadata": {
    "ExecuteTime": {
     "end_time": "2025-07-11T17:00:39.921662Z",
     "start_time": "2025-07-11T17:00:39.718196Z"
    }
   },
   "cell_type": "code",
   "source": [
    "graph.render(filename='model2', format='png', cleanup=True)\n",
    "from IPython.display import Image\n",
    "Image(filename='model2.png')"
   ],
   "id": "983284b3c7815fd3",
   "outputs": [
    {
     "data": {
      "image/png": "[encoded data removed]",
      "text/plain": [
       "<IPython.core.display.Image object>"
      ]
     },
     "execution_count": 7,
     "metadata": {},
     "output_type": "execute_result"
    }
   ],
   "execution_count": 7
  },
  {
   "metadata": {},
   "cell_type": "markdown",
   "source": [
    "### R squared\n",
    "Computes $R^2$ for Satisfaction (S) and Loyalty (L) using the standardized betas\n",
    "\n",
    "$R^2 = 1 - \\frac{\\sigma^2(residual)}{\\sigma^2(total)}$\n",
    "\n",
    "Hayes, T. (2021). R-squared change in structural equation models with latent variables and missing data. Behavior Research Methods, 53(5), 2127–2157. https://doi.org/10.3758/s13428-020-01532-y\n"
   ],
   "id": "a2387786e1f87d99"
  },
  {
   "metadata": {
    "ExecuteTime": {
     "end_time": "2025-07-11T17:00:39.973762Z",
     "start_time": "2025-07-11T17:00:39.953605Z"
    }
   },
   "cell_type": "code",
   "source": [
    "paths = (model.inspect(std_est=True)\n",
    "             .query(\"op == '~'\")\n",
    "             .set_index(['lval','rval']))"
   ],
   "id": "2b1aad805e82e484",
   "outputs": [],
   "execution_count": 8
  },
  {
   "metadata": {
    "ExecuteTime": {
     "end_time": "2025-07-11T17:00:40.045427Z",
     "start_time": "2025-07-11T17:00:40.032868Z"
    }
   },
   "cell_type": "code",
   "source": [
    "import numpy as np\n",
    "\n",
    "def compute_R_squared(\n",
    "        structural_model: \"semopy.Model\",\n",
    "        latent_variable: str\n",
    ") -> float:\n",
    "    estimated_matrices = structural_model.inspect(mode='mx')\n",
    "\n",
    "    beta_matrix = estimated_matrices['Beta']\n",
    "    residual_variance_matrix = estimated_matrices['Psi']\n",
    "\n",
    "    latent_variable_names = list(beta_matrix.index)\n",
    "    if latent_variable not in latent_variable_names:\n",
    "        raise ValueError(f\"The latent variable '{latent_variable}' was not found in the Beta matrix.\")\n",
    "\n",
    "    latent_variable_index = latent_variable_names.index(latent_variable)\n",
    "\n",
    "    identity_matrix = np.eye(beta_matrix.shape[0])\n",
    "    inverse_identity_minus_beta = np.linalg.inv(\n",
    "        identity_matrix - beta_matrix.values\n",
    "    )\n",
    "\n",
    "    total_latent_covariance_matrix = (\n",
    "        inverse_identity_minus_beta\n",
    "        @ residual_variance_matrix.values\n",
    "        @ inverse_identity_minus_beta.T\n",
    "    )\n",
    "\n",
    "    total_variance = total_latent_covariance_matrix[latent_variable_index, latent_variable_index]\n",
    "\n",
    "    residual_variance = (\n",
    "        residual_variance_matrix\n",
    "        .values[latent_variable_index, latent_variable_index]\n",
    "    )\n",
    "\n",
    "    return 1 - (residual_variance / total_variance)"
   ],
   "id": "3e1d1de35ab25d68",
   "outputs": [],
   "execution_count": 9
  },
  {
   "metadata": {
    "ExecuteTime": {
     "end_time": "2025-07-11T17:00:40.112307Z",
     "start_time": "2025-07-11T17:00:40.097028Z"
    }
   },
   "cell_type": "code",
   "source": [
    "R2_S = compute_R_squared(model, \"S\")\n",
    "R2_S"
   ],
   "id": "672cef7d861eccd9",
   "outputs": [
    {
     "data": {
      "text/plain": [
       "np.float64(0.5479682141350535)"
      ]
     },
     "execution_count": 10,
     "metadata": {},
     "output_type": "execute_result"
    }
   ],
   "execution_count": 10
  },
  {
   "metadata": {
    "ExecuteTime": {
     "end_time": "2025-07-11T17:00:40.157033Z",
     "start_time": "2025-07-11T17:00:40.140435Z"
    }
   },
   "cell_type": "code",
   "source": [
    "R2_L = compute_R_squared(model, \"L\")\n",
    "R2_L"
   ],
   "id": "4622c4bae77a2890",
   "outputs": [
    {
     "data": {
      "text/plain": [
       "np.float64(0.4358674480103055)"
      ]
     },
     "execution_count": 11,
     "metadata": {},
     "output_type": "execute_result"
    }
   ],
   "execution_count": 11
  },
  {
   "metadata": {},
   "cell_type": "markdown",
   "source": "### Direct Effects",
   "id": "fc98f2ba48f54b78"
  },
  {
   "metadata": {
    "ExecuteTime": {
     "end_time": "2025-07-11T17:00:40.189591Z",
     "start_time": "2025-07-11T17:00:40.174710Z"
    }
   },
   "cell_type": "code",
   "source": [
    "raw_item_estimates = (\n",
    "    model.inspect(std_est=True)\n",
    "         .query(\"op == '~' and not lval.str.startswith('P')\")\n",
    ")\n",
    "direct_effects_df = (\n",
    "    raw_item_estimates\n",
    "    .loc[:, ['lval','rval', 'Est. Std', 'Estimate','p-value', 'z-value']]\n",
    "    .rename(columns={\n",
    "        'lval': 'Outcome',\n",
    "        'rval': 'Predictor',\n",
    "        'Estimate': 'beta',\n",
    "        'Est. Std': 'beta_std',\n",
    "    })\n",
    "    .sort_values(by='beta_std')\n",
    ")\n",
    "direct_effects_df['hypothesis_result'] = direct_effects_df.apply(\n",
    "    lambda row: 'Supported' if row['p-value'] < 0.05 else 'Not Supported',\n",
    "    axis=1\n",
    ")"
   ],
   "id": "dbfe6ff8f657a5df",
   "outputs": [],
   "execution_count": 12
  },
  {
   "metadata": {
    "ExecuteTime": {
     "end_time": "2025-07-11T17:00:40.242143Z",
     "start_time": "2025-07-11T17:00:40.231562Z"
    }
   },
   "cell_type": "code",
   "source": [
    "direct_effects_df['p-value'] = (\n",
    "    direct_effects_df['p-value'].astype(float)\n",
    ")\n",
    "direct_effects_df['z-value'] = (\n",
    "    direct_effects_df['z-value'].astype(float)\n",
    ")\n",
    "\n",
    "direct_effects_df = direct_effects_df.round(3)\n",
    "direct_effects_df"
   ],
   "id": "88b5d7ea3cf3856f",
   "outputs": [
    {
     "data": {
      "text/plain": [
       "  Outcome Predictor  beta_std   beta  p-value  z-value hypothesis_result\n",
       "2       S        QT     0.178  0.192      0.0    3.748         Supported\n",
       "1       S        QF     0.194  0.264      0.0    3.788         Supported\n",
       "0       S        QS     0.510  0.478      0.0   10.199         Supported\n",
       "3       L         S     0.660  0.623      0.0   14.720         Supported"
      ],
      "text/html": [
       "<div>\n",
       "<style scoped>\n",
       "    .dataframe tbody tr th:only-of-type {\n",
       "        vertical-align: middle;\n",
       "    }\n",
       "\n",
       "    .dataframe tbody tr th {\n",
       "        vertical-align: top;\n",
       "    }\n",
       "\n",
       "    .dataframe thead th {\n",
       "        text-align: right;\n",
       "    }\n",
       "</style>\n",
       "<table border=\"1\" class=\"dataframe\">\n",
       "  <thead>\n",
       "    <tr style=\"text-align: right;\">\n",
       "      <th></th>\n",
       "      <th>Outcome</th>\n",
       "      <th>Predictor</th>\n",
       "      <th>beta_std</th>\n",
       "      <th>beta</th>\n",
       "      <th>p-value</th>\n",
       "      <th>z-value</th>\n",
       "      <th>hypothesis_result</th>\n",
       "    </tr>\n",
       "  </thead>\n",
       "  <tbody>\n",
       "    <tr>\n",
       "      <th>2</th>\n",
       "      <td>S</td>\n",
       "      <td>QT</td>\n",
       "      <td>0.178</td>\n",
       "      <td>0.192</td>\n",
       "      <td>0.0</td>\n",
       "      <td>3.748</td>\n",
       "      <td>Supported</td>\n",
       "    </tr>\n",
       "    <tr>\n",
       "      <th>1</th>\n",
       "      <td>S</td>\n",
       "      <td>QF</td>\n",
       "      <td>0.194</td>\n",
       "      <td>0.264</td>\n",
       "      <td>0.0</td>\n",
       "      <td>3.788</td>\n",
       "      <td>Supported</td>\n",
       "    </tr>\n",
       "    <tr>\n",
       "      <th>0</th>\n",
       "      <td>S</td>\n",
       "      <td>QS</td>\n",
       "      <td>0.510</td>\n",
       "      <td>0.478</td>\n",
       "      <td>0.0</td>\n",
       "      <td>10.199</td>\n",
       "      <td>Supported</td>\n",
       "    </tr>\n",
       "    <tr>\n",
       "      <th>3</th>\n",
       "      <td>L</td>\n",
       "      <td>S</td>\n",
       "      <td>0.660</td>\n",
       "      <td>0.623</td>\n",
       "      <td>0.0</td>\n",
       "      <td>14.720</td>\n",
       "      <td>Supported</td>\n",
       "    </tr>\n",
       "  </tbody>\n",
       "</table>\n",
       "</div>"
      ]
     },
     "execution_count": 13,
     "metadata": {},
     "output_type": "execute_result"
    }
   ],
   "execution_count": 13
  },
  {
   "metadata": {},
   "cell_type": "markdown",
   "source": "### Indirect Effects",
   "id": "d687aac292c0f01f"
  },
  {
   "metadata": {
    "ExecuteTime": {
     "end_time": "2025-07-11T17:00:40.383550Z",
     "start_time": "2025-07-11T17:00:40.311158Z"
    }
   },
   "cell_type": "code",
   "source": [
    "paths = (\n",
    "    model.inspect(std_est=True, se_robust=True)\n",
    "         .query(\"op == '~'\")\n",
    "         .set_index(['lval', 'rval'])\n",
    ")"
   ],
   "id": "4f354832aa57c81c",
   "outputs": [],
   "execution_count": 14
  },
  {
   "metadata": {},
   "cell_type": "markdown",
   "source": "#### Mediator-to-outcome path (M -> Y)",
   "id": "5b3d76f3860157e9"
  },
  {
   "metadata": {
    "ExecuteTime": {
     "end_time": "2025-07-11T17:00:40.452692Z",
     "start_time": "2025-07-11T17:00:40.440170Z"
    }
   },
   "cell_type": "code",
   "source": [
    "b_path_coefficient = float(\n",
    "    paths.loc[('L', 'S'), 'Estimate']\n",
    ")\n",
    "b_path_standardized_coefficient = float(\n",
    "    paths.loc[('L', 'S'), 'Est. Std']\n",
    ")\n",
    "b_path_standard_error = float(\n",
    "    paths.loc[('L', 'S'), 'Std. Err']\n",
    ")"
   ],
   "id": "ae9edb91f7dadef",
   "outputs": [],
   "execution_count": 15
  },
  {
   "metadata": {},
   "cell_type": "markdown",
   "source": [
    "#### Predictor-to-mediator paths (X -> M)\n",
    "\n",
    "Sobel's z test for mediation is calculated as:\n",
    "\n",
    "$Z = \\frac{a \\cdot b}{SE_{ab}}\n",
    "= \\frac{a \\cdot b}{\\sqrt{b^2 \\cdot SE_a^2 + a^2 \\cdot SE_b^2}}$\n",
    "\n",
    "Where:\n",
    "- a = path coefficient from X -> M\n",
    "- b = path coefficient from M -> Y\n",
    "- $SE_a$ = standard error of a\n",
    "- $SE_b$ = standard error of b\n",
    "\n",
    "Abu-Bader, S., & Jones, T. V. (2021). Statistical mediation analysis using the Sobel test and Hayes SPSS Process Macro. International Journal of Quantitative and Qualitative Research Methods, 9(1), 42–61."
   ],
   "id": "9fd2c668d8e2be8d"
  },
  {
   "metadata": {
    "ExecuteTime": {
     "end_time": "2025-07-11T17:00:40.510591Z",
     "start_time": "2025-07-11T17:00:40.489127Z"
    }
   },
   "cell_type": "code",
   "source": [
    "import math\n",
    "from scipy.stats import norm\n",
    "\n",
    "results = []\n",
    "for predictor in ['QS', 'QF', 'QT']:\n",
    "    a_path_coefficient = float(\n",
    "        paths.loc[('S', predictor), 'Estimate']\n",
    "    )\n",
    "    a_standardized_path_coefficient = float(\n",
    "        paths.loc[('S', predictor), 'Est. Std']\n",
    "    )\n",
    "    a_path_standard_error = float(\n",
    "        paths.loc[('S', predictor), 'Std. Err']\n",
    "    )\n",
    "\n",
    "    # Indirect effect = a * b\n",
    "    indirect_effect = a_path_coefficient * b_path_coefficient\n",
    "    standardized_indirect_effect = (\n",
    "        a_standardized_path_coefficient * b_path_standardized_coefficient\n",
    "    )\n",
    "\n",
    "    # Sobel standard error: sqrt(b^2 * SE_a^2 + a^2 * SE_b^2)\n",
    "    indirect_se = math.sqrt(\n",
    "        (b_path_coefficient ** 2) * (a_path_standard_error ** 2) +\n",
    "        (a_path_coefficient ** 2) * (b_path_standard_error ** 2)\n",
    "    )\n",
    "\n",
    "    z_value = indirect_effect / indirect_se\n",
    "    p_value = 2 * (1 - norm.cdf(abs(z_value)))\n",
    "\n",
    "    results.append({\n",
    "        'Path': f'{predictor} -> L (via S)',\n",
    "        'Indirect Effect': round(indirect_effect, 3),\n",
    "        'Std. Indirect Effect': round(standardized_indirect_effect, 3),\n",
    "        'Standard Error':  round(indirect_se, 3),\n",
    "        'z-value':         round(z_value, 2),\n",
    "        'p-value':         round(p_value, 4)\n",
    "    })"
   ],
   "id": "df700ae8d203492e",
   "outputs": [],
   "execution_count": 16
  },
  {
   "metadata": {
    "ExecuteTime": {
     "end_time": "2025-07-11T17:00:40.574430Z",
     "start_time": "2025-07-11T17:00:40.556435Z"
    }
   },
   "cell_type": "code",
   "source": [
    "indirect_effects_df = pd.DataFrame(results)\n",
    "indirect_effects_df = indirect_effects_df.round(3)\n",
    "indirect_effects_df"
   ],
   "id": "f19c2530b4691973",
   "outputs": [
    {
     "data": {
      "text/plain": [
       "              Path  Indirect Effect  Std. Indirect Effect  Standard Error  \\\n",
       "0  QS -> L (via S)            0.297                 0.337           0.042   \n",
       "1  QF -> L (via S)            0.164                 0.128           0.055   \n",
       "2  QT -> L (via S)            0.119                 0.117           0.035   \n",
       "\n",
       "   z-value  p-value  \n",
       "0     7.01    0.000  \n",
       "1     2.96    0.003  \n",
       "2     3.42    0.001  "
      ],
      "text/html": [
       "<div>\n",
       "<style scoped>\n",
       "    .dataframe tbody tr th:only-of-type {\n",
       "        vertical-align: middle;\n",
       "    }\n",
       "\n",
       "    .dataframe tbody tr th {\n",
       "        vertical-align: top;\n",
       "    }\n",
       "\n",
       "    .dataframe thead th {\n",
       "        text-align: right;\n",
       "    }\n",
       "</style>\n",
       "<table border=\"1\" class=\"dataframe\">\n",
       "  <thead>\n",
       "    <tr style=\"text-align: right;\">\n",
       "      <th></th>\n",
       "      <th>Path</th>\n",
       "      <th>Indirect Effect</th>\n",
       "      <th>Std. Indirect Effect</th>\n",
       "      <th>Standard Error</th>\n",
       "      <th>z-value</th>\n",
       "      <th>p-value</th>\n",
       "    </tr>\n",
       "  </thead>\n",
       "  <tbody>\n",
       "    <tr>\n",
       "      <th>0</th>\n",
       "      <td>QS -&gt; L (via S)</td>\n",
       "      <td>0.297</td>\n",
       "      <td>0.337</td>\n",
       "      <td>0.042</td>\n",
       "      <td>7.01</td>\n",
       "      <td>0.000</td>\n",
       "    </tr>\n",
       "    <tr>\n",
       "      <th>1</th>\n",
       "      <td>QF -&gt; L (via S)</td>\n",
       "      <td>0.164</td>\n",
       "      <td>0.128</td>\n",
       "      <td>0.055</td>\n",
       "      <td>2.96</td>\n",
       "      <td>0.003</td>\n",
       "    </tr>\n",
       "    <tr>\n",
       "      <th>2</th>\n",
       "      <td>QT -&gt; L (via S)</td>\n",
       "      <td>0.119</td>\n",
       "      <td>0.117</td>\n",
       "      <td>0.035</td>\n",
       "      <td>3.42</td>\n",
       "      <td>0.001</td>\n",
       "    </tr>\n",
       "  </tbody>\n",
       "</table>\n",
       "</div>"
      ]
     },
     "execution_count": 17,
     "metadata": {},
     "output_type": "execute_result"
    }
   ],
   "execution_count": 17
  },
  {
   "metadata": {},
   "cell_type": "markdown",
   "source": "# Final Analysis",
   "id": "ddb1d1d79d3048e3"
  },
  {
   "metadata": {
    "ExecuteTime": {
     "end_time": "2025-07-11T17:00:40.652820Z",
     "start_time": "2025-07-11T17:00:40.644946Z"
    }
   },
   "cell_type": "code",
   "source": "direct_effects_df",
   "id": "f6fc68406e9932c3",
   "outputs": [
    {
     "data": {
      "text/plain": [
       "  Outcome Predictor  beta_std   beta  p-value  z-value hypothesis_result\n",
       "2       S        QT     0.178  0.192      0.0    3.748         Supported\n",
       "1       S        QF     0.194  0.264      0.0    3.788         Supported\n",
       "0       S        QS     0.510  0.478      0.0   10.199         Supported\n",
       "3       L         S     0.660  0.623      0.0   14.720         Supported"
      ],
      "text/html": [
       "<div>\n",
       "<style scoped>\n",
       "    .dataframe tbody tr th:only-of-type {\n",
       "        vertical-align: middle;\n",
       "    }\n",
       "\n",
       "    .dataframe tbody tr th {\n",
       "        vertical-align: top;\n",
       "    }\n",
       "\n",
       "    .dataframe thead th {\n",
       "        text-align: right;\n",
       "    }\n",
       "</style>\n",
       "<table border=\"1\" class=\"dataframe\">\n",
       "  <thead>\n",
       "    <tr style=\"text-align: right;\">\n",
       "      <th></th>\n",
       "      <th>Outcome</th>\n",
       "      <th>Predictor</th>\n",
       "      <th>beta_std</th>\n",
       "      <th>beta</th>\n",
       "      <th>p-value</th>\n",
       "      <th>z-value</th>\n",
       "      <th>hypothesis_result</th>\n",
       "    </tr>\n",
       "  </thead>\n",
       "  <tbody>\n",
       "    <tr>\n",
       "      <th>2</th>\n",
       "      <td>S</td>\n",
       "      <td>QT</td>\n",
       "      <td>0.178</td>\n",
       "      <td>0.192</td>\n",
       "      <td>0.0</td>\n",
       "      <td>3.748</td>\n",
       "      <td>Supported</td>\n",
       "    </tr>\n",
       "    <tr>\n",
       "      <th>1</th>\n",
       "      <td>S</td>\n",
       "      <td>QF</td>\n",
       "      <td>0.194</td>\n",
       "      <td>0.264</td>\n",
       "      <td>0.0</td>\n",
       "      <td>3.788</td>\n",
       "      <td>Supported</td>\n",
       "    </tr>\n",
       "    <tr>\n",
       "      <th>0</th>\n",
       "      <td>S</td>\n",
       "      <td>QS</td>\n",
       "      <td>0.510</td>\n",
       "      <td>0.478</td>\n",
       "      <td>0.0</td>\n",
       "      <td>10.199</td>\n",
       "      <td>Supported</td>\n",
       "    </tr>\n",
       "    <tr>\n",
       "      <th>3</th>\n",
       "      <td>L</td>\n",
       "      <td>S</td>\n",
       "      <td>0.660</td>\n",
       "      <td>0.623</td>\n",
       "      <td>0.0</td>\n",
       "      <td>14.720</td>\n",
       "      <td>Supported</td>\n",
       "    </tr>\n",
       "  </tbody>\n",
       "</table>\n",
       "</div>"
      ]
     },
     "execution_count": 18,
     "metadata": {},
     "output_type": "execute_result"
    }
   ],
   "execution_count": 18
  },
  {
   "metadata": {
    "ExecuteTime": {
     "end_time": "2025-07-11T17:00:40.788970Z",
     "start_time": "2025-07-11T17:00:40.777577Z"
    }
   },
   "cell_type": "code",
   "source": "indirect_effects_df",
   "id": "a86883846e4e9363",
   "outputs": [
    {
     "data": {
      "text/plain": [
       "              Path  Indirect Effect  Std. Indirect Effect  Standard Error  \\\n",
       "0  QS -> L (via S)            0.297                 0.337           0.042   \n",
       "1  QF -> L (via S)            0.164                 0.128           0.055   \n",
       "2  QT -> L (via S)            0.119                 0.117           0.035   \n",
       "\n",
       "   z-value  p-value  \n",
       "0     7.01    0.000  \n",
       "1     2.96    0.003  \n",
       "2     3.42    0.001  "
      ],
      "text/html": [
       "<div>\n",
       "<style scoped>\n",
       "    .dataframe tbody tr th:only-of-type {\n",
       "        vertical-align: middle;\n",
       "    }\n",
       "\n",
       "    .dataframe tbody tr th {\n",
       "        vertical-align: top;\n",
       "    }\n",
       "\n",
       "    .dataframe thead th {\n",
       "        text-align: right;\n",
       "    }\n",
       "</style>\n",
       "<table border=\"1\" class=\"dataframe\">\n",
       "  <thead>\n",
       "    <tr style=\"text-align: right;\">\n",
       "      <th></th>\n",
       "      <th>Path</th>\n",
       "      <th>Indirect Effect</th>\n",
       "      <th>Std. Indirect Effect</th>\n",
       "      <th>Standard Error</th>\n",
       "      <th>z-value</th>\n",
       "      <th>p-value</th>\n",
       "    </tr>\n",
       "  </thead>\n",
       "  <tbody>\n",
       "    <tr>\n",
       "      <th>0</th>\n",
       "      <td>QS -&gt; L (via S)</td>\n",
       "      <td>0.297</td>\n",
       "      <td>0.337</td>\n",
       "      <td>0.042</td>\n",
       "      <td>7.01</td>\n",
       "      <td>0.000</td>\n",
       "    </tr>\n",
       "    <tr>\n",
       "      <th>1</th>\n",
       "      <td>QF -&gt; L (via S)</td>\n",
       "      <td>0.164</td>\n",
       "      <td>0.128</td>\n",
       "      <td>0.055</td>\n",
       "      <td>2.96</td>\n",
       "      <td>0.003</td>\n",
       "    </tr>\n",
       "    <tr>\n",
       "      <th>2</th>\n",
       "      <td>QT -&gt; L (via S)</td>\n",
       "      <td>0.119</td>\n",
       "      <td>0.117</td>\n",
       "      <td>0.035</td>\n",
       "      <td>3.42</td>\n",
       "      <td>0.001</td>\n",
       "    </tr>\n",
       "  </tbody>\n",
       "</table>\n",
       "</div>"
      ]
     },
     "execution_count": 19,
     "metadata": {},
     "output_type": "execute_result"
    }
   ],
   "execution_count": 19
  },
  {
   "metadata": {
    "ExecuteTime": {
     "end_time": "2025-07-11T17:00:40.941363Z",
     "start_time": "2025-07-11T17:00:40.936726Z"
    }
   },
   "cell_type": "code",
   "source": [
    "print(f\"R^2(S) = {R2_S:.3f}\")\n",
    "print(f\"R^2(L) = {R2_L:.3f}\")"
   ],
   "id": "33b9a1e886436e2c",
   "outputs": [
    {
     "name": "stdout",
     "output_type": "stream",
     "text": [
      "R^2(S) = 0.548\n",
      "R^2(L) = 0.436\n"
     ]
    }
   ],
   "execution_count": 20
  },
  {
   "metadata": {},
   "cell_type": "markdown",
   "source": [
    "1. H1 - Customer Service Quality (QS) positively influences Satisfaction (S)\n",
    "   1.  Supported: $\\beta^* = 0.510$, $p < 0.001$\n",
    "2. H2 - Financial Quality (QF) positively influences Satisfaction (S)\n",
    "   1.  Supported: $\\beta^* = 0.194$, $p < 0.001$\n",
    "3. H3 - Technical quality (QT) positively influences Satisfaction (S)\n",
    "   1.  Supported: $\\beta^* = 0.178$, $p < 0.001$\n",
    "4. H4 - Satisfaction (S) positively influences Loyalty (L)\n",
    "   1.  Supported: $\\beta^* = 0.660$, $p < 0.001$\n",
    "\n",
    "Model fit: $\\frac{\\chi^2}{df}= 3.76$; CFI = .928; GFI = .904; TLI = .916; RMSEA = .075.\n",
    "All indices meet the conventional good‐fit thresholds (Hu & Bentler, 1999).\n",
    "\n",
    "Explained variance: $R^2$(S) = .578, $R^2$(L) = .436\n",
    "\n",
    "Direct effects:\n",
    "All three quality dimensions (QS, QF, QT) significantly positively influence Satisfaction ($\\beta^* = 0.510$, $p < 0.001$; $\\beta^* = 0.194$, $p < 0.001$; $\\beta^* = 0.178$, $p < 0.001$ respectively), together explaining almost 55% of its variance, thus H1 - H3 are supported.\n",
    "(QS) is the dominant driver ($\\beta^*$ = 0.510), well above the medium effect benchmark of .30 suggested by Cohen (1988).\n",
    "Satisfaction, in turn, strongly predicts Loyalty (L) ($\\beta^*$  = 0.660), accounting for 44 % of loyalty variance\n",
    "\n",
    "Indirect effects:\n",
    "QS, QF, and QT all have significant indirect effects on Loyalty through Satisfaction, with the strongest being from QS ($\\beta^*$ = 0.337, $p < 0.001$), followed by QF ($\\beta^*$ = 0.128, $p < 0.05$) and QT ($\\beta^*$ = 0.117, $p < 0.001$)."
   ],
   "id": "8c3e85c036152c4a"
  }
 ],
 "metadata": {
  "kernelspec": {
   "display_name": "Python 3 (ipykernel)",
   "language": "python",
   "name": "python3"
  },
  "language_info": {
   "codemirror_mode": {
    "name": "ipython",
    "version": 3
   },
   "file_extension": ".py",
   "mimetype": "text/x-python",
   "name": "python",
   "nbconvert_exporter": "python",
   "pygments_lexer": "ipython3",
   "version": "3.10.11"
  }
 },
 "nbformat": 4,
 "nbformat_minor": 5
}
